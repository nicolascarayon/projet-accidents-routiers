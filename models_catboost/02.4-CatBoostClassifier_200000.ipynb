{
 "cells": [
  {
   "cell_type": "markdown",
   "source": [
    "# CATBOOST CLASSIFIER ------------------------------------------------------------------------------------"
   ],
   "metadata": {
    "collapsed": false
   },
   "execution_count": 1
  },
  {
   "cell_type": "markdown",
   "source": [
    "### Get Train, Valid, Test data"
   ],
   "metadata": {
    "collapsed": false
   }
  },
  {
   "cell_type": "code",
   "execution_count": 3,
   "metadata": {},
   "outputs": [
    {
     "name": "stdout",
     "output_type": "stream",
     "text": [
      "Train, valid and Test data loaded\n"
     ]
    }
   ],
   "source": [
    "import pandas as pd\n",
    "from my_libs import lib_tools as pt\n",
    "\n",
    "# run_type = 'dev'\n",
    "run_type = 'prd'\n",
    "gen_sample = True\n",
    "find_best_params = True\n",
    "\n",
    "X_train, y_train, X_valid, y_valid, X_test, y_test = pt.get_train_valid_test_data(run_type)\n",
    "print(\"Train, valid and Test data loaded\")"
   ]
  },
  {
   "cell_type": "markdown",
   "source": [
    "### Resample data with SMOTEN()"
   ],
   "metadata": {
    "collapsed": false
   }
  },
  {
   "cell_type": "code",
   "execution_count": 4,
   "outputs": [
    {
     "name": "stderr",
     "output_type": "stream",
     "text": [
      "C:\\Users\\nicol\\AppData\\Roaming\\Python\\Python39\\site-packages\\imblearn\\over_sampling\\_smote\\base.py:858: FutureWarning: The parameter `n_jobs` has been deprecated in 0.10 and will be removed in 0.12. You can pass an nearest neighbors estimator where `n_jobs` is already set instead.\n",
      "  warnings.warn(\n"
     ]
    },
    {
     "name": "stdout",
     "output_type": "stream",
     "text": [
      "--- Smote applied in 1239.2710390090942 seconds ---\n",
      "Classes cardinality after resampling :\n",
      "0    97764\n",
      "1    97764\n",
      "Name: grav, dtype: int64\n",
      "X shape : (128000, 27) -> (195528, 27)\n",
      "y shape : (128000,) -> (195528,)\n"
     ]
    }
   ],
   "source": [
    "if gen_sample:\n",
    "    X_train, y_train = pt.get_data_resampled(X=X_train, y=y_train, verbose=1)\n",
    "    # Save data generated\n",
    "    X_train.to_pickle(f'./pickles/X_train_smote_{run_type}.pkl')\n",
    "    y_train.to_pickle(f'./pickles/y_train_smote_{run_type}.pkl')\n",
    "else:\n",
    "    # Load data previously generated\n",
    "    X_train = pd.read_pickle(f'./pickles/X_train_smote_{run_type}.pkl')\n",
    "    y_train = pd.read_pickle(f'./pickles/y_train_smote_{run_type}.pkl')"
   ],
   "metadata": {
    "collapsed": false
   }
  },
  {
   "cell_type": "markdown",
   "source": [
    "### Find best hyperparameters for model with Optuna"
   ],
   "metadata": {
    "collapsed": false
   }
  },
  {
   "cell_type": "code",
   "execution_count": 5,
   "metadata": {},
   "outputs": [
    {
     "name": "stderr",
     "output_type": "stream",
     "text": [
      "\u001B[32m[I 2023-02-26 09:37:37,559]\u001B[0m A new study created in memory with name: no-name-0fbdf5a4-edd0-4481-8d30-761e75ab0625\u001B[0m\n",
      "[Parallel(n_jobs=1)]: Using backend SequentialBackend with 1 concurrent workers.\n",
      "[Parallel(n_jobs=1)]: Done   3 out of   3 | elapsed:  4.5min finished\n",
      "\u001B[32m[I 2023-02-26 09:42:09,445]\u001B[0m Trial 0 finished with value: 0.854862300202781 and parameters: {'iterations': 246, 'learning_rate': 0.09650720626063021}. Best is trial 0 with value: 0.854862300202781.\u001B[0m\n",
      "[Parallel(n_jobs=1)]: Using backend SequentialBackend with 1 concurrent workers.\n",
      "[Parallel(n_jobs=1)]: Done   3 out of   3 | elapsed:  5.0min finished\n",
      "\u001B[32m[I 2023-02-26 09:47:11,123]\u001B[0m Trial 1 finished with value: 0.854304193403134 and parameters: {'iterations': 272, 'learning_rate': 0.07402691830589449}. Best is trial 0 with value: 0.854862300202781.\u001B[0m\n",
      "[Parallel(n_jobs=1)]: Using backend SequentialBackend with 1 concurrent workers.\n",
      "[Parallel(n_jobs=1)]: Done   3 out of   3 | elapsed:   51.4s finished\n",
      "\u001B[32m[I 2023-02-26 09:48:02,600]\u001B[0m Trial 2 finished with value: 0.8179064951289602 and parameters: {'iterations': 117, 'learning_rate': 0.02585784654169571}. Best is trial 0 with value: 0.854862300202781.\u001B[0m\n",
      "[Parallel(n_jobs=1)]: Using backend SequentialBackend with 1 concurrent workers.\n",
      "[Parallel(n_jobs=1)]: Done   3 out of   3 | elapsed:  1.3min finished\n",
      "\u001B[32m[I 2023-02-26 09:49:20,821]\u001B[0m Trial 3 finished with value: 0.8348822706903483 and parameters: {'iterations': 183, 'learning_rate': 0.06656979145012501}. Best is trial 0 with value: 0.854862300202781.\u001B[0m\n",
      "[Parallel(n_jobs=1)]: Using backend SequentialBackend with 1 concurrent workers.\n",
      "[Parallel(n_jobs=1)]: Done   3 out of   3 | elapsed:   30.7s finished\n",
      "\u001B[32m[I 2023-02-26 09:49:51,625]\u001B[0m Trial 4 finished with value: 0.8268201450494176 and parameters: {'iterations': 64, 'learning_rate': 0.09730009579306048}. Best is trial 0 with value: 0.854862300202781.\u001B[0m\n"
     ]
    },
    {
     "name": "stdout",
     "output_type": "stream",
     "text": [
      "--- CatBoost Classifier - Optimization with Optuna performed in 734.0666670799255 seconds ---\n",
      "Best params : {'iterations': 246, 'learning_rate': 0.09650720626063021}\n"
     ]
    }
   ],
   "source": [
    "import time\n",
    "import optuna\n",
    "from sklearn.model_selection import cross_val_score\n",
    "from catboost import CatBoostClassifier\n",
    "\n",
    "if find_best_params:\n",
    "\n",
    "    start_time = time.time()\n",
    "\n",
    "    def objective(trial):\n",
    "\n",
    "        dt_iterations    = trial.suggest_int('iterations', 50, 300)\n",
    "        dt_learning_rate = trial.suggest_float('learning_rate', 0.001, 0.1)\n",
    "\n",
    "        classifier_obj = CatBoostClassifier(iterations=dt_iterations, learning_rate=dt_learning_rate, cat_features=list(X_train.columns), verbose=0)\n",
    "        score = cross_val_score(classifier_obj, X_train, y_train, cv=3, scoring=\"roc_auc\", verbose=1)\n",
    "        accuracy = score.mean()\n",
    "\n",
    "        return accuracy\n",
    "\n",
    "    study = optuna.create_study(direction='maximize')\n",
    "    study.optimize(objective, n_trials=5)\n",
    "\n",
    "    print(\"--- CatBoost Classifier - Optimization with Optuna performed in %s seconds ---\" % (time.time() - start_time))\n",
    "    print(f\"Best params : {study.best_params}\")"
   ]
  },
  {
   "cell_type": "code",
   "execution_count": 6,
   "outputs": [],
   "source": [
    "if find_best_params:\n",
    "    from optuna.visualization import plot_optimization_history\n",
    "    plot_optimization_history(study)"
   ],
   "metadata": {
    "collapsed": false
   }
  },
  {
   "cell_type": "markdown",
   "source": [
    "### Confusion Matrix"
   ],
   "metadata": {
    "collapsed": false
   }
  },
  {
   "cell_type": "code",
   "execution_count": 7,
   "outputs": [
    {
     "name": "stdout",
     "output_type": "stream",
     "text": [
      "0:\tlearn: 0.6639727\ttotal: 464ms\tremaining: 1m 53s\n",
      "1:\tlearn: 0.6402824\ttotal: 1.06s\tremaining: 2m 9s\n",
      "2:\tlearn: 0.6198956\ttotal: 1.61s\tremaining: 2m 10s\n",
      "3:\tlearn: 0.6023591\ttotal: 2.27s\tremaining: 2m 17s\n",
      "4:\tlearn: 0.5904001\ttotal: 2.83s\tremaining: 2m 16s\n",
      "5:\tlearn: 0.5784106\ttotal: 3.43s\tremaining: 2m 17s\n",
      "6:\tlearn: 0.5691879\ttotal: 4.04s\tremaining: 2m 18s\n",
      "7:\tlearn: 0.5597514\ttotal: 4.59s\tremaining: 2m 16s\n",
      "8:\tlearn: 0.5517199\ttotal: 5.07s\tremaining: 2m 13s\n",
      "9:\tlearn: 0.5448881\ttotal: 5.59s\tremaining: 2m 11s\n",
      "10:\tlearn: 0.5360229\ttotal: 6.12s\tremaining: 2m 10s\n",
      "11:\tlearn: 0.5312422\ttotal: 6.6s\tremaining: 2m 8s\n",
      "12:\tlearn: 0.5247815\ttotal: 7.13s\tremaining: 2m 7s\n",
      "13:\tlearn: 0.5198117\ttotal: 7.69s\tremaining: 2m 7s\n",
      "14:\tlearn: 0.5144803\ttotal: 8.22s\tremaining: 2m 6s\n",
      "15:\tlearn: 0.5086136\ttotal: 8.74s\tremaining: 2m 5s\n",
      "16:\tlearn: 0.5048967\ttotal: 9.23s\tremaining: 2m 4s\n",
      "17:\tlearn: 0.5002208\ttotal: 9.74s\tremaining: 2m 3s\n",
      "18:\tlearn: 0.4967693\ttotal: 10.3s\tremaining: 2m 3s\n",
      "19:\tlearn: 0.4933537\ttotal: 10.9s\tremaining: 2m 3s\n",
      "20:\tlearn: 0.4906219\ttotal: 11.5s\tremaining: 2m 3s\n",
      "21:\tlearn: 0.4875503\ttotal: 12.1s\tremaining: 2m 3s\n",
      "22:\tlearn: 0.4853292\ttotal: 12.7s\tremaining: 2m 3s\n",
      "23:\tlearn: 0.4828629\ttotal: 13.3s\tremaining: 2m 3s\n",
      "24:\tlearn: 0.4808869\ttotal: 13.9s\tremaining: 2m 2s\n",
      "25:\tlearn: 0.4789168\ttotal: 14.5s\tremaining: 2m 2s\n",
      "26:\tlearn: 0.4761680\ttotal: 15s\tremaining: 2m 1s\n",
      "27:\tlearn: 0.4747369\ttotal: 15.4s\tremaining: 2m\n",
      "28:\tlearn: 0.4730409\ttotal: 16s\tremaining: 1m 59s\n",
      "29:\tlearn: 0.4714917\ttotal: 16.6s\tremaining: 1m 59s\n",
      "30:\tlearn: 0.4694926\ttotal: 17.1s\tremaining: 1m 58s\n",
      "31:\tlearn: 0.4676095\ttotal: 17.6s\tremaining: 1m 57s\n",
      "32:\tlearn: 0.4660662\ttotal: 18.2s\tremaining: 1m 57s\n",
      "33:\tlearn: 0.4648541\ttotal: 18.7s\tremaining: 1m 56s\n",
      "34:\tlearn: 0.4636409\ttotal: 19.2s\tremaining: 1m 55s\n",
      "35:\tlearn: 0.4622768\ttotal: 19.7s\tremaining: 1m 54s\n",
      "36:\tlearn: 0.4611504\ttotal: 20.2s\tremaining: 1m 54s\n",
      "37:\tlearn: 0.4602147\ttotal: 20.8s\tremaining: 1m 53s\n",
      "38:\tlearn: 0.4591119\ttotal: 21.3s\tremaining: 1m 53s\n",
      "39:\tlearn: 0.4581770\ttotal: 21.9s\tremaining: 1m 52s\n",
      "40:\tlearn: 0.4559824\ttotal: 22.4s\tremaining: 1m 51s\n",
      "41:\tlearn: 0.4548433\ttotal: 22.9s\tremaining: 1m 51s\n",
      "42:\tlearn: 0.4540834\ttotal: 23.5s\tremaining: 1m 50s\n",
      "43:\tlearn: 0.4520139\ttotal: 24.1s\tremaining: 1m 50s\n",
      "44:\tlearn: 0.4513206\ttotal: 24.6s\tremaining: 1m 50s\n",
      "45:\tlearn: 0.4507028\ttotal: 25.1s\tremaining: 1m 49s\n",
      "46:\tlearn: 0.4495427\ttotal: 25.6s\tremaining: 1m 48s\n",
      "47:\tlearn: 0.4480506\ttotal: 26s\tremaining: 1m 47s\n",
      "48:\tlearn: 0.4475186\ttotal: 26.5s\tremaining: 1m 46s\n",
      "49:\tlearn: 0.4464937\ttotal: 27s\tremaining: 1m 45s\n",
      "50:\tlearn: 0.4459469\ttotal: 27.5s\tremaining: 1m 45s\n",
      "51:\tlearn: 0.4452651\ttotal: 28s\tremaining: 1m 44s\n",
      "52:\tlearn: 0.4444742\ttotal: 28.6s\tremaining: 1m 44s\n",
      "53:\tlearn: 0.4433916\ttotal: 29.1s\tremaining: 1m 43s\n",
      "54:\tlearn: 0.4430143\ttotal: 29.7s\tremaining: 1m 43s\n",
      "55:\tlearn: 0.4425655\ttotal: 30.3s\tremaining: 1m 42s\n",
      "56:\tlearn: 0.4410132\ttotal: 30.9s\tremaining: 1m 42s\n",
      "57:\tlearn: 0.4406830\ttotal: 31.5s\tremaining: 1m 42s\n",
      "58:\tlearn: 0.4403563\ttotal: 32.1s\tremaining: 1m 41s\n",
      "59:\tlearn: 0.4393358\ttotal: 32.7s\tremaining: 1m 41s\n",
      "60:\tlearn: 0.4389645\ttotal: 33.1s\tremaining: 1m 40s\n",
      "61:\tlearn: 0.4385172\ttotal: 33.6s\tremaining: 1m 39s\n",
      "62:\tlearn: 0.4379673\ttotal: 34.2s\tremaining: 1m 39s\n",
      "63:\tlearn: 0.4370702\ttotal: 34.7s\tremaining: 1m 38s\n",
      "64:\tlearn: 0.4366845\ttotal: 35.1s\tremaining: 1m 37s\n",
      "65:\tlearn: 0.4363518\ttotal: 35.6s\tremaining: 1m 37s\n",
      "66:\tlearn: 0.4356196\ttotal: 36.1s\tremaining: 1m 36s\n",
      "67:\tlearn: 0.4352861\ttotal: 36.6s\tremaining: 1m 35s\n",
      "68:\tlearn: 0.4344799\ttotal: 37.1s\tremaining: 1m 35s\n",
      "69:\tlearn: 0.4339872\ttotal: 37.5s\tremaining: 1m 34s\n",
      "70:\tlearn: 0.4336773\ttotal: 38s\tremaining: 1m 33s\n",
      "71:\tlearn: 0.4334512\ttotal: 38.7s\tremaining: 1m 33s\n",
      "72:\tlearn: 0.4322125\ttotal: 39.2s\tremaining: 1m 32s\n",
      "73:\tlearn: 0.4318578\ttotal: 39.7s\tremaining: 1m 32s\n",
      "74:\tlearn: 0.4315541\ttotal: 40.3s\tremaining: 1m 31s\n",
      "75:\tlearn: 0.4301258\ttotal: 40.9s\tremaining: 1m 31s\n",
      "76:\tlearn: 0.4298109\ttotal: 41.4s\tremaining: 1m 30s\n",
      "77:\tlearn: 0.4288336\ttotal: 42s\tremaining: 1m 30s\n",
      "78:\tlearn: 0.4284089\ttotal: 42.5s\tremaining: 1m 29s\n",
      "79:\tlearn: 0.4280780\ttotal: 43s\tremaining: 1m 29s\n",
      "80:\tlearn: 0.4269486\ttotal: 43.5s\tremaining: 1m 28s\n",
      "81:\tlearn: 0.4267489\ttotal: 43.9s\tremaining: 1m 27s\n",
      "82:\tlearn: 0.4263711\ttotal: 44.5s\tremaining: 1m 27s\n",
      "83:\tlearn: 0.4255485\ttotal: 44.9s\tremaining: 1m 26s\n",
      "84:\tlearn: 0.4252656\ttotal: 45.5s\tremaining: 1m 26s\n",
      "85:\tlearn: 0.4250250\ttotal: 46s\tremaining: 1m 25s\n",
      "86:\tlearn: 0.4248425\ttotal: 46.5s\tremaining: 1m 24s\n",
      "87:\tlearn: 0.4242764\ttotal: 46.9s\tremaining: 1m 24s\n",
      "88:\tlearn: 0.4239839\ttotal: 47.5s\tremaining: 1m 23s\n",
      "89:\tlearn: 0.4237599\ttotal: 48.1s\tremaining: 1m 23s\n",
      "90:\tlearn: 0.4234610\ttotal: 48.7s\tremaining: 1m 23s\n",
      "91:\tlearn: 0.4232054\ttotal: 49.3s\tremaining: 1m 22s\n",
      "92:\tlearn: 0.4230210\ttotal: 49.9s\tremaining: 1m 22s\n",
      "93:\tlearn: 0.4228304\ttotal: 50.5s\tremaining: 1m 21s\n",
      "94:\tlearn: 0.4221988\ttotal: 50.9s\tremaining: 1m 20s\n",
      "95:\tlearn: 0.4219949\ttotal: 51.4s\tremaining: 1m 20s\n",
      "96:\tlearn: 0.4211765\ttotal: 51.9s\tremaining: 1m 19s\n",
      "97:\tlearn: 0.4209337\ttotal: 52.5s\tremaining: 1m 19s\n",
      "98:\tlearn: 0.4206672\ttotal: 53s\tremaining: 1m 18s\n",
      "99:\tlearn: 0.4205124\ttotal: 53.5s\tremaining: 1m 18s\n",
      "100:\tlearn: 0.4202357\ttotal: 54s\tremaining: 1m 17s\n",
      "101:\tlearn: 0.4199624\ttotal: 54.5s\tremaining: 1m 16s\n",
      "102:\tlearn: 0.4197648\ttotal: 55s\tremaining: 1m 16s\n",
      "103:\tlearn: 0.4194092\ttotal: 55.8s\tremaining: 1m 16s\n",
      "104:\tlearn: 0.4191947\ttotal: 56.5s\tremaining: 1m 15s\n",
      "105:\tlearn: 0.4189398\ttotal: 57.1s\tremaining: 1m 15s\n",
      "106:\tlearn: 0.4186270\ttotal: 57.7s\tremaining: 1m 14s\n",
      "107:\tlearn: 0.4181549\ttotal: 58.3s\tremaining: 1m 14s\n",
      "108:\tlearn: 0.4177194\ttotal: 58.9s\tremaining: 1m 13s\n",
      "109:\tlearn: 0.4175460\ttotal: 59.4s\tremaining: 1m 13s\n",
      "110:\tlearn: 0.4173317\ttotal: 60s\tremaining: 1m 12s\n",
      "111:\tlearn: 0.4172039\ttotal: 1m\tremaining: 1m 12s\n",
      "112:\tlearn: 0.4165428\ttotal: 1m\tremaining: 1m 11s\n",
      "113:\tlearn: 0.4162945\ttotal: 1m 1s\tremaining: 1m 11s\n",
      "114:\tlearn: 0.4160454\ttotal: 1m 1s\tremaining: 1m 10s\n",
      "115:\tlearn: 0.4158886\ttotal: 1m 2s\tremaining: 1m 10s\n",
      "116:\tlearn: 0.4156402\ttotal: 1m 2s\tremaining: 1m 9s\n",
      "117:\tlearn: 0.4151914\ttotal: 1m 3s\tremaining: 1m 8s\n",
      "118:\tlearn: 0.4149396\ttotal: 1m 3s\tremaining: 1m 8s\n",
      "119:\tlearn: 0.4145843\ttotal: 1m 4s\tremaining: 1m 7s\n",
      "120:\tlearn: 0.4139933\ttotal: 1m 5s\tremaining: 1m 7s\n",
      "121:\tlearn: 0.4138255\ttotal: 1m 5s\tremaining: 1m 6s\n",
      "122:\tlearn: 0.4136235\ttotal: 1m 6s\tremaining: 1m 6s\n",
      "123:\tlearn: 0.4134352\ttotal: 1m 6s\tremaining: 1m 5s\n",
      "124:\tlearn: 0.4132901\ttotal: 1m 7s\tremaining: 1m 5s\n",
      "125:\tlearn: 0.4131011\ttotal: 1m 7s\tremaining: 1m 4s\n",
      "126:\tlearn: 0.4127771\ttotal: 1m 8s\tremaining: 1m 4s\n",
      "127:\tlearn: 0.4125670\ttotal: 1m 9s\tremaining: 1m 3s\n",
      "128:\tlearn: 0.4123321\ttotal: 1m 9s\tremaining: 1m 3s\n",
      "129:\tlearn: 0.4122021\ttotal: 1m 10s\tremaining: 1m 2s\n",
      "130:\tlearn: 0.4118299\ttotal: 1m 10s\tremaining: 1m 1s\n",
      "131:\tlearn: 0.4117202\ttotal: 1m 11s\tremaining: 1m 1s\n",
      "132:\tlearn: 0.4111434\ttotal: 1m 11s\tremaining: 1m\n",
      "133:\tlearn: 0.4107829\ttotal: 1m 12s\tremaining: 1m\n",
      "134:\tlearn: 0.4100974\ttotal: 1m 12s\tremaining: 59.6s\n",
      "135:\tlearn: 0.4099062\ttotal: 1m 13s\tremaining: 59.1s\n",
      "136:\tlearn: 0.4092609\ttotal: 1m 13s\tremaining: 58.5s\n",
      "137:\tlearn: 0.4086797\ttotal: 1m 13s\tremaining: 57.9s\n",
      "138:\tlearn: 0.4081497\ttotal: 1m 14s\tremaining: 57.4s\n",
      "139:\tlearn: 0.4077314\ttotal: 1m 15s\tremaining: 56.9s\n",
      "140:\tlearn: 0.4074654\ttotal: 1m 15s\tremaining: 56.3s\n",
      "141:\tlearn: 0.4072888\ttotal: 1m 16s\tremaining: 55.8s\n",
      "142:\tlearn: 0.4070519\ttotal: 1m 16s\tremaining: 55.3s\n",
      "143:\tlearn: 0.4066093\ttotal: 1m 17s\tremaining: 54.8s\n",
      "144:\tlearn: 0.4064670\ttotal: 1m 17s\tremaining: 54.3s\n",
      "145:\tlearn: 0.4060274\ttotal: 1m 18s\tremaining: 53.7s\n",
      "146:\tlearn: 0.4058133\ttotal: 1m 18s\tremaining: 53.1s\n",
      "147:\tlearn: 0.4056140\ttotal: 1m 19s\tremaining: 52.5s\n",
      "148:\tlearn: 0.4052889\ttotal: 1m 19s\tremaining: 52s\n",
      "149:\tlearn: 0.4050765\ttotal: 1m 20s\tremaining: 51.4s\n",
      "150:\tlearn: 0.4046780\ttotal: 1m 20s\tremaining: 50.8s\n",
      "151:\tlearn: 0.4045311\ttotal: 1m 21s\tremaining: 50.3s\n",
      "152:\tlearn: 0.4040763\ttotal: 1m 21s\tremaining: 49.7s\n",
      "153:\tlearn: 0.4038842\ttotal: 1m 22s\tremaining: 49.2s\n",
      "154:\tlearn: 0.4036016\ttotal: 1m 22s\tremaining: 48.6s\n",
      "155:\tlearn: 0.4033663\ttotal: 1m 23s\tremaining: 48.1s\n",
      "156:\tlearn: 0.4032287\ttotal: 1m 23s\tremaining: 47.6s\n",
      "157:\tlearn: 0.4030768\ttotal: 1m 24s\tremaining: 47.1s\n",
      "158:\tlearn: 0.4029037\ttotal: 1m 25s\tremaining: 46.6s\n",
      "159:\tlearn: 0.4025739\ttotal: 1m 25s\tremaining: 46s\n",
      "160:\tlearn: 0.4024056\ttotal: 1m 26s\tremaining: 45.5s\n",
      "161:\tlearn: 0.4022293\ttotal: 1m 26s\tremaining: 45s\n",
      "162:\tlearn: 0.4019089\ttotal: 1m 27s\tremaining: 44.5s\n",
      "163:\tlearn: 0.4017060\ttotal: 1m 27s\tremaining: 43.9s\n",
      "164:\tlearn: 0.4015236\ttotal: 1m 28s\tremaining: 43.3s\n",
      "165:\tlearn: 0.4013857\ttotal: 1m 28s\tremaining: 42.7s\n",
      "166:\tlearn: 0.4011831\ttotal: 1m 29s\tremaining: 42.2s\n",
      "167:\tlearn: 0.4009990\ttotal: 1m 29s\tremaining: 41.6s\n",
      "168:\tlearn: 0.4008068\ttotal: 1m 30s\tremaining: 41.1s\n",
      "169:\tlearn: 0.4006438\ttotal: 1m 30s\tremaining: 40.5s\n",
      "170:\tlearn: 0.4004799\ttotal: 1m 31s\tremaining: 39.9s\n",
      "171:\tlearn: 0.4003586\ttotal: 1m 31s\tremaining: 39.4s\n",
      "172:\tlearn: 0.4002910\ttotal: 1m 32s\tremaining: 38.8s\n",
      "173:\tlearn: 0.4001688\ttotal: 1m 32s\tremaining: 38.3s\n",
      "174:\tlearn: 0.3999625\ttotal: 1m 33s\tremaining: 37.8s\n",
      "175:\tlearn: 0.3997770\ttotal: 1m 33s\tremaining: 37.3s\n",
      "176:\tlearn: 0.3996148\ttotal: 1m 34s\tremaining: 36.8s\n",
      "177:\tlearn: 0.3993494\ttotal: 1m 35s\tremaining: 36.3s\n",
      "178:\tlearn: 0.3992071\ttotal: 1m 35s\tremaining: 35.8s\n",
      "179:\tlearn: 0.3990295\ttotal: 1m 36s\tremaining: 35.3s\n",
      "180:\tlearn: 0.3988752\ttotal: 1m 36s\tremaining: 34.8s\n",
      "181:\tlearn: 0.3988092\ttotal: 1m 37s\tremaining: 34.2s\n",
      "182:\tlearn: 0.3986572\ttotal: 1m 37s\tremaining: 33.7s\n",
      "183:\tlearn: 0.3984337\ttotal: 1m 38s\tremaining: 33.1s\n",
      "184:\tlearn: 0.3982381\ttotal: 1m 38s\tremaining: 32.5s\n",
      "185:\tlearn: 0.3977930\ttotal: 1m 39s\tremaining: 32s\n",
      "186:\tlearn: 0.3977026\ttotal: 1m 39s\tremaining: 31.4s\n",
      "187:\tlearn: 0.3975589\ttotal: 1m 40s\tremaining: 30.9s\n",
      "188:\tlearn: 0.3974358\ttotal: 1m 40s\tremaining: 30.3s\n",
      "189:\tlearn: 0.3972571\ttotal: 1m 41s\tremaining: 29.8s\n",
      "190:\tlearn: 0.3971210\ttotal: 1m 41s\tremaining: 29.3s\n",
      "191:\tlearn: 0.3970051\ttotal: 1m 42s\tremaining: 28.8s\n",
      "192:\tlearn: 0.3966969\ttotal: 1m 42s\tremaining: 28.2s\n",
      "193:\tlearn: 0.3965525\ttotal: 1m 43s\tremaining: 27.7s\n",
      "194:\tlearn: 0.3963026\ttotal: 1m 43s\tremaining: 27.2s\n",
      "195:\tlearn: 0.3961543\ttotal: 1m 44s\tremaining: 26.7s\n",
      "196:\tlearn: 0.3960446\ttotal: 1m 45s\tremaining: 26.1s\n",
      "197:\tlearn: 0.3958317\ttotal: 1m 45s\tremaining: 25.6s\n",
      "198:\tlearn: 0.3956463\ttotal: 1m 46s\tremaining: 25.1s\n",
      "199:\tlearn: 0.3955249\ttotal: 1m 46s\tremaining: 24.5s\n",
      "200:\tlearn: 0.3953865\ttotal: 1m 47s\tremaining: 24s\n",
      "201:\tlearn: 0.3952969\ttotal: 1m 47s\tremaining: 23.5s\n",
      "202:\tlearn: 0.3950427\ttotal: 1m 48s\tremaining: 22.9s\n",
      "203:\tlearn: 0.3945081\ttotal: 1m 48s\tremaining: 22.4s\n",
      "204:\tlearn: 0.3934106\ttotal: 1m 49s\tremaining: 21.8s\n",
      "205:\tlearn: 0.3932989\ttotal: 1m 49s\tremaining: 21.3s\n",
      "206:\tlearn: 0.3927592\ttotal: 1m 50s\tremaining: 20.8s\n",
      "207:\tlearn: 0.3925981\ttotal: 1m 50s\tremaining: 20.2s\n",
      "208:\tlearn: 0.3924609\ttotal: 1m 51s\tremaining: 19.7s\n",
      "209:\tlearn: 0.3923117\ttotal: 1m 51s\tremaining: 19.2s\n",
      "210:\tlearn: 0.3920814\ttotal: 1m 52s\tremaining: 18.7s\n",
      "211:\tlearn: 0.3919525\ttotal: 1m 53s\tremaining: 18.1s\n",
      "212:\tlearn: 0.3910960\ttotal: 1m 53s\tremaining: 17.6s\n",
      "213:\tlearn: 0.3909387\ttotal: 1m 54s\tremaining: 17.1s\n",
      "214:\tlearn: 0.3908162\ttotal: 1m 54s\tremaining: 16.5s\n",
      "215:\tlearn: 0.3906888\ttotal: 1m 55s\tremaining: 16s\n",
      "216:\tlearn: 0.3905332\ttotal: 1m 55s\tremaining: 15.5s\n",
      "217:\tlearn: 0.3902479\ttotal: 1m 56s\tremaining: 14.9s\n",
      "218:\tlearn: 0.3900908\ttotal: 1m 56s\tremaining: 14.4s\n",
      "219:\tlearn: 0.3899895\ttotal: 1m 57s\tremaining: 13.8s\n",
      "220:\tlearn: 0.3899147\ttotal: 1m 57s\tremaining: 13.3s\n",
      "221:\tlearn: 0.3897681\ttotal: 1m 58s\tremaining: 12.8s\n",
      "222:\tlearn: 0.3895744\ttotal: 1m 58s\tremaining: 12.2s\n",
      "223:\tlearn: 0.3892948\ttotal: 1m 59s\tremaining: 11.7s\n",
      "224:\tlearn: 0.3890833\ttotal: 1m 59s\tremaining: 11.2s\n",
      "225:\tlearn: 0.3889765\ttotal: 2m\tremaining: 10.7s\n",
      "226:\tlearn: 0.3888741\ttotal: 2m 1s\tremaining: 10.1s\n",
      "227:\tlearn: 0.3880803\ttotal: 2m 1s\tremaining: 9.6s\n",
      "228:\tlearn: 0.3879502\ttotal: 2m 2s\tremaining: 9.07s\n",
      "229:\tlearn: 0.3878694\ttotal: 2m 2s\tremaining: 8.54s\n",
      "230:\tlearn: 0.3877841\ttotal: 2m 3s\tremaining: 8.01s\n",
      "231:\tlearn: 0.3876898\ttotal: 2m 3s\tremaining: 7.47s\n",
      "232:\tlearn: 0.3875960\ttotal: 2m 4s\tremaining: 6.95s\n",
      "233:\tlearn: 0.3874859\ttotal: 2m 5s\tremaining: 6.41s\n",
      "234:\tlearn: 0.3872783\ttotal: 2m 5s\tremaining: 5.87s\n",
      "235:\tlearn: 0.3871615\ttotal: 2m 6s\tremaining: 5.34s\n",
      "236:\tlearn: 0.3871077\ttotal: 2m 6s\tremaining: 4.81s\n",
      "237:\tlearn: 0.3869878\ttotal: 2m 7s\tremaining: 4.27s\n",
      "238:\tlearn: 0.3868854\ttotal: 2m 7s\tremaining: 3.74s\n",
      "239:\tlearn: 0.3866022\ttotal: 2m 8s\tremaining: 3.2s\n",
      "240:\tlearn: 0.3865216\ttotal: 2m 8s\tremaining: 2.67s\n",
      "241:\tlearn: 0.3864368\ttotal: 2m 9s\tremaining: 2.14s\n",
      "242:\tlearn: 0.3862769\ttotal: 2m 9s\tremaining: 1.6s\n",
      "243:\tlearn: 0.3861057\ttotal: 2m 10s\tremaining: 1.07s\n",
      "244:\tlearn: 0.3857989\ttotal: 2m 10s\tremaining: 535ms\n",
      "245:\tlearn: 0.3856718\ttotal: 2m 11s\tremaining: 0us\n",
      "\n",
      "--- Model CatBoostClassifier fit and trained in 134.16499996185303 seconds ---\n",
      "--- Params : {'iterations': 246, 'learning_rate': 0.09650720626063021, 'cat_features': ['place', 'catu', 'sexe', 'trajet', 'locp', 'actp', 'etatp', 'mois', 'lum', 'agg', 'int', 'atm', 'col', 'dep', 'catr', 'circ', 'nbv', 'vosp', 'prof', 'plan', 'surf', 'infra', 'situ', 'senc', 'catv', 'age_cls', 'joursem']}\n"
     ]
    },
    {
     "data": {
      "text/plain": "Classe prédite      0     1\nClasse réelle              \n0               28769  3610\n1                4100  3520",
      "text/html": "<div>\n<style scoped>\n    .dataframe tbody tr th:only-of-type {\n        vertical-align: middle;\n    }\n\n    .dataframe tbody tr th {\n        vertical-align: top;\n    }\n\n    .dataframe thead th {\n        text-align: right;\n    }\n</style>\n<table border=\"1\" class=\"dataframe\">\n  <thead>\n    <tr style=\"text-align: right;\">\n      <th>Classe prédite</th>\n      <th>0</th>\n      <th>1</th>\n    </tr>\n    <tr>\n      <th>Classe réelle</th>\n      <th></th>\n      <th></th>\n    </tr>\n  </thead>\n  <tbody>\n    <tr>\n      <th>0</th>\n      <td>28769</td>\n      <td>3610</td>\n    </tr>\n    <tr>\n      <th>1</th>\n      <td>4100</td>\n      <td>3520</td>\n    </tr>\n  </tbody>\n</table>\n</div>"
     },
     "metadata": {},
     "output_type": "display_data"
    },
    {
     "name": "stdout",
     "output_type": "stream",
     "text": [
      "\n",
      "Classification report :\n",
      "              precision    recall  f1-score   support\n",
      "\n",
      "           0       0.88      0.89      0.88     32379\n",
      "           1       0.49      0.46      0.48      7620\n",
      "\n",
      "    accuracy                           0.81     39999\n",
      "   macro avg       0.68      0.68      0.68     39999\n",
      "weighted avg       0.80      0.81      0.80     39999\n",
      "\n"
     ]
    }
   ],
   "source": [
    "from my_libs.model_evaluator import ModelEvaluator\n",
    "\n",
    "if find_best_params:\n",
    "\n",
    "    params = study.best_params\n",
    "    params['cat_features'] = list(X_train.columns)\n",
    "\n",
    "    evaluator = ModelEvaluator(model_type='CatBoostClassifier', params=params, X_train=X_train, y_train=y_train, X_test=X_test, y_test=y_test)\n",
    "    model = evaluator.evaluate()"
   ],
   "metadata": {
    "collapsed": false
   }
  },
  {
   "cell_type": "markdown",
   "source": [
    "### Fit best model - Plot Train and Test learning curves"
   ],
   "metadata": {
    "collapsed": false
   }
  },
  {
   "cell_type": "code",
   "execution_count": null,
   "outputs": [],
   "source": [
    "import numpy as np\n",
    "from catboost import CatBoostClassifier\n",
    "from sklearn.model_selection import learning_curve\n",
    "import matplotlib.pyplot as plt\n",
    "%matplotlib inline\n",
    "\n",
    "# Train the best model\n",
    "params = study.best_params\n",
    "params['cat_features'] = list(X_train.columns)\n",
    "model = CatBoostClassifier(**params)\n",
    "model.fit(X_train, y_train)\n",
    "\n",
    "# Compute the learning curve\n",
    "train_sizes, train_scores, valid_scores = learning_curve(model, X_train, y_train, cv=5, scoring='roc_auc', n_jobs=-1)\n",
    "\n",
    "# Calculate the mean and standard deviation of the training and validation scores\n",
    "train_scores_mean = np.mean(train_scores, axis=1)\n",
    "train_scores_std  = np.std(train_scores, axis=1)\n",
    "valid_scores_mean = np.mean(valid_scores, axis=1)\n",
    "valid_scores_std  = np.std(valid_scores, axis=1)\n",
    "\n",
    "# Plot the learning curve\n",
    "plt.figure(figsize=(8, 6))\n",
    "plt.title('Catboost Classifier Learning Curve')\n",
    "plt.xlabel('Training Set Size')\n",
    "plt.ylabel('Accuracy Score')\n",
    "plt.fill_between(train_sizes, train_scores_mean - train_scores_std, train_scores_mean + train_scores_std, alpha=0.1, color='r')\n",
    "plt.fill_between(train_sizes, valid_scores_mean - valid_scores_std, valid_scores_mean + valid_scores_std, alpha=0.1, color='g')\n",
    "plt.plot(train_sizes, train_scores_mean, 'o-', color='r', label='Training Score')\n",
    "plt.plot(train_sizes, valid_scores_mean, 'o-', color='g', label='Validation Score')\n",
    "plt.legend(loc='best')\n",
    "plt.show()"
   ],
   "metadata": {
    "collapsed": false,
    "pycharm": {
     "is_executing": true
    }
   }
  },
  {
   "cell_type": "markdown",
   "source": [
    "### Plot ROC curves (from estimator & from predictions)"
   ],
   "metadata": {
    "collapsed": false
   }
  },
  {
   "cell_type": "code",
   "execution_count": null,
   "outputs": [],
   "source": [
    "from sklearn.metrics import RocCurveDisplay\n",
    "\n",
    "RocCurveDisplay.from_estimator(model, X_test, y_test)\n",
    "plt.plot(np.arange(0, 1, 0.01), np.arange(0, 1, 0.01))\n",
    "plt.title('Catboost - ROC Curve from estimator')\n",
    "\n",
    "RocCurveDisplay.from_predictions(y_test, model.predict(X_test))\n",
    "plt.plot(np.arange(0, 1, 0.01), np.arange(0, 1, 0.01))\n",
    "plt.title('Catboost - ROC Curve from predictions');"
   ],
   "metadata": {
    "collapsed": false,
    "pycharm": {
     "is_executing": true
    }
   }
  },
  {
   "cell_type": "markdown",
   "source": [
    "### Save model to h5"
   ],
   "metadata": {
    "collapsed": false
   }
  },
  {
   "cell_type": "code",
   "execution_count": null,
   "outputs": [],
   "source": [
    "from joblib import dump\n",
    "# Save the model to an h5 file using joblib\n",
    "dump(model, f'h5_models/model_cb_{run_type}_200000.h5')"
   ],
   "metadata": {
    "collapsed": false,
    "pycharm": {
     "is_executing": true
    }
   }
  }
 ],
 "metadata": {
  "kernelspec": {
   "display_name": "Python 3 (ipykernel)",
   "language": "python",
   "name": "python3"
  },
  "language_info": {
   "codemirror_mode": {
    "name": "ipython",
    "version": 3
   },
   "file_extension": ".py",
   "mimetype": "text/x-python",
   "name": "python",
   "nbconvert_exporter": "python",
   "pygments_lexer": "ipython3",
   "version": "3.9.13"
  }
 },
 "nbformat": 4,
 "nbformat_minor": 1
}
