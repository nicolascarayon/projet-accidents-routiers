{
 "cells": [
  {
   "cell_type": "code",
   "execution_count": null,
   "id": "91f25d4c",
   "metadata": {},
   "outputs": [],
   "source": [
    "import pandas as pd\n",
    "import numpy as np\n",
    "%matplotlib inline\n",
    "import matplotlib.pyplot as plt\n",
    "import load_data as ld\n",
    "import seaborn as sns\n",
    "import geopandas as gpd\n",
    "\n",
    "dir_data = \"C:\\\\Users\\\\Nicolas\\\\Data\\\\data.gouv.fr\\\\\"\n",
    "\n",
    "# Véhicules immatriculés impliqués dans les accidents corporels - 2009 à 2021\n",
    "dic_vehic_immat = ld.load_vehic_immat_gouv(folder_path=dir_data, start_year=2009, end_year=2021)\n",
    "\n",
    "# Caractéristiques\n",
    "dic_caract = ld.load_caract_gouv(folder_path=dir_data, start_year=2005, end_year=2021)\n",
    "\n",
    "# Lieux\n",
    "dic_lieux = ld.load_lieux_gouv(folder_path=dir_data, start_year=2005, end_year=2021)\n",
    "\n",
    "# Usagers\n",
    "dic_usagers = ld.load_usagers_gouv(folder_path=dir_data, start_year=2005, end_year=2021)\n",
    "\n",
    "# Véhicules\n",
    "dic_vehic = ld.load_vehicules_gouv(folder_path=dir_data, start_year=2005, end_year=2021)\n"
   ]
  },
  {
   "cell_type": "code",
   "execution_count": null,
   "id": "235f828d",
   "metadata": {},
   "outputs": [],
   "source": [
    "# Etude des fichiers usagers-yyyy.csv\n",
    "\n",
    "# 1 : Indemne\n",
    "# 2 : Tué\n",
    "# 3 : Blessé hospitalisé\n",
    "# 4 : Blessé léger\n",
    "\n",
    "print(\"Usagers - Dimension des données selon les années : \\n\")\n",
    "for year in range(2018, 2022):\n",
    "    print(f\"usagers {year} : {dic_usagers[year].shape}\")\n",
    "\n",
    "print(\"\\nUsagers - Variables selon les années : \\n\")\n",
    "for year in range(2018, 2022):\n",
    "    print(f\"usagers {year} : {list(dic_usagers[year].columns)}\")\n",
    "\n",
    "print(\"\\nUsagers - Modalités de la variable grav : \\n\")\n",
    "for year in range(2018, 2022):\n",
    "    print(f\"usagers {year} : {dic_usagers[year]['grav'].value_counts()}\")\n",
    "\n",
    "\n",
    "plt.figure(figsize=(16, 16))\n",
    "plt.title('Répartition de la gravité des accidents par année depuis 2005')\n",
    "for k in range(1, 18):\n",
    "    year = 2005 + k -1\n",
    "    plt.subplot(5, 4, k)\n",
    "    plt.hist(dic_usagers[year].grav);\n",
    "    plt.title(year)"
   ]
  },
  {
   "cell_type": "markdown",
   "id": "3e301cbc",
   "metadata": {},
   "source": [
    "## Analyse usagers"
   ]
  },
  {
   "cell_type": "code",
   "execution_count": null,
   "id": "b74a4eb9",
   "metadata": {},
   "outputs": [],
   "source": [
    "# Analyse rapide des colonnes du fichier usager\n",
    "\n",
    "help(ld.load_usagers_gouv)\n",
    "\n",
    "df = dic_usagers[2020]\n",
    "print(list(df.columns))\n",
    "\n",
    "fig = plt.figure(figsize=(12, 12))\n",
    "ax = fig.gca()\n",
    "df[['place', 'catu', 'grav', 'sexe', 'an_nais', 'trajet', 'secu1', 'secu2', 'locp', 'actp', 'etatp']].hist(ax = ax);\n",
    "# conducteur très majoritairement impliqué\n",
    "# ~70% d'hommes vs ~30% femmes\n",
    "# pic de jeunes conducteurs\n",
    "# pics sur promenade et trajets domicile-travail"
   ]
  },
  {
   "cell_type": "markdown",
   "id": "a6d58970",
   "metadata": {},
   "source": [
    "## Analyse caracteristiques"
   ]
  },
  {
   "cell_type": "code",
   "execution_count": null,
   "id": "26e2be36",
   "metadata": {},
   "outputs": [],
   "source": [
    "# Analyse rapide des colonnes du fichier caractéristiques\n",
    "\n",
    "help(ld.load_caract_gouv)\n",
    "\n",
    "df = dic_caract[2020]\n",
    "print(list(df.columns))\n",
    "\n",
    "df.head()\n",
    "# cols = ['mois', 'hrmn', 'lum', 'dep', 'com', 'agg', 'int', 'atm', 'col', 'lat', 'long']\n",
    "fig = plt.figure(figsize=(10, 10))\n",
    "ax = fig.gca()\n",
    "df[['mois', 'lum', 'dep', 'com', 'agg', 'int', 'atm', 'col']].hist(ax = ax);\n"
   ]
  },
  {
   "cell_type": "markdown",
   "id": "b5187e09",
   "metadata": {},
   "source": [
    "## Analyse vehicules"
   ]
  },
  {
   "cell_type": "code",
   "execution_count": null,
   "id": "40b5d160",
   "metadata": {},
   "outputs": [],
   "source": [
    "# Analyse rapide des colonnes du fichier vehicules\n",
    "\n",
    "help(ld.load_vehicules_gouv)\n",
    "\n",
    "df = dic_vehic[2020]\n",
    "print(list(df.columns))\n",
    "\n",
    "df.head()\n",
    "# cols = ['mois', 'hrmn', 'lum', 'dep', 'com', 'agg', 'int', 'atm', 'col', 'lat', 'long']\n",
    "fig = plt.figure(figsize=(10, 10))\n",
    "ax = fig.gca()\n",
    "df[['senc', 'catv', 'obs', 'obsm', 'choc', 'manv', 'motor', 'occutc']].hist(ax = ax);\n"
   ]
  },
  {
   "cell_type": "markdown",
   "id": "1007844b",
   "metadata": {},
   "source": [
    "## Analyse lieux"
   ]
  },
  {
   "cell_type": "code",
   "execution_count": null,
   "id": "bd1c3ccf",
   "metadata": {},
   "outputs": [],
   "source": [
    "# Analyse rapide des colonnes du fichier vehicules\n",
    "\n",
    "help(ld.load_lieux_gouv)\n",
    "\n",
    "df = dic_lieux[2020]\n",
    "print(list(df.columns))\n",
    "\n",
    "df.head()\n",
    "fig = plt.figure(figsize=(10, 10))\n",
    "ax = fig.gca()\n",
    "df[['catr', 'circ', 'nbv', 'vosp', 'prof', 'plan', 'surf', 'infra', 'situ', 'vma']].hist(ax = ax);\n"
   ]
  },
  {
   "cell_type": "markdown",
   "id": "f4ebe598",
   "metadata": {},
   "source": [
    "## Analyse véhicules immat impliqués"
   ]
  },
  {
   "cell_type": "code",
   "execution_count": null,
   "id": "1552613e",
   "metadata": {},
   "outputs": [],
   "source": [
    "# Analyse rapide des colonnes du fichier dés véhicules immatriculés impliqués\n",
    "\n",
    "help(ld.load_vehic_immat_gouv)\n",
    "\n",
    "df = dic_vehic_immat[2020]\n",
    "print(list(df.columns))\n",
    "\n",
    "df.head()\n",
    "fig = plt.figure(figsize=(10, 10))\n",
    "ax = fig.gca()\n",
    "df[['place', 'catu', 'grav', 'sexe', 'an_nais', 'trajet', 'secu1', 'secu2', 'secu3', 'locp', 'actp', 'etatp']].hist(ax = ax);\n"
   ]
  },
  {
   "cell_type": "markdown",
   "id": "1b7b7fcd",
   "metadata": {},
   "source": [
    "## Merge de toutes les données"
   ]
  },
  {
   "cell_type": "code",
   "execution_count": null,
   "id": "9984ed6b",
   "metadata": {},
   "outputs": [],
   "source": [
    "df_caract = dic_caract[2021]\n",
    "df_lieux = dic_lieux[2021]\n",
    "df_usagers = dic_usagers[2021]\n",
    "df_vehic = dic_vehic[2021]\n",
    "df_vehic_immat = dic_vehic_immat[2021] \n",
    "\n",
    "# print('caract :', list(df_caract.columns))\n",
    "# print('lieux :', list(df_lieux.columns))\n",
    "# print('usagers :', list(df_usagers.columns))\n",
    "# print('vehic :', list(df_vehic.columns))\n",
    "# print('vehic_immat :', list(df_vehic_immat.columns))\n",
    "\n",
    "\n",
    "# pas de doublons de Num_Acc dans df_caract, et df_lieux -> on peut merger df_usagers, df_caract, et df_lieux sur Numm_Acc\n",
    "df_caract.Num_Acc.duplicated().sum() + df_lieux.Num_Acc.duplicated().sum()\n",
    "\n",
    "\n",
    "usagers_caract = df_usagers.merge(right=df_caract, on='Num_Acc', how='left')\n",
    "usagers_lieux  = df_usagers.merge(right=df_lieux,  on='Num_Acc', how='left')\n",
    "\n",
    "# cor = usagers_caract.corr()\n",
    "cor = usagers_lieux.corr()\n",
    "\n",
    "fig, ax = plt.subplots(figsize=(12,12))\n",
    "sns.heatmap(cor, annot=True, ax=ax, cmap='coolwarm');\n",
    "\n",
    "\n"
   ]
  },
  {
   "cell_type": "markdown",
   "id": "597cbe81",
   "metadata": {},
   "source": [
    "## Geolocation"
   ]
  },
  {
   "cell_type": "code",
   "execution_count": null,
   "id": "378ef7d2",
   "metadata": {
    "scrolled": true
   },
   "outputs": [],
   "source": [
    "# convert latitude and longitude to good format\n",
    "df_caract['lat'] = df_caract['lat'].str.replace(',', '.')\n",
    "df_caract['long'] = df_caract['long'].str.replace(',', '.')\n",
    "df_caract_33 = df_caract[df_caract.dep == '33']\n",
    "df_caract_33 = df_caract_33.iloc[0:10, :]\n",
    "\n",
    "# print(df_caract_min.head())\n",
    "\n",
    "gdf = gpd.GeoDataFrame(df_caract_33, geometry=gpd.points_from_xy(df_caract_33.long, df_caract_33.lat))\n",
    "plt.figure(figsize=(20, 20))\n",
    "gdf.plot(column='lum')\n",
    "\n",
    "# 'lum'\n",
    "# Lumière : conditions d’éclairage dans lesquelles l'accident s'est produit :\n",
    "# 1 – Plein jour\n",
    "# 2 – Crépuscule ou aube\n",
    "# 3 – Nuit sans éclairage public\n",
    "# 4 – Nuit avec éclairage public non allum\n",
    "\n",
    "plt.figure(figsize=(20, 20))\n",
    "gdf.explore()\n",
    "# gdf.explore(column='lum')\n",
    "# deps_simple = gpd.read_file('.\\\\json-maps\\\\departements-version-simplifiee.geojson')\n",
    "# deps = gpd.read_file('.\\\\json-maps\\\\departements.geojson')\n",
    "\n",
    "# plt.figure(figsize=(20, 20))\n",
    "# display Gironde\n",
    "# deps.loc[33].geometry\n",
    "\n",
    "# display carte de france découpée par départements\n",
    "# deps.plot(figsize=(10,10), linewidth=2)\n",
    "\n",
    "# grille associée\n",
    "# deps.crs\n",
    "# import contextily as cx\n",
    "# cx.providers.keys()\n",
    "\n"
   ]
  }
 ],
 "metadata": {
  "colab": {
   "provenance": []
  },
  "kernelspec": {
   "display_name": "Python 3 (ipykernel)",
   "language": "python",
   "name": "python3"
  },
  "language_info": {
   "codemirror_mode": {
    "name": "ipython",
    "version": 3
   },
   "file_extension": ".py",
   "mimetype": "text/x-python",
   "name": "python",
   "nbconvert_exporter": "python",
   "pygments_lexer": "ipython3",
   "version": "3.9.13"
  }
 },
 "nbformat": 4,
 "nbformat_minor": 5
}
