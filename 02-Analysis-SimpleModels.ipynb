{
 "cells": [
  {
   "cell_type": "code",
   "execution_count": 1,
   "metadata": {
    "collapsed": true
   },
   "outputs": [],
   "source": [
    "import pandas as pd\n",
    "\n",
    "quick = True\n",
    "\n",
    "if quick:\n",
    "    start_year, end_year, chk, sampled, filename = [2005, 2021, False, True, 'df-light.pkl']\n",
    "else:\n",
    "    start_year, end_year, chk, sampled, filename = [2005, 2021, True, False, 'df-full.pkl']\n",
    "\n",
    "from sklearn.model_selection import train_test_split\n",
    "\n",
    "df = pd.read_pickle(f'./{filename}')\n",
    "data = df.iloc[:, 1:]\n",
    "target = df['grav']\n",
    "\n",
    "# X_train, X_test, y_train, y_test = train_test_split(data, target, test_size=0.2, random_state=222)\n"
   ]
  },
  {
   "cell_type": "code",
   "execution_count": 6,
   "outputs": [],
   "source": [
    "data.columns\n",
    "filter_train = data.an < 2018\n",
    "filter_test = data.an >= 2018\n",
    "\n",
    "X_train = data[filter_train]\n",
    "y_train = target[filter_train]\n",
    "\n",
    "X_test = data[filter_test]\n",
    "y_test = target[filter_test]\n"
   ],
   "metadata": {
    "collapsed": false
   }
  },
  {
   "cell_type": "code",
   "execution_count": 7,
   "outputs": [
    {
     "data": {
      "text/plain": "0.8020362557745688"
     },
     "metadata": {},
     "output_type": "display_data"
    },
    {
     "data": {
      "text/plain": "0.19796374422543114"
     },
     "metadata": {},
     "output_type": "display_data"
    }
   ],
   "source": [
    "display(X_train.shape[0]/data.shape[0])\n",
    "display(X_test.shape[0]/data.shape[0])"
   ],
   "metadata": {
    "collapsed": false
   }
  },
  {
   "cell_type": "code",
   "execution_count": 8,
   "outputs": [
    {
     "name": "stdout",
     "output_type": "stream",
     "text": [
      "--- Features encoding performed in 14.541270017623901 seconds ---\n"
     ]
    }
   ],
   "source": [
    "import time\n",
    "from my_libs.encoder_custom import EncoderCustom\n",
    "\n",
    "start_time = time.time()\n",
    "\n",
    "# cols_target_encoded = ['dep', 'age']\n",
    "cols_target_encoded = []\n",
    "cols_onehot_encoded = X_train.columns.drop(cols_target_encoded)\n",
    "\n",
    "encoder = EncoderCustom(cols_target_encoded=cols_target_encoded, cols_onehot_encoded=cols_onehot_encoded)\n",
    "X_train_rs, y_train_rs = encoder.transform(X_train, y_train, 'Train')\n",
    "X_test_rs,  y_test_rs  = encoder.transform(X_test,  y_test,  'Test')\n",
    "\n",
    "print(\"--- Features encoding performed in %s seconds ---\" % (time.time() - start_time))"
   ],
   "metadata": {
    "collapsed": false
   }
  },
  {
   "cell_type": "code",
   "execution_count": 9,
   "outputs": [
    {
     "name": "stdout",
     "output_type": "stream",
     "text": [
      "--- Model fit and trained in 10.215256214141846 seconds ---\n",
      "Classe prédite      0      1\n",
      "Classe réelle               \n",
      "0               14909   1273\n",
      "1                2196  13986\n",
      "Classification report :\n",
      "              precision    recall  f1-score   support\n",
      "\n",
      "           0       0.87      0.92      0.90     16182\n",
      "           1       0.92      0.86      0.89     16182\n",
      "\n",
      "    accuracy                           0.89     32364\n",
      "   macro avg       0.89      0.89      0.89     32364\n",
      "weighted avg       0.89      0.89      0.89     32364\n",
      "\n"
     ]
    }
   ],
   "source": [
    "from sklearn.ensemble import RandomForestClassifier\n",
    "from imblearn.metrics import classification_report_imbalanced\n",
    "from sklearn.metrics import classification_report\n",
    "\n",
    "start_time = time.time()\n",
    "\n",
    "params = {'classifier': 'RandomForestClassifier', 'n_estimators': 26, 'criterion': 'entropy', 'max_depth': 27, 'min_samples_split': 3}\n",
    "\n",
    "if params['classifier'] == 'RandomForestClassifier' :\n",
    "    model_simple = RandomForestClassifier(n_estimators=params['n_estimators'],\n",
    "                                   criterion=params['criterion'],\n",
    "                                   max_depth=params['max_depth'],\n",
    "                                   min_samples_split=params['min_samples_split'])\n",
    "\n",
    "model_simple.fit(X_train_rs, y_train_rs)\n",
    "\n",
    "y_pred = model_simple.predict(X_test_rs)\n",
    "\n",
    "print(\"--- Model fit and trained in %s seconds ---\" % (time.time() - start_time))\n",
    "\n",
    "print(pd.crosstab(y_test_rs, y_pred, rownames=['Classe réelle'], colnames=['Classe prédite']))\n",
    "\n",
    "# print(\"Classification report imbalanced :\")\n",
    "# print(classification_report_imbalanced(y_test_rs, y_pred))\n",
    "\n",
    "print(\"Classification report :\")\n",
    "print(classification_report(y_test_rs, y_pred))"
   ],
   "metadata": {
    "collapsed": false
   }
  }
 ],
 "metadata": {
  "kernelspec": {
   "display_name": "Python 3",
   "language": "python",
   "name": "python3"
  },
  "language_info": {
   "codemirror_mode": {
    "name": "ipython",
    "version": 2
   },
   "file_extension": ".py",
   "mimetype": "text/x-python",
   "name": "python",
   "nbconvert_exporter": "python",
   "pygments_lexer": "ipython2",
   "version": "2.7.6"
  }
 },
 "nbformat": 4,
 "nbformat_minor": 0
}
