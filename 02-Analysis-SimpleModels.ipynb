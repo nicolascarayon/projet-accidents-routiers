{
 "cells": [
  {
   "cell_type": "code",
   "execution_count": 1,
   "outputs": [],
   "source": [
    "import pandas as pd\n",
    "\n",
    "quick = True\n",
    "\n",
    "if quick:\n",
    "    start_year, end_year, chk, sampled, filename = [2005, 2021, False, True, 'df-light.pkl']\n",
    "else:\n",
    "    start_year, end_year, chk, sampled, filename = [2005, 2021, True, False, 'df-full.pkl']\n",
    "\n",
    "from sklearn.model_selection import train_test_split\n",
    "\n",
    "df = pd.read_pickle(f'./{filename}')\n",
    "data = df.iloc[:, 1:]\n",
    "target = df['grav']\n",
    "\n",
    "X_train, X_test, y_train, y_test = train_test_split(data, target, test_size=0.2, random_state=222)"
   ],
   "metadata": {
    "collapsed": false
   }
  },
  {
   "cell_type": "code",
   "execution_count": 2,
   "outputs": [],
   "source": [
    "import my_libs.lib_tools as pt\n",
    "\n",
    "X_train, y_train, X_test, y_test = pt.train_test_split_along_time(data, target, 2018)"
   ],
   "metadata": {
    "collapsed": false
   }
  },
  {
   "cell_type": "code",
   "execution_count": 3,
   "outputs": [
    {
     "name": "stdout",
     "output_type": "stream",
     "text": [
      "--- Features encoding performed in 17.54271697998047 seconds ---\n"
     ]
    }
   ],
   "source": [
    "import time\n",
    "from my_libs.encoder_custom import EncoderCustom\n",
    "\n",
    "start_time = time.time()\n",
    "\n",
    "# cols_target_encoded = ['dep', 'age']\n",
    "cols_target_encoded = []\n",
    "cols_onehot_encoded = X_train.columns.drop(cols_target_encoded)\n",
    "\n",
    "encoder = EncoderCustom(cols_target_encoded=cols_target_encoded, cols_onehot_encoded=cols_onehot_encoded)\n",
    "\n",
    "X_train_rs, y_train_rs = encoder.transform(X_train, y_train, 'Train')\n",
    "X_test_rs,  y_test_rs  = encoder.transform(X_test,  y_test,  'Test')\n",
    "\n",
    "print(\"--- Features encoding performed in %s seconds ---\" % (time.time() - start_time))"
   ],
   "metadata": {
    "collapsed": false
   }
  },
  {
   "cell_type": "code",
   "execution_count": 4,
   "outputs": [
    {
     "name": "stdout",
     "output_type": "stream",
     "text": [
      "--- Model DecisionTreeClassifier fit and trained in 0.6406717300415039 seconds ---\n",
      "--- Params : {'max_depth': 15, 'criterion': 'entropy', 'max_features': 'auto', 'min_samples_split': 3}\n"
     ]
    },
    {
     "data": {
      "text/plain": "Classe prédite      0      1\nClasse réelle               \n0               12358   3824\n1                3407  12775",
      "text/html": "<div>\n<style scoped>\n    .dataframe tbody tr th:only-of-type {\n        vertical-align: middle;\n    }\n\n    .dataframe tbody tr th {\n        vertical-align: top;\n    }\n\n    .dataframe thead th {\n        text-align: right;\n    }\n</style>\n<table border=\"1\" class=\"dataframe\">\n  <thead>\n    <tr style=\"text-align: right;\">\n      <th>Classe prédite</th>\n      <th>0</th>\n      <th>1</th>\n    </tr>\n    <tr>\n      <th>Classe réelle</th>\n      <th></th>\n      <th></th>\n    </tr>\n  </thead>\n  <tbody>\n    <tr>\n      <th>0</th>\n      <td>12358</td>\n      <td>3824</td>\n    </tr>\n    <tr>\n      <th>1</th>\n      <td>3407</td>\n      <td>12775</td>\n    </tr>\n  </tbody>\n</table>\n</div>"
     },
     "metadata": {},
     "output_type": "display_data"
    },
    {
     "name": "stdout",
     "output_type": "stream",
     "text": [
      "Classification report :\n",
      "              precision    recall  f1-score   support\n",
      "\n",
      "           0       0.78      0.76      0.77     16182\n",
      "           1       0.77      0.79      0.78     16182\n",
      "\n",
      "    accuracy                           0.78     32364\n",
      "   macro avg       0.78      0.78      0.78     32364\n",
      "weighted avg       0.78      0.78      0.78     32364\n",
      "\n"
     ]
    }
   ],
   "source": [
    "from my_libs.model_evaluator import ModelEvaluator\n",
    "\n",
    "params_dt = {'max_depth': 15, 'criterion': 'entropy', 'max_features': 'auto', 'min_samples_split': 3}\n",
    "model_type = 'DecisionTreeClassifier'\n",
    "\n",
    "evaluator = ModelEvaluator(model_type=model_type, params=params_dt, X_train=X_train_rs, y_train=y_train_rs, X_test=X_test_rs, y_test=y_test_rs)\n",
    "evaluator.evaluate()"
   ],
   "metadata": {
    "collapsed": false
   }
  },
  {
   "cell_type": "code",
   "execution_count": 5,
   "outputs": [
    {
     "name": "stdout",
     "output_type": "stream",
     "text": [
      "--- Model RandomForestClassifier fit and trained in 8.97636365890503 seconds ---\n",
      "--- Params : {'n_estimators': 34, 'criterion': 'entropy', 'max_depth': 10, 'min_samples_split': 2}\n"
     ]
    },
    {
     "data": {
      "text/plain": "Classe prédite      0      1\nClasse réelle               \n0               13285   2897\n1                1620  14562",
      "text/html": "<div>\n<style scoped>\n    .dataframe tbody tr th:only-of-type {\n        vertical-align: middle;\n    }\n\n    .dataframe tbody tr th {\n        vertical-align: top;\n    }\n\n    .dataframe thead th {\n        text-align: right;\n    }\n</style>\n<table border=\"1\" class=\"dataframe\">\n  <thead>\n    <tr style=\"text-align: right;\">\n      <th>Classe prédite</th>\n      <th>0</th>\n      <th>1</th>\n    </tr>\n    <tr>\n      <th>Classe réelle</th>\n      <th></th>\n      <th></th>\n    </tr>\n  </thead>\n  <tbody>\n    <tr>\n      <th>0</th>\n      <td>13285</td>\n      <td>2897</td>\n    </tr>\n    <tr>\n      <th>1</th>\n      <td>1620</td>\n      <td>14562</td>\n    </tr>\n  </tbody>\n</table>\n</div>"
     },
     "metadata": {},
     "output_type": "display_data"
    },
    {
     "name": "stdout",
     "output_type": "stream",
     "text": [
      "Classification report :\n",
      "              precision    recall  f1-score   support\n",
      "\n",
      "           0       0.89      0.82      0.85     16182\n",
      "           1       0.83      0.90      0.87     16182\n",
      "\n",
      "    accuracy                           0.86     32364\n",
      "   macro avg       0.86      0.86      0.86     32364\n",
      "weighted avg       0.86      0.86      0.86     32364\n",
      "\n"
     ]
    }
   ],
   "source": [
    "from my_libs.model_evaluator import ModelEvaluator\n",
    "\n",
    "params_rf = {'n_estimators': 34, 'criterion': 'entropy', 'max_depth': 10, 'min_samples_split': 2}\n",
    "model_type = 'RandomForestClassifier'\n",
    "\n",
    "evaluator = ModelEvaluator(model_type=model_type, params=params_rf, X_train=X_train_rs, y_train=y_train_rs, X_test=X_test_rs, y_test=y_test_rs)\n",
    "evaluator.evaluate()"
   ],
   "metadata": {
    "collapsed": false
   }
  }
 ],
 "metadata": {
  "kernelspec": {
   "display_name": "Python 3",
   "language": "python",
   "name": "python3"
  },
  "language_info": {
   "codemirror_mode": {
    "name": "ipython",
    "version": 2
   },
   "file_extension": ".py",
   "mimetype": "text/x-python",
   "name": "python",
   "nbconvert_exporter": "python",
   "pygments_lexer": "ipython2",
   "version": "2.7.6"
  }
 },
 "nbformat": 4,
 "nbformat_minor": 0
}
