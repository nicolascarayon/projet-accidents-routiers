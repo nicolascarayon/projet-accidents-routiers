{
 "cells": [
  {
   "cell_type": "code",
   "execution_count": 2,
   "outputs": [
    {
     "name": "stdout",
     "output_type": "stream",
     "text": [
      "<class 'pandas.core.frame.DataFrame'>\n",
      "Int64Index: 99800 entries, 812244 to 2428776\n",
      "Data columns (total 28 columns):\n",
      " #   Column   Non-Null Count  Dtype \n",
      "---  ------   --------------  ----- \n",
      " 0   place    99800 non-null  object\n",
      " 1   catu     99800 non-null  object\n",
      " 2   sexe     99800 non-null  object\n",
      " 3   trajet   99800 non-null  object\n",
      " 4   locp     99800 non-null  object\n",
      " 5   actp     99800 non-null  object\n",
      " 6   etatp    99800 non-null  object\n",
      " 7   an       99800 non-null  object\n",
      " 8   mois     99800 non-null  object\n",
      " 9   lum      99800 non-null  object\n",
      " 10  agg      99800 non-null  object\n",
      " 11  int      99800 non-null  object\n",
      " 12  atm      99800 non-null  object\n",
      " 13  col      99800 non-null  object\n",
      " 14  dep      99800 non-null  object\n",
      " 15  catr     99800 non-null  object\n",
      " 16  circ     99800 non-null  object\n",
      " 17  nbv      99800 non-null  object\n",
      " 18  vosp     99800 non-null  object\n",
      " 19  prof     99800 non-null  object\n",
      " 20  plan     99800 non-null  object\n",
      " 21  surf     99800 non-null  object\n",
      " 22  infra    99800 non-null  object\n",
      " 23  situ     99800 non-null  object\n",
      " 24  senc     99800 non-null  object\n",
      " 25  catv     99800 non-null  object\n",
      " 26  age_cls  99800 non-null  object\n",
      " 27  joursem  99800 non-null  object\n",
      "dtypes: object(28)\n",
      "memory usage: 22.1+ MB\n",
      "None\n"
     ]
    }
   ],
   "source": [
    "import pandas as pd\n",
    "\n",
    "quick = True\n",
    "\n",
    "if quick:\n",
    "    start_year, end_year, chk, sampled, filename = [2005, 2021, False, True, 'df-light.pkl']\n",
    "else:\n",
    "    start_year, end_year, chk, sampled, filename = [2005, 2021, True, False, 'df-full.pkl']\n",
    "\n",
    "from sklearn.model_selection import train_test_split\n",
    "\n",
    "df = pd.read_pickle(f'./{filename}')\n",
    "data = df.iloc[:, 1:]\n",
    "target = df['grav']\n",
    "\n",
    "for col in data.columns:\n",
    "    data[col] = data[col].astype('object')\n",
    "print(data.info())\n",
    "\n",
    "X_train, X_test, y_train, y_test = train_test_split(data, target, test_size=0.2, random_state=222)\n",
    "# X_train, y_train, X_test, y_test = pt.train_test_split_along_time(data, target, 2018)"
   ],
   "metadata": {
    "collapsed": false
   }
  },
  {
   "cell_type": "code",
   "execution_count": null,
   "outputs": [],
   "source": [
    "import time\n",
    "from my_libs.encoder_custom import EncoderCustom\n",
    "\n",
    "start_time = time.time()\n",
    "\n",
    "# cols_target_encoded = ['dep', 'age']\n",
    "cols_target_encoded = []\n",
    "cols_onehot_encoded = X_train.columns.drop(cols_target_encoded)\n",
    "\n",
    "encoder = EncoderCustom(cols_target_encoded=cols_target_encoded, cols_onehot_encoded=cols_onehot_encoded)\n",
    "\n",
    "X_train_enc, y_train_enc = encoder.transform(X_train, y_train, 'Train')\n",
    "X_test_enc,  y_test_enc  = encoder.transform(X_test,  y_test,  'Test')\n",
    "\n",
    "print(\"--- Features encoding performed in %s seconds ---\" % (time.time() - start_time))"
   ],
   "metadata": {
    "collapsed": false
   }
  },
  {
   "cell_type": "code",
   "execution_count": null,
   "outputs": [],
   "source": [
    "from my_libs.model_evaluator import ModelEvaluator\n",
    "\n",
    "params_dt = {'max_depth': 15, 'criterion': 'entropy', 'max_features': 'auto', 'min_samples_split': 3}\n",
    "model_type = 'DecisionTreeClassifier'\n",
    "\n",
    "evaluator = ModelEvaluator(model_type=model_type, params=params_dt, X_train=X_train_enc, y_train=y_train_enc, X_test=X_test_enc, y_test=y_test_enc)\n",
    "evaluator.evaluate()"
   ],
   "metadata": {
    "collapsed": false
   }
  },
  {
   "cell_type": "code",
   "execution_count": null,
   "outputs": [],
   "source": [
    "from my_libs.model_evaluator import ModelEvaluator\n",
    "\n",
    "# params_rf_old = {'n_estimators': 34, 'criterion': 'entropy', 'max_depth': 10, 'min_samples_split': 2}\n",
    "# params_rf = {'n_estimators': 57, 'criterion': 'entropy', 'max_depth': 39, 'min_samples_split': 4}\n",
    "params_rf = {'criterion': 'gini', 'max_depth': 20, 'min_samples_split': 2, 'n_estimators': 50}\n",
    "model_type = 'RandomForestClassifier'\n",
    "\n",
    "evaluator = ModelEvaluator(model_type=model_type, params=params_rf, X_train=X_train_enc, y_train=y_train_enc, X_test=X_test_enc, y_test=y_test_enc)\n",
    "evaluator.evaluate()"
   ],
   "metadata": {
    "collapsed": false
   }
  },
  {
   "cell_type": "code",
   "execution_count": null,
   "outputs": [],
   "source": [
    "from my_libs import encoder_custom\n",
    "from sklearn.ensemble import RandomForestClassifier\n",
    "from shapash import SmartExplainer\n",
    "\n",
    "model = RandomForestClassifier(criterion='gini', max_depth=20, min_samples_split=2, n_estimators=50)\n",
    "model.fit(X_train_enc, y_train_enc)\n",
    "\n",
    "# cols_target_encoded = []\n",
    "# cols_onehot_encoded = X_train.columns.drop(cols_target_encoded)\n",
    "# encoder = EncoderCustom(cols_target_encoded=cols_target_encoded, cols_onehot_encoded=cols_onehot_encoded)\n",
    "\n",
    "xpl = SmartExplainer(\n",
    "    model=model,\n",
    "    # features_dict=house_dict,  # Optional parameter\n",
    "    # preprocessing=encoder, # Optional: compile step can use inverse_transform method\n",
    "    # postprocessing=postprocess # Optional: see tutorial postprocessing\n",
    ")\n",
    "\n",
    "tmp_df = X_test_enc\n",
    "tmp_df['target'] = y_test_enc.values\n",
    "\n",
    "# xpl.compile(x=X_test_enc, y_target=y_test_enc)\n",
    "xpl.compile(x=tmp_df.drop('target',1), y_target=tmp_df.target)\n",
    "\n"
   ],
   "metadata": {
    "collapsed": false
   }
  },
  {
   "cell_type": "code",
   "execution_count": 28,
   "outputs": [
    {
     "data": {
      "text/plain": "0        0\n1        0\n2        0\n3        0\n4        0\n        ..\n19955    0\n19956    0\n19957    0\n19958    1\n19959    0\nName: target, Length: 19960, dtype: int32"
     },
     "execution_count": 28,
     "metadata": {},
     "output_type": "execute_result"
    }
   ],
   "source": [
    "tmp_df['target'] = y_test_enc.values\n",
    "tmp_df.target"
   ],
   "metadata": {
    "collapsed": false
   }
  }
 ],
 "metadata": {
  "kernelspec": {
   "display_name": "Python 3",
   "language": "python",
   "name": "python3"
  },
  "language_info": {
   "codemirror_mode": {
    "name": "ipython",
    "version": 2
   },
   "file_extension": ".py",
   "mimetype": "text/x-python",
   "name": "python",
   "nbconvert_exporter": "python",
   "pygments_lexer": "ipython2",
   "version": "2.7.6"
  }
 },
 "nbformat": 4,
 "nbformat_minor": 0
}
