{
 "cells": [
  {
   "cell_type": "code",
   "execution_count": 2,
   "outputs": [],
   "source": [
    "import pandas as pd\n",
    "\n",
    "quick = True\n",
    "\n",
    "if quick:\n",
    "    start_year, end_year, chk, sampled, filename = [2005, 2021, False, True, 'df-light.pkl']\n",
    "else:\n",
    "    start_year, end_year, chk, sampled, filename = [2005, 2021, True, False, 'df-full.pkl']\n",
    "\n",
    "from sklearn.model_selection import train_test_split\n",
    "\n",
    "df = pd.read_pickle(f'./{filename}')\n",
    "data = df.iloc[:, 1:]\n",
    "target = df['grav']\n",
    "\n",
    "X_train, X_test, y_train, y_test = train_test_split(data, target, test_size=0.2, random_state=222)\n",
    "# X_train, y_train, X_test, y_test = pt.train_test_split_along_time(data, target, 2018)"
   ],
   "metadata": {
    "collapsed": false
   }
  },
  {
   "cell_type": "code",
   "execution_count": 3,
   "outputs": [
    {
     "name": "stderr",
     "output_type": "stream",
     "text": [
      "C:\\Users\\Nicolas\\anaconda3\\lib\\site-packages\\category_encoders\\target_encoder.py:122: FutureWarning: Default parameter min_samples_leaf will change in version 2.6.See https://github.com/scikit-learn-contrib/category_encoders/issues/327\n",
      "  warnings.warn(\"Default parameter min_samples_leaf will change in version 2.6.\"\n",
      "C:\\Users\\Nicolas\\anaconda3\\lib\\site-packages\\category_encoders\\target_encoder.py:127: FutureWarning: Default parameter smoothing will change in version 2.6.See https://github.com/scikit-learn-contrib/category_encoders/issues/327\n",
      "  warnings.warn(\"Default parameter smoothing will change in version 2.6.\"\n"
     ]
    },
    {
     "name": "stdout",
     "output_type": "stream",
     "text": [
      "--- Features encoding performed in 33.122833013534546 seconds ---\n"
     ]
    }
   ],
   "source": [
    "import time\n",
    "from my_libs.encoder_custom import EncoderCustom\n",
    "\n",
    "start_time = time.time()\n",
    "\n",
    "# cols_target_encoded = ['dep', 'age']\n",
    "cols_target_encoded = []\n",
    "cols_onehot_encoded = X_train.columns.drop(cols_target_encoded)\n",
    "\n",
    "encoder = EncoderCustom(cols_target_encoded=cols_target_encoded, cols_onehot_encoded=cols_onehot_encoded)\n",
    "\n",
    "X_train_enc, y_train_enc = encoder.transform(X_train, y_train, 'Train')\n",
    "X_test_enc,  y_test_enc  = encoder.transform(X_test,  y_test,  'Test')\n",
    "\n",
    "print(\"--- Features encoding performed in %s seconds ---\" % (time.time() - start_time))"
   ],
   "metadata": {
    "collapsed": false
   }
  },
  {
   "cell_type": "code",
   "execution_count": 8,
   "outputs": [
    {
     "name": "stdout",
     "output_type": "stream",
     "text": [
      "--- Model DecisionTreeClassifier fit and trained in 0.8502640724182129 seconds ---\n",
      "--- Params : {'max_depth': 11, 'criterion': 'gini', 'max_features': 'auto', 'min_samples_split': 4}\n"
     ]
    },
    {
     "data": {
      "text/plain": "Classe prédite      0     1\nClasse réelle              \n0               13164  2333\n1                2695  1769",
      "text/html": "<div>\n<style scoped>\n    .dataframe tbody tr th:only-of-type {\n        vertical-align: middle;\n    }\n\n    .dataframe tbody tr th {\n        vertical-align: top;\n    }\n\n    .dataframe thead th {\n        text-align: right;\n    }\n</style>\n<table border=\"1\" class=\"dataframe\">\n  <thead>\n    <tr style=\"text-align: right;\">\n      <th>Classe prédite</th>\n      <th>0</th>\n      <th>1</th>\n    </tr>\n    <tr>\n      <th>Classe réelle</th>\n      <th></th>\n      <th></th>\n    </tr>\n  </thead>\n  <tbody>\n    <tr>\n      <th>0</th>\n      <td>13164</td>\n      <td>2333</td>\n    </tr>\n    <tr>\n      <th>1</th>\n      <td>2695</td>\n      <td>1769</td>\n    </tr>\n  </tbody>\n</table>\n</div>"
     },
     "metadata": {},
     "output_type": "display_data"
    },
    {
     "name": "stdout",
     "output_type": "stream",
     "text": [
      "Classification report :\n",
      "              precision    recall  f1-score   support\n",
      "\n",
      "           0       0.83      0.85      0.84     15497\n",
      "           1       0.43      0.40      0.41      4464\n",
      "\n",
      "    accuracy                           0.75     19961\n",
      "   macro avg       0.63      0.62      0.63     19961\n",
      "weighted avg       0.74      0.75      0.74     19961\n",
      "\n"
     ]
    }
   ],
   "source": [
    "from my_libs.model_evaluator import ModelEvaluator\n",
    "\n",
    "# params_dt = {'max_depth': 15, 'criterion': 'entropy', 'max_features': 'auto', 'min_samples_split': 3}\n",
    "params_dt = {'max_depth': 11, 'criterion': 'gini', 'max_features': 'auto', 'min_samples_split': 4}\n",
    "\n",
    "model_type = 'DecisionTreeClassifier'\n",
    "\n",
    "evaluator = ModelEvaluator(model_type=model_type, params=params_dt, X_train=X_train_enc, y_train=y_train_enc, X_test=X_test_enc, y_test=y_test_enc)\n",
    "evaluator.evaluate()"
   ],
   "metadata": {
    "collapsed": false
   }
  },
  {
   "cell_type": "code",
   "execution_count": 9,
   "outputs": [
    {
     "name": "stdout",
     "output_type": "stream",
     "text": [
      "--- Model RandomForestClassifier fit and trained in 30.897135257720947 seconds ---\n",
      "--- Params : {'criterion': 'gini', 'max_depth': 20, 'min_samples_split': 2, 'n_estimators': 50}\n"
     ]
    },
    {
     "data": {
      "text/plain": "Classe prédite      0     1\nClasse réelle              \n0               14450  1047\n1                2782  1682",
      "text/html": "<div>\n<style scoped>\n    .dataframe tbody tr th:only-of-type {\n        vertical-align: middle;\n    }\n\n    .dataframe tbody tr th {\n        vertical-align: top;\n    }\n\n    .dataframe thead th {\n        text-align: right;\n    }\n</style>\n<table border=\"1\" class=\"dataframe\">\n  <thead>\n    <tr style=\"text-align: right;\">\n      <th>Classe prédite</th>\n      <th>0</th>\n      <th>1</th>\n    </tr>\n    <tr>\n      <th>Classe réelle</th>\n      <th></th>\n      <th></th>\n    </tr>\n  </thead>\n  <tbody>\n    <tr>\n      <th>0</th>\n      <td>14450</td>\n      <td>1047</td>\n    </tr>\n    <tr>\n      <th>1</th>\n      <td>2782</td>\n      <td>1682</td>\n    </tr>\n  </tbody>\n</table>\n</div>"
     },
     "metadata": {},
     "output_type": "display_data"
    },
    {
     "name": "stdout",
     "output_type": "stream",
     "text": [
      "Classification report :\n",
      "              precision    recall  f1-score   support\n",
      "\n",
      "           0       0.84      0.93      0.88     15497\n",
      "           1       0.62      0.38      0.47      4464\n",
      "\n",
      "    accuracy                           0.81     19961\n",
      "   macro avg       0.73      0.65      0.68     19961\n",
      "weighted avg       0.79      0.81      0.79     19961\n",
      "\n"
     ]
    }
   ],
   "source": [
    "from my_libs.model_evaluator import ModelEvaluator\n",
    "\n",
    "# params_rf_old = {'n_estimators': 34, 'criterion': 'entropy', 'max_depth': 10, 'min_samples_split': 2}\n",
    "# params_rf = {'n_estimators': 57, 'criterion': 'entropy', 'max_depth': 39, 'min_samples_split': 4}\n",
    "params_rf = {'criterion': 'gini', 'max_depth': 20, 'min_samples_split': 2, 'n_estimators': 50}\n",
    "model_type = 'RandomForestClassifier'\n",
    "\n",
    "evaluator = ModelEvaluator(model_type=model_type, params=params_rf, X_train=X_train_enc, y_train=y_train_enc, X_test=X_test_enc, y_test=y_test_enc)\n",
    "evaluator.evaluate()"
   ],
   "metadata": {
    "collapsed": false
   }
  },
  {
   "cell_type": "code",
   "execution_count": 7,
   "outputs": [
    {
     "name": "stdout",
     "output_type": "stream",
     "text": [
      "--- Model GradientBoostingClassifier fit and trained in 267.24635767936707 seconds ---\n",
      "--- Params : {'learning_rate': 0.22, 'n_estimators': 51}\n"
     ]
    },
    {
     "data": {
      "text/plain": "Classe prédite      0     1\nClasse réelle              \n0               14328  1169\n1                2722  1742",
      "text/html": "<div>\n<style scoped>\n    .dataframe tbody tr th:only-of-type {\n        vertical-align: middle;\n    }\n\n    .dataframe tbody tr th {\n        vertical-align: top;\n    }\n\n    .dataframe thead th {\n        text-align: right;\n    }\n</style>\n<table border=\"1\" class=\"dataframe\">\n  <thead>\n    <tr style=\"text-align: right;\">\n      <th>Classe prédite</th>\n      <th>0</th>\n      <th>1</th>\n    </tr>\n    <tr>\n      <th>Classe réelle</th>\n      <th></th>\n      <th></th>\n    </tr>\n  </thead>\n  <tbody>\n    <tr>\n      <th>0</th>\n      <td>14328</td>\n      <td>1169</td>\n    </tr>\n    <tr>\n      <th>1</th>\n      <td>2722</td>\n      <td>1742</td>\n    </tr>\n  </tbody>\n</table>\n</div>"
     },
     "metadata": {},
     "output_type": "display_data"
    },
    {
     "name": "stdout",
     "output_type": "stream",
     "text": [
      "Classification report :\n",
      "              precision    recall  f1-score   support\n",
      "\n",
      "           0       0.84      0.92      0.88     15497\n",
      "           1       0.60      0.39      0.47      4464\n",
      "\n",
      "    accuracy                           0.81     19961\n",
      "   macro avg       0.72      0.66      0.68     19961\n",
      "weighted avg       0.79      0.81      0.79     19961\n",
      "\n"
     ]
    }
   ],
   "source": [
    "from my_libs.model_evaluator import ModelEvaluator\n",
    "\n",
    "best_params = {'learning_rate': 0.22, 'n_estimators': 51}\n",
    "model_type = 'GradientBoostingClassifier'\n",
    "\n",
    "evaluator = ModelEvaluator(model_type=model_type, params=best_params, X_train=X_train_enc, y_train=y_train_enc, X_test=X_test_enc, y_test=y_test_enc)\n",
    "evaluator.evaluate()"
   ],
   "metadata": {
    "collapsed": false
   }
  }
 ],
 "metadata": {
  "kernelspec": {
   "display_name": "Python 3",
   "language": "python",
   "name": "python3"
  },
  "language_info": {
   "codemirror_mode": {
    "name": "ipython",
    "version": 2
   },
   "file_extension": ".py",
   "mimetype": "text/x-python",
   "name": "python",
   "nbconvert_exporter": "python",
   "pygments_lexer": "ipython2",
   "version": "2.7.6"
  }
 },
 "nbformat": 4,
 "nbformat_minor": 0
}
