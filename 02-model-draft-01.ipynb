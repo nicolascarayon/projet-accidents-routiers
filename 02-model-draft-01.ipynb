{
 "cells": [
  {
   "cell_type": "code",
   "execution_count": 5,
   "id": "8cce295d",
   "metadata": {},
   "outputs": [],
   "source": [
    "import pandas as pd\n",
    "import numpy as np\n",
    "import lib_tools as pt # Project Tools\n",
    "\n",
    "# Complete\n",
    "# start_year, end_year, chk, sampled = [2005, 2021, True, False]\n",
    "\n",
    "# Quick\n",
    "start_year, end_year, chk, sampled = [2018, 2020, False, True]\n",
    "\n",
    "\n",
    "df = pt.load_proj_df(start_year, end_year, chk, sampled)"
   ]
  },
  {
   "cell_type": "code",
   "execution_count": 2,
   "id": "54965c09",
   "metadata": {},
   "outputs": [
    {
     "data": {
      "text/plain": [
       "231318"
      ]
     },
     "execution_count": 2,
     "metadata": {},
     "output_type": "execute_result"
    }
   ],
   "source": [
    "df.shape[0]"
   ]
  }
 ],
 "metadata": {
  "kernelspec": {
   "display_name": "Python 3 (ipykernel)",
   "language": "python",
   "name": "python3"
  },
  "language_info": {
   "codemirror_mode": {
    "name": "ipython",
    "version": 3
   },
   "file_extension": ".py",
   "mimetype": "text/x-python",
   "name": "python",
   "nbconvert_exporter": "python",
   "pygments_lexer": "ipython3",
   "version": "3.9.13"
  }
 },
 "nbformat": 4,
 "nbformat_minor": 5
}
