{
 "cells": [
  {
   "cell_type": "code",
   "execution_count": 3,
   "outputs": [],
   "source": [
    "import pandas as pd\n",
    "import lib_tools as pt # Project Tools\n",
    "from time import time\n",
    "\n",
    "quick = True\n",
    "\n",
    "if quick:\n",
    "    start_year, end_year, chk, sampled = [2005, 2021, True, True]\n",
    "else:\n",
    "    start_year, end_year, chk, sampled = [2005, 2021, True, False]"
   ],
   "metadata": {
    "collapsed": false
   }
  },
  {
   "cell_type": "code",
   "execution_count": 4,
   "id": "8cce295d",
   "metadata": {},
   "outputs": [],
   "source": [
    "# df = pt.load_proj_df(start_year, end_year, chk, sampled)\n",
    "#\n",
    "# df.to_pickle(\"./project_df.pkl\")"
   ]
  },
  {
   "cell_type": "code",
   "execution_count": 5,
   "outputs": [
    {
     "name": "stdout",
     "output_type": "stream",
     "text": [
      "Column jour has been target encoded\n",
      "Column age has been target encoded\n",
      "Column dep has been target encoded\n",
      "Column place has been dummies encoded\n",
      "Column catu has been dummies encoded\n",
      "Column sexe has been dummies encoded\n",
      "Column trajet has been dummies encoded\n",
      "Column locp has been dummies encoded\n",
      "Column actp has been dummies encoded\n",
      "Column etatp has been dummies encoded\n",
      "Column mois has been dummies encoded\n",
      "Column lum has been dummies encoded\n",
      "Column agg has been dummies encoded\n",
      "Column int has been dummies encoded\n",
      "Column atm has been dummies encoded\n",
      "Column col has been dummies encoded\n",
      "Column catr has been dummies encoded\n",
      "Column circ has been dummies encoded\n",
      "Column nbv has been dummies encoded\n",
      "Column vosp has been dummies encoded\n",
      "Column prof has been dummies encoded\n",
      "Column plan has been dummies encoded\n",
      "Column surf has been dummies encoded\n",
      "Column infra has been dummies encoded\n",
      "Column situ has been dummies encoded\n",
      "Column senc has been dummies encoded\n",
      "Column catv has been dummies encoded\n",
      "Column joursem has been dummies encoded\n"
     ]
    }
   ],
   "source": [
    "df = pd.read_pickle(\"./project_df.pkl\")\n",
    "\n",
    "data = df.iloc[:, 1:]\n",
    "target = df['grav']\n",
    "\n",
    "col_target_encoded = ['jour', 'age', 'dep']\n",
    "\n",
    "# target encoding for features with lots of modalities\n",
    "for col in col_target_encoded:\n",
    "    data = pt.encode_target_col(data, col, target, chk)\n",
    "\n",
    "# hot encoding for other columns\n",
    "for col in data.columns:\n",
    "    if not (col in col_target_encoded):\n",
    "        if col in data.columns:\n",
    "            data = pt.encode_dummies_col(data, col, chk)"
   ],
   "metadata": {
    "collapsed": false
   }
  },
  {
   "cell_type": "markdown",
   "source": [
    "### Train test split + Normalization"
   ],
   "metadata": {
    "collapsed": false
   }
  },
  {
   "cell_type": "code",
   "execution_count": 6,
   "outputs": [],
   "source": [
    "from sklearn.model_selection import train_test_split\n",
    "from sklearn.preprocessing import StandardScaler\n",
    "\n",
    "X_train, X_test, y_train, y_test = train_test_split(data, target, test_size=0.2, random_state=222)\n",
    "\n",
    "# normalisation (only for non categorical variables)\n",
    "cols = col_target_encoded\n",
    "sc = StandardScaler()\n",
    "X_train[cols] = sc.fit_transform(X_train[cols])\n",
    "X_test[cols] = sc.transform(X_test[cols])"
   ],
   "metadata": {
    "collapsed": false
   }
  },
  {
   "cell_type": "markdown",
   "source": [
    "### UnderSampler"
   ],
   "metadata": {
    "collapsed": false
   }
  },
  {
   "cell_type": "code",
   "execution_count": 7,
   "outputs": [],
   "source": [
    "from imblearn.under_sampling import RandomUnderSampler\n",
    "\n",
    "undersampling = False\n",
    "\n",
    "if undersampling:\n",
    "    # Random Undersampling\n",
    "    rUs = RandomUnderSampler()\n",
    "    # X_ru, y_ru = rUs.fit_resample(X_train, y_train)\n",
    "    X_train, y_train = rUs.fit_resample(X_train, y_train)\n",
    "    # print('Classes échantillon undersampled :', y_ru.value_counts())\n",
    "    print('Classes échantillon undersampled :', y_train.value_counts())"
   ],
   "metadata": {
    "collapsed": false
   }
  },
  {
   "cell_type": "markdown",
   "source": [
    "### Balanced Random Forest"
   ],
   "metadata": {
    "collapsed": false
   }
  },
  {
   "cell_type": "code",
   "execution_count": 8,
   "outputs": [
    {
     "name": "stdout",
     "output_type": "stream",
     "text": [
      "\n",
      "Classifieur Balanced Random Forest:\n",
      "\n",
      "col_0      0     1\n",
      "row_0             \n",
      "0      11226  4290\n",
      "1       1000  3442\n",
      "                   pre       rec       spe        f1       geo       iba       sup\n",
      "\n",
      "          0       0.92      0.72      0.77      0.81      0.75      0.56     15516\n",
      "          1       0.45      0.77      0.72      0.57      0.75      0.56      4442\n",
      "\n",
      "avg / total       0.81      0.73      0.76      0.76      0.75      0.56     19958\n",
      "\n",
      "Réalisé en 15.936 secondes\n"
     ]
    }
   ],
   "source": [
    "from imblearn.metrics import classification_report_imbalanced\n",
    "from imblearn.ensemble import BalancedRandomForestClassifier\n",
    "\n",
    "t0 = time()\n",
    "\n",
    "# Classifieur Balanced Random Forest\n",
    "model = BalancedRandomForestClassifier()\n",
    "\n",
    "model.fit(X_train, y_train.values)\n",
    "y_pred = model.predict(X_test)\n",
    "print(\"\\nClassifieur Balanced Random Forest:\\n\")\n",
    "print(pd.crosstab(y_test.values, y_pred))\n",
    "print(classification_report_imbalanced(y_test, y_pred))\n",
    "\n",
    "tt = time() - t0\n",
    "print(\"Réalisé en {} secondes\".format(round(tt,3)))"
   ],
   "metadata": {
    "collapsed": false
   }
  },
  {
   "cell_type": "markdown",
   "source": [
    "### Decision Tree"
   ],
   "metadata": {
    "collapsed": false
   }
  },
  {
   "cell_type": "code",
   "execution_count": 9,
   "outputs": [
    {
     "name": "stdout",
     "output_type": "stream",
     "text": [
      "\n",
      "Decision Tree:\n",
      "\n",
      "col_0      0     1\n",
      "row_0             \n",
      "0      12725  2791\n",
      "1       2456  1986\n",
      "                   pre       rec       spe        f1       geo       iba       sup\n",
      "\n",
      "          0       0.84      0.82      0.45      0.83      0.61      0.38     15516\n",
      "          1       0.42      0.45      0.82      0.43      0.61      0.35      4442\n",
      "\n",
      "avg / total       0.74      0.74      0.53      0.74      0.61      0.37     19958\n",
      "\n",
      "Réalisé en 2.617 secondes\n"
     ]
    }
   ],
   "source": [
    "from sklearn.tree import DecisionTreeClassifier\n",
    "\n",
    "t0 = time()\n",
    "\n",
    "model = DecisionTreeClassifier()\n",
    "\n",
    "model.fit(X_train, y_train.values.ravel())\n",
    "y_pred = model.predict(X_test)\n",
    "\n",
    "print(\"\\nDecision Tree:\\n\")\n",
    "print(pd.crosstab(y_test.values, y_pred))\n",
    "print(classification_report_imbalanced(y_test, y_pred))\n",
    "\n",
    "tt = time() - t0\n",
    "print(\"Réalisé en {} secondes\".format(round(tt,3)))"
   ],
   "metadata": {
    "collapsed": false
   }
  },
  {
   "cell_type": "markdown",
   "source": [
    "### Support Vector Machine"
   ],
   "metadata": {
    "collapsed": false
   }
  },
  {
   "cell_type": "code",
   "execution_count": 10,
   "outputs": [
    {
     "name": "stderr",
     "output_type": "stream",
     "text": [
      "C:\\ProgramData\\Anaconda3\\lib\\site-packages\\sklearn\\svm\\_base.py:284: ConvergenceWarning: Solver terminated early (max_iter=1000).  Consider pre-processing your data with StandardScaler or MinMaxScaler.\n",
      "  warnings.warn(\n"
     ]
    },
    {
     "name": "stdout",
     "output_type": "stream",
     "text": [
      "\n",
      "Classifieur SVM:\n",
      "\n",
      "col_0      0     1\n",
      "row_0             \n",
      "0      11638  3878\n",
      "1       2558  1884\n",
      "                   pre       rec       spe        f1       geo       iba       sup\n",
      "\n",
      "          0       0.82      0.75      0.42      0.78      0.56      0.33     15516\n",
      "          1       0.33      0.42      0.75      0.37      0.56      0.31      4442\n",
      "\n",
      "avg / total       0.71      0.68      0.50      0.69      0.56      0.32     19958\n",
      "\n",
      "Réalisé en 39.692 secondes\n"
     ]
    }
   ],
   "source": [
    "from sklearn.svm import SVC\n",
    "\n",
    "t0 = time()\n",
    "\n",
    "model = SVC(gamma='scale', max_iter=1000)\n",
    "\n",
    "model.fit(X_train, y_train.values.ravel())\n",
    "y_pred = model.predict(X_test)\n",
    "\n",
    "print(\"\\nClassifieur SVM:\\n\")\n",
    "print(pd.crosstab(y_test.values, y_pred))\n",
    "print(classification_report_imbalanced(y_test, y_pred))\n",
    "\n",
    "tt = time() - t0\n",
    "print(\"Réalisé en {} secondes\".format(round(tt,3)))"
   ],
   "metadata": {
    "collapsed": false
   }
  }
 ],
 "metadata": {
  "kernelspec": {
   "display_name": "Python 3 (ipykernel)",
   "language": "python",
   "name": "python3"
  },
  "language_info": {
   "codemirror_mode": {
    "name": "ipython",
    "version": 3
   },
   "file_extension": ".py",
   "mimetype": "text/x-python",
   "name": "python",
   "nbconvert_exporter": "python",
   "pygments_lexer": "ipython3",
   "version": "3.9.13"
  }
 },
 "nbformat": 4,
 "nbformat_minor": 5
}
