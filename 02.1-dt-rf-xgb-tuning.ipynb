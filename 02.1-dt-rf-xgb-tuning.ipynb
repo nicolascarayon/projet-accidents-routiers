{
 "cells": [
  {
   "cell_type": "code",
   "execution_count": null,
   "metadata": {
    "collapsed": true
   },
   "outputs": [],
   "source": [
    "import pandas as pd\n",
    "\n",
    "run_gridSearchCV = True  # run or not hyperparameters optimization with GridSearchCV()\n",
    "run_optuna = True        # run or not hyperparameters optimization with Optuna\n",
    "\n",
    "# filename = 'df-very-light.pkl'\n",
    "filename = 'df-light.pkl'\n",
    "# filename = 'df-full.pkl'\n",
    "\n",
    "# classifier_name = 'DecisionTreeClassifier'\n",
    "# classifier_name = 'RandomForestClassifier'\n",
    "# classifier_name = 'GradientBoostingClassifier'\n",
    "\n",
    "df = pd.read_pickle(f'./{filename}')\n",
    "data = df.iloc[:, 1:]\n",
    "target = df['grav']\n",
    "\n",
    "data = data.drop(columns=['an'],axis=1)\n",
    "data = data[['catv', 'agg', 'dep', 'col', 'catr', 'catu', 'trajet', 'locp', 'circ', 'situ', 'lum', 'age_cls']]\n",
    "\n",
    "from sklearn.model_selection import train_test_split\n",
    "X_train, X_test, y_train, y_test = train_test_split(data, target, test_size=0.2, random_state=222)"
   ]
  },
  {
   "cell_type": "code",
   "execution_count": null,
   "outputs": [],
   "source": [
    "import time\n",
    "from my_libs.encoder_custom import EncoderCustom\n",
    "\n",
    "cols_target_encoded = ['dep']\n",
    "cols_onehot_encoded = X_train.columns.drop(cols_target_encoded)\n",
    "\n",
    "encoder = EncoderCustom(cols_target_encoded=cols_target_encoded, cols_onehot_encoded=cols_onehot_encoded)\n",
    "X_train, y_train = encoder.transform(X_train, y_train, 'Train')\n",
    "X_test,  y_test  = encoder.transform(X_test,  y_test,  'Test')"
   ],
   "metadata": {
    "collapsed": false
   }
  },
  {
   "cell_type": "code",
   "execution_count": null,
   "outputs": [],
   "source": [
    "import optuna\n",
    "from sklearn.tree import DecisionTreeClassifier\n",
    "from sklearn.ensemble import RandomForestClassifier\n",
    "from sklearn.ensemble import GradientBoostingClassifier\n",
    "from sklearn.model_selection import cross_val_score\n",
    "\n",
    "if run_optuna:\n",
    "\n",
    "    # if classifier_name == 'DecisionTreeClassifier': n_trials = 100\n",
    "    # if classifier_name == 'RandomForestClassifier': n_trials = 10\n",
    "    # if classifier_name == 'GradientBoostingClassifier': n_trials = 3\n",
    "    n_trials = 50\n",
    "    start_time = time.time()\n",
    "\n",
    "    # 1. Define an objective function to be maximized.\n",
    "    def objective(trial):\n",
    "\n",
    "        # 2. Suggest values for the hyperparameters using a trial object.\n",
    "        classifier_name = trial.suggest_categorical('classifier', ['DecisionTreeClassifier', 'RandomForestClassifier', 'GradientBoostingClassifier'])\n",
    "        if classifier_name == 'DecisionTreeClassifier':\n",
    "            dt_max_depth         = trial.suggest_int('max_depth', 2, 50, log=True)\n",
    "            dt_min_samples_split = trial.suggest_int('min_samples_split', 2, 6)\n",
    "            classifier_obj = DecisionTreeClassifier(max_depth=dt_max_depth, min_samples_split=dt_min_samples_split)\n",
    "        else:\n",
    "            if classifier_name == 'RandomForestClassifier':\n",
    "                dt_n_estimators      = trial.suggest_int('n_estimators', 5, 50)\n",
    "                dt_criterion         = trial.suggest_categorical('criterion', ['gini', 'entropy'])\n",
    "                classifier_obj = RandomForestClassifier(n_estimators=dt_n_estimators, criterion=dt_criterion)\n",
    "            else:\n",
    "                if classifier_name == 'GradientBoostingClassifier':\n",
    "                    dt_learning_rate = trial.suggest_float('learning_rate', 0.001, 1, log=True)\n",
    "                    dt_n_estimators  = trial.suggest_int('n_estimators ', 1, 30, log=True)\n",
    "                    classifier_obj = GradientBoostingClassifier(learning_rate=dt_learning_rate, n_estimators=dt_n_estimators)\n",
    "\n",
    "\n",
    "        score = cross_val_score(classifier_obj, X_train, y_train, cv=3, scoring=\"f1\", verbose=1)\n",
    "        accuracy = score.mean()\n",
    "\n",
    "        return accuracy\n",
    "\n",
    "    # 3. Create a study object and optimize the objective function.\n",
    "    study = optuna.create_study(direction='maximize')\n",
    "    study.optimize(objective, n_trials=n_trials)\n",
    "\n",
    "    print(f\"--- {classifier_name} - Optimization with Optuna performed in %s seconds ---\" % (time.time() - start_time))\n",
    "    print(f\"Best params : {study.best_params}\")\n",
    "\n",
    "    # fig = optuna.visualization.plot_param_importances(study)\n",
    "    # fig.show()"
   ],
   "metadata": {
    "collapsed": false
   }
  },
  {
   "cell_type": "code",
   "execution_count": null,
   "outputs": [],
   "source": [
    "from my_libs.model_evaluator import ModelEvaluator\n",
    "\n",
    "params = study.best_params\n",
    "model_type = params['classifier']\n",
    "params.pop('classifier')\n",
    "\n",
    "evaluator = ModelEvaluator(model_type=model_type, params=params, X_train=X_train, y_train=y_train, X_test=X_test, y_test=y_test)\n",
    "model = evaluator.evaluate()"
   ],
   "metadata": {
    "collapsed": false
   }
  },
  {
   "cell_type": "code",
   "execution_count": null,
   "outputs": [],
   "source": [
    "import time\n",
    "from sklearn.tree import DecisionTreeClassifier\n",
    "from sklearn.ensemble import RandomForestClassifier, GradientBoostingClassifier\n",
    "from sklearn.model_selection import GridSearchCV\n",
    "from sklearn.metrics import classification_report\n",
    "\n",
    "if run_gridSearchCV:\n",
    "\n",
    "    classifier_name = 'GradientBoostingClassifier'\n",
    "\n",
    "    start_time = time.time()\n",
    "\n",
    "    if classifier_name == 'DecisionTreeClassifier':\n",
    "        model = DecisionTreeClassifier()\n",
    "        params = {'max_depth' : [2, 10, 30, 50],\n",
    "                  'min_samples_split' : [2,4,6]\n",
    "                  }\n",
    "\n",
    "    if classifier_name == 'RandomForestClassifier':\n",
    "        model = RandomForestClassifier()\n",
    "        params = {'n_estimators' : [5,10,25,50],\n",
    "                  'criterion' : ('gini', 'entropy'),\n",
    "        }\n",
    "\n",
    "    if classifier_name == 'GradientBoostingClassifier':\n",
    "        model = GradientBoostingClassifier()\n",
    "        params = {'learning_rate' : [0.001, 0.01, 1],\n",
    "                  'n_estimators' : [2, 15, 30]\n",
    "                  }\n",
    "\n",
    "    grid = GridSearchCV(estimator=model, param_grid=params, cv = 3, verbose=2, scoring=\"f1\")\n",
    "    grid.fit(X_train, y_train)\n",
    "\n",
    "    print(f\"\\n--- {classifier_name} - Optimization with GridSearchCV performed in %s seconds ---\" % (time.time() - start_time))\n",
    "    print(f\"Grid search params : {params}\")\n",
    "    print(f\"Best params : {grid.best_params_}\")\n",
    "\n",
    "    from my_libs.model_evaluator import ModelEvaluator\n",
    "    evaluator = ModelEvaluator(model_type=classifier_name, params=grid.best_params_, X_train=X_train, y_train=y_train, X_test=X_test, y_test=y_test)\n",
    "\n",
    "    # feats = {}\n",
    "    # for feature, importance in zip(X_train.columns, grid.best_estimator_.feature_importances_):\n",
    "    #     feats[feature] = importance\n",
    "    #\n",
    "    # importances = pd.DataFrame.from_dict(feats, orient='index').rename(columns={0: 'Gini-importance'})\n",
    "    #\n",
    "    # # variables les plus importantes\n",
    "    # importances.sort_values(by='Gini-importance', ascending=False).head(20)"
   ],
   "metadata": {
    "collapsed": false
   }
  }
 ],
 "metadata": {
  "kernelspec": {
   "display_name": "Python 3",
   "language": "python",
   "name": "python3"
  },
  "language_info": {
   "codemirror_mode": {
    "name": "ipython",
    "version": 2
   },
   "file_extension": ".py",
   "mimetype": "text/x-python",
   "name": "python",
   "nbconvert_exporter": "python",
   "pygments_lexer": "ipython2",
   "version": "2.7.6"
  }
 },
 "nbformat": 4,
 "nbformat_minor": 0
}
