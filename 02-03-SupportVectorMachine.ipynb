{
 "cells": [
  {
   "cell_type": "code",
   "execution_count": 1,
   "metadata": {
    "collapsed": true
   },
   "outputs": [],
   "source": [
    "import pandas as pd\n",
    "\n",
    "quick = True\n",
    "\n",
    "if quick:\n",
    "    start_year, end_year, chk, sampled, filename = [2005, 2021, False, True, 'df-light.pkl']\n",
    "else:\n",
    "    start_year, end_year, chk, sampled, filename = [2005, 2021, True, False, 'df-full.pkl']\n",
    "\n",
    "from sklearn.model_selection import train_test_split\n",
    "\n",
    "df = pd.read_pickle(f'./{filename}')\n",
    "df = df.sample(10000)\n",
    "data = df.iloc[:, 1:]\n",
    "target = df['grav']\n",
    "\n",
    "X_train, X_test, y_train, y_test = train_test_split(data, target, test_size=0.2, random_state=222)"
   ]
  },
  {
   "cell_type": "code",
   "execution_count": 7,
   "outputs": [
    {
     "name": "stdout",
     "output_type": "stream",
     "text": [
      "Fitting 3 folds for each of 2 candidates, totalling 6 fits\n",
      "[CV 1/3; 1/2] START C=100.......................................................\n",
      "[CV 1/3; 1/2] END ........................C=100;, score=0.714 total time=  12.2s\n",
      "[CV 2/3; 1/2] START C=100.......................................................\n",
      "[CV 2/3; 1/2] END ........................C=100;, score=0.726 total time=  15.4s\n",
      "[CV 3/3; 1/2] START C=100.......................................................\n",
      "[CV 3/3; 1/2] END ........................C=100;, score=0.711 total time=  13.5s\n",
      "[CV 1/3; 2/2] START C=1000......................................................\n",
      "[CV 1/3; 2/2] END .......................C=1000;, score=0.715 total time=  53.9s\n",
      "[CV 2/3; 2/2] START C=1000......................................................\n",
      "[CV 2/3; 2/2] END .......................C=1000;, score=0.733 total time= 1.4min\n",
      "[CV 3/3; 2/2] START C=1000......................................................\n",
      "[CV 3/3; 2/2] END .......................C=1000;, score=0.721 total time= 1.1min\n",
      "Best score  :  0.7230522088353414\n",
      "Best params :  {'C': 1000}\n",
      "                   pre       rec       spe        f1       geo       iba       sup\n",
      "\n",
      "          0       0.66      0.71      0.63      0.68      0.67      0.45      1545\n",
      "          1       0.68      0.63      0.71      0.66      0.67      0.44      1545\n",
      "\n",
      "avg / total       0.67      0.67      0.67      0.67      0.67      0.45      3090\n",
      "\n",
      "--- performed in 403.7109718322754 seconds ---\n"
     ]
    }
   ],
   "source": [
    "from sklearn.svm import SVC\n",
    "from sklearn.model_selection import GridSearchCV\n",
    "from sklearn.preprocessing import StandardScaler, MinMaxScaler\n",
    "from sklearn.feature_selection import SelectKBest\n",
    "from category_encoders import TargetEncoder, OneHotEncoder\n",
    "from imblearn.over_sampling import SMOTE, RandomOverSampler\n",
    "from imblearn.under_sampling import RandomUnderSampler\n",
    "from imblearn.metrics import classification_report_imbalanced\n",
    "import time\n",
    "\n",
    "start_time = time.time()\n",
    "\n",
    "cols_target_encoded = ['dep', 'age']\n",
    "cols_onehot_encoded = X_train.columns.drop(cols_target_encoded)\n",
    "scaler              = StandardScaler()\n",
    "selector            = SelectKBest()\n",
    "\n",
    "encoder_target = TargetEncoder(cols=cols_target_encoded)\n",
    "encoder_onehot = OneHotEncoder(cols=cols_onehot_encoded)\n",
    "sampler        = SMOTE(random_state=42)\n",
    "# sampler        = RandomUnderSampler()\n",
    "# sampler        = RandomOverSampler()\n",
    "model          = SVC()\n",
    "\n",
    "\n",
    "X_train_te = encoder_target.fit_transform(X_train, y_train)\n",
    "X_test_te  = encoder_target.transform(X_test)\n",
    "\n",
    "X_train_oh = encoder_onehot.fit_transform(X_train_te, y_train)\n",
    "X_test_oh  = encoder_onehot.transform(X_test_te)\n",
    "\n",
    "X_train_sc = pd.DataFrame(scaler.fit_transform(X_train_oh), columns=X_train_oh.columns)\n",
    "X_test_sc  = pd.DataFrame(scaler.transform(X_test_oh), columns=X_test_oh.columns)\n",
    "\n",
    "X_train_sel = selector.fit_transform(X_train_sc, y_train)\n",
    "X_train_sel = pd.DataFrame(X_train_sel, columns=selector.get_feature_names_out())\n",
    "X_test_sel  = pd.DataFrame(selector.transform(X_test_sc), columns=selector.get_feature_names_out())\n",
    "\n",
    "X_train_rs, y_train_rs = sampler.fit_resample(X_train_sel, y_train)\n",
    "X_test_rs, y_test_rs   = sampler.fit_resample(X_test_sel, y_test)\n",
    "\n",
    "params = {\n",
    "    'C' : [10, 100],\n",
    "    # 'kernel' : ('rbf', 'linear', 'poly'),\n",
    "    # 'gamma' : (0.01, 0.1, 0.5)\n",
    "}\n",
    "\n",
    "grid = GridSearchCV(estimator=model, param_grid=params, cv = 3, verbose=10)\n",
    "grid.fit(X_train_rs, y_train_rs)\n",
    "\n",
    "print('Best score  : ', grid.best_score_)\n",
    "print('Best params : ', grid.best_params_)\n",
    "\n",
    "y_pred = grid.predict(X_test_rs)\n",
    "print(classification_report_imbalanced(y_test_rs, y_pred))\n",
    "\n",
    "print(\"--- performed in %s seconds ---\" % (time.time() - start_time))"
   ],
   "metadata": {
    "collapsed": false
   }
  }
 ],
 "metadata": {
  "kernelspec": {
   "display_name": "Python 3",
   "language": "python",
   "name": "python3"
  },
  "language_info": {
   "codemirror_mode": {
    "name": "ipython",
    "version": 2
   },
   "file_extension": ".py",
   "mimetype": "text/x-python",
   "name": "python",
   "nbconvert_exporter": "python",
   "pygments_lexer": "ipython2",
   "version": "2.7.6"
  }
 },
 "nbformat": 4,
 "nbformat_minor": 0
}
