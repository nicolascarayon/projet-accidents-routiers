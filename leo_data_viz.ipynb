{
 "cells": [
  {
   "cell_type": "code",
   "execution_count": null,
   "id": "f1f3d05f",
   "metadata": {},
   "outputs": [],
   "source": [
    "%matplotlib inline\n",
    "import numpy as np\n",
    "import pandas as pd\n",
    "import matplotlib.pyplot as plt\n",
    "import seaborn as sns\n",
    "from load_data import load_caract, load_lieux, load_usagers, load_vehicules\n",
    "sns.set()"
   ]
  },
  {
   "cell_type": "code",
   "execution_count": null,
   "id": "e587160f",
   "metadata": {},
   "outputs": [],
   "source": [
    "def load_data():\n",
    "    base = {}\n",
    "    for i in range(2009, 2022):\n",
    "        base[i] = pd.read_csv(\"data/{year}.csv\".format(year=i), sep=\";\")\n",
    "        \n",
    "    for i in range(2009, 2022):\n",
    "        df[i] = pd.read_csv(\"data/{year}.csv\".format(year=i), sep=\";\")\n",
    "    \n",
    "    return df[2016]\n",
    "\n",
    "caract = load_caract(\"data/\", 2005, 2021)\n",
    "vehic = load_vehicules(\"data/\", 2005, 2021)\n",
    "usagers = load_usagers(\"data/\", 2005, 2021)\n",
    "lieux = load_lieux(\"data/\", 2005, 2021)"
   ]
  },
  {
   "cell_type": "code",
   "execution_count": null,
   "id": "adefbd28",
   "metadata": {},
   "outputs": [],
   "source": [
    "lieux[2017].head()"
   ]
  },
  {
   "cell_type": "code",
   "execution_count": null,
   "id": "71ac350d",
   "metadata": {},
   "outputs": [],
   "source": [
    "caract[2017].head()"
   ]
  },
  {
   "cell_type": "code",
   "execution_count": null,
   "id": "c301eafa",
   "metadata": {},
   "outputs": [],
   "source": [
    "usagers[2017].head()"
   ]
  },
  {
   "cell_type": "code",
   "execution_count": null,
   "id": "1d73ed75",
   "metadata": {},
   "outputs": [],
   "source": [
    "vehic[2017].head()"
   ]
  },
  {
   "cell_type": "code",
   "execution_count": null,
   "id": "52fc887d",
   "metadata": {},
   "outputs": [],
   "source": [
    "Y = [caract[i][\"Num_Acc\"].nunique() for i in range(2005, 2022)]\n",
    "Y #nombre total d'accidents par année"
   ]
  },
  {
   "cell_type": "code",
   "execution_count": null,
   "id": "917e3db3",
   "metadata": {},
   "outputs": [],
   "source": [
    "moy = sum(caract[i][\"Num_Acc\"].nunique() for i in [2013, 2014, 2015, 2016, 2017, 2018, 2019, 2021])\n",
    "moy /= 8\n",
    "moy #moyenne sur les années 2013 à 2021 (sans compter 2020 à cause du confinement)"
   ]
  },
  {
   "cell_type": "code",
   "execution_count": null,
   "id": "c85e1837",
   "metadata": {},
   "outputs": [],
   "source": [
    "plt.figure(figsize=(10,7))\n",
    "plt.plot((2012.6, 2021.4), (moy, moy), lw=2.5, alpha=0.75, color='firebrick')\n",
    "plt.bar(range(2005, 2022), Y, color='cornflowerblue', width=0.8)\n",
    "plt.title(\"Nombre d'accidents par an\")\n",
    "plt.xlabel(\"Année\")\n",
    "plt.ylabel(\"Nombre\")\n",
    "plt.xticks(range(2005, 2022), rotation='30')\n",
    "plt.text(2018.5, moy*1.025, \"Moyenne locale\", color='firebrick', fontsize=11);"
   ]
  },
  {
   "cell_type": "code",
   "execution_count": null,
   "id": "31500437",
   "metadata": {},
   "outputs": [],
   "source": [
    "M=[]\n",
    "for y in range(2005, 2022):\n",
    "        M.append(caract[y].sort_values(by=[\"mois\"]).value_counts(subset=[\"mois\"], sort=False))\n",
    "M = sum(M)\n",
    "M #nombre total d'accidents par mois sur la période 2005-2021"
   ]
  },
  {
   "cell_type": "code",
   "execution_count": null,
   "id": "e23d320d",
   "metadata": {},
   "outputs": [],
   "source": [
    "moy = sum(M)/12\n",
    "moy #moyenne du nombre d'accidents mensuel"
   ]
  },
  {
   "cell_type": "code",
   "execution_count": null,
   "id": "8f79abf6",
   "metadata": {},
   "outputs": [],
   "source": [
    "plt.figure(figsize=(10,7))\n",
    "plt.plot((0.6, 12.4), (moy, moy), lw=2.5, alpha=0.75, color='firebrick')\n",
    "plt.bar(range(1, 13), M, color='cornflowerblue', width=0.8)\n",
    "plt.title(\"Nombre total d'accidents\")\n",
    "plt.xlabel(\"Mois\")\n",
    "plt.ylabel(\"Nombre\")\n",
    "plt.xticks(range(1, 13))\n",
    "plt.text(0.6, moy*1.025 , \"Moyenne\", color='firebrick', fontsize=11);"
   ]
  },
  {
   "cell_type": "code",
   "execution_count": null,
   "id": "eff53c05",
   "metadata": {},
   "outputs": [],
   "source": [
    "M_moy = M\n",
    "M_moy[1] /= 31\n",
    "M_moy[2] /= 28\n",
    "M_moy[3] /= 31\n",
    "M_moy[4] /= 30\n",
    "M_moy[5] /= 31\n",
    "M_moy[6] /= 30\n",
    "M_moy[7] /= 31\n",
    "M_moy[8] /= 31\n",
    "M_moy[9] /= 30\n",
    "M_moy[10] /= 31\n",
    "M_moy[11] /= 30\n",
    "M_moy[12] /= 31\n",
    "M_moy"
   ]
  },
  {
   "cell_type": "code",
   "execution_count": null,
   "id": "9849f2bf",
   "metadata": {},
   "outputs": [],
   "source": [
    "moy = sum(M_moy)/12\n",
    "moy"
   ]
  },
  {
   "cell_type": "code",
   "execution_count": null,
   "id": "6e4bbd41",
   "metadata": {},
   "outputs": [],
   "source": [
    "plt.figure(figsize=(10,7))\n",
    "plt.plot((0.6, 12.4), (moy, moy), lw=2.5, alpha=0.75, color='firebrick')\n",
    "plt.bar(range(1, 13), M_moy, color='cornflowerblue', width=0.8)\n",
    "plt.title(\"Nombre quotidien d'accidents\")\n",
    "plt.xlabel(\"Mois\")\n",
    "plt.ylabel(\"Nombre\")\n",
    "plt.xticks(range(1, 13))\n",
    "plt.text(0.6, moy*1.025 , \"Moyenne\", color='firebrick', fontsize=11);"
   ]
  },
  {
   "cell_type": "code",
   "execution_count": null,
   "id": "00fc3632",
   "metadata": {},
   "outputs": [],
   "source": [
    "M_2=[]\n",
    "for y in range(2005, 2022):\n",
    "        M_2.append(caract[y].sort_values(by=[\"mois\"]).value_counts(subset=[\"mois\"], sort=False))\n",
    "M_2[0]"
   ]
  },
  {
   "cell_type": "code",
   "execution_count": null,
   "id": "255c6060",
   "metadata": {},
   "outputs": [],
   "source": [
    "plt.figure(figsize=(10,8))\n",
    "for i in range(17):\n",
    "    plt.plot(range(1,13), M_2[i], label = i+2005)\n",
    "plt.xticks(range(1, 13))\n",
    "plt.title(\"Nombre d'accidents par mois\")\n",
    "plt.xlabel(\"Mois\")\n",
    "plt.ylabel(\"Nombre\")\n",
    "plt.legend(bbox_to_anchor=(1,0.8));"
   ]
  },
  {
   "cell_type": "code",
   "execution_count": null,
   "id": "bff2c67d",
   "metadata": {},
   "outputs": [],
   "source": [
    "plt.figure(figsize=(12,8))\n",
    "for i in range(17):\n",
    "    plt.plot(range(1+13*i,13+13*i), M_2[i])\n",
    "plt.xlim(0, 221)\n",
    "plt.xticks([0, 13, 26, 39, 52, 65, 78, 91, 104, 117, 130, 143, 156, 169, 182, 195, 208],\n",
    "          [2005, 2006, 2007, 2008, 2009, 2010, 2011, 2012, 2013, 2014, 2015, 2016, 2017, 2018, 2019, 2020, 2021],\n",
    "          ha = 'left')\n",
    "plt.title(\"Nombre d'accidents mensuel\")\n",
    "plt.xlabel(\"Année\")\n",
    "plt.ylabel(\"Nombre\");"
   ]
  }
 ],
 "metadata": {
  "kernelspec": {
   "display_name": "Python 3 (ipykernel)",
   "language": "python",
   "name": "python3"
  },
  "language_info": {
   "codemirror_mode": {
    "name": "ipython",
    "version": 3
   },
   "file_extension": ".py",
   "mimetype": "text/x-python",
   "name": "python",
   "nbconvert_exporter": "python",
   "pygments_lexer": "ipython3",
   "version": "3.9.13"
  },
  "vscode": {
   "interpreter": {
    "hash": "31f2aee4e71d21fbe5cf8b01ff0e069b9275f58929596ceb00d14d90e3e16cd6"
   }
  }
 },
 "nbformat": 4,
 "nbformat_minor": 5
}
