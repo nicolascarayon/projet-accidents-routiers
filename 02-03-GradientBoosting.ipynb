{
 "cells": [
  {
   "cell_type": "code",
   "execution_count": 2,
   "metadata": {
    "collapsed": true
   },
   "outputs": [],
   "source": [
    "import pandas as pd\n",
    "\n",
    "quick = True\n",
    "\n",
    "if quick:\n",
    "    start_year, end_year, chk, sampled, filename = [2005, 2021, False, True, 'df-light.pkl']\n",
    "else:\n",
    "    start_year, end_year, chk, sampled, filename = [2005, 2021, True, False, 'df-full.pkl']\n",
    "\n",
    "from sklearn.model_selection import train_test_split\n",
    "\n",
    "df = pd.read_pickle(f'./{filename}')\n",
    "data = df.iloc[:, 1:]\n",
    "target = df['grav']\n",
    "\n",
    "X_train, X_test, y_train, y_test = train_test_split(data, target, test_size=0.2, random_state=222)"
   ]
  },
  {
   "cell_type": "code",
   "execution_count": 6,
   "outputs": [
    {
     "name": "stdout",
     "output_type": "stream",
     "text": [
      "Best score  :  0.7423486527765922\n",
      "Best params :  {'criterion': 'squared_error', 'n_estimators': 100}\n",
      "                   pre       rec       spe        f1       geo       iba       sup\n",
      "\n",
      "          0       0.76      0.71      0.77      0.73      0.74      0.55      4469\n",
      "          1       0.73      0.77      0.71      0.75      0.74      0.55      4469\n",
      "\n",
      "avg / total       0.74      0.74      0.74      0.74      0.74      0.55      8938\n",
      "\n",
      "--- performed in 145.93663597106934 seconds ---\n"
     ]
    }
   ],
   "source": [
    "from sklearn.ensemble import GradientBoostingClassifier\n",
    "from sklearn.model_selection import GridSearchCV\n",
    "from sklearn.preprocessing import StandardScaler, MinMaxScaler\n",
    "from category_encoders import TargetEncoder, OneHotEncoder\n",
    "from imblearn.over_sampling import SMOTE, RandomOverSampler\n",
    "from imblearn.under_sampling import RandomUnderSampler\n",
    "from imblearn.metrics import classification_report_imbalanced\n",
    "import time\n",
    "\n",
    "start_time = time.time()\n",
    "\n",
    "cols_target_encoded = ['dep', 'age']\n",
    "cols_onehot_encoded = X_train.columns.drop(cols_target_encoded)\n",
    "scaler = StandardScaler()\n",
    "\n",
    "encoder_target = TargetEncoder(cols=cols_target_encoded)\n",
    "encoder_onehot = OneHotEncoder(cols=cols_onehot_encoded)\n",
    "# sampler        = SMOTE(random_state=42)\n",
    "sampler        = RandomUnderSampler()\n",
    "# sampler        = RandomOverSampler()\n",
    "model          = GradientBoostingClassifier()\n",
    "\n",
    "\n",
    "X_train_te = encoder_target.fit_transform(X_train, y_train)\n",
    "X_test_te  = encoder_target.transform(X_test)\n",
    "\n",
    "X_train_oh = encoder_onehot.fit_transform(X_train_te, y_train)\n",
    "X_test_oh  = encoder_onehot.transform(X_test_te)\n",
    "\n",
    "X_train_sc = scaler.fit_transform(X_train_oh)\n",
    "X_test_sc  = scaler.transform(X_test_oh)\n",
    "\n",
    "X_train_rs, y_train_rs = sampler.fit_resample(X_train_sc, y_train)\n",
    "X_test_rs, y_test_rs   = sampler.fit_resample(X_test_sc, y_test)\n",
    "\n",
    "params = {\n",
    "    'n_estimators' : [100],\n",
    "    'criterion' : ('friedman_mse', 'squared_error'),\n",
    "    # 'max_depth' : (None, 10, 50),\n",
    "    # 'min_samples_split' : (2,4,6)\n",
    "}\n",
    "\n",
    "grid = GridSearchCV(estimator=model, param_grid=params, cv = 3, n_jobs=-1)\n",
    "grid.fit(X_train_rs, y_train_rs)\n",
    "\n",
    "print('Best score  : ', grid.best_score_)\n",
    "print('Best params : ', grid.best_params_)\n",
    "\n",
    "y_pred = grid.predict(X_test_rs)\n",
    "print(classification_report_imbalanced(y_test_rs, y_pred))\n",
    "\n",
    "print(\"--- performed in %s seconds ---\" % (time.time() - start_time))"
   ],
   "metadata": {
    "collapsed": false
   }
  }
 ],
 "metadata": {
  "kernelspec": {
   "display_name": "Python 3",
   "language": "python",
   "name": "python3"
  },
  "language_info": {
   "codemirror_mode": {
    "name": "ipython",
    "version": 2
   },
   "file_extension": ".py",
   "mimetype": "text/x-python",
   "name": "python",
   "nbconvert_exporter": "python",
   "pygments_lexer": "ipython2",
   "version": "2.7.6"
  }
 },
 "nbformat": 4,
 "nbformat_minor": 0
}
