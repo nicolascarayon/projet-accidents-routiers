{
 "cells": [
  {
   "cell_type": "code",
   "execution_count": 2,
   "metadata": {},
   "outputs": [],
   "source": [
    "import pandas as pd\n",
    "from my_libs import lib_tools as pt\n",
    "\n",
    "run_type = 'dev'\n",
    "# run_type = 'prd'\n",
    "resample = True\n",
    "\n",
    "X_train, y_train, X_test, y_test, X_test_final, y_test_final = pt.get_train_valid_test_data(run_type)"
   ]
  },
  {
   "cell_type": "code",
   "execution_count": 3,
   "outputs": [
    {
     "name": "stdout",
     "output_type": "stream",
     "text": [
      "--- Smote applied in 16.512786149978638 seconds ---\n",
      "Classes cardinality after resampling :\n",
      "0    4900\n",
      "1    4900\n",
      "Name: grav, dtype: int64\n",
      "X shape : (6400, 28) -> (9800, 28)\n",
      "y shape : (6400,) -> (9800,)\n"
     ]
    }
   ],
   "source": [
    "if resample:\n",
    "    X_train, y_train = pt.get_data_resampled(X=X_train, y=y_train, verbose=1)\n",
    "    # Save data generated\n",
    "    X_train.to_pickle(f'./pickles/X_train_smote_{run_type}.pkl')\n",
    "    y_train.to_pickle(f'./pickles/y_train_smote_{run_type}.pkl')\n",
    "else:\n",
    "    # Load data previously generated\n",
    "    X_train = pd.read_pickle(f'./pickles/X_train_smote_{run_type}.pkl')\n",
    "    y_train = pd.read_pickle(f'./pickles/X_train_smote_{run_type}.pkl')"
   ],
   "metadata": {
    "collapsed": false
   }
  },
  {
   "cell_type": "code",
   "execution_count": 4,
   "metadata": {},
   "outputs": [
    {
     "name": "stderr",
     "output_type": "stream",
     "text": [
      "\u001B[32m[I 2023-02-24 18:04:17,660]\u001B[0m A new study created in memory with name: no-name-c28b470f-091a-4125-8628-9f08d3c51c14\u001B[0m\n",
      "[Parallel(n_jobs=1)]: Using backend SequentialBackend with 1 concurrent workers.\n",
      "[Parallel(n_jobs=1)]: Done   3 out of   3 | elapsed:   27.0s finished\n",
      "\u001B[32m[I 2023-02-24 18:04:44,788]\u001B[0m Trial 0 finished with value: 0.7308633398267905 and parameters: {'iterations': 95, 'learning_rate': 0.09621447770409826}. Best is trial 0 with value: 0.7308633398267905.\u001B[0m\n",
      "[Parallel(n_jobs=1)]: Using backend SequentialBackend with 1 concurrent workers.\n",
      "[Parallel(n_jobs=1)]: Done   3 out of   3 | elapsed:   48.8s finished\n",
      "\u001B[32m[I 2023-02-24 18:05:33,701]\u001B[0m Trial 1 finished with value: 0.710413553649729 and parameters: {'iterations': 295, 'learning_rate': 0.09836800318120442}. Best is trial 0 with value: 0.7308633398267905.\u001B[0m\n",
      "[Parallel(n_jobs=1)]: Using backend SequentialBackend with 1 concurrent workers.\n",
      "[Parallel(n_jobs=1)]: Done   3 out of   3 | elapsed:   39.0s finished\n",
      "\u001B[32m[I 2023-02-24 18:06:12,771]\u001B[0m Trial 2 finished with value: 0.6950379157968474 and parameters: {'iterations': 238, 'learning_rate': 0.030674987141409614}. Best is trial 0 with value: 0.7308633398267905.\u001B[0m\n",
      "[Parallel(n_jobs=1)]: Using backend SequentialBackend with 1 concurrent workers.\n",
      "[Parallel(n_jobs=1)]: Done   3 out of   3 | elapsed:   39.9s finished\n",
      "\u001B[32m[I 2023-02-24 18:06:52,770]\u001B[0m Trial 3 finished with value: 0.6941662284469805 and parameters: {'iterations': 240, 'learning_rate': 0.015557739501167518}. Best is trial 0 with value: 0.7308633398267905.\u001B[0m\n",
      "[Parallel(n_jobs=1)]: Using backend SequentialBackend with 1 concurrent workers.\n",
      "[Parallel(n_jobs=1)]: Done   3 out of   3 | elapsed:   38.5s finished\n",
      "\u001B[32m[I 2023-02-24 18:07:31,397]\u001B[0m Trial 4 finished with value: 0.6984912171056252 and parameters: {'iterations': 201, 'learning_rate': 0.03604957503790494}. Best is trial 0 with value: 0.7308633398267905.\u001B[0m\n"
     ]
    },
    {
     "name": "stdout",
     "output_type": "stream",
     "text": [
      "--- Optimization with Optuna performed in 193.74201822280884 seconds ---\n",
      "Best params : {'iterations': 95, 'learning_rate': 0.09621447770409826}\n"
     ]
    }
   ],
   "source": [
    "import time\n",
    "import optuna\n",
    "from sklearn.model_selection import cross_val_score\n",
    "\n",
    "\n",
    "start_time = time.time()\n",
    "\n",
    "def objective(trial):\n",
    "\n",
    "    dt_iterations    = trial.suggest_int('iterations', 50, 300)\n",
    "    dt_learning_rate = trial.suggest_float('learning_rate', 0.001, 0.1)\n",
    "\n",
    "    classifier_obj = CatBoostClassifier(iterations=dt_iterations, learning_rate=dt_learning_rate, \n",
    "                                        cat_features=list(X_train.columns), verbose=0)\n",
    "    score = cross_val_score(classifier_obj, X_train, y_train, cv=3, scoring=\"f1\", verbose=1)\n",
    "    accuracy = score.mean()\n",
    "\n",
    "    return accuracy\n",
    "\n",
    "study = optuna.create_study(direction='maximize')\n",
    "study.optimize(objective, n_trials=5)\n",
    "\n",
    "print(\"--- Optimization with Optuna performed in %s seconds ---\" % (time.time() - start_time))\n",
    "print(f\"Best params : {study.best_params}\")"
   ]
  },
  {
   "cell_type": "code",
   "execution_count": null,
   "metadata": {},
   "outputs": [],
   "source": [
    "from catboost import CatBoostClassifier\n",
    "# params = study.best_params\n",
    "{'iterations': 1500, 'learning_rate': 0.0007813953195885828}\n",
    "params['cat_features'] = list(X_train.columns)\n",
    "model = CatBoostClassifier(**params)\n",
    "model.fit(X_train, y_train, plot=True)\n",
    "y_pred = model.predict(X_test_final)"
   ]
  },
  {
   "cell_type": "code",
   "execution_count": null,
   "metadata": {},
   "outputs": [],
   "source": [
    "from my_libs.model_evaluator import ModelEvaluator\n",
    "\n",
    "params = {'iterations': 206, 'learning_rate': 0.0811, 'random_seed': 123, 'cat_features': list(X_train.columns)}\n",
    "evaluator = ModelEvaluator(model_type='CatBoostClassifier', params=params, X_train=X_train, y_train=y_train, X_test=X_test_final, y_test=y_test_final)\n",
    "model = evaluator.evaluate()"
   ]
  },
  {
   "cell_type": "code",
   "execution_count": null,
   "metadata": {},
   "outputs": [],
   "source": [
    "from optuna.visualization import plot_optimization_history\n",
    "plot_optimization_history(study)"
   ]
  }
 ],
 "metadata": {
  "kernelspec": {
   "display_name": "Python 3 (ipykernel)",
   "language": "python",
   "name": "python3"
  },
  "language_info": {
   "codemirror_mode": {
    "name": "ipython",
    "version": 3
   },
   "file_extension": ".py",
   "mimetype": "text/x-python",
   "name": "python",
   "nbconvert_exporter": "python",
   "pygments_lexer": "ipython3",
   "version": "3.9.13"
  }
 },
 "nbformat": 4,
 "nbformat_minor": 1
}
