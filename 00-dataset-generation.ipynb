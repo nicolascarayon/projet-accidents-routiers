{
 "cells": [
  {
   "cell_type": "code",
   "execution_count": null,
   "metadata": {},
   "outputs": [],
   "source": [
    "import my_libs.lib_tools as pt\n",
    "\n",
    "# study period\n",
    "start_year, end_year = 2005, 2021\n",
    "\n",
    "# load data in df\n",
    "df = pt.load_proj_df(start_year, end_year, verbose=1)\n",
    "\n",
    "# create Train and Test set\n",
    "ratio_train_test = 0.8\n",
    "n = df.shape[0]\n",
    "df_train = df.iloc[0:int(n*ratio_train_test),:]\n",
    "df_test  = df.iloc[int(n*ratio_train_test):,:]\n",
    "\n",
    "dev_size = 10000    # for a quick notebooks execution\n",
    "prd_size = 100000   # default size suggested to build and evaluate models\n",
    "\n",
    "# save datasets to pickle files\n",
    "df_train.sample(int(dev_size*ratio_train_test)).to_pickle(pt.DF_DEV_TRAIN_PATH)\n",
    "df_test.sample(int(dev_size*(1-ratio_train_test))).to_pickle(pt.DF_DEV_TEST_PATH)\n",
    "\n",
    "df_train.sample(int(prd_size*ratio_train_test)).to_pickle(pt.DF_PRD_TRAIN_PATH)\n",
    "df_test.sample(int(prd_size*(1-ratio_train_test))).to_pickle(pt.DF_PRD_TEST_PATH)"
   ]
  }
 ],
 "metadata": {
  "kernelspec": {
   "display_name": "Python 3 (ipykernel)",
   "language": "python",
   "name": "python3"
  },
  "language_info": {
   "codemirror_mode": {
    "name": "ipython",
    "version": 3
   },
   "file_extension": ".py",
   "mimetype": "text/x-python",
   "name": "python",
   "nbconvert_exporter": "python",
   "pygments_lexer": "ipython3",
   "version": "3.9.13"
  }
 },
 "nbformat": 4,
 "nbformat_minor": 1
}
