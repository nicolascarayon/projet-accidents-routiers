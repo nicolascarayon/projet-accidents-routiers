{
 "cells": [
  {
   "cell_type": "code",
   "execution_count": null,
   "metadata": {
    "collapsed": true
   },
   "outputs": [],
   "source": [
    "import my_libs.lib_tools as pt\n",
    "\n",
    "light = True\n",
    "full  = True\n",
    "\n",
    "if light:\n",
    "    start_year, end_year, chk, sampled, filename = [2005, 2021, True, True, 'df-light.pkl']\n",
    "    pt.generate_pickle(start_year, end_year, chk, sampled, filename)\n",
    "if full :\n",
    "    start_year, end_year, chk, sampled, filename = [2005, 2021, True, False, 'df-full.pkl']\n",
    "    pt.generate_pickle(start_year, end_year, chk, sampled, filename)"
   ]
  }
 ],
 "metadata": {
  "kernelspec": {
   "display_name": "Python 3",
   "language": "python",
   "name": "python3"
  },
  "language_info": {
   "codemirror_mode": {
    "name": "ipython",
    "version": 2
   },
   "file_extension": ".py",
   "mimetype": "text/x-python",
   "name": "python",
   "nbconvert_exporter": "python",
   "pygments_lexer": "ipython2",
   "version": "2.7.6"
  }
 },
 "nbformat": 4,
 "nbformat_minor": 0
}
