{
 "cells": [
  {
   "cell_type": "code",
   "execution_count": null,
   "outputs": [],
   "source": [
    "import my_libs.lib_tools as pt\n",
    "\n",
    "start_year, end_year = 2005, 2021\n",
    "\n",
    "df = pt.load_proj_df(start_year, end_year, chk=True)\n",
    "\n",
    "year_split = 2017\n",
    "ratio = df[df.an>year_split].shape[0]/df.shape[0]\n",
    "\n",
    "df_verylight_train = df[df.an<=year_split].sample(int(10000*(1-ratio)))\n",
    "df_verylight_test  = df[df.an>year_split].sample(int(10000*ratio))\n",
    "df_verylight_train.to_pickle('./df-very-light-train.pkl')\n",
    "df_verylight_test.to_pickle('./df-very-light-test.pkl')\n",
    "\n",
    "df_light_train = df[df.an<=year_split].sample(int(100000*(1-ratio)))\n",
    "df_light_test  = df[df.an>year_split].sample(int(100000*ratio))\n",
    "df_light_train.to_pickle('./df-light-train.pkl')\n",
    "df_light_test.to_pickle('./df-light-test.pkl')\n",
    "\n",
    "df_full_train = df[df.an<=year_split]\n",
    "df_full_test  = df[df.an>year_split]\n",
    "df_full_train.to_pickle('df-full-train.pkl')\n",
    "df_full_test.to_pickle('df-full-test.pkl')"
   ],
   "metadata": {
    "collapsed": false
   }
  }
 ],
 "metadata": {
  "kernelspec": {
   "display_name": "Python 3",
   "language": "python",
   "name": "python3"
  },
  "language_info": {
   "codemirror_mode": {
    "name": "ipython",
    "version": 2
   },
   "file_extension": ".py",
   "mimetype": "text/x-python",
   "name": "python",
   "nbconvert_exporter": "python",
   "pygments_lexer": "ipython2",
   "version": "2.7.6"
  }
 },
 "nbformat": 4,
 "nbformat_minor": 0
}
