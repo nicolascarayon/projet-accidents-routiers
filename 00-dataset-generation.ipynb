{
 "cells": [
  {
   "cell_type": "code",
   "execution_count": null,
   "outputs": [],
   "source": [
    "import my_libs.lib_tools as pt\n",
    "\n",
    "start_year, end_year = 2005, 2021\n",
    "\n",
    "df = pt.load_proj_df(start_year, end_year, verbose=1)\n",
    "\n",
    "ratio = 0.8\n",
    "n = df.shape[0]\n",
    "df_train = df.iloc[0:int(n*ratio),:]\n",
    "df_test = df.iloc[int(n*ratio):,:]\n",
    "\n",
    "df_train.sample(int(10000*ratio)).to_pickle('./pickles/df-dev-train.pkl')\n",
    "df_test.sample(int(10000*(1-ratio))).to_pickle('./pickles/df-dev-test.pkl')\n",
    "\n",
    "df_train.sample(int(100000*ratio)).to_pickle('./pickles/df-prd-train.pkl')\n",
    "df_test.sample(int(100000*(1-ratio))).to_pickle('./pickles/df-prd-test.pkl')"
   ],
   "metadata": {
    "collapsed": false
   }
  }
 ],
 "metadata": {
  "kernelspec": {
   "display_name": "Python 3",
   "language": "python",
   "name": "python3"
  },
  "language_info": {
   "codemirror_mode": {
    "name": "ipython",
    "version": 2
   },
   "file_extension": ".py",
   "mimetype": "text/x-python",
   "name": "python",
   "nbconvert_exporter": "python",
   "pygments_lexer": "ipython2",
   "version": "2.7.6"
  }
 },
 "nbformat": 4,
 "nbformat_minor": 0
}
