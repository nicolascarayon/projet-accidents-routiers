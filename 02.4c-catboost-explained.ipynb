{
 "cells": [
  {
   "cell_type": "code",
   "execution_count": null,
   "metadata": {
    "collapsed": true
   },
   "outputs": [],
   "source": [
    "import pandas as pd\n",
    "from my_libs import lib_tools as pt\n",
    "\n",
    "run_smote = False\n",
    "run_type = 'dev'\n",
    "# run_type = 'prd'\n",
    "\n",
    "if run_type == 'dev': filename_train, filename_test = 'pickles/df-dev-train.pkl', 'pickles/df-dev-test.pkl'\n",
    "if run_type == 'prd': filename_train, filename_test = 'pickles/df-prd-train.pkl', 'pickles/df-prd-test.pkl'\n",
    "\n",
    "columns = ['place', 'catu', 'sexe', 'trajet', 'locp', 'actp', 'etatp', 'mois',\n",
    "           'lum', 'agg', 'int', 'atm', 'col', 'dep', 'catr', 'circ', 'nbv', 'vosp',\n",
    "           'prof', 'plan', 'surf', 'infra', 'situ', 'senc', 'catv', 'age_cls',\n",
    "           'joursem']\n",
    "columns.remove('senc')\n",
    "\n",
    "X_train, y_train, X_test, y_test, X_test_final, y_test_final = pt.get_train_valid_test_data(filename_train, filename_test, columns)"
   ]
  },
  {
   "cell_type": "code",
   "execution_count": null,
   "metadata": {},
   "outputs": [],
   "source": [
    "import pandas as pd\n",
    "import time\n",
    "from imblearn.over_sampling import SMOTEN\n",
    "\n",
    "if run_smote:\n",
    "    sampler = SMOTEN()\n",
    "\n",
    "    start_time = time.time()\n",
    "    X_train, y_train = sampler.fit_resample(X_train, y_train)\n",
    "    print(f\"X_train : {X_train.shape} - y_train : {y_train.shape}\")\n",
    "\n",
    "    X_train['actp'] = X_train['actp'].astype('int')\n",
    "    X_train['dep'] = X_train['dep'].astype('int')\n",
    "\n",
    "    print(f\"--- Smote applied in %s seconds ---\" % (time.time() - start_time))\n",
    "\n",
    "    X_train.to_pickle('./pickles/X_train_cb_no_senc.pkl')\n",
    "    y_train.to_pickle('./pickles/y_train_cb_no_senc.pkl')\n",
    "else:\n",
    "    X_train = pd.read_pickle(f'./pickles/X_train_cb_no_senc.pkl')\n",
    "    y_train = pd.read_pickle(f'./pickles/y_train_cb_no_senc.pkl')"
   ]
  },
  {
   "cell_type": "code",
   "execution_count": null,
   "metadata": {},
   "outputs": [],
   "source": [
    "from my_libs.model_evaluator import ModelEvaluator\n",
    "\n",
    "params = {'iterations': 150, 'learning_rate': 0.0811, 'random_seed': 123, 'cat_features': list(X_train.columns)}\n",
    "evaluator = ModelEvaluator(model_type='CatBoostClassifier', params=params, X_train=X_train, y_train=y_train, X_test=X_test_final, y_test=y_test_final)\n",
    "model = evaluator.evaluate()\n"
   ]
  },
  {
   "cell_type": "code",
   "execution_count": null,
   "metadata": {},
   "outputs": [],
   "source": [
    "import numpy as np\n",
    "from sklearn.metrics import classification_report, plot_roc_curve, f1_score, precision_score, recall_score\n",
    "# plot_roc_curve(model, X_train, y_train)\n",
    "\n",
    "thresholds = np.arange(0.20, 0.80, 0.01)\n",
    "scores_f1 = []\n",
    "scores_prec = []\n",
    "scores_recall = []\n",
    "for k in thresholds:\n",
    "    y_pred = (model.predict_proba(X_test)[:,1] >= k).astype(bool)\n",
    "    scores_f1.append(f1_score(y_test, y_pred))\n",
    "    scores_prec.append(precision_score(y_test, y_pred))\n",
    "    scores_recall.append(recall_score(y_test, y_pred))"
   ]
  },
  {
   "cell_type": "code",
   "execution_count": null,
   "metadata": {},
   "outputs": [],
   "source": [
    "y_pred = (model.predict_proba(X_test)[:,1] >= 0.4).astype(bool)\n",
    "\n",
    "display(pd.crosstab(y_test, y_pred, rownames=['Classe réelle'], colnames=['Classe prédite']))\n",
    "\n",
    "print(\"\\nClassification report :\")\n",
    "print(classification_report(y_test, y_pred))"
   ]
  },
  {
   "cell_type": "code",
   "execution_count": null,
   "metadata": {},
   "outputs": [],
   "source": [
    "plot_roc_curve(model, X_test_final, y_test_final)"
   ]
  },
  {
   "cell_type": "code",
   "execution_count": null,
   "metadata": {},
   "outputs": [],
   "source": [
    "import matplotlib.pyplot as plt\n",
    "%matplotlib inline\n",
    "fig, axs = plt.subplots(2,1, figsize=(7,10))\n",
    "plt.grid()\n",
    "axs[0].plot(thresholds, scores_f1, label='f1')\n",
    "axs[0].set_title(\"Valeur du f1-score en fonction du seuil de probabilité d'attribution des classes\")\n",
    "axs[0].grid()\n",
    "axs[1].plot(thresholds, scores_f1, label='f1')\n",
    "axs[1].plot(thresholds, scores_recall, label='recall')\n",
    "axs[1].plot(thresholds, scores_prec, label='precision')\n",
    "axs[1].set_title(\"Valeur des métriques en fonction du seuil de probabilité d'attribution des classes\")\n",
    "axs[1].grid()\n",
    "plt.grid()\n",
    "plt.legend();"
   ]
  },
  {
   "cell_type": "code",
   "execution_count": null,
   "metadata": {},
   "outputs": [],
   "source": [
    "from shapash import SmartExplainer\n",
    "import pickle\n",
    "import shap\n",
    "shap.initjs()\n",
    "\n",
    "xpl = SmartExplainer(\n",
    "    model=model,\n",
    "    # features_dict=house_dict,  # Optional parameter\n",
    "    # preprocessing=encoder, # Optional: compile step can use inverse_transform method\n",
    "    # postprocessing=postprocess # Optional: see tutorial postprocessing\n",
    ")\n",
    "\n",
    "y_test_final.index = X_test_final.index\n",
    "\n",
    "xpl.compile(\n",
    "    x=X_test_final,\n",
    "    # y_pred=y_pred, # Optional: for your own prediction (by default: model.predict)\n",
    "    y_target=y_test_final, # Optional: allows to display True Values vs Predicted Values\n",
    ")\n",
    "\n",
    "app = xpl.run_app()"
   ]
  },
  {
   "cell_type": "code",
   "execution_count": null,
   "metadata": {},
   "outputs": [],
   "source": [
    "# app.kill()"
   ]
  }
 ],
 "metadata": {
  "kernelspec": {
   "display_name": "Python 3 (ipykernel)",
   "language": "python",
   "name": "python3"
  },
  "language_info": {
   "codemirror_mode": {
    "name": "ipython",
    "version": 3
   },
   "file_extension": ".py",
   "mimetype": "text/x-python",
   "name": "python",
   "nbconvert_exporter": "python",
   "pygments_lexer": "ipython3",
   "version": "3.9.13"
  }
 },
 "nbformat": 4,
 "nbformat_minor": 1
}
