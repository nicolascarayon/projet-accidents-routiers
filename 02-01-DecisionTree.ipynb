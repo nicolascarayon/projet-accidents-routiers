{
 "cells": [
  {
   "cell_type": "code",
   "execution_count": 22,
   "outputs": [],
   "source": [
    "import pandas as pd\n",
    "\n",
    "quick = True\n",
    "\n",
    "if quick:\n",
    "    start_year, end_year, chk, sampled, filename = [2005, 2021, False, True, 'df-light.pkl']\n",
    "else:\n",
    "    start_year, end_year, chk, sampled, filename = [2005, 2021, True, False, 'df-full.pkl']\n",
    "\n",
    "from sklearn.model_selection import train_test_split\n",
    "\n",
    "df = pd.read_pickle(f'./{filename}')\n",
    "data = df.iloc[:, 1:]\n",
    "target = df['grav']\n",
    "\n",
    "X_train, X_test, y_train, y_test = train_test_split(data, target, test_size=0.2, random_state=222)"
   ],
   "metadata": {
    "collapsed": false
   }
  },
  {
   "cell_type": "code",
   "execution_count": 2,
   "outputs": [
    {
     "name": "stdout",
     "output_type": "stream",
     "text": [
      "                   pre       rec       spe        f1       geo       iba       sup\n",
      "\n",
      "          0       0.80      0.85      0.79      0.82      0.82      0.67     15490\n",
      "          1       0.84      0.79      0.85      0.81      0.82      0.66     15490\n",
      "\n",
      "avg / total       0.82      0.82      0.82      0.82      0.82      0.67     30980\n",
      "\n"
     ]
    }
   ],
   "source": [
    "from sklearn.tree import DecisionTreeClassifier\n",
    "from imblearn.over_sampling import SMOTE\n",
    "from imblearn.metrics import classification_report_imbalanced\n",
    "from category_encoders import TargetEncoder, OneHotEncoder\n",
    "from sklearn.preprocessing import StandardScaler\n",
    "\n",
    "cols_target_encoded = ['dep', 'age']\n",
    "cols_onehot_encoded = X_train.columns.drop(cols_target_encoded)\n",
    "scaler = StandardScaler()\n",
    "\n",
    "encoder_target = TargetEncoder(cols=cols_target_encoded)\n",
    "encoder_onehot = OneHotEncoder(cols=cols_onehot_encoded)\n",
    "\n",
    "smt   = SMOTE(random_state=42)\n",
    "model = DecisionTreeClassifier(max_depth=10)\n",
    "\n",
    "X_train_enc_t = encoder_target.fit_transform(X_train, y_train)\n",
    "X_train_enc_oh = encoder_onehot.fit_transform(X_train_enc_t, y_train)\n",
    "X_train_sc = scaler.fit_transform(X_train_enc_oh)\n",
    "X_train_rs, y_train_rs = smt.fit_resample(X_train_sc, y_train)\n",
    "model.fit(X_train_rs, y_train_rs)\n",
    "\n",
    "X_test_enc_t = encoder_target.transform(X_test)\n",
    "X_test_enc_oh = encoder_onehot.transform(X_test_enc_t)\n",
    "X_test_sc = scaler.transform(X_test_enc_oh)\n",
    "X_test_rs, y_test_rs = smt.fit_resample(X_test_sc, y_test)\n",
    "y_pred = model.predict(X_test_rs)\n",
    "\n",
    "print(classification_report_imbalanced(y_test_rs, y_pred))"
   ],
   "metadata": {
    "collapsed": false
   }
  },
  {
   "cell_type": "code",
   "execution_count": 19,
   "outputs": [
    {
     "name": "stdout",
     "output_type": "stream",
     "text": [
      "Best score  :  0.7911775766926734\n",
      "Best params :  {'criterion': 'entropy', 'max_depth': 40, 'max_features': 'auto', 'min_samples_split': 4}\n",
      "                   pre       rec       spe        f1       geo       iba       sup\n",
      "\n",
      "          0       0.76      0.84      0.74      0.80      0.79      0.62     15490\n",
      "          1       0.82      0.74      0.84      0.78      0.79      0.61     15490\n",
      "\n",
      "avg / total       0.79      0.79      0.79      0.79      0.79      0.62     30980\n",
      "\n",
      "--- performed in 102.34112548828125 seconds ---\n"
     ]
    }
   ],
   "source": [
    "from sklearn.tree import DecisionTreeClassifier\n",
    "from sklearn.model_selection import GridSearchCV\n",
    "from imblearn.over_sampling import SMOTE\n",
    "from imblearn.metrics import classification_report_imbalanced\n",
    "import time\n",
    "\n",
    "start_time = time.time()\n",
    "\n",
    "cols_target_encoded = ['dep', 'age']\n",
    "cols_onehot_encoded = X_train.columns.drop(cols_target_encoded)\n",
    "scaler = StandardScaler()\n",
    "\n",
    "encoder_target = TargetEncoder(cols=cols_target_encoded)\n",
    "encoder_onehot = OneHotEncoder(cols=cols_onehot_encoded)\n",
    "smt   = SMOTE(random_state=42)\n",
    "model = DecisionTreeClassifier(max_depth=10)\n",
    "\n",
    "\n",
    "X_train_te = encoder_target.fit_transform(X_train, y_train)\n",
    "X_test_te  = encoder_target.transform(X_test)\n",
    "\n",
    "X_train_oh = encoder_onehot.fit_transform(X_train_te, y_train)\n",
    "X_test_oh  = encoder_onehot.transform(X_test_te)\n",
    "\n",
    "X_train_sc = scaler.fit_transform(X_train_oh)\n",
    "X_test_sc  = scaler.transform(X_test_oh)\n",
    "\n",
    "X_train_rs, y_train_rs = smt.fit_resample(X_train_sc, y_train)\n",
    "X_test_rs, y_test_rs   = smt.fit_resample(X_test_sc, y_test)\n",
    "\n",
    "params = {\n",
    "    'max_depth' : [10, 20, 30, 40 ,50],\n",
    "    'criterion' : ('gini', 'entropy'),\n",
    "    'max_features' : ('auto', 'sqrt', 'log2'),\n",
    "    'min_samples_split' : (2,4,6)\n",
    "}\n",
    "\n",
    "grid = GridSearchCV(estimator=model, param_grid=params, cv = 3, n_jobs=-1)\n",
    "grid.fit(X_train_rs, y_train_rs)\n",
    "\n",
    "print('Best score  : ', grid.best_score_)\n",
    "print('Best params : ', grid.best_params_)\n",
    "\n",
    "y_pred = grid.predict(X_test_rs)\n",
    "print(classification_report_imbalanced(y_test_rs, y_pred))\n",
    "\n",
    "print(\"--- performed in %s seconds ---\" % (time.time() - start_time))"
   ],
   "metadata": {
    "collapsed": false
   }
  },
  {
   "cell_type": "code",
   "execution_count": 27,
   "outputs": [
    {
     "name": "stdout",
     "output_type": "stream",
     "text": [
      "Best score  :  0.7483715552909672\n",
      "Best params :  {'model__criterion': 'gini', 'model__max_depth': 20, 'model__max_features': 'auto', 'model__min_samples_split': 2}\n",
      "                   pre       rec       spe        f1       geo       iba       sup\n",
      "\n",
      "          0       0.85      0.84      0.47      0.84      0.63      0.41     15490\n",
      "          1       0.46      0.47      0.84      0.47      0.63      0.38      4469\n",
      "\n",
      "avg / total       0.76      0.76      0.55      0.76      0.63      0.40     19959\n",
      "\n",
      "--- performed in 1528.062789440155 seconds ---\n"
     ]
    }
   ],
   "source": [
    "from sklearn.tree import DecisionTreeClassifier\n",
    "from imblearn.pipeline import Pipeline\n",
    "from sklearn.model_selection import GridSearchCV\n",
    "from imblearn.over_sampling import SMOTE\n",
    "from imblearn.metrics import classification_report_imbalanced\n",
    "import time\n",
    "\n",
    "start_time = time.time()\n",
    "\n",
    "cols_target_encoded = ['dep', 'age']\n",
    "cols_onehot_encoded = X_train.columns.drop(cols_target_encoded)\n",
    "scaler = StandardScaler()\n",
    "\n",
    "encoder_target = TargetEncoder(cols=cols_target_encoded)\n",
    "encoder_onehot = OneHotEncoder(cols=cols_onehot_encoded)\n",
    "smt   = SMOTE(random_state=42)\n",
    "model = DecisionTreeClassifier()\n",
    "\n",
    "dt_pipe = Pipeline([\n",
    "                    ('encoding_target', encoder_target),\n",
    "                    ('encoding_onehot', encoder_onehot),\n",
    "                    ('scaling', scaler),\n",
    "                    ('smote', smt),\n",
    "                    # ('selection', selector),\n",
    "                    ('model', model)\n",
    "                    ])\n",
    "param_grid = {\n",
    "    'model__max_depth' : [10, 20, 30, 40 ,50],\n",
    "    'model__criterion' : ('gini', 'entropy'),\n",
    "    'model__max_features' : ('auto', 'sqrt', 'log2'),\n",
    "    'model__min_samples_split' : (2,4,6)\n",
    "}\n",
    "\n",
    "grid = GridSearchCV(dt_pipe, param_grid=param_grid, cv = 3, n_jobs=-1)\n",
    "grid.fit(X_train, y_train)\n",
    "\n",
    "print('Best score  : ', grid.best_score_)\n",
    "print('Best params : ', grid.best_params_)\n",
    "\n",
    "y_pred = grid.predict(X_test)\n",
    "print(classification_report_imbalanced(y_test, y_pred))\n",
    "\n",
    "print(\"--- performed in %s seconds ---\" % (time.time() - start_time))"
   ],
   "metadata": {
    "collapsed": false
   }
  },
  {
   "cell_type": "code",
   "execution_count": null,
   "outputs": [],
   "source": [
    "# from imblearn.under_sampling import RandomUnderSampler\n",
    "# from imblearn.over_sampling import RandomOverSampler, SMOTE\n",
    "#\n",
    "# if undersampling:\n",
    "#     # Random Undersampling\n",
    "#     rUs = RandomUnderSampler()\n",
    "#     # X_ru, y_ru = rUs.fit_resample(X_train, y_train)\n",
    "#     X_train, y_train = rUs.fit_resample(X_train, y_train)\n",
    "#     # print('Classes échantillon undersampled :', y_ru.value_counts())\n",
    "#     print('Classes échantillon undersampled :', y_train.value_counts())\n",
    "# if oversampling:\n",
    "#     rOs = RandomOverSampler()\n",
    "#     X_train, y_train = rOs.fit_resample(X_train, y_train)\n",
    "#     print('Classes échantillon oversampled :', dict(pd.Series(y_train).value_counts()))\n",
    "# if smote:\n",
    "#     smo = SMOTE()\n",
    "#     X_train, y_train = smo.fit_resample(X_train, y_train)\n",
    "#     print('Classes échantillon SMOTE :', dict(pd.Series(y_train).value_counts()))"
   ],
   "metadata": {
    "collapsed": false
   }
  },
  {
   "cell_type": "code",
   "execution_count": null,
   "outputs": [],
   "source": [
    "# from sklearn.model_selection import RandomizedSearchCV\n",
    "# from sklearn.tree import DecisionTreeClassifier\n",
    "#\n",
    "# parameters = {'max_depth'         : (10,20,30,40,50),\n",
    "#               'criterion'         : ('gini', 'entropy'),\n",
    "#               'max_features'      : ('auto', 'sqrt', 'log2'),\n",
    "#               'min_samples_split' : (2,4,6)\n",
    "#               }\n",
    "#\n",
    "# grid = RandomizedSearchCV(DecisionTreeClassifier(), param_distributions=parameters, cv=5, verbose=True)\n",
    "#\n",
    "# grid.fit(X_train, y_train)"
   ],
   "metadata": {
    "collapsed": false
   }
  },
  {
   "cell_type": "code",
   "execution_count": null,
   "outputs": [],
   "source": [
    "# from imblearn.metrics import classification_report_imbalanced\n",
    "#\n",
    "# model = grid.best_estimator_\n",
    "# print(model)\n",
    "#\n",
    "# model.fit(X_train, y_train)\n",
    "# y_pred = model.predict(X_test)\n",
    "# print(pd.crosstab(y_test, y_pred, rownames=['Classe réelle'], colnames=['Classe prédite']))\n",
    "#\n",
    "# print(f\"\\n{classification_report_imbalanced(y_test, y_pred)}\")\n"
   ],
   "metadata": {
    "collapsed": false
   }
  },
  {
   "cell_type": "code",
   "execution_count": null,
   "outputs": [],
   "source": [
    "# feats = {}\n",
    "# for feature, importance in zip(data.columns, model.feature_importances_):\n",
    "#     feats[feature] = importance\n",
    "#\n",
    "# importances = pd.DataFrame.from_dict(feats, orient='index').rename(columns={0: 'Gini-importance'})\n",
    "#\n",
    "# #Affichage des 8 variables les plus importantes\n",
    "# importances.sort_values(by='Gini-importance', ascending=False).head(8)"
   ],
   "metadata": {
    "collapsed": false
   }
  },
  {
   "cell_type": "code",
   "execution_count": null,
   "outputs": [],
   "source": [
    "# from sklearn import tree\n",
    "# tree.plot_tree(model);\n"
   ],
   "metadata": {
    "collapsed": false
   }
  },
  {
   "cell_type": "code",
   "execution_count": null,
   "outputs": [],
   "source": [
    "# print(f\"Train accuracy : {model.score(X_train, y_train):.3f}\")\n",
    "# print(f\"Test accuracy : {model.score(X_test, y_test):.3f}\")"
   ],
   "metadata": {
    "collapsed": false
   }
  },
  {
   "cell_type": "code",
   "execution_count": null,
   "outputs": [],
   "source": [],
   "metadata": {
    "collapsed": false
   }
  }
 ],
 "metadata": {
  "kernelspec": {
   "display_name": "Python 3",
   "language": "python",
   "name": "python3"
  },
  "language_info": {
   "codemirror_mode": {
    "name": "ipython",
    "version": 2
   },
   "file_extension": ".py",
   "mimetype": "text/x-python",
   "name": "python",
   "nbconvert_exporter": "python",
   "pygments_lexer": "ipython2",
   "version": "2.7.6"
  }
 },
 "nbformat": 4,
 "nbformat_minor": 0
}
