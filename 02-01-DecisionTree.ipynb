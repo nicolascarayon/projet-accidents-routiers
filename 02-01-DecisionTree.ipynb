{
 "cells": [
  {
   "cell_type": "code",
   "execution_count": 3,
   "outputs": [],
   "source": [
    "import pandas as pd\n",
    "\n",
    "quick = True\n",
    "\n",
    "if quick:\n",
    "    start_year, end_year, chk, sampled, filename = [2005, 2021, False, True, 'df-light.pkl']\n",
    "else:\n",
    "    start_year, end_year, chk, sampled, filename = [2005, 2021, True, False, 'df-full.pkl']\n",
    "\n",
    "from sklearn.model_selection import train_test_split\n",
    "\n",
    "df = pd.read_pickle(f'./{filename}')\n",
    "data = df.iloc[:, 1:]\n",
    "target = df['grav']\n",
    "\n",
    "X_train, X_test, y_train, y_test = train_test_split(data, target, test_size=0.2, random_state=222)"
   ],
   "metadata": {
    "collapsed": false
   }
  },
  {
   "cell_type": "code",
   "execution_count": 4,
   "outputs": [
    {
     "name": "stdout",
     "output_type": "stream",
     "text": [
      "Best score  :  0.7918674873804986\n",
      "Best params :  {'criterion': 'gini', 'max_depth': 30, 'max_features': 'auto', 'min_samples_split': 6}\n",
      "                   pre       rec       spe        f1       geo       iba       sup\n",
      "\n",
      "          0       0.76      0.83      0.74      0.80      0.79      0.62     15490\n",
      "          1       0.81      0.74      0.83      0.78      0.79      0.61     15490\n",
      "\n",
      "avg / total       0.79      0.79      0.79      0.79      0.79      0.62     30980\n",
      "\n",
      "--- performed in 99.72857713699341 seconds ---\n"
     ]
    }
   ],
   "source": [
    "from sklearn.tree import DecisionTreeClassifier\n",
    "from sklearn.model_selection import GridSearchCV\n",
    "from sklearn.preprocessing import StandardScaler, MinMaxScaler\n",
    "from category_encoders import TargetEncoder, OneHotEncoder\n",
    "from imblearn.over_sampling import SMOTE, RandomOverSampler\n",
    "from imblearn.under_sampling import RandomUnderSampler\n",
    "from imblearn.metrics import classification_report_imbalanced\n",
    "import time\n",
    "\n",
    "start_time = time.time()\n",
    "\n",
    "cols_target_encoded = ['dep', 'age']\n",
    "cols_onehot_encoded = X_train.columns.drop(cols_target_encoded)\n",
    "scaler = StandardScaler()\n",
    "\n",
    "encoder_target = TargetEncoder(cols=cols_target_encoded)\n",
    "encoder_onehot = OneHotEncoder(cols=cols_onehot_encoded)\n",
    "sampler        = SMOTE(random_state=42)\n",
    "# sampler        = RandomUnderSampler()\n",
    "# sampler        = RandomOverSampler()\n",
    "model          = DecisionTreeClassifier()\n",
    "\n",
    "\n",
    "X_train_te = encoder_target.fit_transform(X_train, y_train)\n",
    "X_test_te  = encoder_target.transform(X_test)\n",
    "\n",
    "X_train_oh = encoder_onehot.fit_transform(X_train_te, y_train)\n",
    "X_test_oh  = encoder_onehot.transform(X_test_te)\n",
    "\n",
    "X_train_sc = scaler.fit_transform(X_train_oh)\n",
    "X_test_sc  = scaler.transform(X_test_oh)\n",
    "\n",
    "X_train_rs, y_train_rs = sampler.fit_resample(X_train_sc, y_train)\n",
    "X_test_rs, y_test_rs   = sampler.fit_resample(X_test_sc, y_test)\n",
    "\n",
    "params = {\n",
    "    'max_depth' : [10, 20, 30, 40 ,50],\n",
    "    'criterion' : ('gini', 'entropy'),\n",
    "    'max_features' : ('auto', 'sqrt', 'log2'),\n",
    "    'min_samples_split' : (2,4,6)\n",
    "}\n",
    "\n",
    "grid = GridSearchCV(estimator=model, param_grid=params, cv = 3, n_jobs=-1)\n",
    "grid.fit(X_train_rs, y_train_rs)\n",
    "\n",
    "print('Best score  : ', grid.best_score_)\n",
    "print('Best params : ', grid.best_params_)\n",
    "\n",
    "y_pred = grid.predict(X_test_rs)\n",
    "print(classification_report_imbalanced(y_test_rs, y_pred))\n",
    "\n",
    "print(\"--- performed in %s seconds ---\" % (time.time() - start_time))"
   ],
   "metadata": {
    "collapsed": false
   }
  },
  {
   "cell_type": "code",
   "execution_count": 14,
   "outputs": [
    {
     "data": {
      "text/plain": "          Gini-importance\nagg_1            0.081774\nage              0.065079\ndep              0.053181\ncatv_1           0.046492\ncol_1            0.040865\ncatr_1           0.039829\ntrajet_1         0.031065\ncol_6            0.023298",
      "text/html": "<div>\n<style scoped>\n    .dataframe tbody tr th:only-of-type {\n        vertical-align: middle;\n    }\n\n    .dataframe tbody tr th {\n        vertical-align: top;\n    }\n\n    .dataframe thead th {\n        text-align: right;\n    }\n</style>\n<table border=\"1\" class=\"dataframe\">\n  <thead>\n    <tr style=\"text-align: right;\">\n      <th></th>\n      <th>Gini-importance</th>\n    </tr>\n  </thead>\n  <tbody>\n    <tr>\n      <th>agg_1</th>\n      <td>0.081774</td>\n    </tr>\n    <tr>\n      <th>age</th>\n      <td>0.065079</td>\n    </tr>\n    <tr>\n      <th>dep</th>\n      <td>0.053181</td>\n    </tr>\n    <tr>\n      <th>catv_1</th>\n      <td>0.046492</td>\n    </tr>\n    <tr>\n      <th>col_1</th>\n      <td>0.040865</td>\n    </tr>\n    <tr>\n      <th>catr_1</th>\n      <td>0.039829</td>\n    </tr>\n    <tr>\n      <th>trajet_1</th>\n      <td>0.031065</td>\n    </tr>\n    <tr>\n      <th>col_6</th>\n      <td>0.023298</td>\n    </tr>\n  </tbody>\n</table>\n</div>"
     },
     "execution_count": 14,
     "metadata": {},
     "output_type": "execute_result"
    }
   ],
   "source": [
    "feats = {}\n",
    "for feature, importance in zip(X_train_oh.columns, grid.best_estimator_.feature_importances_):\n",
    "    feats[feature] = importance\n",
    "\n",
    "importances = pd.DataFrame.from_dict(feats, orient='index').rename(columns={0: 'Gini-importance'})\n",
    "\n",
    "#Affichage des 8 variables les plus importantes\n",
    "importances.sort_values(by='Gini-importance', ascending=False).head(8)"
   ],
   "metadata": {
    "collapsed": false
   }
  },
  {
   "cell_type": "code",
   "execution_count": 13,
   "outputs": [
    {
     "data": {
      "text/plain": "         place_1  place_2  place_3  place_4  place_5  place_6  place_7  \\\n1622124        1        0        0        0        0        0        0   \n1859743        0        1        0        0        0        0        0   \n334332         1        0        0        0        0        0        0   \n1178903        1        0        0        0        0        0        0   \n575589         1        0        0        0        0        0        0   \n...          ...      ...      ...      ...      ...      ...      ...   \n965755         1        0        0        0        0        0        0   \n1138032        1        0        0        0        0        0        0   \n693454         1        0        0        0        0        0        0   \n1625316        1        0        0        0        0        0        0   \n1435065        0        1        0        0        0        0        0   \n\n         place_8  place_9  place_10  ...  catv_6  catv_7       age  joursem_1  \\\n1622124        0        0         0  ...       0       0  0.226834          1   \n1859743        0        0         0  ...       0       0  0.230889          0   \n334332         0        0         0  ...       0       0  0.176117          0   \n1178903        0        0         0  ...       0       0  0.198079          0   \n575589         0        0         0  ...       0       0  0.188881          0   \n...          ...      ...       ...  ...     ...     ...       ...        ...   \n965755         0        0         0  ...       0       0  0.226834          0   \n1138032        0        0         0  ...       0       0  0.216652          0   \n693454         0        0         0  ...       0       0  0.230889          0   \n1625316        0        0         0  ...       0       0  0.345679          0   \n1435065        0        0         0  ...       0       0  0.206655          0   \n\n         joursem_2  joursem_3  joursem_4  joursem_5  joursem_6  joursem_7  \n1622124          0          0          0          0          0          0  \n1859743          1          0          0          0          0          0  \n334332           0          1          0          0          0          0  \n1178903          0          0          1          0          0          0  \n575589           0          0          0          1          0          0  \n...            ...        ...        ...        ...        ...        ...  \n965755           1          0          0          0          0          0  \n1138032          0          0          0          1          0          0  \n693454           0          0          0          0          1          0  \n1625316          0          1          0          0          0          0  \n1435065          0          0          0          0          1          0  \n\n[79832 rows x 192 columns]",
      "text/html": "<div>\n<style scoped>\n    .dataframe tbody tr th:only-of-type {\n        vertical-align: middle;\n    }\n\n    .dataframe tbody tr th {\n        vertical-align: top;\n    }\n\n    .dataframe thead th {\n        text-align: right;\n    }\n</style>\n<table border=\"1\" class=\"dataframe\">\n  <thead>\n    <tr style=\"text-align: right;\">\n      <th></th>\n      <th>place_1</th>\n      <th>place_2</th>\n      <th>place_3</th>\n      <th>place_4</th>\n      <th>place_5</th>\n      <th>place_6</th>\n      <th>place_7</th>\n      <th>place_8</th>\n      <th>place_9</th>\n      <th>place_10</th>\n      <th>...</th>\n      <th>catv_6</th>\n      <th>catv_7</th>\n      <th>age</th>\n      <th>joursem_1</th>\n      <th>joursem_2</th>\n      <th>joursem_3</th>\n      <th>joursem_4</th>\n      <th>joursem_5</th>\n      <th>joursem_6</th>\n      <th>joursem_7</th>\n    </tr>\n  </thead>\n  <tbody>\n    <tr>\n      <th>1622124</th>\n      <td>1</td>\n      <td>0</td>\n      <td>0</td>\n      <td>0</td>\n      <td>0</td>\n      <td>0</td>\n      <td>0</td>\n      <td>0</td>\n      <td>0</td>\n      <td>0</td>\n      <td>...</td>\n      <td>0</td>\n      <td>0</td>\n      <td>0.226834</td>\n      <td>1</td>\n      <td>0</td>\n      <td>0</td>\n      <td>0</td>\n      <td>0</td>\n      <td>0</td>\n      <td>0</td>\n    </tr>\n    <tr>\n      <th>1859743</th>\n      <td>0</td>\n      <td>1</td>\n      <td>0</td>\n      <td>0</td>\n      <td>0</td>\n      <td>0</td>\n      <td>0</td>\n      <td>0</td>\n      <td>0</td>\n      <td>0</td>\n      <td>...</td>\n      <td>0</td>\n      <td>0</td>\n      <td>0.230889</td>\n      <td>0</td>\n      <td>1</td>\n      <td>0</td>\n      <td>0</td>\n      <td>0</td>\n      <td>0</td>\n      <td>0</td>\n    </tr>\n    <tr>\n      <th>334332</th>\n      <td>1</td>\n      <td>0</td>\n      <td>0</td>\n      <td>0</td>\n      <td>0</td>\n      <td>0</td>\n      <td>0</td>\n      <td>0</td>\n      <td>0</td>\n      <td>0</td>\n      <td>...</td>\n      <td>0</td>\n      <td>0</td>\n      <td>0.176117</td>\n      <td>0</td>\n      <td>0</td>\n      <td>1</td>\n      <td>0</td>\n      <td>0</td>\n      <td>0</td>\n      <td>0</td>\n    </tr>\n    <tr>\n      <th>1178903</th>\n      <td>1</td>\n      <td>0</td>\n      <td>0</td>\n      <td>0</td>\n      <td>0</td>\n      <td>0</td>\n      <td>0</td>\n      <td>0</td>\n      <td>0</td>\n      <td>0</td>\n      <td>...</td>\n      <td>0</td>\n      <td>0</td>\n      <td>0.198079</td>\n      <td>0</td>\n      <td>0</td>\n      <td>0</td>\n      <td>1</td>\n      <td>0</td>\n      <td>0</td>\n      <td>0</td>\n    </tr>\n    <tr>\n      <th>575589</th>\n      <td>1</td>\n      <td>0</td>\n      <td>0</td>\n      <td>0</td>\n      <td>0</td>\n      <td>0</td>\n      <td>0</td>\n      <td>0</td>\n      <td>0</td>\n      <td>0</td>\n      <td>...</td>\n      <td>0</td>\n      <td>0</td>\n      <td>0.188881</td>\n      <td>0</td>\n      <td>0</td>\n      <td>0</td>\n      <td>0</td>\n      <td>1</td>\n      <td>0</td>\n      <td>0</td>\n    </tr>\n    <tr>\n      <th>...</th>\n      <td>...</td>\n      <td>...</td>\n      <td>...</td>\n      <td>...</td>\n      <td>...</td>\n      <td>...</td>\n      <td>...</td>\n      <td>...</td>\n      <td>...</td>\n      <td>...</td>\n      <td>...</td>\n      <td>...</td>\n      <td>...</td>\n      <td>...</td>\n      <td>...</td>\n      <td>...</td>\n      <td>...</td>\n      <td>...</td>\n      <td>...</td>\n      <td>...</td>\n      <td>...</td>\n    </tr>\n    <tr>\n      <th>965755</th>\n      <td>1</td>\n      <td>0</td>\n      <td>0</td>\n      <td>0</td>\n      <td>0</td>\n      <td>0</td>\n      <td>0</td>\n      <td>0</td>\n      <td>0</td>\n      <td>0</td>\n      <td>...</td>\n      <td>0</td>\n      <td>0</td>\n      <td>0.226834</td>\n      <td>0</td>\n      <td>1</td>\n      <td>0</td>\n      <td>0</td>\n      <td>0</td>\n      <td>0</td>\n      <td>0</td>\n    </tr>\n    <tr>\n      <th>1138032</th>\n      <td>1</td>\n      <td>0</td>\n      <td>0</td>\n      <td>0</td>\n      <td>0</td>\n      <td>0</td>\n      <td>0</td>\n      <td>0</td>\n      <td>0</td>\n      <td>0</td>\n      <td>...</td>\n      <td>0</td>\n      <td>0</td>\n      <td>0.216652</td>\n      <td>0</td>\n      <td>0</td>\n      <td>0</td>\n      <td>0</td>\n      <td>1</td>\n      <td>0</td>\n      <td>0</td>\n    </tr>\n    <tr>\n      <th>693454</th>\n      <td>1</td>\n      <td>0</td>\n      <td>0</td>\n      <td>0</td>\n      <td>0</td>\n      <td>0</td>\n      <td>0</td>\n      <td>0</td>\n      <td>0</td>\n      <td>0</td>\n      <td>...</td>\n      <td>0</td>\n      <td>0</td>\n      <td>0.230889</td>\n      <td>0</td>\n      <td>0</td>\n      <td>0</td>\n      <td>0</td>\n      <td>0</td>\n      <td>1</td>\n      <td>0</td>\n    </tr>\n    <tr>\n      <th>1625316</th>\n      <td>1</td>\n      <td>0</td>\n      <td>0</td>\n      <td>0</td>\n      <td>0</td>\n      <td>0</td>\n      <td>0</td>\n      <td>0</td>\n      <td>0</td>\n      <td>0</td>\n      <td>...</td>\n      <td>0</td>\n      <td>0</td>\n      <td>0.345679</td>\n      <td>0</td>\n      <td>0</td>\n      <td>1</td>\n      <td>0</td>\n      <td>0</td>\n      <td>0</td>\n      <td>0</td>\n    </tr>\n    <tr>\n      <th>1435065</th>\n      <td>0</td>\n      <td>1</td>\n      <td>0</td>\n      <td>0</td>\n      <td>0</td>\n      <td>0</td>\n      <td>0</td>\n      <td>0</td>\n      <td>0</td>\n      <td>0</td>\n      <td>...</td>\n      <td>0</td>\n      <td>0</td>\n      <td>0.206655</td>\n      <td>0</td>\n      <td>0</td>\n      <td>0</td>\n      <td>0</td>\n      <td>0</td>\n      <td>1</td>\n      <td>0</td>\n    </tr>\n  </tbody>\n</table>\n<p>79832 rows × 192 columns</p>\n</div>"
     },
     "execution_count": 13,
     "metadata": {},
     "output_type": "execute_result"
    }
   ],
   "source": [
    "len(grid.best_estimator_.feature_importances_)\n",
    "X_train_oh"
   ],
   "metadata": {
    "collapsed": false
   }
  },
  {
   "cell_type": "code",
   "execution_count": 27,
   "outputs": [
    {
     "name": "stdout",
     "output_type": "stream",
     "text": [
      "Train score : 0.9940097402597402\n",
      "Test score : 0.7841833440929632\n",
      "                   pre       rec       spe        f1       geo       iba       sup\n",
      "\n",
      "          0       0.78      0.82      0.77      0.80      0.79      0.63     15490\n",
      "          1       0.81      0.77      0.82      0.79      0.79      0.63     15490\n",
      "\n",
      "avg / total       0.80      0.79      0.79      0.79      0.79      0.63     30980\n",
      "\n",
      "--- performed in 1261.5334310531616 seconds ---\n"
     ]
    }
   ],
   "source": [
    "from sklearn.tree import DecisionTreeClassifier\n",
    "from imblearn.over_sampling import SMOTE\n",
    "from imblearn.metrics import classification_report_imbalanced\n",
    "from category_encoders import TargetEncoder, OneHotEncoder\n",
    "from sklearn.preprocessing import StandardScaler\n",
    "\n",
    "cols_target_encoded = ['dep', 'age']\n",
    "cols_onehot_encoded = X_train.columns.drop(cols_target_encoded)\n",
    "scaler = StandardScaler()\n",
    "\n",
    "encoder_target = TargetEncoder(cols=cols_target_encoded)\n",
    "encoder_onehot = OneHotEncoder(cols=cols_onehot_encoded)\n",
    "\n",
    "smt   = SMOTE(random_state=42)\n",
    "model = DecisionTreeClassifier(criterion='entropy', max_depth=40, max_features='auto',min_samples_split=2)\n",
    "\n",
    "X_train_enc_t = encoder_target.fit_transform(X_train, y_train)\n",
    "X_train_enc_oh = encoder_onehot.fit_transform(X_train_enc_t, y_train)\n",
    "X_train_sc = scaler.fit_transform(X_train_enc_oh)\n",
    "X_train_rs, y_train_rs = smt.fit_resample(X_train_sc, y_train)\n",
    "model.fit(X_train_rs, y_train_rs)\n",
    "\n",
    "X_test_enc_t = encoder_target.transform(X_test)\n",
    "X_test_enc_oh = encoder_onehot.transform(X_test_enc_t)\n",
    "X_test_sc = scaler.transform(X_test_enc_oh)\n",
    "X_test_rs, y_test_rs = smt.fit_resample(X_test_sc, y_test)\n",
    "y_pred = model.predict(X_test_rs)\n",
    "\n",
    "print(f\"Train score : {model.score(X_train_rs, y_train_rs)}\")\n",
    "print(f\"Test score : {model.score(X_test_rs, y_test_rs)}\")\n",
    "\n",
    "y_pred = grid.predict(X_test_rs)\n",
    "print(classification_report_imbalanced(y_test_rs, y_pred))\n",
    "\n",
    "print(\"--- performed in %s seconds ---\" % (time.time() - start_time))"
   ],
   "metadata": {
    "collapsed": false
   }
  },
  {
   "cell_type": "code",
   "execution_count": null,
   "outputs": [],
   "source": [
    "from sklearn.tree import DecisionTreeClassifier\n",
    "from imblearn.pipeline import Pipeline\n",
    "from sklearn.model_selection import GridSearchCV\n",
    "from imblearn.over_sampling import SMOTE\n",
    "from imblearn.metrics import classification_report_imbalanced\n",
    "import time\n",
    "\n",
    "start_time = time.time()\n",
    "\n",
    "cols_target_encoded = ['dep', 'age']\n",
    "cols_onehot_encoded = X_train.columns.drop(cols_target_encoded)\n",
    "scaler = StandardScaler()\n",
    "\n",
    "encoder_target = TargetEncoder(cols=cols_target_encoded)\n",
    "encoder_onehot = OneHotEncoder(cols=cols_onehot_encoded)\n",
    "smt   = SMOTE(random_state=42)\n",
    "model = DecisionTreeClassifier()\n",
    "\n",
    "dt_pipe = Pipeline([\n",
    "                    ('encoding_target', encoder_target),\n",
    "                    ('encoding_onehot', encoder_onehot),\n",
    "                    ('scaling', scaler),\n",
    "                    ('smote', smt),\n",
    "                    # ('selection', selector),\n",
    "                    ('model', model)\n",
    "                    ])\n",
    "param_grid = {\n",
    "    'model__max_depth' : [10, 20, 30, 40 ,50],\n",
    "    'model__criterion' : ('gini', 'entropy'),\n",
    "    'model__max_features' : ('auto', 'sqrt', 'log2'),\n",
    "    'model__min_samples_split' : (2,4,6)\n",
    "}\n",
    "\n",
    "grid = GridSearchCV(dt_pipe, param_grid=param_grid, cv = 3, n_jobs=-1)\n",
    "grid.fit(X_train, y_train)\n",
    "\n",
    "print('Best score  : ', grid.best_score_)\n",
    "print('Best params : ', grid.best_params_)\n",
    "\n",
    "y_pred = grid.predict(X_test)\n",
    "print(classification_report_imbalanced(y_test, y_pred))\n",
    "\n",
    "print(\"--- performed in %s seconds ---\" % (time.time() - start_time))"
   ],
   "metadata": {
    "collapsed": false
   }
  }
 ],
 "metadata": {
  "kernelspec": {
   "display_name": "Python 3",
   "language": "python",
   "name": "python3"
  },
  "language_info": {
   "codemirror_mode": {
    "name": "ipython",
    "version": 2
   },
   "file_extension": ".py",
   "mimetype": "text/x-python",
   "name": "python",
   "nbconvert_exporter": "python",
   "pygments_lexer": "ipython2",
   "version": "2.7.6"
  }
 },
 "nbformat": 4,
 "nbformat_minor": 0
}
