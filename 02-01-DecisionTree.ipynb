{
 "cells": [
  {
   "cell_type": "code",
   "execution_count": null,
   "outputs": [],
   "source": [
    "import pandas as pd\n",
    "\n",
    "quick = True\n",
    "\n",
    "if quick:\n",
    "    start_year, end_year, chk, sampled, filename = [2005, 2021, False, True, 'df-light.pkl']\n",
    "else:\n",
    "    start_year, end_year, chk, sampled, filename = [2005, 2021, True, False, 'df-full.pkl']\n",
    "\n",
    "from sklearn.model_selection import train_test_split\n",
    "\n",
    "df = pd.read_pickle(f'./{filename}')\n",
    "data = df.iloc[:, 1:]\n",
    "target = df['grav']\n",
    "\n",
    "X_train, X_test, y_train, y_test = train_test_split(data, target, test_size=0.2, random_state=222)"
   ],
   "metadata": {
    "collapsed": false
   }
  },
  {
   "cell_type": "code",
   "execution_count": null,
   "outputs": [],
   "source": [
    "from sklearn.tree import DecisionTreeClassifier\n",
    "from sklearn.model_selection import GridSearchCV\n",
    "from sklearn.preprocessing import StandardScaler, MinMaxScaler\n",
    "from category_encoders import TargetEncoder, OneHotEncoder\n",
    "from imblearn.over_sampling import SMOTE, RandomOverSampler\n",
    "from imblearn.under_sampling import RandomUnderSampler\n",
    "from imblearn.metrics import classification_report_imbalanced\n",
    "import time\n",
    "\n",
    "start_time = time.time()\n",
    "\n",
    "cols_target_encoded = ['dep', 'age']\n",
    "cols_onehot_encoded = X_train.columns.drop(cols_target_encoded)\n",
    "scaler = StandardScaler()\n",
    "\n",
    "encoder_target = TargetEncoder(cols=cols_target_encoded)\n",
    "encoder_onehot = OneHotEncoder(cols=cols_onehot_encoded)\n",
    "sampler        = SMOTE(random_state=42)\n",
    "# sampler        = RandomUnderSampler()\n",
    "# sampler        = RandomOverSampler()\n",
    "model          = DecisionTreeClassifier()\n",
    "\n",
    "\n",
    "X_train_te = encoder_target.fit_transform(X_train, y_train)\n",
    "X_test_te  = encoder_target.transform(X_test)\n",
    "\n",
    "X_train_oh = encoder_onehot.fit_transform(X_train_te, y_train)\n",
    "X_test_oh  = encoder_onehot.transform(X_test_te)\n",
    "\n",
    "X_train_sc = scaler.fit_transform(X_train_oh)\n",
    "X_test_sc  = scaler.transform(X_test_oh)\n",
    "\n",
    "X_train_rs, y_train_rs = sampler.fit_resample(X_train_sc, y_train)\n",
    "X_test_rs, y_test_rs   = sampler.fit_resample(X_test_sc, y_test)\n",
    "\n",
    "params = {\n",
    "    'max_depth' : [10, 20, 30, 40 ,50],\n",
    "    'criterion' : ('gini', 'entropy'),\n",
    "    'max_features' : ('auto', 'sqrt', 'log2'),\n",
    "    'min_samples_split' : (2,4,6)\n",
    "}\n",
    "\n",
    "grid = GridSearchCV(estimator=model, param_grid=params, cv = 3, verbose=10)\n",
    "grid.fit(X_train_rs, y_train_rs)\n",
    "\n",
    "print('Best score  : ', grid.best_score_)\n",
    "print('Best params : ', grid.best_params_)\n",
    "\n",
    "y_pred = grid.predict(X_test_rs)\n",
    "print(classification_report_imbalanced(y_test_rs, y_pred))\n",
    "\n",
    "print(\"--- performed in %s seconds ---\" % (time.time() - start_time))"
   ],
   "metadata": {
    "collapsed": false
   }
  },
  {
   "cell_type": "code",
   "execution_count": null,
   "outputs": [],
   "source": [
    "feats = {}\n",
    "for feature, importance in zip(X_train_oh.columns, grid.best_estimator_.feature_importances_):\n",
    "    feats[feature] = importance\n",
    "\n",
    "importances = pd.DataFrame.from_dict(feats, orient='index').rename(columns={0: 'Gini-importance'})\n",
    "\n",
    "# 8 variables les plus importantes\n",
    "importances.sort_values(by='Gini-importance', ascending=False).head(20)"
   ],
   "metadata": {
    "collapsed": false
   }
  },
  {
   "cell_type": "code",
   "execution_count": null,
   "outputs": [],
   "source": [
    "from sklearn.tree import DecisionTreeClassifier\n",
    "from imblearn.pipeline import Pipeline\n",
    "from sklearn.model_selection import GridSearchCV\n",
    "from imblearn.over_sampling import SMOTE\n",
    "from imblearn.metrics import classification_report_imbalanced\n",
    "import time\n",
    "\n",
    "start_time = time.time()\n",
    "\n",
    "cols_target_encoded = ['dep', 'age']\n",
    "cols_onehot_encoded = X_train.columns.drop(cols_target_encoded)\n",
    "scaler = StandardScaler()\n",
    "\n",
    "encoder_target = TargetEncoder(cols=cols_target_encoded)\n",
    "encoder_onehot = OneHotEncoder(cols=cols_onehot_encoded)\n",
    "smt   = SMOTE(random_state=42)\n",
    "model = DecisionTreeClassifier()\n",
    "\n",
    "dt_pipe = Pipeline([\n",
    "    ('encoding_target', encoder_target),\n",
    "    ('encoding_onehot', encoder_onehot),\n",
    "    ('scaling', scaler),\n",
    "    ('smote', smt),\n",
    "    # ('selection', selector),\n",
    "    ('model', model)\n",
    "    ])\n",
    "# ], memory='./cache')\n",
    "param_grid = {\n",
    "    'model__max_depth' : [10, 20, 30, 40 ,50],\n",
    "    'model__criterion' : ('gini', 'entropy'),\n",
    "    'model__max_features' : ('auto', 'sqrt', 'log2'),\n",
    "    'model__min_samples_split' : (2,4,6)\n",
    "}\n",
    "\n",
    "grid = GridSearchCV(estimator=dt_pipe, param_grid=param_grid, cv = 3, verbose=10)\n",
    "grid.fit(X_train, y_train)\n",
    "\n",
    "print('Best score  : ', grid.best_score_)\n",
    "print('Best params : ', grid.best_params_)\n",
    "\n",
    "y_pred = grid.predict(X_test)\n",
    "print(classification_report_imbalanced(y_test, y_pred))\n",
    "\n",
    "print(\"--- performed in %s seconds ---\" % (time.time() - start_time))"
   ],
   "metadata": {
    "collapsed": false
   }
  }
 ],
 "metadata": {
  "kernelspec": {
   "display_name": "Python 3",
   "language": "python",
   "name": "python3"
  },
  "language_info": {
   "codemirror_mode": {
    "name": "ipython",
    "version": 2
   },
   "file_extension": ".py",
   "mimetype": "text/x-python",
   "name": "python",
   "nbconvert_exporter": "python",
   "pygments_lexer": "ipython2",
   "version": "2.7.6"
  }
 },
 "nbformat": 4,
 "nbformat_minor": 0
}
