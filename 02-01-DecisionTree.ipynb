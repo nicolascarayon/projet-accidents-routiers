{
 "cells": [
  {
   "cell_type": "code",
   "execution_count": 43,
   "outputs": [],
   "source": [
    "import pandas as pd\n",
    "\n",
    "quick = True\n",
    "\n",
    "if quick:\n",
    "    start_year, end_year, chk, sampled = [2005, 2021, False, True]\n",
    "else:\n",
    "    start_year, end_year, chk, sampled = [2005, 2021, True, False]\n",
    "\n",
    "undersampling = True\n",
    "oversampling  = False\n",
    "smote         = False"
   ],
   "metadata": {
    "collapsed": false
   }
  },
  {
   "cell_type": "code",
   "execution_count": 47,
   "metadata": {
    "collapsed": true
   },
   "outputs": [],
   "source": [
    "from sklearn.model_selection import train_test_split\n",
    "from my_libs.scalers import FeaturesScaler\n",
    "\n",
    "df = pd.read_pickle(\"./project_df.pkl\")\n",
    "data = df.iloc[:, 1:]\n",
    "target = df['grav']\n",
    "\n",
    "X_train, X_test, y_train, y_test = train_test_split(data, target, test_size=0.2, random_state=222)"
   ]
  },
  {
   "cell_type": "code",
   "execution_count": 48,
   "outputs": [
    {
     "name": "stdout",
     "output_type": "stream",
     "text": [
      "Column jour has been target encoded\n",
      "Column age has been target encoded\n",
      "Column dep has been target encoded\n",
      "Column place has been dummy encoded\n",
      "Column catu has been dummy encoded\n",
      "Column sexe has been dummy encoded\n",
      "Column trajet has been dummy encoded\n",
      "Column locp has been dummy encoded\n",
      "Column actp has been dummy encoded\n",
      "Column etatp has been dummy encoded\n",
      "Column mois has been dummy encoded\n",
      "Column lum has been dummy encoded\n",
      "Column agg has been dummy encoded\n",
      "Column int has been dummy encoded\n",
      "Column atm has been dummy encoded\n",
      "Column col has been dummy encoded\n",
      "Column catr has been dummy encoded\n",
      "Column circ has been dummy encoded\n",
      "Column nbv has been dummy encoded\n",
      "Column vosp has been dummy encoded\n",
      "Column prof has been dummy encoded\n",
      "Column plan has been dummy encoded\n",
      "Column surf has been dummy encoded\n",
      "Column infra has been dummy encoded\n",
      "Column situ has been dummy encoded\n",
      "Column senc has been dummy encoded\n",
      "Column catv has been dummy encoded\n",
      "Column joursem has been dummy encoded\n",
      "Column jour has been target encoded\n",
      "Column age has been target encoded\n",
      "Column dep has been target encoded\n",
      "Column place has been dummy encoded\n",
      "Column catu has been dummy encoded\n",
      "Column sexe has been dummy encoded\n",
      "Column trajet has been dummy encoded\n",
      "Column locp has been dummy encoded\n",
      "Column actp has been dummy encoded\n",
      "Column etatp has been dummy encoded\n",
      "Column mois has been dummy encoded\n",
      "Column lum has been dummy encoded\n",
      "Column agg has been dummy encoded\n",
      "Column int has been dummy encoded\n",
      "Column atm has been dummy encoded\n",
      "Column col has been dummy encoded\n",
      "Column catr has been dummy encoded\n",
      "Column circ has been dummy encoded\n",
      "Column nbv has been dummy encoded\n",
      "Column vosp has been dummy encoded\n",
      "Column prof has been dummy encoded\n",
      "Column plan has been dummy encoded\n",
      "Column surf has been dummy encoded\n",
      "Column infra has been dummy encoded\n",
      "Column situ has been dummy encoded\n",
      "Column senc has been dummy encoded\n",
      "Column catv has been dummy encoded\n",
      "Column joursem has been dummy encoded\n",
      "                   pre       rec       spe        f1       geo       iba       sup\n",
      "\n",
      "          0       0.58      0.49      0.66      0.53      0.56      0.31     15516\n",
      "          1       0.56      0.66      0.49      0.60      0.56      0.32     15516\n",
      "\n",
      "avg / total       0.57      0.57      0.57      0.57      0.56      0.32     31032\n",
      "\n"
     ]
    }
   ],
   "source": [
    "from my_libs.encoders import FeaturesEncoder\n",
    "from sklearn.tree import DecisionTreeClassifier\n",
    "from imblearn.over_sampling import SMOTE\n",
    "from imblearn.metrics import classification_report_imbalanced\n",
    "\n",
    "encoder = FeaturesEncoder(True)\n",
    "scaler  = FeaturesScaler(True)\n",
    "smt     = SMOTE(random_state=42)\n",
    "model   = DecisionTreeClassifier(max_depth=10)\n",
    "\n",
    "X_train = encoder.fit_transform(X_train, y_train)\n",
    "X_train = scaler.fit_transform(X_train, y_train)\n",
    "X_train, y_train = smt.fit_resample(X_train, y_train)\n",
    "model.fit(X_train, y_train)\n",
    "\n",
    "X_test = encoder.fit_transform(X_test, y_test)\n",
    "X_test = scaler.fit_transform(X_test, y_test)\n",
    "X_test, y_test = smt.fit_resample(X_test, y_test)\n",
    "y_pred = model.predict(X_test)\n",
    "print(classification_report_imbalanced(y_test, y_pred))"
   ],
   "metadata": {
    "collapsed": false
   }
  },
  {
   "cell_type": "code",
   "execution_count": 45,
   "outputs": [
    {
     "name": "stderr",
     "output_type": "stream",
     "text": [
      "C:\\ProgramData\\Anaconda3\\lib\\site-packages\\sklearn\\model_selection\\_validation.py:770: UserWarning: Scoring failed. The score on this train-test partition for these parameters will be set to nan. Details: \n",
      "Traceback (most recent call last):\n",
      "  File \"C:\\ProgramData\\Anaconda3\\lib\\site-packages\\sklearn\\model_selection\\_validation.py\", line 761, in _score\n",
      "    scores = scorer(estimator, X_test, y_test)\n",
      "  File \"C:\\ProgramData\\Anaconda3\\lib\\site-packages\\sklearn\\metrics\\_scorer.py\", line 418, in _passthrough_scorer\n",
      "    return estimator.score(*args, **kwargs)\n",
      "  File \"C:\\ProgramData\\Anaconda3\\lib\\site-packages\\sklearn\\utils\\metaestimators.py\", line 113, in <lambda>\n",
      "    out = lambda *args, **kwargs: self.fn(obj, *args, **kwargs)  # noqa\n",
      "  File \"C:\\ProgramData\\Anaconda3\\lib\\site-packages\\sklearn\\pipeline.py\", line 707, in score\n",
      "    Xt = transform.transform(Xt)\n",
      "  File \"C:\\Users\\nicol\\git\\projet-accidents-routiers\\my_libs\\encoders.py\", line 19, in transform\n",
      "    X_enc[f\"{col}\"] = TargetEncoder().fit_transform(X[col].astype('str'), self.y)\n",
      "  File \"C:\\Users\\nicol\\AppData\\Roaming\\Python\\Python39\\site-packages\\category_encoders\\utils.py\", line 446, in fit_transform\n",
      "    return self.fit(X, y, **fit_params).transform(X, y)\n",
      "  File \"C:\\Users\\nicol\\AppData\\Roaming\\Python\\Python39\\site-packages\\category_encoders\\utils.py\", line 294, in fit\n",
      "    X, y = convert_inputs(X, y)\n",
      "  File \"C:\\Users\\nicol\\AppData\\Roaming\\Python\\Python39\\site-packages\\category_encoders\\utils.py\", line 82, in convert_inputs\n",
      "    if any(X.index != y.index):\n",
      "  File \"C:\\ProgramData\\Anaconda3\\lib\\site-packages\\pandas\\core\\ops\\common.py\", line 70, in new_method\n",
      "    return method(self, other)\n",
      "  File \"C:\\ProgramData\\Anaconda3\\lib\\site-packages\\pandas\\core\\arraylike.py\", line 44, in __ne__\n",
      "    return self._cmp_method(other, operator.ne)\n",
      "  File \"C:\\ProgramData\\Anaconda3\\lib\\site-packages\\pandas\\core\\indexes\\base.py\", line 6689, in _cmp_method\n",
      "    raise ValueError(\"Lengths must match to compare\")\n",
      "ValueError: Lengths must match to compare\n",
      "\n",
      "  warnings.warn(\n",
      "C:\\ProgramData\\Anaconda3\\lib\\site-packages\\sklearn\\model_selection\\_validation.py:770: UserWarning: Scoring failed. The score on this train-test partition for these parameters will be set to nan. Details: \n",
      "Traceback (most recent call last):\n",
      "  File \"C:\\ProgramData\\Anaconda3\\lib\\site-packages\\sklearn\\model_selection\\_validation.py\", line 761, in _score\n",
      "    scores = scorer(estimator, X_test, y_test)\n",
      "  File \"C:\\ProgramData\\Anaconda3\\lib\\site-packages\\sklearn\\metrics\\_scorer.py\", line 418, in _passthrough_scorer\n",
      "    return estimator.score(*args, **kwargs)\n",
      "  File \"C:\\ProgramData\\Anaconda3\\lib\\site-packages\\sklearn\\utils\\metaestimators.py\", line 113, in <lambda>\n",
      "    out = lambda *args, **kwargs: self.fn(obj, *args, **kwargs)  # noqa\n",
      "  File \"C:\\ProgramData\\Anaconda3\\lib\\site-packages\\sklearn\\pipeline.py\", line 707, in score\n",
      "    Xt = transform.transform(Xt)\n",
      "  File \"C:\\Users\\nicol\\git\\projet-accidents-routiers\\my_libs\\encoders.py\", line 19, in transform\n",
      "    X_enc[f\"{col}\"] = TargetEncoder().fit_transform(X[col].astype('str'), self.y)\n",
      "  File \"C:\\Users\\nicol\\AppData\\Roaming\\Python\\Python39\\site-packages\\category_encoders\\utils.py\", line 446, in fit_transform\n",
      "    return self.fit(X, y, **fit_params).transform(X, y)\n",
      "  File \"C:\\Users\\nicol\\AppData\\Roaming\\Python\\Python39\\site-packages\\category_encoders\\utils.py\", line 294, in fit\n",
      "    X, y = convert_inputs(X, y)\n",
      "  File \"C:\\Users\\nicol\\AppData\\Roaming\\Python\\Python39\\site-packages\\category_encoders\\utils.py\", line 82, in convert_inputs\n",
      "    if any(X.index != y.index):\n",
      "  File \"C:\\ProgramData\\Anaconda3\\lib\\site-packages\\pandas\\core\\ops\\common.py\", line 70, in new_method\n",
      "    return method(self, other)\n",
      "  File \"C:\\ProgramData\\Anaconda3\\lib\\site-packages\\pandas\\core\\arraylike.py\", line 44, in __ne__\n",
      "    return self._cmp_method(other, operator.ne)\n",
      "  File \"C:\\ProgramData\\Anaconda3\\lib\\site-packages\\pandas\\core\\indexes\\base.py\", line 6689, in _cmp_method\n",
      "    raise ValueError(\"Lengths must match to compare\")\n",
      "ValueError: Lengths must match to compare\n",
      "\n",
      "  warnings.warn(\n",
      "C:\\ProgramData\\Anaconda3\\lib\\site-packages\\sklearn\\model_selection\\_validation.py:770: UserWarning: Scoring failed. The score on this train-test partition for these parameters will be set to nan. Details: \n",
      "Traceback (most recent call last):\n",
      "  File \"C:\\ProgramData\\Anaconda3\\lib\\site-packages\\sklearn\\model_selection\\_validation.py\", line 761, in _score\n",
      "    scores = scorer(estimator, X_test, y_test)\n",
      "  File \"C:\\ProgramData\\Anaconda3\\lib\\site-packages\\sklearn\\metrics\\_scorer.py\", line 418, in _passthrough_scorer\n",
      "    return estimator.score(*args, **kwargs)\n",
      "  File \"C:\\ProgramData\\Anaconda3\\lib\\site-packages\\sklearn\\utils\\metaestimators.py\", line 113, in <lambda>\n",
      "    out = lambda *args, **kwargs: self.fn(obj, *args, **kwargs)  # noqa\n",
      "  File \"C:\\ProgramData\\Anaconda3\\lib\\site-packages\\sklearn\\pipeline.py\", line 707, in score\n",
      "    Xt = transform.transform(Xt)\n",
      "  File \"C:\\Users\\nicol\\git\\projet-accidents-routiers\\my_libs\\encoders.py\", line 19, in transform\n",
      "    X_enc[f\"{col}\"] = TargetEncoder().fit_transform(X[col].astype('str'), self.y)\n",
      "  File \"C:\\Users\\nicol\\AppData\\Roaming\\Python\\Python39\\site-packages\\category_encoders\\utils.py\", line 446, in fit_transform\n",
      "    return self.fit(X, y, **fit_params).transform(X, y)\n",
      "  File \"C:\\Users\\nicol\\AppData\\Roaming\\Python\\Python39\\site-packages\\category_encoders\\utils.py\", line 294, in fit\n",
      "    X, y = convert_inputs(X, y)\n",
      "  File \"C:\\Users\\nicol\\AppData\\Roaming\\Python\\Python39\\site-packages\\category_encoders\\utils.py\", line 82, in convert_inputs\n",
      "    if any(X.index != y.index):\n",
      "  File \"C:\\ProgramData\\Anaconda3\\lib\\site-packages\\pandas\\core\\ops\\common.py\", line 70, in new_method\n",
      "    return method(self, other)\n",
      "  File \"C:\\ProgramData\\Anaconda3\\lib\\site-packages\\pandas\\core\\arraylike.py\", line 44, in __ne__\n",
      "    return self._cmp_method(other, operator.ne)\n",
      "  File \"C:\\ProgramData\\Anaconda3\\lib\\site-packages\\pandas\\core\\indexes\\base.py\", line 6689, in _cmp_method\n",
      "    raise ValueError(\"Lengths must match to compare\")\n",
      "ValueError: Lengths must match to compare\n",
      "\n",
      "  warnings.warn(\n",
      "C:\\ProgramData\\Anaconda3\\lib\\site-packages\\sklearn\\model_selection\\_validation.py:770: UserWarning: Scoring failed. The score on this train-test partition for these parameters will be set to nan. Details: \n",
      "Traceback (most recent call last):\n",
      "  File \"C:\\ProgramData\\Anaconda3\\lib\\site-packages\\sklearn\\model_selection\\_validation.py\", line 761, in _score\n",
      "    scores = scorer(estimator, X_test, y_test)\n",
      "  File \"C:\\ProgramData\\Anaconda3\\lib\\site-packages\\sklearn\\metrics\\_scorer.py\", line 418, in _passthrough_scorer\n",
      "    return estimator.score(*args, **kwargs)\n",
      "  File \"C:\\ProgramData\\Anaconda3\\lib\\site-packages\\sklearn\\utils\\metaestimators.py\", line 113, in <lambda>\n",
      "    out = lambda *args, **kwargs: self.fn(obj, *args, **kwargs)  # noqa\n",
      "  File \"C:\\ProgramData\\Anaconda3\\lib\\site-packages\\sklearn\\pipeline.py\", line 707, in score\n",
      "    Xt = transform.transform(Xt)\n",
      "  File \"C:\\Users\\nicol\\git\\projet-accidents-routiers\\my_libs\\encoders.py\", line 19, in transform\n",
      "    X_enc[f\"{col}\"] = TargetEncoder().fit_transform(X[col].astype('str'), self.y)\n",
      "  File \"C:\\Users\\nicol\\AppData\\Roaming\\Python\\Python39\\site-packages\\category_encoders\\utils.py\", line 446, in fit_transform\n",
      "    return self.fit(X, y, **fit_params).transform(X, y)\n",
      "  File \"C:\\Users\\nicol\\AppData\\Roaming\\Python\\Python39\\site-packages\\category_encoders\\utils.py\", line 294, in fit\n",
      "    X, y = convert_inputs(X, y)\n",
      "  File \"C:\\Users\\nicol\\AppData\\Roaming\\Python\\Python39\\site-packages\\category_encoders\\utils.py\", line 82, in convert_inputs\n",
      "    if any(X.index != y.index):\n",
      "  File \"C:\\ProgramData\\Anaconda3\\lib\\site-packages\\pandas\\core\\ops\\common.py\", line 70, in new_method\n",
      "    return method(self, other)\n",
      "  File \"C:\\ProgramData\\Anaconda3\\lib\\site-packages\\pandas\\core\\arraylike.py\", line 44, in __ne__\n",
      "    return self._cmp_method(other, operator.ne)\n",
      "  File \"C:\\ProgramData\\Anaconda3\\lib\\site-packages\\pandas\\core\\indexes\\base.py\", line 6689, in _cmp_method\n",
      "    raise ValueError(\"Lengths must match to compare\")\n",
      "ValueError: Lengths must match to compare\n",
      "\n",
      "  warnings.warn(\n",
      "C:\\ProgramData\\Anaconda3\\lib\\site-packages\\sklearn\\model_selection\\_validation.py:770: UserWarning: Scoring failed. The score on this train-test partition for these parameters will be set to nan. Details: \n",
      "Traceback (most recent call last):\n",
      "  File \"C:\\ProgramData\\Anaconda3\\lib\\site-packages\\sklearn\\model_selection\\_validation.py\", line 761, in _score\n",
      "    scores = scorer(estimator, X_test, y_test)\n",
      "  File \"C:\\ProgramData\\Anaconda3\\lib\\site-packages\\sklearn\\metrics\\_scorer.py\", line 418, in _passthrough_scorer\n",
      "    return estimator.score(*args, **kwargs)\n",
      "  File \"C:\\ProgramData\\Anaconda3\\lib\\site-packages\\sklearn\\utils\\metaestimators.py\", line 113, in <lambda>\n",
      "    out = lambda *args, **kwargs: self.fn(obj, *args, **kwargs)  # noqa\n",
      "  File \"C:\\ProgramData\\Anaconda3\\lib\\site-packages\\sklearn\\pipeline.py\", line 707, in score\n",
      "    Xt = transform.transform(Xt)\n",
      "  File \"C:\\Users\\nicol\\git\\projet-accidents-routiers\\my_libs\\encoders.py\", line 19, in transform\n",
      "    X_enc[f\"{col}\"] = TargetEncoder().fit_transform(X[col].astype('str'), self.y)\n",
      "  File \"C:\\Users\\nicol\\AppData\\Roaming\\Python\\Python39\\site-packages\\category_encoders\\utils.py\", line 446, in fit_transform\n",
      "    return self.fit(X, y, **fit_params).transform(X, y)\n",
      "  File \"C:\\Users\\nicol\\AppData\\Roaming\\Python\\Python39\\site-packages\\category_encoders\\utils.py\", line 294, in fit\n",
      "    X, y = convert_inputs(X, y)\n",
      "  File \"C:\\Users\\nicol\\AppData\\Roaming\\Python\\Python39\\site-packages\\category_encoders\\utils.py\", line 82, in convert_inputs\n",
      "    if any(X.index != y.index):\n",
      "  File \"C:\\ProgramData\\Anaconda3\\lib\\site-packages\\pandas\\core\\ops\\common.py\", line 70, in new_method\n",
      "    return method(self, other)\n",
      "  File \"C:\\ProgramData\\Anaconda3\\lib\\site-packages\\pandas\\core\\arraylike.py\", line 44, in __ne__\n",
      "    return self._cmp_method(other, operator.ne)\n",
      "  File \"C:\\ProgramData\\Anaconda3\\lib\\site-packages\\pandas\\core\\indexes\\base.py\", line 6689, in _cmp_method\n",
      "    raise ValueError(\"Lengths must match to compare\")\n",
      "ValueError: Lengths must match to compare\n",
      "\n",
      "  warnings.warn(\n",
      "C:\\ProgramData\\Anaconda3\\lib\\site-packages\\sklearn\\model_selection\\_validation.py:770: UserWarning: Scoring failed. The score on this train-test partition for these parameters will be set to nan. Details: \n",
      "Traceback (most recent call last):\n",
      "  File \"C:\\ProgramData\\Anaconda3\\lib\\site-packages\\sklearn\\model_selection\\_validation.py\", line 761, in _score\n",
      "    scores = scorer(estimator, X_test, y_test)\n",
      "  File \"C:\\ProgramData\\Anaconda3\\lib\\site-packages\\sklearn\\metrics\\_scorer.py\", line 418, in _passthrough_scorer\n",
      "    return estimator.score(*args, **kwargs)\n",
      "  File \"C:\\ProgramData\\Anaconda3\\lib\\site-packages\\sklearn\\utils\\metaestimators.py\", line 113, in <lambda>\n",
      "    out = lambda *args, **kwargs: self.fn(obj, *args, **kwargs)  # noqa\n",
      "  File \"C:\\ProgramData\\Anaconda3\\lib\\site-packages\\sklearn\\pipeline.py\", line 707, in score\n",
      "    Xt = transform.transform(Xt)\n",
      "  File \"C:\\Users\\nicol\\git\\projet-accidents-routiers\\my_libs\\encoders.py\", line 19, in transform\n",
      "    X_enc[f\"{col}\"] = TargetEncoder().fit_transform(X[col].astype('str'), self.y)\n",
      "  File \"C:\\Users\\nicol\\AppData\\Roaming\\Python\\Python39\\site-packages\\category_encoders\\utils.py\", line 446, in fit_transform\n",
      "    return self.fit(X, y, **fit_params).transform(X, y)\n",
      "  File \"C:\\Users\\nicol\\AppData\\Roaming\\Python\\Python39\\site-packages\\category_encoders\\utils.py\", line 294, in fit\n",
      "    X, y = convert_inputs(X, y)\n",
      "  File \"C:\\Users\\nicol\\AppData\\Roaming\\Python\\Python39\\site-packages\\category_encoders\\utils.py\", line 82, in convert_inputs\n",
      "    if any(X.index != y.index):\n",
      "  File \"C:\\ProgramData\\Anaconda3\\lib\\site-packages\\pandas\\core\\ops\\common.py\", line 70, in new_method\n",
      "    return method(self, other)\n",
      "  File \"C:\\ProgramData\\Anaconda3\\lib\\site-packages\\pandas\\core\\arraylike.py\", line 44, in __ne__\n",
      "    return self._cmp_method(other, operator.ne)\n",
      "  File \"C:\\ProgramData\\Anaconda3\\lib\\site-packages\\pandas\\core\\indexes\\base.py\", line 6689, in _cmp_method\n",
      "    raise ValueError(\"Lengths must match to compare\")\n",
      "ValueError: Lengths must match to compare\n",
      "\n",
      "  warnings.warn(\n",
      "C:\\ProgramData\\Anaconda3\\lib\\site-packages\\sklearn\\model_selection\\_search.py:969: UserWarning: One or more of the test scores are non-finite: [nan nan]\n",
      "  warnings.warn(\n"
     ]
    },
    {
     "data": {
      "text/plain": "GridSearchCV(cv=3,\n             estimator=Pipeline(steps=[('var_encoding', FeaturesEncoder()),\n                                       ('scaling',\n                                        <my_libs.scalers.FeaturesScaler object at 0x00000184B2E415B0>),\n                                       ('smote', SMOTE(random_state=42)),\n                                       ('model', DecisionTreeClassifier())]),\n             param_grid={'model__max_depth': (10, 20)})"
     },
     "execution_count": 45,
     "metadata": {},
     "output_type": "execute_result"
    }
   ],
   "source": [
    "from my_libs.encoders import FeaturesEncoder\n",
    "from sklearn.tree import DecisionTreeClassifier\n",
    "# from sklearn.pipeline import Pipeline\n",
    "from imblearn.pipeline import Pipeline\n",
    "from sklearn.model_selection import GridSearchCV\n",
    "from imblearn.over_sampling import SMOTE\n",
    "# from sklearn.metrics import classification_report\n",
    "from imblearn.metrics import classification_report_imbalanced\n",
    "\n",
    "encoder = FeaturesEncoder()\n",
    "scaler  = FeaturesScaler(True)\n",
    "smt     = SMOTE(random_state=42)\n",
    "model   = DecisionTreeClassifier()\n",
    "\n",
    "dt_pipe = Pipeline([\n",
    "                    ('var_encoding', encoder),\n",
    "                    ('scaling', scaler),\n",
    "                    ('smote', smt),\n",
    "                    # ('selection', selector),\n",
    "                    ('model', model)\n",
    "                    ])\n",
    "param_grid = {\n",
    "    'model__max_depth' : (10, 20),\n",
    "    # 'model__criterion' : ('gini', 'entropy'),\n",
    "    # 'model__max_features' : ('auto', 'sqrt', 'log2'),\n",
    "    # 'model__min_samples_split' : (2,4,6)\n",
    "}\n",
    "\n",
    "# dt_pipe.fit(X_train, y_train)\n",
    "\n",
    "grid = GridSearchCV(dt_pipe, param_grid=param_grid, cv = 3)\n",
    "grid.fit(X_train, y_train)\n",
    "#\n",
    "# print('Le meilleur score obtenu est: ',grid.best_score_)\n",
    "# print('Les meilleurs paramètres trouvés sont :',grid.best_params_)\n",
    "#\n",
    "# y_pred = dt_pipe.predict(X_test)\n",
    "# print(classification_report_imbalanced(y_test, y_pred))\n"
   ],
   "metadata": {
    "collapsed": false
   }
  },
  {
   "cell_type": "code",
   "execution_count": null,
   "outputs": [],
   "source": [
    "y_pred = dt_pipe.predict(X_test)\n",
    "# print(classification_report_imbalanced(y_test, y_pred))"
   ],
   "metadata": {
    "collapsed": false
   }
  },
  {
   "cell_type": "code",
   "execution_count": null,
   "outputs": [],
   "source": [
    "dt_pipe"
   ],
   "metadata": {
    "collapsed": false
   }
  },
  {
   "cell_type": "code",
   "execution_count": null,
   "outputs": [],
   "source": [],
   "metadata": {
    "collapsed": false
   }
  },
  {
   "cell_type": "code",
   "execution_count": null,
   "outputs": [],
   "source": [
    "# from imblearn.under_sampling import RandomUnderSampler\n",
    "# from imblearn.over_sampling import RandomOverSampler, SMOTE\n",
    "#\n",
    "# if undersampling:\n",
    "#     # Random Undersampling\n",
    "#     rUs = RandomUnderSampler()\n",
    "#     # X_ru, y_ru = rUs.fit_resample(X_train, y_train)\n",
    "#     X_train, y_train = rUs.fit_resample(X_train, y_train)\n",
    "#     # print('Classes échantillon undersampled :', y_ru.value_counts())\n",
    "#     print('Classes échantillon undersampled :', y_train.value_counts())\n",
    "# if oversampling:\n",
    "#     rOs = RandomOverSampler()\n",
    "#     X_train, y_train = rOs.fit_resample(X_train, y_train)\n",
    "#     print('Classes échantillon oversampled :', dict(pd.Series(y_train).value_counts()))\n",
    "# if smote:\n",
    "#     smo = SMOTE()\n",
    "#     X_train, y_train = smo.fit_resample(X_train, y_train)\n",
    "#     print('Classes échantillon SMOTE :', dict(pd.Series(y_train).value_counts()))"
   ],
   "metadata": {
    "collapsed": false
   }
  },
  {
   "cell_type": "code",
   "execution_count": null,
   "outputs": [],
   "source": [
    "# from sklearn.model_selection import RandomizedSearchCV\n",
    "# from sklearn.tree import DecisionTreeClassifier\n",
    "#\n",
    "# parameters = {'max_depth'         : (10,20,30,40,50),\n",
    "#               'criterion'         : ('gini', 'entropy'),\n",
    "#               'max_features'      : ('auto', 'sqrt', 'log2'),\n",
    "#               'min_samples_split' : (2,4,6)\n",
    "#               }\n",
    "#\n",
    "# grid = RandomizedSearchCV(DecisionTreeClassifier(), param_distributions=parameters, cv=5, verbose=True)\n",
    "#\n",
    "# grid.fit(X_train, y_train)"
   ],
   "metadata": {
    "collapsed": false
   }
  },
  {
   "cell_type": "code",
   "execution_count": null,
   "outputs": [],
   "source": [
    "# from imblearn.metrics import classification_report_imbalanced\n",
    "#\n",
    "# model = grid.best_estimator_\n",
    "# print(model)\n",
    "#\n",
    "# model.fit(X_train, y_train)\n",
    "# y_pred = model.predict(X_test)\n",
    "# print(pd.crosstab(y_test, y_pred, rownames=['Classe réelle'], colnames=['Classe prédite']))\n",
    "#\n",
    "# print(f\"\\n{classification_report_imbalanced(y_test, y_pred)}\")\n"
   ],
   "metadata": {
    "collapsed": false
   }
  },
  {
   "cell_type": "code",
   "execution_count": null,
   "outputs": [],
   "source": [
    "# feats = {}\n",
    "# for feature, importance in zip(data.columns, model.feature_importances_):\n",
    "#     feats[feature] = importance\n",
    "#\n",
    "# importances = pd.DataFrame.from_dict(feats, orient='index').rename(columns={0: 'Gini-importance'})\n",
    "#\n",
    "# #Affichage des 8 variables les plus importantes\n",
    "# importances.sort_values(by='Gini-importance', ascending=False).head(8)"
   ],
   "metadata": {
    "collapsed": false
   }
  },
  {
   "cell_type": "code",
   "execution_count": null,
   "outputs": [],
   "source": [
    "# from sklearn import tree\n",
    "# tree.plot_tree(model);\n"
   ],
   "metadata": {
    "collapsed": false
   }
  },
  {
   "cell_type": "code",
   "execution_count": null,
   "outputs": [],
   "source": [
    "# print(f\"Train accuracy : {model.score(X_train, y_train):.3f}\")\n",
    "# print(f\"Test accuracy : {model.score(X_test, y_test):.3f}\")"
   ],
   "metadata": {
    "collapsed": false
   }
  },
  {
   "cell_type": "code",
   "execution_count": null,
   "outputs": [],
   "source": [],
   "metadata": {
    "collapsed": false
   }
  }
 ],
 "metadata": {
  "kernelspec": {
   "display_name": "Python 3",
   "language": "python",
   "name": "python3"
  },
  "language_info": {
   "codemirror_mode": {
    "name": "ipython",
    "version": 2
   },
   "file_extension": ".py",
   "mimetype": "text/x-python",
   "name": "python",
   "nbconvert_exporter": "python",
   "pygments_lexer": "ipython2",
   "version": "2.7.6"
  }
 },
 "nbformat": 4,
 "nbformat_minor": 0
}
