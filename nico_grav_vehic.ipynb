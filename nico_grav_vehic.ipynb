{
 "cells": [
  {
   "cell_type": "code",
   "execution_count": 2,
   "id": "3a86bdaa",
   "metadata": {},
   "outputs": [],
   "source": [
    "import pandas as pd\n",
    "import numpy as np\n",
    "%matplotlib inline\n",
    "import matplotlib.pyplot as plt\n",
    "import lib_data_load as ld\n",
    "import lib_data_ref as dr\n",
    "from datetime import date\n",
    "import seaborn as sns\n",
    "\n",
    "start_year = 2020\n",
    "end_year = 2020\n",
    "\n",
    "dic_usagers = ld.load_usagers(start_year, end_year)\n",
    "dic_vehic = ld.load_vehicules(start_year, end_year)\n",
    "\n",
    "df_usagers = dic_usagers[2020]\n",
    "df_vehic = dic_vehic[2020]"
   ]
  },
  {
   "cell_type": "code",
   "execution_count": 3,
   "id": "81ffbce1",
   "metadata": {},
   "outputs": [
    {
     "name": "stdout",
     "output_type": "stream",
     "text": [
      "Index(['Num_Acc', 'id_vehicule', 'num_veh', 'senc', 'catv', 'obs', 'obsm',\n",
      "       'choc', 'manv', 'motor', 'occutc'],\n",
      "      dtype='object')\n"
     ]
    }
   ],
   "source": [
    "print(df_vehic.columns)"
   ]
  },
  {
   "cell_type": "markdown",
   "id": "b74c6c70",
   "metadata": {},
   "source": [
    "## Merge data et suppression des colonnes inutiles"
   ]
  },
  {
   "cell_type": "code",
   "execution_count": 5,
   "id": "1aa1f39e",
   "metadata": {},
   "outputs": [
    {
     "ename": "NameError",
     "evalue": "name 'df_caract' is not defined",
     "output_type": "error",
     "traceback": [
      "\u001b[1;31m---------------------------------------------------------------------------\u001b[0m",
      "\u001b[1;31mNameError\u001b[0m                                 Traceback (most recent call last)",
      "Cell \u001b[1;32mIn[5], line 2\u001b[0m\n\u001b[0;32m      1\u001b[0m \u001b[38;5;66;03m#  merge usagers and caracteristiques\u001b[39;00m\n\u001b[1;32m----> 2\u001b[0m df \u001b[38;5;241m=\u001b[39m df_usagers\u001b[38;5;241m.\u001b[39mmerge(right\u001b[38;5;241m=\u001b[39m\u001b[43mdf_caract\u001b[49m, on\u001b[38;5;241m=\u001b[39m\u001b[38;5;124m'\u001b[39m\u001b[38;5;124mNum_Acc\u001b[39m\u001b[38;5;124m'\u001b[39m, how\u001b[38;5;241m=\u001b[39m\u001b[38;5;124m'\u001b[39m\u001b[38;5;124mleft\u001b[39m\u001b[38;5;124m'\u001b[39m)\n\u001b[0;32m      4\u001b[0m \u001b[38;5;66;03m# inutiles : ['id_vehicule', 'num_veh', 'adr'] \u001b[39;00m\n\u001b[0;32m      5\u001b[0m df \u001b[38;5;241m=\u001b[39m df\u001b[38;5;241m.\u001b[39mdrop(columns\u001b[38;5;241m=\u001b[39m[\u001b[38;5;124m'\u001b[39m\u001b[38;5;124mid_vehicule\u001b[39m\u001b[38;5;124m'\u001b[39m, \u001b[38;5;124m'\u001b[39m\u001b[38;5;124mnum_veh\u001b[39m\u001b[38;5;124m'\u001b[39m, \u001b[38;5;124m'\u001b[39m\u001b[38;5;124madr\u001b[39m\u001b[38;5;124m'\u001b[39m, \u001b[38;5;124m'\u001b[39m\u001b[38;5;124mlat\u001b[39m\u001b[38;5;124m'\u001b[39m, \u001b[38;5;124m'\u001b[39m\u001b[38;5;124mlong\u001b[39m\u001b[38;5;124m'\u001b[39m], axis\u001b[38;5;241m=\u001b[39m\u001b[38;5;241m1\u001b[39m)\n",
      "\u001b[1;31mNameError\u001b[0m: name 'df_caract' is not defined"
     ]
    }
   ],
   "source": [
    "#  merge usagers and caracteristiques\n",
    "df = df_usagers.merge(right=df_caract, on='Num_Acc', how='left')\n",
    "\n",
    "# inutiles : ['id_vehicule', 'num_veh', 'adr'] \n",
    "df = df.drop(columns=['id_vehicule', 'num_veh', 'adr', 'lat', 'long'], axis=1)"
   ]
  },
  {
   "cell_type": "markdown",
   "id": "e41dd32c",
   "metadata": {},
   "source": [
    "## Encodages"
   ]
  },
  {
   "cell_type": "code",
   "execution_count": null,
   "id": "17b8be12",
   "metadata": {},
   "outputs": [],
   "source": [
    "# création de 4 classes basée sur les quartiles\n",
    "# df['age'].describe()\n",
    "def get_cl_age(age):\n",
    "    if age <= 25:\n",
    "        return '0-25'\n",
    "    if 25 < age <= 37:\n",
    "        return '26-37'\n",
    "    if 37 < age <= 53:\n",
    "        return '38-53'\n",
    "    if 53 < age:\n",
    "        return '>53'\n",
    "\n",
    "df['luminosité'] = df['lum'].apply(lambda i: dr.get_labels('lum', i))\n",
    "df['gravité'] = df['grav'].apply(lambda i: dr.get_labels('grav', i))\n",
    "df['age'] = 2022 - df['an_nais']\n",
    "df[\"classe d'age\"] = [get_cl_age(age) for age in df['age']]\n",
    "df[\"catégorie d'utilisateur\"] = df['catu'].apply(lambda i: dr.get_labels('catu', i))\n",
    "df[\"sexe_lbl\"] = df['sexe'].apply(lambda i: dr.get_labels('sexe', i))\n",
    "df['date'] = df[['jour', 'mois', 'an']].apply(lambda row : date(row['an'], row['mois'], row['jour']), axis=1)\n",
    "df[\"agg_lbl\"] = df['agg'].apply(lambda i: dr.get_labels('agg', i))\n",
    "df[\"int_lbl\"] = df['int'].apply(lambda i: dr.get_labels('int', i))\n",
    "df[\"atm_lbl\"] = df['atm'].apply(lambda i: dr.get_labels('atm', i))\n",
    "df[\"col_lbl\"] = df['col'].apply(lambda i: dr.get_labels('col', i))\n",
    "\n",
    "df = df.drop(columns=['an_nais', 'age'], axis=1)\n",
    "\n",
    "columns_titles = ['Tué', 'Blessé hospitalisé', 'Blessé léger', 'Indemne']"
   ]
  },
  {
   "cell_type": "markdown",
   "id": "25a39406",
   "metadata": {},
   "source": [
    "## Relation Gravité - Luminosité"
   ]
  },
  {
   "cell_type": "code",
   "execution_count": null,
   "id": "2a45af0a",
   "metadata": {},
   "outputs": [],
   "source": [
    "df_cross = pd.crosstab(df['luminosité'], df['gravité'], normalize='index')\n",
    "df_cross = df_cross.reindex(columns=columns_titles)\n",
    "print(df_cross)\n",
    "\n",
    "sns.set_theme(style=\"ticks\")\n",
    "f, ax = plt.subplots(figsize=(7, 5))\n",
    "chart = df_cross.plot(kind=\"bar\", stacked=True, rot=0, ax=ax, \n",
    "                         title='Distribution de la gravité en fonction de la luminosité')\n",
    "chart.set_xticklabels(chart.get_xticklabels(), rotation=80)\n",
    "sns.move_legend(ax, \"upper right\")\n"
   ]
  },
  {
   "cell_type": "code",
   "execution_count": null,
   "id": "fda26c60",
   "metadata": {},
   "outputs": [],
   "source": []
  }
 ],
 "metadata": {
  "kernelspec": {
   "display_name": "Python 3 (ipykernel)",
   "language": "python",
   "name": "python3"
  },
  "language_info": {
   "codemirror_mode": {
    "name": "ipython",
    "version": 3
   },
   "file_extension": ".py",
   "mimetype": "text/x-python",
   "name": "python",
   "nbconvert_exporter": "python",
   "pygments_lexer": "ipython3",
   "version": "3.9.13"
  }
 },
 "nbformat": 4,
 "nbformat_minor": 5
}
