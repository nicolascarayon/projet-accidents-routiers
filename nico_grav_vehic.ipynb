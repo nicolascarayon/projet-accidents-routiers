{
 "cells": [
  {
   "cell_type": "code",
   "execution_count": 6,
   "id": "3a86bdaa",
   "metadata": {},
   "outputs": [],
   "source": [
    "import pandas as pd\n",
    "import numpy as np\n",
    "%matplotlib inline\n",
    "import matplotlib.pyplot as plt\n",
    "import lib_data_load as ld\n",
    "import lib_data_ref as dr\n",
    "from datetime import date\n",
    "\n",
    "import seaborn as sns\n",
    "\n",
    "dir_data = \".\\\\data\\\\data_gouv_fr\\\\\"\n",
    "\n",
    "# Usagers\n",
    "dic_usagers = ld.load_usagers(folder_path=dir_data, start_year=2020, end_year=2021)\n",
    "\n",
    "# Véhicules immatriculés\n",
    "dic_vehic_immat = ld.load_vehic_immat(folder_path=dir_data, start_year=2020, end_year=2021)\n",
    "\n",
    "# Véhicules\n",
    "dic_vehic = ld.load_vehicules(folder_path=dir_data, start_year=2020, end_year=2021)\n",
    "\n",
    "df_usagers = dic_usagers[2020]\n",
    "df_vehic_immat = dic_vehic_immat[2020]\n",
    "df_vehic = dic_vehic[2020]"
   ]
  },
  {
   "cell_type": "code",
   "execution_count": 17,
   "id": "81ffbce1",
   "metadata": {},
   "outputs": [
    {
     "name": "stdout",
     "output_type": "stream",
     "text": [
      "Index(['Num_Acc', 'id_vehicule', 'num_veh', 'place', 'catu', 'grav', 'sexe',\n",
      "       'an_nais', 'trajet', 'secu1', 'secu2', 'secu3', 'locp', 'actp',\n",
      "       'etatp'],\n",
      "      dtype='object')\n",
      "Index(['Num_Acc', 'id_vehicule', 'num_veh', 'senc', 'catv', 'obs', 'obsm',\n",
      "       'choc', 'manv', 'motor', 'occutc'],\n",
      "      dtype='object')\n"
     ]
    }
   ],
   "source": [
    "print(df_vehic_immat.columns)\n",
    "\n",
    "print(df_vehic.columns)"
   ]
  },
  {
   "cell_type": "code",
   "execution_count": 16,
   "id": "226f221d",
   "metadata": {},
   "outputs": [
    {
     "name": "stdout",
     "output_type": "stream",
     "text": [
      "<class 'pandas.core.frame.DataFrame'>\n",
      "RangeIndex: 105295 entries, 0 to 105294\n",
      "Data columns (total 15 columns):\n",
      " #   Column       Non-Null Count   Dtype \n",
      "---  ------       --------------   ----- \n",
      " 0   Num_Acc      105295 non-null  int64 \n",
      " 1   id_vehicule  105295 non-null  object\n",
      " 2   num_veh      105295 non-null  object\n",
      " 3   place        105295 non-null  int64 \n",
      " 4   catu         105295 non-null  int64 \n",
      " 5   grav         105295 non-null  int64 \n",
      " 6   sexe         105295 non-null  int64 \n",
      " 7   an_nais      105295 non-null  int64 \n",
      " 8   trajet       105295 non-null  int64 \n",
      " 9   secu1        105295 non-null  int64 \n",
      " 10  secu2        105295 non-null  int64 \n",
      " 11  secu3        105295 non-null  int64 \n",
      " 12  locp         105295 non-null  int64 \n",
      " 13  actp         105295 non-null  object\n",
      " 14  etatp        105295 non-null  int64 \n",
      "dtypes: int64(12), object(3)\n",
      "memory usage: 12.1+ MB\n",
      "None\n",
      "<class 'pandas.core.frame.DataFrame'>\n",
      "RangeIndex: 81066 entries, 0 to 81065\n",
      "Data columns (total 11 columns):\n",
      " #   Column       Non-Null Count  Dtype  \n",
      "---  ------       --------------  -----  \n",
      " 0   Num_Acc      81066 non-null  int64  \n",
      " 1   id_vehicule  81066 non-null  object \n",
      " 2   num_veh      81066 non-null  object \n",
      " 3   senc         81066 non-null  int64  \n",
      " 4   catv         81066 non-null  int64  \n",
      " 5   obs          81066 non-null  int64  \n",
      " 6   obsm         81066 non-null  int64  \n",
      " 7   choc         81066 non-null  int64  \n",
      " 8   manv         81066 non-null  int64  \n",
      " 9   motor        81066 non-null  int64  \n",
      " 10  occutc       621 non-null    float64\n",
      "dtypes: float64(1), int64(8), object(2)\n",
      "memory usage: 6.8+ MB\n",
      "None\n",
      "57551\n"
     ]
    },
    {
     "data": {
      "text/html": [
       "<div>\n",
       "<style scoped>\n",
       "    .dataframe tbody tr th:only-of-type {\n",
       "        vertical-align: middle;\n",
       "    }\n",
       "\n",
       "    .dataframe tbody tr th {\n",
       "        vertical-align: top;\n",
       "    }\n",
       "\n",
       "    .dataframe thead th {\n",
       "        text-align: right;\n",
       "    }\n",
       "</style>\n",
       "<table border=\"1\" class=\"dataframe\">\n",
       "  <thead>\n",
       "    <tr style=\"text-align: right;\">\n",
       "      <th></th>\n",
       "      <th>Num_Acc</th>\n",
       "      <th>id_vehicule</th>\n",
       "      <th>num_veh</th>\n",
       "      <th>place</th>\n",
       "      <th>catu</th>\n",
       "      <th>grav</th>\n",
       "      <th>sexe</th>\n",
       "      <th>an_nais</th>\n",
       "      <th>trajet</th>\n",
       "      <th>secu1</th>\n",
       "      <th>secu2</th>\n",
       "      <th>secu3</th>\n",
       "      <th>locp</th>\n",
       "      <th>actp</th>\n",
       "      <th>etatp</th>\n",
       "    </tr>\n",
       "  </thead>\n",
       "  <tbody>\n",
       "    <tr>\n",
       "      <th>0</th>\n",
       "      <td>202000000001</td>\n",
       "      <td>154 742 274</td>\n",
       "      <td>B01</td>\n",
       "      <td>1</td>\n",
       "      <td>1</td>\n",
       "      <td>1</td>\n",
       "      <td>1</td>\n",
       "      <td>1983</td>\n",
       "      <td>5</td>\n",
       "      <td>1</td>\n",
       "      <td>0</td>\n",
       "      <td>-1</td>\n",
       "      <td>-1</td>\n",
       "      <td>-1</td>\n",
       "      <td>-1</td>\n",
       "    </tr>\n",
       "    <tr>\n",
       "      <th>1</th>\n",
       "      <td>202000000001</td>\n",
       "      <td>154 742 275</td>\n",
       "      <td>A01</td>\n",
       "      <td>1</td>\n",
       "      <td>1</td>\n",
       "      <td>3</td>\n",
       "      <td>1</td>\n",
       "      <td>1982</td>\n",
       "      <td>5</td>\n",
       "      <td>2</td>\n",
       "      <td>6</td>\n",
       "      <td>-1</td>\n",
       "      <td>-1</td>\n",
       "      <td>-1</td>\n",
       "      <td>-1</td>\n",
       "    </tr>\n",
       "  </tbody>\n",
       "</table>\n",
       "</div>"
      ],
      "text/plain": [
       "        Num_Acc  id_vehicule num_veh  place  catu  grav  sexe  an_nais  \\\n",
       "0  202000000001  154 742 274     B01      1     1     1     1     1983   \n",
       "1  202000000001  154 742 275     A01      1     1     3     1     1982   \n",
       "\n",
       "   trajet  secu1  secu2  secu3  locp actp  etatp  \n",
       "0       5      1      0     -1    -1   -1     -1  \n",
       "1       5      2      6     -1    -1   -1     -1  "
      ]
     },
     "execution_count": 16,
     "metadata": {},
     "output_type": "execute_result"
    }
   ],
   "source": [
    "print(df_vehic_immat.info())\n",
    "print(df_vehic.info())\n",
    "\n",
    "# check primary keys\n",
    "print(df_vehic_immat.Num_Acc.duplicated().sum())\n",
    "\n",
    "df_vehic_immat[df_vehic_immat.Num_Acc.duplicated()==True]\n",
    "df_vehic_immat[df_vehic_immat.Num_Acc == 202000000001]\n",
    "# df_vehic_merged = df_usagers.merge(right=df_caract, on='Num_Acc', how='left')\n"
   ]
  },
  {
   "cell_type": "markdown",
   "id": "b74c6c70",
   "metadata": {},
   "source": [
    "## Merge data et suppression des colonnes inutiles"
   ]
  },
  {
   "cell_type": "code",
   "execution_count": null,
   "id": "1aa1f39e",
   "metadata": {},
   "outputs": [],
   "source": [
    "#  merge usagers and caracteristiques\n",
    "df = df_usagers.merge(right=df_caract, on='Num_Acc', how='left')\n",
    "\n",
    "# inutiles : ['id_vehicule', 'num_veh', 'adr'] \n",
    "df = df.drop(columns=['id_vehicule', 'num_veh', 'adr', 'lat', 'long'], axis=1)"
   ]
  },
  {
   "cell_type": "markdown",
   "id": "e41dd32c",
   "metadata": {},
   "source": [
    "## Encodages"
   ]
  },
  {
   "cell_type": "code",
   "execution_count": null,
   "id": "17b8be12",
   "metadata": {},
   "outputs": [],
   "source": [
    "# création de 4 classes basée sur les quartiles\n",
    "# df['age'].describe()\n",
    "def get_cl_age(age):\n",
    "    if age <= 25:\n",
    "        return '0-25'\n",
    "    if 25 < age <= 37:\n",
    "        return '26-37'\n",
    "    if 37 < age <= 53:\n",
    "        return '38-53'\n",
    "    if 53 < age:\n",
    "        return '>53'\n",
    "\n",
    "df['luminosité'] = df['lum'].apply(lambda i: dr.get_labels('lum', i))\n",
    "df['gravité'] = df['grav'].apply(lambda i: dr.get_labels('grav', i))\n",
    "df['age'] = 2022 - df['an_nais']\n",
    "df[\"classe d'age\"] = [get_cl_age(age) for age in df['age']]\n",
    "df[\"catégorie d'utilisateur\"] = df['catu'].apply(lambda i: dr.get_labels('catu', i))\n",
    "df[\"sexe_lbl\"] = df['sexe'].apply(lambda i: dr.get_labels('sexe', i))\n",
    "df['date'] = df[['jour', 'mois', 'an']].apply(lambda row : date(row['an'], row['mois'], row['jour']), axis=1)\n",
    "df[\"agg_lbl\"] = df['agg'].apply(lambda i: dr.get_labels('agg', i))\n",
    "df[\"int_lbl\"] = df['int'].apply(lambda i: dr.get_labels('int', i))\n",
    "df[\"atm_lbl\"] = df['atm'].apply(lambda i: dr.get_labels('atm', i))\n",
    "df[\"col_lbl\"] = df['col'].apply(lambda i: dr.get_labels('col', i))\n",
    "\n",
    "df = df.drop(columns=['an_nais', 'age'], axis=1)\n",
    "\n",
    "columns_titles = ['Tué', 'Blessé hospitalisé', 'Blessé léger', 'Indemne']"
   ]
  },
  {
   "cell_type": "markdown",
   "id": "25a39406",
   "metadata": {},
   "source": [
    "## Relation Gravité - Luminosité"
   ]
  },
  {
   "cell_type": "code",
   "execution_count": null,
   "id": "2a45af0a",
   "metadata": {},
   "outputs": [],
   "source": [
    "df_cross = pd.crosstab(df['luminosité'], df['gravité'], normalize='index')\n",
    "df_cross = df_cross.reindex(columns=columns_titles)\n",
    "print(df_cross)\n",
    "\n",
    "sns.set_theme(style=\"ticks\")\n",
    "f, ax = plt.subplots(figsize=(7, 5))\n",
    "chart = df_cross.plot(kind=\"bar\", stacked=True, rot=0, ax=ax, \n",
    "                         title='Distribution de la gravité en fonction de la luminosité')\n",
    "chart.set_xticklabels(chart.get_xticklabels(), rotation=80)\n",
    "sns.move_legend(ax, \"upper right\")\n"
   ]
  },
  {
   "cell_type": "code",
   "execution_count": null,
   "id": "fda26c60",
   "metadata": {},
   "outputs": [],
   "source": []
  }
 ],
 "metadata": {
  "kernelspec": {
   "display_name": "Python 3 (ipykernel)",
   "language": "python",
   "name": "python3"
  },
  "language_info": {
   "codemirror_mode": {
    "name": "ipython",
    "version": 3
   },
   "file_extension": ".py",
   "mimetype": "text/x-python",
   "name": "python",
   "nbconvert_exporter": "python",
   "pygments_lexer": "ipython3",
   "version": "3.9.13"
  }
 },
 "nbformat": 4,
 "nbformat_minor": 5
}
