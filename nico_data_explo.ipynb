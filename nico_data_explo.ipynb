{
 "cells": [
  {
   "cell_type": "code",
   "execution_count": null,
   "id": "91f25d4c",
   "metadata": {},
   "outputs": [],
   "source": [
    "import pandas as pd\n",
    "import numpy as np\n",
    "%matplotlib inline\n",
    "import matplotlib.pyplot as plt\n",
    "import load_data as ld\n",
    "\n",
    "dir_data = \"C:\\\\Users\\\\nicol\\\\Data\\\\data.gouv.fr\\\\\"\n",
    "\n",
    "# Véhicules immatriculés impliqués dans les accidents corporels - 2009 à 2021\n",
    "df_vehic_immat = ld.load_vehic_immat(folder_path=dir_data, start_year=2009, end_year=2021)\n",
    "\n",
    "# Caractéristiques\n",
    "df_caract = ld.load_caract(folder_path=dir_data, start_year=2005, end_year=2021)\n",
    "\n",
    "# Lieux\n",
    "df_lieux = ld.load_lieux(folder_path=dir_data, start_year=2005, end_year=2021)\n",
    "\n",
    "# Usagers\n",
    "df_usagers = ld.load_usagers(folder_path=dir_data, start_year=2005, end_year=2021)\n",
    "\n",
    "# Véhicules\n",
    "df_vehic = ld.load_vehicules(folder_path=dir_data, start_year=2005, end_year=2021)\n"
   ]
  },
  {
   "cell_type": "code",
   "execution_count": null,
   "id": "235f828d",
   "metadata": {},
   "outputs": [],
   "source": [
    "# Etude des fichiers usagers-yyyy.csv\n",
    "\n",
    "# 1 : Indemne\n",
    "# 2 : Tué\n",
    "# 3 : Blessé hospitalisé\n",
    "# 4 : Blessé léger\n",
    "\n",
    "print(\"Usagers - Dimension des données selon les années : \\n\")\n",
    "for year in range(2018, 2022):\n",
    "    print(f\"usagers {year} : {usagers[year].shape}\")\n",
    "\n",
    "print(\"\\nUsagers - Variables selon les années : \\n\")\n",
    "for year in range(2018, 2022):\n",
    "    print(f\"usagers {year} : {list(usagers[year].columns)}\")\n",
    "\n",
    "print(\"\\nUsagers - Modalités de la variable grav : \\n\")\n",
    "for year in range(2018, 2022):\n",
    "    print(f\"usagers {year} : {usagers[year]['grav'].value_counts()}\")\n",
    "\n",
    "\n",
    "plt.figure(figsize=(16, 16))\n",
    "plt.title('Répartition de la gravité des accidents par année depuis 2005')\n",
    "for k in range(1, 18):\n",
    "    year = 2005 + k -1\n",
    "    plt.subplot(5, 4, k)\n",
    "    plt.hist(usagers[year].grav);\n",
    "    plt.title(year)"
   ]
  },
  {
   "cell_type": "markdown",
   "id": "3e301cbc",
   "metadata": {},
   "source": [
    "## Analyse usagers"
   ]
  },
  {
   "cell_type": "code",
   "execution_count": null,
   "id": "b74a4eb9",
   "metadata": {},
   "outputs": [],
   "source": [
    "# Analyse rapide des colonnes du fichier usager\n",
    "\n",
    "help(ld.load_usagers)\n",
    "\n",
    "df = usagers[2020]\n",
    "print(list(df.columns))\n",
    "\n",
    "fig = plt.figure(figsize=(12, 12))\n",
    "ax = fig.gca()\n",
    "df[['place', 'catu', 'grav', 'sexe', 'an_nais', 'trajet', 'secu1', 'secu2', 'locp', 'actp', 'etatp']].hist(ax = ax);\n",
    "# conducteur très majoritairement impliqué\n",
    "# ~70% d'hommes vs ~30% femmes\n",
    "# pic de jeunes conducteurs\n",
    "# pics sur promenade et trajets domicile-travail"
   ]
  },
  {
   "cell_type": "markdown",
   "id": "a6d58970",
   "metadata": {},
   "source": [
    "## Analyse caracteristiques"
   ]
  },
  {
   "cell_type": "code",
   "execution_count": null,
   "id": "26e2be36",
   "metadata": {},
   "outputs": [],
   "source": [
    "# Analyse rapide des colonnes du fichier caractéristiques\n",
    "\n",
    "help(ld.load_caract)\n",
    "\n",
    "df = caract[2020]\n",
    "print(list(df.columns))\n",
    "\n",
    "df.head()\n",
    "# cols = ['mois', 'hrmn', 'lum', 'dep', 'com', 'agg', 'int', 'atm', 'col', 'lat', 'long']\n",
    "fig = plt.figure(figsize=(10, 10))\n",
    "ax = fig.gca()\n",
    "df[['mois', 'lum', 'dep', 'com', 'agg', 'int', 'atm', 'col']].hist(ax = ax);\n"
   ]
  },
  {
   "cell_type": "markdown",
   "id": "b5187e09",
   "metadata": {},
   "source": [
    "## Analyse vehicules"
   ]
  },
  {
   "cell_type": "code",
   "execution_count": null,
   "id": "40b5d160",
   "metadata": {},
   "outputs": [],
   "source": [
    "# Analyse rapide des colonnes du fichier vehicules\n",
    "\n",
    "help(ld.load_vehicules)\n",
    "\n",
    "df = vehic[2020]\n",
    "print(list(df.columns))\n",
    "\n",
    "df.head()\n",
    "# cols = ['mois', 'hrmn', 'lum', 'dep', 'com', 'agg', 'int', 'atm', 'col', 'lat', 'long']\n",
    "fig = plt.figure(figsize=(10, 10))\n",
    "ax = fig.gca()\n",
    "df[['senc', 'catv', 'obs', 'obsm', 'choc', 'manv', 'motor', 'occutc']].hist(ax = ax);\n"
   ]
  },
  {
   "cell_type": "markdown",
   "id": "1007844b",
   "metadata": {},
   "source": [
    "## Analyse lieux"
   ]
  },
  {
   "cell_type": "code",
   "execution_count": null,
   "id": "bd1c3ccf",
   "metadata": {},
   "outputs": [],
   "source": [
    "# Analyse rapide des colonnes du fichier vehicules\n",
    "\n",
    "help(ld.load_lieux)\n",
    "\n",
    "df = lieux[2020]\n",
    "print(list(df.columns))\n",
    "\n",
    "df.head()\n",
    "fig = plt.figure(figsize=(10, 10))\n",
    "ax = fig.gca()\n",
    "df[['catr', 'circ', 'nbv', 'vosp', 'prof', 'plan', 'surf', 'infra', 'situ', 'vma']].hist(ax = ax);\n"
   ]
  },
  {
   "cell_type": "markdown",
   "id": "f4ebe598",
   "metadata": {},
   "source": [
    "## Analyse véhicules immat impliqués"
   ]
  },
  {
   "cell_type": "code",
   "execution_count": null,
   "id": "1552613e",
   "metadata": {},
   "outputs": [],
   "source": [
    "# Analyse rapide des colonnes du fichier dés véhicules immatriculés impliqués\n",
    "\n",
    "help(ld.load_vehic_immat)\n",
    "\n",
    "df = vehic_immat[2020]\n",
    "print(list(df.columns))\n",
    "\n",
    "df.head()\n",
    "fig = plt.figure(figsize=(10, 10))\n",
    "ax = fig.gca()\n",
    "df[['place', 'catu', 'grav', 'sexe', 'an_nais', 'trajet', 'secu1', 'secu2', 'secu3', 'locp', 'actp', 'etatp']].hist(ax = ax);\n"
   ]
  },
  {
   "cell_type": "code",
   "execution_count": null,
   "id": "0159e83b",
   "metadata": {},
   "outputs": [],
   "source": [
    "# croisons la gravité de l'accident avec la catégorie de lieu\n",
    "\n",
    "year = 2021\n",
    "\n",
    "df_usagers = usagers[year]\n",
    "df_lieux = lieux[year]\n",
    "\n",
    "print('usagers : ', df_usagers.columns)\n",
    "print('lieux : ', df_lieux.columns)\n",
    "\n",
    "# df_lieux -> que des Num_acc uniques? --> oui si le  résultat suivant est nul\n",
    "df_lieux.Num_Acc.duplicated().sum()\n",
    "\n",
    "df_acc_grav = df_usagers[['Num_Acc', 'grav']]\n",
    "df_lieu_categ = df_lieux[['Num_Acc', 'catr']]\n",
    "\n",
    "df_acc_grav.groupby(by='Num_Acc').count()\n",
    "\n",
    "# df_usagers[df_usagers.Num_Acc == 202100000001]\n",
    "\n",
    "# df_grav_par_lieu = df_acc_grav.merge(on='Num_Acc', right=df_lieu_categ, how='left')\n",
    "# df_grav_par_lieu\n",
    "# count_grav_par_lieu = df_grav_par_lieu.groupby(by=['catr', 'grav']).count()\n",
    "# count_grav_par_lieu\n",
    "# plt.scatter(df_grav_par_lieu.catr, df_grav_par_lieu.grav)\n"
   ]
  }
 ],
 "metadata": {
  "colab": {
   "provenance": []
  },
  "kernelspec": {
   "display_name": "Python 3 (ipykernel)",
   "language": "python",
   "name": "python3"
  },
  "language_info": {
   "codemirror_mode": {
    "name": "ipython",
    "version": 3
   },
   "file_extension": ".py",
   "mimetype": "text/x-python",
   "name": "python",
   "nbconvert_exporter": "python",
   "pygments_lexer": "ipython3",
   "version": "3.9.13"
  }
 },
 "nbformat": 4,
 "nbformat_minor": 5
}
