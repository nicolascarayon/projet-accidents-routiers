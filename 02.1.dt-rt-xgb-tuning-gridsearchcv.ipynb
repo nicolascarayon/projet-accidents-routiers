{
 "cells": [
  {
   "cell_type": "code",
   "execution_count": null,
   "metadata": {
    "collapsed": true
   },
   "outputs": [],
   "source": [
    "import pandas as pd\n",
    "from my_libs import lib_tools as pt\n",
    "\n",
    "run_gridSearchCV = True  # True to run hyperparameters optimization with GridSearchCV()\n",
    "run_optuna = True        # True to run hyperparameters optimization with Optuna\n",
    "\n",
    "run_type = 'very-light'\n",
    "# run_type = 'light'\n",
    "# run_type = 'full'\n",
    "\n",
    "if run_type == 'very-light': filename_train, filename_test = 'df-very-light-train.pkl', 'df-very-light-test.pkl'\n",
    "if run_type == 'light'     : filename_train, filename_test = 'df-light-train.pkl', 'df-light-test.pkl'\n",
    "if run_type == 'full'      : filename_train, filename_test = 'df-full-train.pkl', 'df-full-test.pkl'\n",
    "\n",
    "# classifier_name = 'DecisionTreeClassifier'\n",
    "# classifier_name = 'RandomForestClassifier'\n",
    "classifier_name = 'GradientBoostingClassifier'\n",
    "\n",
    "columns = ['catv', 'agg', 'dep', 'col', 'catr', 'catu', 'trajet', 'locp', 'circ', 'situ', 'lum', 'age_cls']\n",
    "X_train, y_train, X_test, y_test, X_test_final, y_test_final = pt.get_train_valid_test_data(filename_train, filename_test, columns)"
   ]
  },
  {
   "cell_type": "code",
   "execution_count": null,
   "outputs": [],
   "source": [
    "import time\n",
    "from my_libs.encoder_custom import EncoderCustom\n",
    "\n",
    "cols_target_encoded = ['dep']\n",
    "cols_onehot_encoded = X_train.columns.drop(cols_target_encoded)\n",
    "\n",
    "encoder = EncoderCustom(cols_target_encoded=cols_target_encoded, cols_onehot_encoded=cols_onehot_encoded)\n",
    "X_train, y_train = encoder.transform(X_train, y_train, 'Train')\n",
    "X_test, y_test = encoder.transform(X_test,  y_test,  'Test')\n",
    "X_test_final, y_test_final = encoder.transform(X_test_final, y_test_final, 'Test')"
   ],
   "metadata": {
    "collapsed": false
   }
  },
  {
   "cell_type": "code",
   "execution_count": null,
   "outputs": [],
   "source": [
    "import time\n",
    "from sklearn.tree import DecisionTreeClassifier\n",
    "from sklearn.ensemble import RandomForestClassifier, GradientBoostingClassifier\n",
    "from sklearn.model_selection import GridSearchCV\n",
    "from sklearn.metrics import classification_report\n",
    "\n",
    "start_time = time.time()\n",
    "\n",
    "if classifier_name == 'DecisionTreeClassifier':\n",
    "    model = DecisionTreeClassifier()\n",
    "    params = {'max_depth' : [2, 10, 30, 50],\n",
    "              'min_samples_split' : [2,4,6]\n",
    "              }\n",
    "\n",
    "if classifier_name == 'RandomForestClassifier':\n",
    "    model = RandomForestClassifier()\n",
    "    params = {'n_estimators' : [5,10,25,50],\n",
    "              'criterion' : ('gini', 'entropy'),\n",
    "    }\n",
    "\n",
    "if classifier_name == 'GradientBoostingClassifier':\n",
    "    model = GradientBoostingClassifier()\n",
    "    params = {'learning_rate' : [0.001, 0.01, 0.5],\n",
    "              'n_estimators' : [50, 100, 200]\n",
    "              }\n",
    "\n",
    "grid = GridSearchCV(estimator=model, param_grid=params, cv = 3, verbose=2, scoring=\"f1\")\n",
    "grid.fit(X_train, y_train)\n",
    "\n",
    "print(f\"\\n--- {classifier_name} - Optimization with GridSearchCV performed in %s seconds ---\" % (time.time() - start_time))\n",
    "print(f\"Grid search params : {params}\")\n",
    "print(f\"Best params : {grid.best_params_}\")\n",
    "\n",
    "from my_libs.model_evaluator import ModelEvaluator\n",
    "evaluator = ModelEvaluator(model_type=classifier_name, params=grid.best_params_, X_train=X_train, y_train=y_train, X_test=X_test_final, y_test=y_test_final)\n",
    "model = evaluator.evaluate()"
   ],
   "metadata": {
    "collapsed": false
   }
  },
  {
   "cell_type": "code",
   "execution_count": null,
   "outputs": [],
   "source": [
    "feats = {}\n",
    "for feature, importance in zip(X_train.columns, grid.best_estimator_.feature_importances_):\n",
    "    feats[feature] = importance\n",
    "\n",
    "importances = pd.DataFrame.from_dict(feats, orient='index').rename(columns={0: 'Gini-importance'})\n",
    "\n",
    "# variables les plus importantes\n",
    "importances.sort_values(by='Gini-importance', ascending=False).head(20)"
   ],
   "metadata": {
    "collapsed": false
   }
  },
  {
   "cell_type": "code",
   "execution_count": null,
   "outputs": [],
   "source": [
    "from my_libs.model_evaluator import ModelEvaluator\n",
    "\n",
    "evaluator = ModelEvaluator(model_type=classifier_name, params=grid.best_params_, X_train=X_train, y_train=y_train, X_test=X_test_final, y_test=y_test_final)\n",
    "model = evaluator.evaluate()"
   ],
   "metadata": {
    "collapsed": false
   }
  }
 ],
 "metadata": {
  "kernelspec": {
   "display_name": "Python 3",
   "language": "python",
   "name": "python3"
  },
  "language_info": {
   "codemirror_mode": {
    "name": "ipython",
    "version": 2
   },
   "file_extension": ".py",
   "mimetype": "text/x-python",
   "name": "python",
   "nbconvert_exporter": "python",
   "pygments_lexer": "ipython2",
   "version": "2.7.6"
  }
 },
 "nbformat": 4,
 "nbformat_minor": 0
}
