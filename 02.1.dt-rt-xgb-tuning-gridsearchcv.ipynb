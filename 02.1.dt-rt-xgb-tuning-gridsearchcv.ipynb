{
 "cells": [
  {
   "cell_type": "code",
   "execution_count": 1,
   "metadata": {
    "collapsed": true
   },
   "outputs": [],
   "source": [
    "import pandas as pd\n",
    "from my_libs import lib_tools as pt\n",
    "\n",
    "run_gridSearchCV = True  # True to run hyperparameters optimization with GridSearchCV()\n",
    "run_optuna = True        # True to run hyperparameters optimization with Optuna\n",
    "\n",
    "run_type = 'very-light'\n",
    "# run_type = 'light'\n",
    "# run_type = 'full'\n",
    "\n",
    "if run_type == 'very-light': filename_train, filename_test = 'df-very-light-train.pkl', 'df-very-light-test.pkl'\n",
    "if run_type == 'light'     : filename_train, filename_test = 'df-light-train.pkl', 'df-light-test.pkl'\n",
    "if run_type == 'full'      : filename_train, filename_test = 'df-full-train.pkl', 'df-full-test.pkl'\n",
    "\n",
    "# classifier_name = 'DecisionTreeClassifier'\n",
    "# classifier_name = 'RandomForestClassifier'\n",
    "classifier_name = 'GradientBoostingClassifier'\n",
    "\n",
    "columns = ['catv', 'agg', 'dep', 'col', 'catr', 'catu', 'trajet', 'locp', 'circ', 'situ', 'lum', 'age_cls']\n",
    "X_train, y_train, X_test, y_test, X_test_final, y_test_final = pt.get_train_valid_test_data(filename_train, filename_test, columns)"
   ]
  },
  {
   "cell_type": "code",
   "execution_count": 2,
   "outputs": [
    {
     "name": "stderr",
     "output_type": "stream",
     "text": [
      "C:\\Users\\Nicolas\\anaconda3\\lib\\site-packages\\category_encoders\\target_encoder.py:122: FutureWarning: Default parameter min_samples_leaf will change in version 2.6.See https://github.com/scikit-learn-contrib/category_encoders/issues/327\n",
      "  warnings.warn(\"Default parameter min_samples_leaf will change in version 2.6.\"\n",
      "C:\\Users\\Nicolas\\anaconda3\\lib\\site-packages\\category_encoders\\target_encoder.py:127: FutureWarning: Default parameter smoothing will change in version 2.6.See https://github.com/scikit-learn-contrib/category_encoders/issues/327\n",
      "  warnings.warn(\"Default parameter smoothing will change in version 2.6.\"\n"
     ]
    },
    {
     "name": "stdout",
     "output_type": "stream",
     "text": [
      "Classes cardinality after resampling :\n",
      "0    4887\n",
      "1    4887\n",
      "Name: grav, dtype: int64\n",
      "X shape : (9774, 12)\n",
      "Columns target encoded : ['dep']\n",
      "Columns one hot encoded : ['catv', 'agg', 'col', 'catr', 'catu', 'trajet', 'locp', 'circ', 'situ', 'lum', 'age_cls']\n",
      "Features normalized\n",
      "--- Train set - features encoding performed in 5.97 seconds ---\n",
      "--- Test set - features encoding performed in 0.09 seconds ---\n",
      "--- Test set - features encoding performed in 0.13 seconds ---\n"
     ]
    }
   ],
   "source": [
    "import time\n",
    "from my_libs.encoder_custom import EncoderCustom\n",
    "\n",
    "cols_target_encoded = ['dep']\n",
    "cols_onehot_encoded = X_train.columns.drop(cols_target_encoded)\n",
    "\n",
    "encoder = EncoderCustom(cols_target_encoded=cols_target_encoded, cols_onehot_encoded=cols_onehot_encoded)\n",
    "X_train, y_train = encoder.transform(X_train, y_train, 'Train')\n",
    "X_test, y_test = encoder.transform(X_test,  y_test,  'Test')\n",
    "X_test_final, y_test_final = encoder.transform(X_test_final, y_test_final, 'Test')"
   ],
   "metadata": {
    "collapsed": false
   }
  },
  {
   "cell_type": "code",
   "execution_count": 3,
   "outputs": [
    {
     "name": "stdout",
     "output_type": "stream",
     "text": [
      "Fitting 3 folds for each of 9 candidates, totalling 27 fits\n",
      "[CV] END ...............learning_rate=0.001, n_estimators=50; total time=   1.0s\n",
      "[CV] END ...............learning_rate=0.001, n_estimators=50; total time=   1.1s\n",
      "[CV] END ...............learning_rate=0.001, n_estimators=50; total time=   0.9s\n",
      "[CV] END ..............learning_rate=0.001, n_estimators=100; total time=   1.6s\n",
      "[CV] END ..............learning_rate=0.001, n_estimators=100; total time=   1.6s\n",
      "[CV] END ..............learning_rate=0.001, n_estimators=100; total time=   1.6s\n",
      "[CV] END ..............learning_rate=0.001, n_estimators=200; total time=   4.5s\n",
      "[CV] END ..............learning_rate=0.001, n_estimators=200; total time=   4.1s\n",
      "[CV] END ..............learning_rate=0.001, n_estimators=200; total time=   3.9s\n",
      "[CV] END ................learning_rate=0.01, n_estimators=50; total time=   1.1s\n",
      "[CV] END ................learning_rate=0.01, n_estimators=50; total time=   1.0s\n",
      "[CV] END ................learning_rate=0.01, n_estimators=50; total time=   0.8s\n",
      "[CV] END ...............learning_rate=0.01, n_estimators=100; total time=   1.5s\n",
      "[CV] END ...............learning_rate=0.01, n_estimators=100; total time=   1.6s\n",
      "[CV] END ...............learning_rate=0.01, n_estimators=100; total time=   1.9s\n",
      "[CV] END ...............learning_rate=0.01, n_estimators=200; total time=   4.3s\n",
      "[CV] END ...............learning_rate=0.01, n_estimators=200; total time=   3.5s\n",
      "[CV] END ...............learning_rate=0.01, n_estimators=200; total time=   4.4s\n",
      "[CV] END .................learning_rate=0.5, n_estimators=50; total time=   1.1s\n",
      "[CV] END .................learning_rate=0.5, n_estimators=50; total time=   1.0s\n",
      "[CV] END .................learning_rate=0.5, n_estimators=50; total time=   0.8s\n",
      "[CV] END ................learning_rate=0.5, n_estimators=100; total time=   1.5s\n",
      "[CV] END ................learning_rate=0.5, n_estimators=100; total time=   1.5s\n",
      "[CV] END ................learning_rate=0.5, n_estimators=100; total time=   1.6s\n",
      "[CV] END ................learning_rate=0.5, n_estimators=200; total time=   4.0s\n",
      "[CV] END ................learning_rate=0.5, n_estimators=200; total time=   3.3s\n",
      "[CV] END ................learning_rate=0.5, n_estimators=200; total time=   3.6s\n",
      "\n",
      "--- GradientBoostingClassifier - Optimization with GridSearchCV performed in 67.21658515930176 seconds ---\n",
      "Grid search params : {'learning_rate': [0.001, 0.01, 0.5], 'n_estimators': [50, 100, 200]}\n",
      "Best params : {'learning_rate': 0.5, 'n_estimators': 200}\n",
      "\n",
      "--- Model GradientBoostingClassifier fit and trained in 5.1064674854278564 seconds ---\n",
      "--- Params : {'learning_rate': 0.5, 'n_estimators': 200}\n"
     ]
    },
    {
     "data": {
      "text/plain": "Classe prédite    0    1\nClasse réelle           \n0               785  864\n1               103  247",
      "text/html": "<div>\n<style scoped>\n    .dataframe tbody tr th:only-of-type {\n        vertical-align: middle;\n    }\n\n    .dataframe tbody tr th {\n        vertical-align: top;\n    }\n\n    .dataframe thead th {\n        text-align: right;\n    }\n</style>\n<table border=\"1\" class=\"dataframe\">\n  <thead>\n    <tr style=\"text-align: right;\">\n      <th>Classe prédite</th>\n      <th>0</th>\n      <th>1</th>\n    </tr>\n    <tr>\n      <th>Classe réelle</th>\n      <th></th>\n      <th></th>\n    </tr>\n  </thead>\n  <tbody>\n    <tr>\n      <th>0</th>\n      <td>785</td>\n      <td>864</td>\n    </tr>\n    <tr>\n      <th>1</th>\n      <td>103</td>\n      <td>247</td>\n    </tr>\n  </tbody>\n</table>\n</div>"
     },
     "metadata": {},
     "output_type": "display_data"
    },
    {
     "name": "stdout",
     "output_type": "stream",
     "text": [
      "\n",
      "Classification report :\n",
      "              precision    recall  f1-score   support\n",
      "\n",
      "           0       0.88      0.48      0.62      1649\n",
      "           1       0.22      0.71      0.34       350\n",
      "\n",
      "    accuracy                           0.52      1999\n",
      "   macro avg       0.55      0.59      0.48      1999\n",
      "weighted avg       0.77      0.52      0.57      1999\n",
      "\n"
     ]
    }
   ],
   "source": [
    "import time\n",
    "from sklearn.tree import DecisionTreeClassifier\n",
    "from sklearn.ensemble import RandomForestClassifier, GradientBoostingClassifier\n",
    "from sklearn.model_selection import GridSearchCV\n",
    "from sklearn.metrics import classification_report\n",
    "\n",
    "start_time = time.time()\n",
    "\n",
    "if classifier_name == 'DecisionTreeClassifier':\n",
    "    model = DecisionTreeClassifier()\n",
    "    params = {'max_depth' : [2, 10, 30, 50],\n",
    "              'min_samples_split' : [2,4,6]\n",
    "              }\n",
    "\n",
    "if classifier_name == 'RandomForestClassifier':\n",
    "    model = RandomForestClassifier()\n",
    "    params = {'n_estimators' : [5,10,25,50],\n",
    "              'criterion' : ('gini', 'entropy'),\n",
    "    }\n",
    "\n",
    "if classifier_name == 'GradientBoostingClassifier':\n",
    "    model = GradientBoostingClassifier()\n",
    "    params = {'learning_rate' : [0.001, 0.01, 0.5],\n",
    "              'n_estimators' : [50, 100, 200]\n",
    "              }\n",
    "\n",
    "grid = GridSearchCV(estimator=model, param_grid=params, cv = 3, verbose=2, scoring=\"f1\")\n",
    "grid.fit(X_train, y_train)\n",
    "\n",
    "print(f\"\\n--- {classifier_name} - Optimization with GridSearchCV performed in %s seconds ---\" % (time.time() - start_time))\n",
    "print(f\"Grid search params : {params}\")\n",
    "print(f\"Best params : {grid.best_params_}\")\n",
    "\n",
    "from my_libs.model_evaluator import ModelEvaluator\n",
    "evaluator = ModelEvaluator(model_type=classifier_name, params=grid.best_params_, X_train=X_train, y_train=y_train, X_test=X_test_final, y_test=y_test_final)\n",
    "model = evaluator.evaluate()"
   ],
   "metadata": {
    "collapsed": false
   }
  },
  {
   "cell_type": "code",
   "execution_count": 4,
   "outputs": [
    {
     "data": {
      "text/plain": "           Gini-importance\ndep               0.343201\ncatu_2            0.073812\ncatr_1            0.063786\ncatv_2            0.043995\ntrajet_3          0.036727\nagg_1             0.031174\ncatv_3            0.025417\ncol_1             0.023241\ncirc_1            0.022421\nlum_3             0.019317\nsitu_5            0.019139\nage_cls_2         0.014996\ncol_6             0.013859\ncol_2             0.012558\ncatu_3            0.012073\ncol_5             0.011816\ncatv_7            0.010947\ntrajet_4          0.010828\ncatv_4            0.010660\ntrajet_1          0.010387",
      "text/html": "<div>\n<style scoped>\n    .dataframe tbody tr th:only-of-type {\n        vertical-align: middle;\n    }\n\n    .dataframe tbody tr th {\n        vertical-align: top;\n    }\n\n    .dataframe thead th {\n        text-align: right;\n    }\n</style>\n<table border=\"1\" class=\"dataframe\">\n  <thead>\n    <tr style=\"text-align: right;\">\n      <th></th>\n      <th>Gini-importance</th>\n    </tr>\n  </thead>\n  <tbody>\n    <tr>\n      <th>dep</th>\n      <td>0.343201</td>\n    </tr>\n    <tr>\n      <th>catu_2</th>\n      <td>0.073812</td>\n    </tr>\n    <tr>\n      <th>catr_1</th>\n      <td>0.063786</td>\n    </tr>\n    <tr>\n      <th>catv_2</th>\n      <td>0.043995</td>\n    </tr>\n    <tr>\n      <th>trajet_3</th>\n      <td>0.036727</td>\n    </tr>\n    <tr>\n      <th>agg_1</th>\n      <td>0.031174</td>\n    </tr>\n    <tr>\n      <th>catv_3</th>\n      <td>0.025417</td>\n    </tr>\n    <tr>\n      <th>col_1</th>\n      <td>0.023241</td>\n    </tr>\n    <tr>\n      <th>circ_1</th>\n      <td>0.022421</td>\n    </tr>\n    <tr>\n      <th>lum_3</th>\n      <td>0.019317</td>\n    </tr>\n    <tr>\n      <th>situ_5</th>\n      <td>0.019139</td>\n    </tr>\n    <tr>\n      <th>age_cls_2</th>\n      <td>0.014996</td>\n    </tr>\n    <tr>\n      <th>col_6</th>\n      <td>0.013859</td>\n    </tr>\n    <tr>\n      <th>col_2</th>\n      <td>0.012558</td>\n    </tr>\n    <tr>\n      <th>catu_3</th>\n      <td>0.012073</td>\n    </tr>\n    <tr>\n      <th>col_5</th>\n      <td>0.011816</td>\n    </tr>\n    <tr>\n      <th>catv_7</th>\n      <td>0.010947</td>\n    </tr>\n    <tr>\n      <th>trajet_4</th>\n      <td>0.010828</td>\n    </tr>\n    <tr>\n      <th>catv_4</th>\n      <td>0.010660</td>\n    </tr>\n    <tr>\n      <th>trajet_1</th>\n      <td>0.010387</td>\n    </tr>\n  </tbody>\n</table>\n</div>"
     },
     "execution_count": 4,
     "metadata": {},
     "output_type": "execute_result"
    }
   ],
   "source": [
    "feats = {}\n",
    "for feature, importance in zip(X_train.columns, grid.best_estimator_.feature_importances_):\n",
    "    feats[feature] = importance\n",
    "\n",
    "importances = pd.DataFrame.from_dict(feats, orient='index').rename(columns={0: 'Gini-importance'})\n",
    "\n",
    "# variables les plus importantes\n",
    "importances.sort_values(by='Gini-importance', ascending=False).head(20)"
   ],
   "metadata": {
    "collapsed": false
   }
  },
  {
   "cell_type": "code",
   "execution_count": 5,
   "outputs": [
    {
     "name": "stdout",
     "output_type": "stream",
     "text": [
      "\n",
      "--- Model GradientBoostingClassifier fit and trained in 6.450602293014526 seconds ---\n",
      "--- Params : {'learning_rate': 0.5, 'n_estimators': 200}\n"
     ]
    },
    {
     "data": {
      "text/plain": "Classe prédite    0    1\nClasse réelle           \n0               769  880\n1               102  248",
      "text/html": "<div>\n<style scoped>\n    .dataframe tbody tr th:only-of-type {\n        vertical-align: middle;\n    }\n\n    .dataframe tbody tr th {\n        vertical-align: top;\n    }\n\n    .dataframe thead th {\n        text-align: right;\n    }\n</style>\n<table border=\"1\" class=\"dataframe\">\n  <thead>\n    <tr style=\"text-align: right;\">\n      <th>Classe prédite</th>\n      <th>0</th>\n      <th>1</th>\n    </tr>\n    <tr>\n      <th>Classe réelle</th>\n      <th></th>\n      <th></th>\n    </tr>\n  </thead>\n  <tbody>\n    <tr>\n      <th>0</th>\n      <td>769</td>\n      <td>880</td>\n    </tr>\n    <tr>\n      <th>1</th>\n      <td>102</td>\n      <td>248</td>\n    </tr>\n  </tbody>\n</table>\n</div>"
     },
     "metadata": {},
     "output_type": "display_data"
    },
    {
     "name": "stdout",
     "output_type": "stream",
     "text": [
      "\n",
      "Classification report :\n",
      "              precision    recall  f1-score   support\n",
      "\n",
      "           0       0.88      0.47      0.61      1649\n",
      "           1       0.22      0.71      0.34       350\n",
      "\n",
      "    accuracy                           0.51      1999\n",
      "   macro avg       0.55      0.59      0.47      1999\n",
      "weighted avg       0.77      0.51      0.56      1999\n",
      "\n"
     ]
    }
   ],
   "source": [
    "from my_libs.model_evaluator import ModelEvaluator\n",
    "\n",
    "evaluator = ModelEvaluator(model_type=classifier_name, params=grid.best_params_, X_train=X_train, y_train=y_train, X_test=X_test_final, y_test=y_test_final)\n",
    "model = evaluator.evaluate()"
   ],
   "metadata": {
    "collapsed": false
   }
  }
 ],
 "metadata": {
  "kernelspec": {
   "display_name": "Python 3",
   "language": "python",
   "name": "python3"
  },
  "language_info": {
   "codemirror_mode": {
    "name": "ipython",
    "version": 2
   },
   "file_extension": ".py",
   "mimetype": "text/x-python",
   "name": "python",
   "nbconvert_exporter": "python",
   "pygments_lexer": "ipython2",
   "version": "2.7.6"
  }
 },
 "nbformat": 4,
 "nbformat_minor": 0
}
