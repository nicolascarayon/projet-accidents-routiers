{
 "cells": [
  {
   "cell_type": "code",
   "execution_count": 1,
   "outputs": [],
   "source": [
    "import pandas as pd\n",
    "from my_libs import lib_tools as pt\n",
    "\n",
    "run_gridSearchCV = True  # True to run hyperparameters optimization with GridSearchCV()\n",
    "run_optuna = True        # True to run hyperparameters optimization with Optuna\n",
    "\n",
    "run_type = 'dev'\n",
    "# run_type = 'prd'\n",
    "\n",
    "if run_type == 'dev': filename_train, filename_test = 'pickles/df-dev-train.pkl', 'pickles/df-dev-test.pkl'\n",
    "if run_type == 'prd': filename_train, filename_test = 'pickles/df-prd-train.pkl', 'pickles/df-prd-test.pkl'\n",
    "\n",
    "# classifier_name = 'DecisionTreeClassifier'\n",
    "# classifier_name = 'RandomForestClassifier'\n",
    "# classifier_name = 'GradientBoostingClassifier'\n",
    "\n",
    "# columns = ['catv', 'agg', 'dep', 'col', 'catr', 'catu', 'trajet', 'locp', 'circ', 'situ', 'lum', 'age_cls']\n",
    "X_train, y_train, X_test, y_test, X_test_final, y_test_final = pt.get_train_valid_test_data(filename_train, filename_test)"
   ],
   "metadata": {
    "collapsed": false
   }
  },
  {
   "cell_type": "code",
   "execution_count": null,
   "outputs": [],
   "source": [
    "import time\n",
    "from my_libs.encoder_custom import EncoderCustom\n",
    "\n",
    "start_time = time.time()\n",
    "\n",
    "cols_target_encoded = ['dep']\n",
    "cols_onehot_encoded = X_train.columns.drop(cols_target_encoded)\n",
    "\n",
    "encoder = EncoderCustom(cols_target_encoded=cols_target_encoded, cols_onehot_encoded=cols_onehot_encoded)\n",
    "\n",
    "X_train, y_train = encoder.transform(X_train, y_train, 'Train')\n",
    "X_test, y_test  = encoder.transform(X_test,  y_test,  'Test')\n",
    "X_test_final, y_test_final = encoder.transform(X_test_final, y_test_final,  'Test')\n",
    "\n",
    "print(\"--- Features encoding performed in %s seconds ---\" % (time.time() - start_time))\n",
    "\n",
    "X_train.to_pickle('./X_train.pkl')\n",
    "y_train.to_pickle('./y_train.pkl')"
   ],
   "metadata": {
    "collapsed": false
   }
  },
  {
   "cell_type": "code",
   "execution_count": null,
   "outputs": [],
   "source": [
    "from my_libs.model_evaluator import ModelEvaluator\n",
    "\n",
    "# model_type = 'DecisionTreeClassifier'\n",
    "model_type = 'RandomForestClassifier'\n",
    "# model_type = 'GradientBoostingClassifier'\n",
    "\n",
    "if model_type == 'DecisionTreeClassifier':\n",
    "    best_params = {'max_depth': 11, 'criterion': 'gini', 'max_features': 'auto', 'min_samples_split': 4}\n",
    "\n",
    "if model_type == 'RandomForestClassifier':\n",
    "    best_params = {'criterion': 'gini', 'max_depth': 20, 'min_samples_split': 2, 'n_estimators': 50}\n",
    "\n",
    "if model_type == 'GradientBoostingClassifier':\n",
    "    best_params = {'learning_rate': 0.22, 'n_estimators': 51}\n",
    "\n",
    "evaluator = ModelEvaluator(model_type=model_type, params=best_params, X_train=X_train, y_train=y_train, X_test=X_test_final, y_test=y_test_final)\n",
    "model = evaluator.evaluate()"
   ],
   "metadata": {
    "collapsed": false
   }
  },
  {
   "cell_type": "code",
   "execution_count": null,
   "outputs": [],
   "source": [
    "from shapash import SmartExplainer\n",
    "import shap\n",
    "shap.initjs()\n",
    "\n",
    "xpl = SmartExplainer(\n",
    "    model=model,\n",
    "    # features_dict=house_dict,  # Optional parameter\n",
    "    # preprocessing=encoder, # Optional: compile step can use inverse_transform method\n",
    "    # postprocessing=postprocess # Optional: see tutorial postprocessing\n",
    ")\n",
    "\n",
    "y_test.index = X_test.index\n",
    "\n",
    "xpl.compile(\n",
    "    x=X_test,\n",
    "    # y_pred=y_pred, # Optional: for your own prediction (by default: model.predict)\n",
    "    y_target=y_test, # Optional: allows to display True Values vs Predicted Values\n",
    ")\n",
    "\n",
    "app = xpl.run_app(title_story=f\"{model_type}\", port=8020)"
   ],
   "metadata": {
    "collapsed": false
   }
  },
  {
   "cell_type": "code",
   "execution_count": null,
   "outputs": [],
   "source": [
    "# app.kill()"
   ],
   "metadata": {
    "collapsed": false
   }
  }
 ],
 "metadata": {
  "kernelspec": {
   "display_name": "Python 3",
   "language": "python",
   "name": "python3"
  },
  "language_info": {
   "codemirror_mode": {
    "name": "ipython",
    "version": 2
   },
   "file_extension": ".py",
   "mimetype": "text/x-python",
   "name": "python",
   "nbconvert_exporter": "python",
   "pygments_lexer": "ipython2",
   "version": "2.7.6"
  }
 },
 "nbformat": 4,
 "nbformat_minor": 0
}
