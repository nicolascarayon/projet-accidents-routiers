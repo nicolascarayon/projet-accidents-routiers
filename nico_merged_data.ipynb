{
 "cells": [
  {
   "cell_type": "code",
   "execution_count": null,
   "id": "6f8929d6",
   "metadata": {},
   "outputs": [],
   "source": [
    "import pandas as pd\n",
    "import numpy as np\n",
    "%matplotlib inline\n",
    "import matplotlib.pyplot as plt\n",
    "import load_data as ld\n",
    "import dataReferences as dr\n",
    "import seaborn as sns\n",
    "\n",
    "dir_data = \".\\\\data\\\\data_gouv_fr\\\\\"\n",
    "\n",
    "# Usagers\n",
    "dic_usagers = ld.load_usagers(folder_path=dir_data, start_year=2020, end_year=2021)\n",
    "\n",
    "# Caractéristiques\n",
    "dic_caract = ld.load_caract(folder_path=dir_data, start_year=2020, end_year=2021)\n",
    "\n",
    "df_usagers = dic_usagers[2020]\n",
    "df_caract = dic_caract[2020]"
   ]
  },
  {
   "cell_type": "markdown",
   "id": "7b035dcd",
   "metadata": {},
   "source": [
    "## Merge data et suppression des colonnes inutiles"
   ]
  },
  {
   "cell_type": "code",
   "execution_count": null,
   "id": "9d7a5173",
   "metadata": {},
   "outputs": [],
   "source": [
    "#  merge usagers and caracteristiques\n",
    "df = df_usagers.merge(right=df_caract, on='Num_Acc', how='left')\n",
    "\n",
    "# print(df_usagers.columns)\n",
    "# print(\"\\n\")\n",
    "# print(df_caract.columns)\n",
    "# print(\"\\n\")\n",
    "# print(df_u_c.columns)\n",
    "\n",
    "# inutiles : ['id_vehicule', 'num_veh', 'adr'] \n",
    "df = df.drop(columns=['id_vehicule', 'num_veh', 'adr', 'lat', 'long'], axis=1)"
   ]
  },
  {
   "cell_type": "markdown",
   "id": "6c655e1f",
   "metadata": {},
   "source": [
    "## Encodages"
   ]
  },
  {
   "cell_type": "code",
   "execution_count": null,
   "id": "6903f971",
   "metadata": {},
   "outputs": [],
   "source": [
    "# création de 4 classes basée sur les quartiles\n",
    "# df['age'].describe()\n",
    "def get_cl_age(age):\n",
    "    if age <= 25:\n",
    "        return '0-25'\n",
    "    if 25 < age <= 37:\n",
    "        return '26-37'\n",
    "    if 37 < age <= 53:\n",
    "        return '38-53'\n",
    "    if 53 < age:\n",
    "        return '>53'\n",
    "\n",
    "df['luminosité'] = df['lum'].apply(lambda i: dr.get_labels('lum', i))\n",
    "df['gravité'] = df['grav'].apply(lambda i: dr.get_labels('grav', i))\n",
    "df['age'] = 2022 - df['an_nais']\n",
    "df[\"classe d'age\"] = [get_cl_age(age) for age in df['age']]\n",
    "\n",
    "df = df.drop(columns=['an_nais', 'age'], axis=1)"
   ]
  },
  {
   "cell_type": "markdown",
   "id": "75a4d369",
   "metadata": {},
   "source": [
    "## Relation Gravité - Age"
   ]
  },
  {
   "cell_type": "code",
   "execution_count": null,
   "id": "35b0e1df",
   "metadata": {},
   "outputs": [],
   "source": [
    "df_grav_age = pd.crosstab(df[\"classe d'age\"], df['gravité'], normalize='index')\n",
    "columns_titles = ['Tué', 'Blessé hospitalisé', 'Blessé léger', 'Indemne']\n",
    "df_grav_age = df_grav_age.reindex(columns=columns_titles)\n",
    "\n",
    "sns.set_theme(style=\"ticks\")\n",
    "f, ax = plt.subplots(figsize=(7, 5))\n",
    "chart = df_grav_age.plot(kind=\"bar\", stacked=True, rot=0, ax=ax, title=\"Distribution de la gravité en fonction de l'âge\")\n",
    "chart.set_xticklabels(chart.get_xticklabels(), rotation=80)\n",
    "sns.move_legend(ax, \"upper right\")\n"
   ]
  },
  {
   "cell_type": "markdown",
   "id": "8e0eea6d",
   "metadata": {},
   "source": [
    "## Relation Gravité - Luminosité"
   ]
  },
  {
   "cell_type": "code",
   "execution_count": null,
   "id": "6580d2b3",
   "metadata": {},
   "outputs": [],
   "source": [
    "df_grav_lum = pd.crosstab(df['luminosité'], df['gravité'], normalize='index')\n",
    "df_grav_lum=df_grav_lum.reindex(columns=columns_titles)\n",
    "\n",
    "sns.set_theme(style=\"ticks\")\n",
    "f, ax = plt.subplots(figsize=(7, 5))\n",
    "chart = df_grav_lum.plot(kind=\"bar\", stacked=True, rot=0, ax=ax, \n",
    "                         title='Distribution de la gravité en fonction de la luminosité')\n",
    "chart.set_xticklabels(chart.get_xticklabels(), rotation=80)\n",
    "sns.move_legend(ax, \"upper right\")\n",
    "\n",
    "\n"
   ]
  },
  {
   "cell_type": "code",
   "execution_count": null,
   "id": "e73a632b",
   "metadata": {},
   "outputs": [],
   "source": []
  },
  {
   "cell_type": "code",
   "execution_count": null,
   "id": "048fd09b",
   "metadata": {},
   "outputs": [],
   "source": []
  }
 ],
 "metadata": {
  "kernelspec": {
   "display_name": "Python 3 (ipykernel)",
   "language": "python",
   "name": "python3"
  },
  "language_info": {
   "codemirror_mode": {
    "name": "ipython",
    "version": 3
   },
   "file_extension": ".py",
   "mimetype": "text/x-python",
   "name": "python",
   "nbconvert_exporter": "python",
   "pygments_lexer": "ipython3",
   "version": "3.9.13"
  }
 },
 "nbformat": 4,
 "nbformat_minor": 5
}
