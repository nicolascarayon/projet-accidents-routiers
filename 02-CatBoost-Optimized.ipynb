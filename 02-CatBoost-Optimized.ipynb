{
 "cells": [
  {
   "cell_type": "code",
   "execution_count": null,
   "metadata": {
    "collapsed": true
   },
   "outputs": [],
   "source": [
    "import pandas as pd\n",
    "\n",
    "quick = True             # work with sampled data to reduce computing time\n",
    "run_gridSearchCV = False # run or not hyperparameters optimization with GridSearchCV()\n",
    "run_optuna = True        # run or not hyperparameters optimization with Optuna\n",
    "\n",
    "filename = 'df-light.pkl' if quick else 'df-full.pkl'\n",
    "\n",
    "df = pd.read_pickle(f'./{filename}')\n",
    "data = df.iloc[:, 1:]\n",
    "target = df['grav']\n",
    "\n",
    "# for col in data.columns:\n",
    "#     data[col] = data[col].astype('object')\n",
    "# print(data.info())\n",
    "\n",
    "from sklearn.model_selection import train_test_split\n",
    "X_train, X_test, y_train, y_test = train_test_split(data, target, test_size=0.2, random_state=222)"
   ]
  },
  {
   "cell_type": "code",
   "execution_count": null,
   "outputs": [],
   "source": [
    "from catboost import CatBoostClassifier\n",
    "import shap\n",
    "shap.initjs()\n",
    "# Best parameters from Optuna {'classifier': 'CatBoostClassifier', 'iterations': 300, 'learning_rate': 0.09918266470302897}\n",
    "\n",
    "model = CatBoostClassifier(iterations=300, learning_rate=0.0991, random_seed=123, cat_features=list(X_train.columns))\n",
    "model.fit(X_train, y_train, verbose=True, plot=True)"
   ],
   "metadata": {
    "collapsed": false
   }
  },
  {
   "cell_type": "code",
   "execution_count": null,
   "outputs": [],
   "source": [
    "from shapash import SmartExplainer\n",
    "\n",
    "xpl = SmartExplainer(\n",
    "    model=model,\n",
    "    # features_dict=house_dict,  # Optional parameter\n",
    "    # preprocessing=encoder, # Optional: compile step can use inverse_transform method\n",
    "    # postprocessing=postprocess # Optional: see tutorial postprocessing\n",
    ")"
   ],
   "metadata": {
    "collapsed": false
   }
  },
  {
   "cell_type": "code",
   "execution_count": null,
   "outputs": [],
   "source": [
    "y_pred = model.predict(X_test)"
   ],
   "metadata": {
    "collapsed": false
   }
  },
  {
   "cell_type": "code",
   "execution_count": null,
   "outputs": [],
   "source": [
    "compile_df = X_test\n",
    "compile_df['y_pred'] = y_pred\n",
    "\n",
    "xpl.compile(\n",
    "    x=compile_df.drop(columns=['y_pred'], axis=1),\n",
    "    y_pred=compile_df['y_pred'], # Optional: for your own prediction (by default: model.predict)\n",
    "    y_target=pd.Series(y_test), # Optional: allows to display True Values vs Predicted Values\n",
    ")"
   ],
   "metadata": {
    "collapsed": false
   }
  },
  {
   "cell_type": "code",
   "execution_count": null,
   "outputs": [],
   "source": [
    "app = xpl.run_app()"
   ],
   "metadata": {
    "collapsed": false
   }
  }
 ],
 "metadata": {
  "kernelspec": {
   "display_name": "Python 3",
   "language": "python",
   "name": "python3"
  },
  "language_info": {
   "codemirror_mode": {
    "name": "ipython",
    "version": 2
   },
   "file_extension": ".py",
   "mimetype": "text/x-python",
   "name": "python",
   "nbconvert_exporter": "python",
   "pygments_lexer": "ipython2",
   "version": "2.7.6"
  }
 },
 "nbformat": 4,
 "nbformat_minor": 0
}
