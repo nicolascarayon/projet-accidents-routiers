{
 "cells": [
  {
   "cell_type": "code",
   "execution_count": null,
   "metadata": {},
   "outputs": [],
   "source": [
    "import pandas as pd\n",
    "from my_libs import lib_tools as pt\n",
    "from joblib import load\n",
    "\n",
    "run_type = 'prd'\n",
    "columns = None\n",
    "\n",
    "X_train, y_train, X_valid, y_valid, X_test, y_test = pt.get_train_valid_test_data(run_type, columns)\n",
    "print(\"Train, Valid and Test data loaded\")\n",
    "\n",
    "model = load(f'h5_models/model_cb_{run_type}_{X_train.shape[0]}x{X_train.shape[1]}.h5')"
   ]
  },
  {
   "cell_type": "code",
   "execution_count": null,
   "metadata": {},
   "outputs": [],
   "source": [
    "from shapash import SmartExplainer\n",
    "from my_libs import ref_labels\n",
    "import pickle\n",
    "import shap\n",
    "shap.initjs()\n",
    "\n",
    "all_var = True\n",
    "if all_var :\n",
    "    label_dict = ref_labels.dic_target\n",
    "    preprocessing = ref_labels.dic_preproc\n",
    "    features_dic = ref_labels.dic_features\n",
    "else :\n",
    "    label_dict = None\n",
    "    preprocessing = None\n",
    "    features_dic = None\n",
    "\n",
    "xpl = SmartExplainer(\n",
    "    model=model,\n",
    "    label_dict=label_dict,\n",
    "    preprocessing=preprocessing,\n",
    "    features_dict=features_dic,  # Optional parameter\n",
    ")\n",
    "\n",
    "\n",
    "y_pred = pd.Series(model.predict(X_test))\n",
    "y_pred.index = X_test.index\n",
    "y_test.index = X_test.index\n",
    "\n",
    "xpl.compile(\n",
    "    x=X_test,\n",
    "    y_pred=y_pred,   # Optional: for your own prediction (by default: model.predict)\n",
    "    y_target=y_test, # Optional: allows to display True Values vs Predicted Values\n",
    ")\n",
    "\n",
    "app = xpl.run_app()"
   ]
  },
  {
   "cell_type": "code",
   "execution_count": null,
   "metadata": {},
   "outputs": [],
   "source": [
    "# app.kill()"
   ]
  }
 ],
 "metadata": {
  "kernelspec": {
   "display_name": "Python 3 (ipykernel)",
   "language": "python",
   "name": "python3"
  },
  "language_info": {
   "codemirror_mode": {
    "name": "ipython",
    "version": 3
   },
   "file_extension": ".py",
   "mimetype": "text/x-python",
   "name": "python",
   "nbconvert_exporter": "python",
   "pygments_lexer": "ipython3",
   "version": "3.9.13"
  }
 },
 "nbformat": 4,
 "nbformat_minor": 1
}
