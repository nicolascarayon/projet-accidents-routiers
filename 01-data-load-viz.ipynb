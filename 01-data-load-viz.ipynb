{
 "cells": [
  {
   "cell_type": "code",
   "execution_count": null,
   "outputs": [],
   "source": [
    "import pandas as pd\n",
    "import numpy as np\n",
    "from my_libs import lib_tools as pt # Project Tools\n",
    "\n",
    "import matplotlib.pyplot as plt\n",
    "%matplotlib inline\n",
    "import seaborn as sns\n",
    "\n",
    "from datetime import date, datetime\n",
    "\n",
    "start_year = 2005      # Année de début de période d'étude\n",
    "end_year   = 2021      # Année de fin de période d'étude\n",
    "chk        = True      # Affichage de log des checks\n",
    "sampled    = True      # Travail sur données samplées de df\n",
    "\n",
    "df, dic_usagers, dic_caract, dic_lieux, dic_vehic = pt.get_work_df(start_year, end_year, sampled, chk)"
   ],
   "metadata": {
    "collapsed": false
   }
  },
  {
   "cell_type": "code",
   "execution_count": null,
   "id": "9b080b8b",
   "metadata": {},
   "outputs": [],
   "source": [
    "display_stat_data_load = chk\n",
    "\n",
    "if display_stat_data_load:\n",
    "    pt.display_stats_data_load(dic_usagers, dic_caract, dic_lieux, dic_vehic, start_year, end_year)"
   ]
  },
  {
   "cell_type": "markdown",
   "id": "7e42553a",
   "metadata": {},
   "source": [
    "### Suppression des colonnes jugées non pertinentes"
   ]
  },
  {
   "cell_type": "code",
   "execution_count": null,
   "id": "39d35adf",
   "metadata": {},
   "outputs": [],
   "source": [
    "# relatives à une info géographique trop fine\n",
    "cols_rmv = ['com', 'adr', 'lat', 'long', 'pr', 'pr1']\n",
    "for col in cols_rmv:\n",
    "    if col in df.columns:\n",
    "        df = df.drop(columns=cols_rmv, axis=1)\n",
    "\n",
    "# non connue en pratique avant l'accident\n",
    "cols_rmv = ['obs', 'obsm', 'choc', 'manv', 'col']\n",
    "for col in cols_rmv:\n",
    "    if col in df.columns:\n",
    "        df = df.drop(columns=cols_rmv, axis=1)"
   ]
  },
  {
   "cell_type": "markdown",
   "id": "f1039024",
   "metadata": {},
   "source": [
    "### Représentation graphique des *Null* - Suppression de variables avec plus de 8 % de Null"
   ]
  },
  {
   "cell_type": "code",
   "execution_count": null,
   "id": "3d4853b7",
   "metadata": {},
   "outputs": [],
   "source": [
    "df_sample = df.sample(10000)\n",
    "df_sample = df_sample.sort_values(by=['an', 'mois', 'jour'], ascending=True)\n",
    "\n",
    "fig, ax = plt.subplots(nrows=2, ncols=1)\n",
    "fig.set_size_inches(16, 16)\n",
    "ax[0].set_title('Représentation graphique de la présence de valeurs Null dans les données brutes')\n",
    "sns.heatmap(df_sample.isna(), cbar=False, ax=ax[0]);\n",
    "\n",
    "df = pt.rmv_col_too_much_null(df, 0.08, chk)\n",
    "\n",
    "df_sample = df.sample(10000)\n",
    "df_sample = df_sample.sort_values(by=['an', 'mois', 'jour'], ascending=True)\n",
    "\n",
    "ax[1].set_title('Représentation graphique de la présence de valeurs Null après suppression des colonnes avec au moins 8% de valeurs Null')\n",
    "sns.heatmap(df_sample.isna(), cbar=False, ax=ax[1]);"
   ]
  },
  {
   "cell_type": "markdown",
   "id": "d0053f2d",
   "metadata": {},
   "source": [
    "### Transformation des  *Null* restants en -1 (non renseigné) pour les colonnes qui l'autorisent"
   ]
  },
  {
   "cell_type": "code",
   "execution_count": null,
   "id": "83a424c1",
   "metadata": {},
   "outputs": [],
   "source": [
    "df = pt.clean_categ_not_specified(df)"
   ]
  },
  {
   "cell_type": "markdown",
   "id": "2c1a0aa3",
   "metadata": {},
   "source": [
    "### Nettoyage de l'année de naissance"
   ]
  },
  {
   "cell_type": "code",
   "execution_count": null,
   "id": "00ca1e7b",
   "metadata": {},
   "outputs": [],
   "source": [
    "df[df.an_nais.isna()].shape[0]\n",
    "df[df.an_nais.isna()].an.value_counts()\n",
    "\n",
    "years = []\n",
    "rate_nan = []\n",
    "for year in range(start_year, end_year+1):\n",
    "    years.append(year)\n",
    "    rate_nan.append(df[(df.an_nais.isna()) & (df.an==year)].shape[0] / df[df.an==year].shape[0])\n",
    "\n",
    "plt.title(f\"Pourcentage de Null dans la colonne 'Année de naissance' de {start_year} à {end_year}\")\n",
    "ax = sns.barplot(x=years, y=rate_nan)\n",
    "plt.xticks(rotation=60);"
   ]
  },
  {
   "cell_type": "code",
   "execution_count": null,
   "id": "a035b455",
   "metadata": {},
   "outputs": [],
   "source": [
    "print(\"Suppression des lignes avec Null : \")\n",
    "nb_bef = df.shape[0]\n",
    "print(f\"Nombre de lignes avant : {nb_bef}\")\n",
    "\n",
    "df = df.dropna(axis = 0, how = 'any')\n",
    "nb_aft = df.shape[0]\n",
    "print(f\"Nombre de lignes après : {nb_aft}\")\n",
    "print(f\"Taux de perte : {(nb_bef-nb_aft)/nb_aft*100:.2f} %\")"
   ]
  },
  {
   "cell_type": "markdown",
   "id": "5ebc1ef1",
   "metadata": {},
   "source": [
    "### Création de *age* et *age_cls*"
   ]
  },
  {
   "cell_type": "code",
   "execution_count": null,
   "id": "8b523cd9",
   "metadata": {},
   "outputs": [],
   "source": [
    "df = pt.create_col_age(df)\n",
    "df = pt.create_col_age_cls(df)"
   ]
  },
  {
   "cell_type": "markdown",
   "id": "0a8a1dc2",
   "metadata": {},
   "source": [
    "### Encodages : *dep*,  *nbv*, *catv*, *senc*"
   ]
  },
  {
   "cell_type": "code",
   "execution_count": null,
   "id": "6ab602f9",
   "metadata": {},
   "outputs": [],
   "source": [
    "df = pt.clean_col_dep(df, True)\n",
    "df = pt.clean_nbv(df)\n",
    "df = pt.clean_catv(df)\n",
    "df = pt.clean_senc(df)"
   ]
  },
  {
   "cell_type": "markdown",
   "id": "f5ec5ae1",
   "metadata": {},
   "source": [
    "### Affichage des modes des variables catégorielles restantes"
   ]
  },
  {
   "cell_type": "code",
   "execution_count": null,
   "id": "fcbeaebe",
   "metadata": {},
   "outputs": [],
   "source": [
    "# var_categ = df.select_dtypes('Int64').columns\n",
    "var_categ = df.columns\n",
    "col_excluded = ['Num_Acc', 'num_veh', 'age', 'hrmn', 'an', 'jour', 'an_nais', 'datetime', 'dep']\n",
    "\n",
    "for col in var_categ:\n",
    "    if not (col in col_excluded):\n",
    "        modes = list(df[col].unique())\n",
    "        print(f\"{col}\\t: {modes}\")            \n",
    "#         print(f\"{modes}\")            "
   ]
  },
  {
   "cell_type": "markdown",
   "id": "252e46e1",
   "metadata": {},
   "source": [
    "###  Nettoyage de *hrmn* et création de *datetime* - *joursem* - *grav_lbl*"
   ]
  },
  {
   "cell_type": "code",
   "execution_count": null,
   "id": "3cb52122",
   "metadata": {},
   "outputs": [],
   "source": [
    "df = pt.clean_hrmn(df)\n",
    "df = pt.create_col_datetime(df)\n",
    "df = pt.create_col_joursem(df)\n",
    "df = pt.create_col_grav_lbl(df)"
   ]
  },
  {
   "cell_type": "markdown",
   "id": "97c1da23",
   "metadata": {},
   "source": [
    "### Suppression des colonnes inutiles : *an_nais*"
   ]
  },
  {
   "cell_type": "code",
   "execution_count": null,
   "id": "a24df5a5",
   "metadata": {},
   "outputs": [],
   "source": [
    "df = df.drop(columns=['an_nais'], axis=1)"
   ]
  },
  {
   "cell_type": "markdown",
   "id": "f5672216",
   "metadata": {},
   "source": [
    "### Analyses croisées"
   ]
  },
  {
   "cell_type": "code",
   "execution_count": null,
   "id": "eb86becb",
   "metadata": {},
   "outputs": [],
   "source": [
    "target = df['grav']\n",
    "data = df.drop(columns=['grav'], axis=1)\n",
    "# set 'grav' as last column of data\n",
    "data['grav'] = target\n",
    "\n",
    "ds = data.sample(10000)\n",
    "corr = ds.corr()\n",
    "plt.figure(figsize=(10,10))\n",
    "ax = sns.heatmap(corr, annot=False, cmap='coolwarm', cbar=False) \n",
    "ax.set_title(f\"Matrice de corrélation du jeu de données\");"
   ]
  },
  {
   "cell_type": "code",
   "execution_count": null,
   "id": "08159b31",
   "metadata": {},
   "outputs": [],
   "source": [
    "# target = df['grav']\n",
    "# data = df.drop(columns=['grav'], axis=1)\n",
    "# # set 'grav' as last column of data\n",
    "# data['grav'] = target\n",
    "\n",
    "# ds = data.sample(10000)\n",
    "# corr1 = ds[ds.grav == 1].corr()\n",
    "\n",
    "# ds = data.sample(10000)\n",
    "# corr2 = ds[ds.grav == 2].corr()\n",
    "\n",
    "# ds = data.sample(10000)\n",
    "# corr3 = ds[ds.grav == 3].corr()\n",
    "\n",
    "# ds = data.sample(10000)\n",
    "# corr4 = ds[ds.grav == 4].corr()\n",
    "\n",
    "# fig, axs = plt.subplots(nrows=2, ncols=2)\n",
    "# fig.set_size_inches(15, 15)\n",
    "\n",
    "# axs[0,0].set_title('grav = Indemne')\n",
    "# sns.heatmap(corr1, annot=False, cmap='coolwarm', ax=axs[0,0], cbar=False) \n",
    "\n",
    "# axs[0,1].set_title('grav = Tué')\n",
    "# sns.heatmap(corr2, annot=False, cmap='coolwarm', ax=axs[0,1], cbar=False) \n",
    "\n",
    "# axs[1,0].set_title('grav = Blessé hospitalisé')\n",
    "# sns.heatmap(corr3, annot=False, cmap='coolwarm', ax=axs[1,0], cbar=False) \n",
    "\n",
    "# axs[1,1].set_title('grav = Blessé léger')\n",
    "# sns.heatmap(corr4, annot=False, cmap='coolwarm', ax=axs[1,1], cbar=False);"
   ]
  },
  {
   "cell_type": "code",
   "execution_count": null,
   "id": "d2ee68bb",
   "metadata": {},
   "outputs": [],
   "source": [
    "colormap = 'tab20c'\n",
    "df_cross = pd.crosstab(df['joursem'], df['grav_lbl'], normalize='index')\n",
    "df_cross = df_cross.reindex(['lundi', 'mardi', 'mercredi', 'jeudi', 'vendredi', 'samedi', 'dimanche'])\n",
    "print(df_cross)\n",
    "\n",
    "sns.set_theme(style=\"ticks\")\n",
    "f, ax = plt.subplots(figsize=(7, 5))\n",
    "chart = df_cross.plot(kind=\"bar\", stacked=True, rot=0, ax=ax, \n",
    "                      title=f\"Distribution de la gravité en fonction du jour de la semaine (données {start_year}-{end_year})\", \n",
    "                      colormap=colormap)\n",
    "chart.set_xticklabels(chart.get_xticklabels(), rotation=80)\n",
    "sns.move_legend(ax, \"upper right\")"
   ]
  },
  {
   "cell_type": "code",
   "execution_count": null,
   "id": "d4293c17",
   "metadata": {},
   "outputs": [],
   "source": [
    "colormap = 'tab20c'\n",
    "\n",
    "df_tmp = df[['sexe', 'grav_lbl']]\n",
    "df_tmp['sexe'] = df_tmp['sexe'].astype('str').replace(['1','2'], ['masculin', 'féminin'])\n",
    "df_cross_1 = pd.crosstab(df_tmp['sexe'], df_tmp['grav_lbl'], normalize='index')\n",
    "df_cross_2 = pd.crosstab(df_tmp['grav_lbl'], df_tmp['sexe'], normalize='index')\n",
    "\n",
    "print(df_cross_1)\n",
    "print(df_cross_2)\n",
    "\n",
    "sns.set_theme(style=\"ticks\")\n",
    "\n",
    "fig, axs = plt.subplots(2,1)\n",
    "chart = df_cross_1.plot(kind=\"bar\", stacked=True, rot=0, ax=axs[0], \n",
    "                      title=f\"Distribution de la gravité en fonction du sexe (données {start_year}-{end_year})\", \n",
    "                      colormap=colormap)\n",
    "chart.set_xticklabels(chart.get_xticklabels(), rotation=80)\n",
    "sns.move_legend(ax, \"upper right\")\n",
    "\n",
    "chart = df_cross_2.plot(kind=\"bar\", stacked=True, rot=0, ax=axs[1], \n",
    "                      title=f\"Distribution du sexe de l'usager en fonction de la gravité (données {start_year}-{end_year})\", \n",
    "                      colormap=colormap)\n",
    "chart.set_xticklabels(chart.get_xticklabels(), rotation=80)\n",
    "sns.move_legend(ax, \"upper right\")\n"
   ]
  },
  {
   "cell_type": "markdown",
   "id": "c1770611",
   "metadata": {},
   "source": [
    "### Evolution de gravité *Blessé hospitalisé* en 2019?"
   ]
  },
  {
   "cell_type": "code",
   "execution_count": null,
   "id": "e3917776",
   "metadata": {},
   "outputs": [],
   "source": [
    "tue     = []\n",
    "bless_l = []\n",
    "bless_h = []\n",
    "indemne = []\n",
    "y_m     = []\n",
    "years   = range(start_year, end_year+1)\n",
    "months  = range(1, 13)\n",
    "\n",
    "import datetime\n",
    "\n",
    "df_tmp = df\n",
    "\n",
    "for year in years:\n",
    "    for month in months:\n",
    "#         df_tmp = df[(df.datetime.dt.year == year) & (df.datetime.dt.month == month)]\n",
    "        df_tmp = df[(df.an==year) & (df.mois==month)]\n",
    "        if 2 in df_tmp.grav.value_counts(normalize=True).index: \n",
    "            tue.append(df_tmp.grav.value_counts(normalize=True)[2]) \n",
    "        else :\n",
    "            tue.append(tue[-1])\n",
    "        if 3 in df_tmp.grav.value_counts(normalize=True).index: \n",
    "            bless_h.append(df_tmp.grav.value_counts(normalize=True)[3])\n",
    "        else:\n",
    "            bless_h.append(bless_h[-1])\n",
    "        if 4 in df_tmp.grav.value_counts(normalize=True).index: \n",
    "            bless_l.append(df_tmp.grav.value_counts(normalize=True)[4])\n",
    "        else:\n",
    "            bless_l.append(bless_l[-1])\n",
    "        if 1 in df_tmp.grav.value_counts(normalize=True).index: \n",
    "            indemne.append(df_tmp.grav.value_counts(normalize=True)[1])\n",
    "        else:\n",
    "            indemne.append(indemne[-1])\n",
    "        y_m.append(datetime.datetime(year, month, 1))\n",
    "\n",
    "  \n",
    "data = pd.DataFrame({'Tué':tue, 'Blessé hospitalisé':bless_h, 'Blessé léger':bless_l, 'Indemne':indemne, 'temps':y_m})\n",
    "data = data.set_index('temps')\n",
    "\n",
    "sns.set_theme(style=\"white\", palette=None)\n",
    "ax = sns.lineplot(data=data, palette=['red','orange','green','gray'], linewidth=1) #.set_title(\"Evolution des proportions des niveaux de gravité en fonction du temps\")\n",
    "ax.axes.set_title(f\"Evolution des proportions des niveaux de gravité de {start_year} à {end_year}\",fontsize=10)\n",
    "sns.set(rc={'figure.figsize':(15,6)})\n",
    "plt.axvline(datetime.datetime(2018, 1, 1), linewidth=1)\n",
    "plt.axvline(datetime.datetime(2020, 4, 1), linestyle='--', color='gray', linewidth=1)\n",
    "plt.legend(loc='upper left');"
   ]
  },
  {
   "cell_type": "code",
   "execution_count": null,
   "id": "cf680304",
   "metadata": {},
   "outputs": [],
   "source": [
    "# colormap = 'tab20c'\n",
    "# col = 'place'\n",
    "\n",
    "# col_excluded = ['Num_Acc', 'num_veh', 'age', 'hrmn', 'dep', 'an', 'jour', 'an_nais']\n",
    "\n",
    "# sns.set_theme(style=\"ticks\")\n",
    "# fig, axs = plt.subplots(7,4)\n",
    "# fig.set_size_inches(20, 15)\n",
    "# axs = np.reshape(axs, -1)\n",
    "# plt.show()\n",
    "\n",
    "# k = 0\n",
    "# for col in df.columns:\n",
    "#     if not (col in col_excluded) and (k <= 1):    \n",
    "# #         if (k%5 == 0) : \n",
    "#         print(k)\n",
    "#         df_cross = pd.crosstab(df[col], df.grav_lbl, normalize='index')\n",
    "#         chart = df_cross.plot(kind=\"bar\", stacked=True, rot=0, ax=axs[k], title=f\"{col}\", colormap=colormap)\n",
    "# #         axs[k].yaxis.set_visible(False)\n",
    "# #         chart.set_xticklabels(chart.get_xticklabels(), rotation=80)        \n",
    "#         k += 1"
   ]
  },
  {
   "cell_type": "code",
   "execution_count": null,
   "id": "3a4053e7",
   "metadata": {},
   "outputs": [],
   "source": [
    "df.info(verbose=True, show_counts=True)"
   ]
  },
  {
   "cell_type": "code",
   "execution_count": null,
   "id": "6ca6a1f9",
   "metadata": {},
   "outputs": [],
   "source": [
    "acc    = []\n",
    "y_m    = []\n",
    "years  = range(start_year, end_year+1)\n",
    "months = range(1, 13)\n",
    "\n",
    "import datetime\n",
    "\n",
    "df_tmp = df\n",
    "\n",
    "for year in years:\n",
    "    for month in months:\n",
    "        df_tmp = df[(df.an==year) & (df.mois==month)]\n",
    "        acc.append(df_tmp.shape[0])\n",
    "        y_m.append(datetime.datetime(year, month, 1))\n",
    "  \n",
    "df_acc = pd.DataFrame({'Accidents':acc, 'temps':y_m})\n",
    "df_acc = df_acc.set_index('temps')\n",
    "\n",
    "acc_ma = df_acc.Accidents.rolling(12).mean()\n",
    "df_acc_ma = pd.DataFrame({'Moy mobile':acc_ma, 'temps':y_m})\n",
    "df_acc_ma = df_acc_ma.set_index('temps')\n",
    "\n",
    "plt.figure(figsize=(12,6))\n",
    "plt.plot(df_acc, 'b', linewidth=1, label=f\"Nombre mensuel d'accidents\")\n",
    "plt.plot(df_acc_ma, 'r', linestyle='dashed', label=f\"Moyenne mobile sur 12 mois\")\n",
    "plt.title(f\"Evolution du nombre d'accidents de {start_year} à {end_year}\")\n",
    "plt.grid()\n",
    "plt.legend();"
   ]
  },
  {
   "cell_type": "code",
   "execution_count": null,
   "id": "e27f4bef",
   "metadata": {},
   "outputs": [],
   "source": [
    "# sns.histplot(data=df[df.grav==2], x='age', bins=30)\n",
    "fig, axs = plt.subplots(1, 2, figsize=(15, 5), sharey=True)\n",
    "fig.suptitle(f\"Distributions des modalités de 'grav' en fonction de l'âge des accidentés\")\n",
    "sns.histplot(data=df[df.grav==2], x=\"age\", color=\"red\", label=\"Tué\", kde=True, bins=20, ax=axs[0])\n",
    "sns.histplot(data=df[df.grav==3], x=\"age\", color=\"skyblue\", label=\"Blessé hospitalisé\", kde=True, bins=20, ax=axs[0])\n",
    "sns.histplot(data=df[df.grav==1], x=\"age\", color=\"gray\", label=\"Indemne\", kde=True, bins=20, ax=axs[1])\n",
    "sns.histplot(data=df[df.grav==4], x=\"age\", color=\"yellow\", label=\"Blessé léger\", kde=True, bins=20, ax=axs[1])\n",
    "\n",
    "plt.legend();"
   ]
  },
  {
   "cell_type": "code",
   "execution_count": null,
   "id": "6ef1c3b6",
   "metadata": {},
   "outputs": [],
   "source": [
    "print(f\"Proportion de tués : {df[df.grav==2].shape[0]/df.shape[0]}\")\n",
    "print(f\"Proportion de blessés hospitalisés : {df[df.grav==3].shape[0]/df.shape[0]}\")\n",
    "print(f\"Proportion de blessés légers : {df[df.grav==4].shape[0]/df.shape[0]}\")\n",
    "print(f\"Proportion de personnes indemnes : {df[df.grav==1].shape[0]/df.shape[0]}\")"
   ]
  },
  {
   "cell_type": "code",
   "execution_count": null,
   "id": "82167992",
   "metadata": {},
   "outputs": [],
   "source": [
    "sns.set_theme(style=\"whitegrid\", palette=\"pastel\")\n",
    "df_tmp = df[['grav_lbl', 'joursem']]\n",
    "plt.title(f\"Distributions des accidents selon les niveaux de gravité et les jours de la semaine\")\n",
    "ax = sns.countplot(data=df_tmp, x=\"joursem\", hue=\"grav_lbl\", \n",
    "                   order=['lundi', 'mardi', 'mercredi', 'jeudi', 'vendredi', 'samedi', 'dimanche']);\n",
    "\n"
   ]
  },
  {
   "cell_type": "code",
   "execution_count": null,
   "id": "3fc07db4",
   "metadata": {},
   "outputs": [],
   "source": [
    "df.senc.unique()\n",
    "df_lst = []\n",
    "for year in np.arange(start_year, end_year, 2):\n",
    "    df_lst.append(df[df.an==year].senc)\n",
    "        \n",
    "   \n",
    "plt.hist(df_lst, label=np.arange(start_year, end_year, 2));\n",
    "plt.legend()"
   ]
  }
 ],
 "metadata": {
  "kernelspec": {
   "display_name": "Python 3 (ipykernel)",
   "language": "python",
   "name": "python3"
  },
  "language_info": {
   "codemirror_mode": {
    "name": "ipython",
    "version": 3
   },
   "file_extension": ".py",
   "mimetype": "text/x-python",
   "name": "python",
   "nbconvert_exporter": "python",
   "pygments_lexer": "ipython3",
   "version": "3.9.13"
  }
 },
 "nbformat": 4,
 "nbformat_minor": 5
}
