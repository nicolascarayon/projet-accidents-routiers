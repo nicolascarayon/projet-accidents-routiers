{
 "cells": [
  {
   "cell_type": "markdown",
   "source": [
    "### Get Train, Valid, Test data"
   ],
   "metadata": {
    "collapsed": false
   }
  },
  {
   "cell_type": "code",
   "execution_count": 1,
   "metadata": {
    "collapsed": true
   },
   "outputs": [
    {
     "name": "stdout",
     "output_type": "stream",
     "text": [
      "Train, valid and Test data loaded\n"
     ]
    }
   ],
   "source": [
    "import pandas as pd\n",
    "from my_libs import lib_tools as pt\n",
    "\n",
    "run_type = 'dev'\n",
    "# run_type = 'prd'\n",
    "resample = True\n",
    "\n",
    "X_train, y_train, X_valid, y_valid, X_test, y_test = pt.get_train_valid_test_data(run_type)\n",
    "print(\"Train, valid and Test data loaded\")"
   ]
  },
  {
   "cell_type": "markdown",
   "source": [
    "### Resample data with SMOTEN()"
   ],
   "metadata": {
    "collapsed": false
   }
  },
  {
   "cell_type": "code",
   "execution_count": 2,
   "outputs": [
    {
     "name": "stdout",
     "output_type": "stream",
     "text": [
      "--- Smote applied in 4.238809108734131 seconds ---\n",
      "Classes cardinality after resampling :\n",
      "0    4900\n",
      "1    4900\n",
      "Name: grav, dtype: int64\n",
      "X shape : (6400, 28) -> (9800, 28)\n",
      "y shape : (6400,) -> (9800,)\n"
     ]
    }
   ],
   "source": [
    "if resample:\n",
    "    X_train, y_train = pt.get_data_resampled(X=X_train, y=y_train, verbose=1)\n",
    "    # Save data generated\n",
    "    X_train.to_pickle(f'./pickles/X_train_smote_{run_type}.pkl')\n",
    "    y_train.to_pickle(f'./pickles/y_train_smote_{run_type}.pkl')\n",
    "else:\n",
    "    # Load data previously generated\n",
    "    X_train = pd.read_pickle(f'./pickles/X_train_smote_{run_type}.pkl')\n",
    "    y_train = pd.read_pickle(f'./pickles/X_train_smote_{run_type}.pkl')"
   ],
   "metadata": {
    "collapsed": false
   }
  },
  {
   "cell_type": "markdown",
   "source": [
    "### Encode categorical data (target and one hot encoding)"
   ],
   "metadata": {
    "collapsed": false
   }
  },
  {
   "cell_type": "code",
   "execution_count": 3,
   "outputs": [
    {
     "name": "stderr",
     "output_type": "stream",
     "text": [
      "C:\\Users\\nicol\\AppData\\Roaming\\Python\\Python39\\site-packages\\category_encoders\\target_encoder.py:122: FutureWarning: Default parameter min_samples_leaf will change in version 2.6.See https://github.com/scikit-learn-contrib/category_encoders/issues/327\n",
      "  warnings.warn(\"Default parameter min_samples_leaf will change in version 2.6.\"\n",
      "C:\\Users\\nicol\\AppData\\Roaming\\Python\\Python39\\site-packages\\category_encoders\\target_encoder.py:127: FutureWarning: Default parameter smoothing will change in version 2.6.See https://github.com/scikit-learn-contrib/category_encoders/issues/327\n",
      "  warnings.warn(\"Default parameter smoothing will change in version 2.6.\"\n"
     ]
    },
    {
     "name": "stdout",
     "output_type": "stream",
     "text": [
      "Columns target encoded : ['dep']\n",
      "Columns one hot encoded : ['place', 'catu', 'sexe', 'trajet', 'locp', 'actp', 'etatp', 'an', 'mois', 'lum', 'agg', 'int', 'atm', 'col', 'catr', 'circ', 'nbv', 'vosp', 'prof', 'plan', 'surf', 'infra', 'situ', 'senc', 'catv', 'age_cls', 'joursem']\n",
      "Features normalized\n",
      "--- Train set - features encoding performed in 1.04 seconds ---\n",
      "--- Test set - features encoding performed in 0.08 seconds ---\n",
      "--- Test set - features encoding performed in 0.10 seconds ---\n"
     ]
    }
   ],
   "source": [
    "from my_libs.encoder_custom import  EncoderCustom\n",
    "\n",
    "cols_target_encoded = ['dep']\n",
    "cols_onehot_encoded = X_train.columns.drop(cols_target_encoded)\n",
    "\n",
    "encoder = EncoderCustom(cols_target_encoded=cols_target_encoded, cols_onehot_encoded=cols_onehot_encoded)\n",
    "\n",
    "X_train, y_train = encoder.transform(X=X_train, y=y_train, datatype='Train')\n",
    "X_valid, y_valid = encoder.transform(X=X_valid, y=y_valid, datatype='Test')\n",
    "X_test , y_test  = encoder.transform(X=X_test , y=y_test , datatype='Test')"
   ],
   "metadata": {
    "collapsed": false
   }
  },
  {
   "cell_type": "markdown",
   "source": [
    "### Find best hyperparameters for model with Optuna"
   ],
   "metadata": {
    "collapsed": false
   }
  },
  {
   "cell_type": "code",
   "execution_count": 14,
   "outputs": [
    {
     "name": "stderr",
     "output_type": "stream",
     "text": [
      "\u001B[32m[I 2023-02-24 18:17:12,145]\u001B[0m A new study created in memory with name: no-name-abc80054-eb3d-488e-9b6a-d377e1dba0a5\u001B[0m\n",
      "[Parallel(n_jobs=1)]: Using backend SequentialBackend with 1 concurrent workers.\n",
      "[Parallel(n_jobs=1)]: Done   5 out of   5 | elapsed:    0.1s finished\n",
      "\u001B[32m[I 2023-02-24 18:17:12,306]\u001B[0m Trial 0 finished with value: 0.41255746875915567 and parameters: {'criterion': 'entropy', 'splitter': 'best', 'max_depth': 10, 'min_samples_split': 3}. Best is trial 0 with value: 0.41255746875915567.\u001B[0m\n",
      "[Parallel(n_jobs=1)]: Using backend SequentialBackend with 1 concurrent workers.\n",
      "[Parallel(n_jobs=1)]: Done   5 out of   5 | elapsed:    0.0s finished\n",
      "\u001B[32m[I 2023-02-24 18:17:12,419]\u001B[0m Trial 1 finished with value: 0.3895286348518959 and parameters: {'criterion': 'entropy', 'splitter': 'random', 'max_depth': 13, 'min_samples_split': 6}. Best is trial 0 with value: 0.41255746875915567.\u001B[0m\n",
      "[Parallel(n_jobs=1)]: Using backend SequentialBackend with 1 concurrent workers.\n",
      "[Parallel(n_jobs=1)]: Done   5 out of   5 | elapsed:    0.0s finished\n",
      "\u001B[32m[I 2023-02-24 18:17:12,524]\u001B[0m Trial 2 finished with value: 0.41284318272766274 and parameters: {'criterion': 'entropy', 'splitter': 'random', 'max_depth': 10, 'min_samples_split': 3}. Best is trial 2 with value: 0.41284318272766274.\u001B[0m\n",
      "[Parallel(n_jobs=1)]: Using backend SequentialBackend with 1 concurrent workers.\n",
      "[Parallel(n_jobs=1)]: Done   5 out of   5 | elapsed:    0.0s finished\n",
      "\u001B[32m[I 2023-02-24 18:17:12,607]\u001B[0m Trial 3 finished with value: 0.16959005519041517 and parameters: {'criterion': 'entropy', 'splitter': 'random', 'max_depth': 3, 'min_samples_split': 3}. Best is trial 2 with value: 0.41284318272766274.\u001B[0m\n",
      "[Parallel(n_jobs=1)]: Using backend SequentialBackend with 1 concurrent workers.\n",
      "[Parallel(n_jobs=1)]: Done   5 out of   5 | elapsed:    0.1s finished\n",
      "\u001B[32m[I 2023-02-24 18:17:12,800]\u001B[0m Trial 4 finished with value: 0.4255325067531353 and parameters: {'criterion': 'entropy', 'splitter': 'best', 'max_depth': 16, 'min_samples_split': 3}. Best is trial 4 with value: 0.4255325067531353.\u001B[0m\n",
      "[Parallel(n_jobs=1)]: Using backend SequentialBackend with 1 concurrent workers.\n",
      "[Parallel(n_jobs=1)]: Done   5 out of   5 | elapsed:    0.0s finished\n",
      "\u001B[32m[I 2023-02-24 18:17:12,930]\u001B[0m Trial 5 finished with value: 0.41739793854362117 and parameters: {'criterion': 'entropy', 'splitter': 'random', 'max_depth': 38, 'min_samples_split': 6}. Best is trial 4 with value: 0.4255325067531353.\u001B[0m\n",
      "[Parallel(n_jobs=1)]: Using backend SequentialBackend with 1 concurrent workers.\n",
      "[Parallel(n_jobs=1)]: Done   5 out of   5 | elapsed:    0.0s finished\n",
      "\u001B[32m[I 2023-02-24 18:17:13,037]\u001B[0m Trial 6 finished with value: 0.36658665159497394 and parameters: {'criterion': 'entropy', 'splitter': 'random', 'max_depth': 9, 'min_samples_split': 6}. Best is trial 4 with value: 0.4255325067531353.\u001B[0m\n",
      "[Parallel(n_jobs=1)]: Using backend SequentialBackend with 1 concurrent workers.\n",
      "[Parallel(n_jobs=1)]: Done   5 out of   5 | elapsed:    0.0s finished\n",
      "\u001B[32m[I 2023-02-24 18:17:13,151]\u001B[0m Trial 7 finished with value: 0.35894173946389396 and parameters: {'criterion': 'entropy', 'splitter': 'random', 'max_depth': 8, 'min_samples_split': 3}. Best is trial 4 with value: 0.4255325067531353.\u001B[0m\n",
      "[Parallel(n_jobs=1)]: Using backend SequentialBackend with 1 concurrent workers.\n",
      "[Parallel(n_jobs=1)]: Done   5 out of   5 | elapsed:    0.0s finished\n",
      "\u001B[32m[I 2023-02-24 18:17:13,222]\u001B[0m Trial 8 finished with value: 0.07149501661129569 and parameters: {'criterion': 'gini', 'splitter': 'random', 'max_depth': 2, 'min_samples_split': 4}. Best is trial 4 with value: 0.4255325067531353.\u001B[0m\n",
      "[Parallel(n_jobs=1)]: Using backend SequentialBackend with 1 concurrent workers.\n",
      "[Parallel(n_jobs=1)]: Done   5 out of   5 | elapsed:    0.0s finished\n",
      "\u001B[32m[I 2023-02-24 18:17:13,314]\u001B[0m Trial 9 finished with value: 0.16951126394618177 and parameters: {'criterion': 'entropy', 'splitter': 'best', 'max_depth': 3, 'min_samples_split': 3}. Best is trial 4 with value: 0.4255325067531353.\u001B[0m\n"
     ]
    },
    {
     "name": "stdout",
     "output_type": "stream",
     "text": [
      "\n",
      "--- Decision Tree Classifier - Optimization with Optuna performed in 1.1701242923736572 seconds ---\n",
      "Best params : {'criterion': 'entropy', 'splitter': 'best', 'max_depth': 16, 'min_samples_split': 3}\n"
     ]
    }
   ],
   "source": [
    "import time\n",
    "import optuna\n",
    "from sklearn.tree import DecisionTreeClassifier\n",
    "from sklearn.model_selection import cross_val_score\n",
    "\n",
    "n_trials = 10\n",
    "start_time = time.time()\n",
    "\n",
    "def objective(trial):\n",
    "\n",
    "    dt_criterion = trial.suggest_categorical('criterion', ['gini', 'entropy'])\n",
    "    dt_splitter = trial.suggest_categorical('splitter', ['best', 'random'])\n",
    "    dt_max_depth = trial.suggest_int('max_depth', 2, 300, log=True)\n",
    "    dt_min_samples_split = trial.suggest_int('min_samples_split', 2, 6)\n",
    "    classifier_obj = DecisionTreeClassifier(criterion=dt_criterion, splitter=dt_splitter, max_depth=dt_max_depth, min_samples_split=dt_min_samples_split)\n",
    "\n",
    "    score = cross_val_score(classifier_obj, X_train, y_train, cv=5, scoring=\"f1\", verbose=1)\n",
    "    accuracy = score.mean()\n",
    "\n",
    "    return accuracy\n",
    "\n",
    "# Create a study object and optimize the objective function.\n",
    "study = optuna.create_study(direction='maximize')\n",
    "study.optimize(objective, n_trials=n_trials)\n",
    "\n",
    "print(f\"\\n--- Decision Tree Classifier - Optimization with Optuna performed in %s seconds ---\" % (time.time() - start_time))\n",
    "print(f\"Best params : {study.best_params}\")"
   ],
   "metadata": {
    "collapsed": false
   }
  },
  {
   "cell_type": "markdown",
   "source": [
    "### Fit best model"
   ],
   "metadata": {
    "collapsed": false
   }
  },
  {
   "cell_type": "code",
   "execution_count": 20,
   "outputs": [
    {
     "data": {
      "text/plain": "         place  catu  sexe  trajet  locp actp  etatp    an  mois  lum  ...  \\\n1559992      2     2     2       0     0    0      0  2014     3    5  ...   \n1992544      1     1     1       1     0    0      0  2017    11    3  ...   \n1319310      1     1     1       1     0    0      0  2012    10    1  ...   \n1256159      1     1     2       5     0    0      0  2012     3    1  ...   \n1561576      1     1     1       4     0    0      0  2014     9    2  ...   \n...        ...   ...   ...     ...   ...  ...    ...   ...   ...  ...  ...   \n251931       1     1     1       5     0    0      0  2006     5    1  ...   \n477973       0     3     1       0     4    3      1  2007     7    2  ...   \n57525        1     1     1       5     0    0      0  2005     5    2  ...   \n1572756      1     1     1       0     0    0      0  2014     6    1  ...   \n1081383      1     1     1       1     0    0      0  2011     9    1  ...   \n\n         vosp  prof  plan  surf infra  situ  senc  catv  age_cls  joursem  \n1559992     0     1     1     1     5     1     0     7        4        5  \n1992544     0     2     1     1     0     1     2     7        3        2  \n1319310     0     1     1     2     0     1     0     7        1        5  \n1256159     0     1     1     1     0     1     0     7        1        5  \n1561576     0     1     1     1     0     1     0    -1        3        0  \n...       ...   ...   ...   ...   ...   ...   ...   ...      ...      ...  \n251931      0     1     1     1     0     3     0     7        3        5  \n477973      0     2     1     1     0     1     0     7        0        1  \n57525       0     1     1     1     0     1     0     7        2        6  \n1572756     0     3     1     1     0     1     0    33        2        0  \n1081383     0     2     1     1     0     1     0    30        1        2  \n\n[6400 rows x 28 columns]",
      "text/html": "<div>\n<style scoped>\n    .dataframe tbody tr th:only-of-type {\n        vertical-align: middle;\n    }\n\n    .dataframe tbody tr th {\n        vertical-align: top;\n    }\n\n    .dataframe thead th {\n        text-align: right;\n    }\n</style>\n<table border=\"1\" class=\"dataframe\">\n  <thead>\n    <tr style=\"text-align: right;\">\n      <th></th>\n      <th>place</th>\n      <th>catu</th>\n      <th>sexe</th>\n      <th>trajet</th>\n      <th>locp</th>\n      <th>actp</th>\n      <th>etatp</th>\n      <th>an</th>\n      <th>mois</th>\n      <th>lum</th>\n      <th>...</th>\n      <th>vosp</th>\n      <th>prof</th>\n      <th>plan</th>\n      <th>surf</th>\n      <th>infra</th>\n      <th>situ</th>\n      <th>senc</th>\n      <th>catv</th>\n      <th>age_cls</th>\n      <th>joursem</th>\n    </tr>\n  </thead>\n  <tbody>\n    <tr>\n      <th>1559992</th>\n      <td>2</td>\n      <td>2</td>\n      <td>2</td>\n      <td>0</td>\n      <td>0</td>\n      <td>0</td>\n      <td>0</td>\n      <td>2014</td>\n      <td>3</td>\n      <td>5</td>\n      <td>...</td>\n      <td>0</td>\n      <td>1</td>\n      <td>1</td>\n      <td>1</td>\n      <td>5</td>\n      <td>1</td>\n      <td>0</td>\n      <td>7</td>\n      <td>4</td>\n      <td>5</td>\n    </tr>\n    <tr>\n      <th>1992544</th>\n      <td>1</td>\n      <td>1</td>\n      <td>1</td>\n      <td>1</td>\n      <td>0</td>\n      <td>0</td>\n      <td>0</td>\n      <td>2017</td>\n      <td>11</td>\n      <td>3</td>\n      <td>...</td>\n      <td>0</td>\n      <td>2</td>\n      <td>1</td>\n      <td>1</td>\n      <td>0</td>\n      <td>1</td>\n      <td>2</td>\n      <td>7</td>\n      <td>3</td>\n      <td>2</td>\n    </tr>\n    <tr>\n      <th>1319310</th>\n      <td>1</td>\n      <td>1</td>\n      <td>1</td>\n      <td>1</td>\n      <td>0</td>\n      <td>0</td>\n      <td>0</td>\n      <td>2012</td>\n      <td>10</td>\n      <td>1</td>\n      <td>...</td>\n      <td>0</td>\n      <td>1</td>\n      <td>1</td>\n      <td>2</td>\n      <td>0</td>\n      <td>1</td>\n      <td>0</td>\n      <td>7</td>\n      <td>1</td>\n      <td>5</td>\n    </tr>\n    <tr>\n      <th>1256159</th>\n      <td>1</td>\n      <td>1</td>\n      <td>2</td>\n      <td>5</td>\n      <td>0</td>\n      <td>0</td>\n      <td>0</td>\n      <td>2012</td>\n      <td>3</td>\n      <td>1</td>\n      <td>...</td>\n      <td>0</td>\n      <td>1</td>\n      <td>1</td>\n      <td>1</td>\n      <td>0</td>\n      <td>1</td>\n      <td>0</td>\n      <td>7</td>\n      <td>1</td>\n      <td>5</td>\n    </tr>\n    <tr>\n      <th>1561576</th>\n      <td>1</td>\n      <td>1</td>\n      <td>1</td>\n      <td>4</td>\n      <td>0</td>\n      <td>0</td>\n      <td>0</td>\n      <td>2014</td>\n      <td>9</td>\n      <td>2</td>\n      <td>...</td>\n      <td>0</td>\n      <td>1</td>\n      <td>1</td>\n      <td>1</td>\n      <td>0</td>\n      <td>1</td>\n      <td>0</td>\n      <td>-1</td>\n      <td>3</td>\n      <td>0</td>\n    </tr>\n    <tr>\n      <th>...</th>\n      <td>...</td>\n      <td>...</td>\n      <td>...</td>\n      <td>...</td>\n      <td>...</td>\n      <td>...</td>\n      <td>...</td>\n      <td>...</td>\n      <td>...</td>\n      <td>...</td>\n      <td>...</td>\n      <td>...</td>\n      <td>...</td>\n      <td>...</td>\n      <td>...</td>\n      <td>...</td>\n      <td>...</td>\n      <td>...</td>\n      <td>...</td>\n      <td>...</td>\n      <td>...</td>\n    </tr>\n    <tr>\n      <th>251931</th>\n      <td>1</td>\n      <td>1</td>\n      <td>1</td>\n      <td>5</td>\n      <td>0</td>\n      <td>0</td>\n      <td>0</td>\n      <td>2006</td>\n      <td>5</td>\n      <td>1</td>\n      <td>...</td>\n      <td>0</td>\n      <td>1</td>\n      <td>1</td>\n      <td>1</td>\n      <td>0</td>\n      <td>3</td>\n      <td>0</td>\n      <td>7</td>\n      <td>3</td>\n      <td>5</td>\n    </tr>\n    <tr>\n      <th>477973</th>\n      <td>0</td>\n      <td>3</td>\n      <td>1</td>\n      <td>0</td>\n      <td>4</td>\n      <td>3</td>\n      <td>1</td>\n      <td>2007</td>\n      <td>7</td>\n      <td>2</td>\n      <td>...</td>\n      <td>0</td>\n      <td>2</td>\n      <td>1</td>\n      <td>1</td>\n      <td>0</td>\n      <td>1</td>\n      <td>0</td>\n      <td>7</td>\n      <td>0</td>\n      <td>1</td>\n    </tr>\n    <tr>\n      <th>57525</th>\n      <td>1</td>\n      <td>1</td>\n      <td>1</td>\n      <td>5</td>\n      <td>0</td>\n      <td>0</td>\n      <td>0</td>\n      <td>2005</td>\n      <td>5</td>\n      <td>2</td>\n      <td>...</td>\n      <td>0</td>\n      <td>1</td>\n      <td>1</td>\n      <td>1</td>\n      <td>0</td>\n      <td>1</td>\n      <td>0</td>\n      <td>7</td>\n      <td>2</td>\n      <td>6</td>\n    </tr>\n    <tr>\n      <th>1572756</th>\n      <td>1</td>\n      <td>1</td>\n      <td>1</td>\n      <td>0</td>\n      <td>0</td>\n      <td>0</td>\n      <td>0</td>\n      <td>2014</td>\n      <td>6</td>\n      <td>1</td>\n      <td>...</td>\n      <td>0</td>\n      <td>3</td>\n      <td>1</td>\n      <td>1</td>\n      <td>0</td>\n      <td>1</td>\n      <td>0</td>\n      <td>33</td>\n      <td>2</td>\n      <td>0</td>\n    </tr>\n    <tr>\n      <th>1081383</th>\n      <td>1</td>\n      <td>1</td>\n      <td>1</td>\n      <td>1</td>\n      <td>0</td>\n      <td>0</td>\n      <td>0</td>\n      <td>2011</td>\n      <td>9</td>\n      <td>1</td>\n      <td>...</td>\n      <td>0</td>\n      <td>2</td>\n      <td>1</td>\n      <td>1</td>\n      <td>0</td>\n      <td>1</td>\n      <td>0</td>\n      <td>30</td>\n      <td>1</td>\n      <td>2</td>\n    </tr>\n  </tbody>\n</table>\n<p>6400 rows × 28 columns</p>\n</div>"
     },
     "execution_count": 20,
     "metadata": {},
     "output_type": "execute_result"
    }
   ],
   "source": [
    "params = study.best_params\n",
    "model = DecisionTreeClassifier(**params)\n",
    "model.fit(X_train, y_train)\n",
    "\n",
    "model.feature_importances_\n",
    "X_train\n"
   ],
   "metadata": {
    "collapsed": false
   }
  },
  {
   "cell_type": "code",
   "execution_count": null,
   "outputs": [],
   "source": [],
   "metadata": {
    "collapsed": false
   }
  },
  {
   "cell_type": "code",
   "execution_count": null,
   "outputs": [],
   "source": [],
   "metadata": {
    "collapsed": false
   }
  }
 ],
 "metadata": {
  "kernelspec": {
   "display_name": "Python 3",
   "language": "python",
   "name": "python3"
  },
  "language_info": {
   "codemirror_mode": {
    "name": "ipython",
    "version": 2
   },
   "file_extension": ".py",
   "mimetype": "text/x-python",
   "name": "python",
   "nbconvert_exporter": "python",
   "pygments_lexer": "ipython2",
   "version": "2.7.6"
  }
 },
 "nbformat": 4,
 "nbformat_minor": 0
}
