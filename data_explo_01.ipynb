{
 "cells": [
  {
   "cell_type": "markdown",
   "id": "ffb16a13",
   "metadata": {},
   "source": [
    "# Imports"
   ]
  },
  {
   "cell_type": "code",
   "execution_count": null,
   "id": "91f25d4c",
   "metadata": {},
   "outputs": [],
   "source": [
    "import pandas as pd\n",
    "import numpy as np\n",
    "%matplotlib inline\n",
    "import matplotlib.pyplot as plt"
   ]
  },
  {
   "cell_type": "markdown",
   "id": "857fa615",
   "metadata": {},
   "source": [
    "# Global variables"
   ]
  },
  {
   "cell_type": "code",
   "execution_count": null,
   "id": "d4570abd",
   "metadata": {},
   "outputs": [],
   "source": [
    "dir_data = \"C:\\\\Users\\\\nicol\\\\Data\\\\data.gouv.fr\\\\\""
   ]
  },
  {
   "cell_type": "markdown",
   "id": "5a45caf3",
   "metadata": {
    "id": "5a45caf3"
   },
   "source": [
    "## Véhicules immatriculés impliqués dans les accidents corporels - 2009 à 2021"
   ]
  },
  {
   "cell_type": "code",
   "execution_count": null,
   "id": "4f4b06cf",
   "metadata": {
    "colab": {
     "base_uri": "https://localhost:8080/",
     "height": 399
    },
    "executionInfo": {
     "elapsed": 15,
     "status": "error",
     "timestamp": 1673972549083,
     "user": {
      "displayName": "Nicolas CARAYON",
      "userId": "14234881887499257908"
     },
     "user_tz": -60
    },
    "id": "4f4b06cf",
    "outputId": "5fbcfe65-18f0-4561-8268-ea95188268ea"
   },
   "outputs": [],
   "source": [
    "df_2009 = pd.read_csv(dir_data + '2009.csv', sep=';')\n",
    "df_2010 = pd.read_csv(dir_data + '2010.csv', sep=';')\n",
    "df_2011 = pd.read_csv(dir_data + '2011.csv', sep=';')\n",
    "df_2012 = pd.read_csv(dir_data + '2012.csv', sep=';')\n",
    "df_2013 = pd.read_csv(dir_data + '2013.csv', sep=';')\n",
    "df_2014 = pd.read_csv(dir_data + '2014.csv', sep=';')\n",
    "df_2015 = pd.read_csv(dir_data + '2015.csv', sep=';')\n",
    "df_2016 = pd.read_csv(dir_data + '2016.csv', sep=';')\n",
    "df_2017 = pd.read_csv(dir_data + '2017.csv', sep=';')\n",
    "df_2018 = pd.read_csv(dir_data + '2018.csv', sep=';')\n",
    "df_2019 = pd.read_csv(dir_data + '2019.csv', sep=';')\n",
    "df_2020 = pd.read_csv(dir_data + '2020.csv', sep=';')\n",
    "df_2021 = pd.read_csv(dir_data + '2021.csv', sep=';')\n",
    "\n",
    "# cf. description-de-la-liste-des-vehicules-immatricules-impliques-dans-les-accidents-corporels.pdf\n",
    "# -------------------------------------------------------------------------------------------------\n",
    "# Id_accident : Numéro d'identifiant de l’accident\n",
    "# Lettre Conventionnelle Véhicule : Identifiant de chaque véhicule impliqué dans un même accident – Code alpha\n",
    "# Année : Année de l'accident \n",
    "# Lieu Admin Actuel - Territoire Nom : 'Métropole', 'DOM', ou 'Autres OM' \n",
    "# Type Accident - Libellé (old) : accident léger, mortel, ou grave\n",
    "# CNIT : numéro d’identification national associé à chaque type, variante et version (TVV) de chaque réception communautaire de véhicules\n",
    "# Catégorie véhicule : Cyclo, Moto légère, moto lourdez, VT, VU, PL, Autres\n",
    "# Age véhicule : Age du véhicule à partir de la date de 1ère mise en circulation jusqu’à la date de l’accident\n",
    "\n",
    "df_2021.head()\n",
    "# df_2021.describe()\n",
    "\n",
    "# df_2021['Lettre Conventionnelle Véhicule'].value_counts() \n",
    "# -> pour chaque accident, compter le nb de véhicules impliqués et refaire un codage propre (A, B, C, ...)\n",
    "\n"
   ]
  },
  {
   "cell_type": "markdown",
   "id": "7b430413",
   "metadata": {
    "id": "7b430413"
   },
   "source": [
    "## Caractéristiques"
   ]
  },
  {
   "cell_type": "code",
   "execution_count": null,
   "id": "725ade90",
   "metadata": {
    "id": "725ade90"
   },
   "outputs": [],
   "source": [
    "carac_2005 = pd.read_csv(dir_data + 'caracteristiques_2005.csv', sep=',', encoding='ISO-8859-1')\n",
    "carac_2006 = pd.read_csv(dir_data + 'caracteristiques_2006.csv', sep=',', encoding='ISO-8859-1')\n",
    "carac_2007 = pd.read_csv(dir_data + 'caracteristiques_2007.csv', sep=',', encoding='ISO-8859-1')\n",
    "carac_2008 = pd.read_csv(dir_data + 'caracteristiques_2008.csv', sep=',', encoding='ISO-8859-1')\n",
    "carac_2009 = pd.read_csv(dir_data + 'caracteristiques_2009.csv', sep='\\t', encoding='ISO-8859-1')\n",
    "carac_2010 = pd.read_csv(dir_data + 'caracteristiques_2010.csv', sep=',', encoding='ISO-8859-1')\n",
    "carac_2011 = pd.read_csv(dir_data + 'caracteristiques_2011.csv', sep=',', encoding='ISO-8859-1')\n",
    "carac_2012 = pd.read_csv(dir_data + 'caracteristiques_2012.csv', sep=',', encoding='ISO-8859-1')\n",
    "carac_2013 = pd.read_csv(dir_data + 'caracteristiques_2013.csv', sep=',', encoding='ISO-8859-1')\n",
    "carac_2014 = pd.read_csv(dir_data + 'caracteristiques_2014.csv', sep=',', encoding='ISO-8859-1')\n",
    "carac_2015 = pd.read_csv(dir_data + 'caracteristiques_2015.csv', sep=',', encoding='ISO-8859-1')\n",
    "carac_2016 = pd.read_csv(dir_data + 'caracteristiques_2016.csv', sep=',', encoding='ISO-8859-1')\n",
    "carac_2017 = pd.read_csv(dir_data + 'caracteristiques-2017.csv', sep=',', encoding='ISO-8859-1')\n",
    "carac_2018 = pd.read_csv(dir_data + 'caracteristiques-2018.csv', sep=',', encoding='ISO-8859-1')\n",
    "carac_2019 = pd.read_csv(dir_data + 'caracteristiques-2019.csv', sep=';')\n",
    "carac_2020 = pd.read_csv(dir_data + 'caracteristiques-2020.csv', sep=';')\n",
    "# typo dans le nom du fichier -> à corriger en cas d'automatisation\n",
    "carac_2021 = pd.read_csv(dir_data + 'carcteristiques-2021.csv', sep=';')\n",
    "\n",
    "carac_2021\n",
    "\n",
    "# Num_Acc : identifiant de l'accident\n",
    "# jour : jour de l'accident\n",
    "# mois : mois de l'accident\n",
    "# an : année de l'accident\n",
    "# hrmn : hh:mm de l'accident\n",
    "# lum : conditions de luminosité (1: Plein jour, ..., 5:Nuit avec éclairage public allumé)\n",
    "# dep : département (code INSEE)\n",
    "# com : commune (code INSEE)\n",
    "# agg : localisation (1: hors agglomération, 2: en agglomération)\n",
    "# int : intersection (1: Hors intersection, ..., 9: Autre intersection)\n",
    "# atm : conditions atmosphériques (-1: Non renseigné, 1: Normale, ..., 8: Temps couvert, 9: Autre)\n",
    "# col : type de collision (-1: Non renseigné, 1:Deux véhicules - frontale, ..., 6: Autre collision, 7: Sans collision)\n",
    "# adr : adresse postale \n",
    "# lat : latitude\n",
    "# long : longitude "
   ]
  },
  {
   "cell_type": "markdown",
   "id": "2700f597",
   "metadata": {
    "id": "2700f597"
   },
   "source": [
    "## Lieux"
   ]
  },
  {
   "cell_type": "code",
   "execution_count": null,
   "id": "90b007b9",
   "metadata": {
    "id": "90b007b9"
   },
   "outputs": [],
   "source": [
    "lieux_2005 = pd.read_csv(dir_data + 'lieux_2005.csv', sep=',')\n",
    "lieux_2006 = pd.read_csv(dir_data + 'lieux_2006.csv', sep=',')\n",
    "lieux_2007 = pd.read_csv(dir_data + 'lieux_2007.csv', sep=',')\n",
    "lieux_2008 = pd.read_csv(dir_data + 'lieux_2008.csv', sep=',')\n",
    "lieux_2009 = pd.read_csv(dir_data + 'lieux_2009.csv', sep=',')\n",
    "lieux_2010 = pd.read_csv(dir_data + 'lieux_2010.csv', sep=',')\n",
    "lieux_2011 = pd.read_csv(dir_data + 'lieux_2011.csv', sep=',')\n",
    "lieux_2012 = pd.read_csv(dir_data + 'lieux_2012.csv', sep=',')\n",
    "lieux_2013 = pd.read_csv(dir_data + 'lieux_2013.csv', sep=',')\n",
    "lieux_2014 = pd.read_csv(dir_data + 'lieux_2014.csv', sep=',')\n",
    "lieux_2015 = pd.read_csv(dir_data + 'lieux_2015.csv', sep=',')\n",
    "lieux_2016 = pd.read_csv(dir_data + 'lieux_2016.csv', sep=',')\n",
    "lieux_2017 = pd.read_csv(dir_data + 'lieux-2017.csv', sep=',')\n",
    "lieux_2018 = pd.read_csv(dir_data + 'lieux-2018.csv', sep=',')\n",
    "lieux_2019 = pd.read_csv(dir_data + 'lieux-2019.csv', sep=';')\n",
    "lieux_2020 = pd.read_csv(dir_data + 'lieux-2020.csv', sep=';')\n",
    "lieux_2021 = pd.read_csv(dir_data + 'lieux-2021.csv', sep=';')\n",
    "\n",
    "# Num_Acc : identifiant de l'accident\n",
    "# catr : catégorie de route\n",
    "# voie : numéro de la route\n",
    "# v1 : indice numérique du numéro de route\n",
    "# v2 : lettre indice alphanumérique de la route\n",
    "# circ : régime de circulation\n",
    "# nbv : nombre total de voies de circulation \n",
    "# vosp : signale l’existence d’une voie réservée, indépendamment du fait que l’accident ait lieu ou non sur cette voie. \n",
    "# prof : profil en long décrit la déclivité de la route à l'endroit de l'accident \n",
    "# pr : numéro du PR de rattachement (numéro de la borne amont)\n",
    "# pr1 : distance en mètres au PR (par rapport à la borne amont)\n",
    "# plan : tracé en plan ( 1:Partie rectiligne, 2:En courbe à gauche, 3:En courbe à droite, 4:En \"S\")\n",
    "# lartpc : Largeur du terre plein central (TPC) s'il existe\n",
    "# larrout : Largeur de la chaussée affectée à la circulation des véhicules ne sont pas compris les bandes d'arrêt d'urgence, les TPC et les places de stationnement\n",
    "# surf : état de la surface\n",
    "# infra : aménagement - Infrastructure\n",
    "# situ : situation de l’accident\n",
    "# vma : point école : proximité d'une école"
   ]
  },
  {
   "cell_type": "markdown",
   "id": "66336fc0",
   "metadata": {
    "id": "66336fc0"
   },
   "source": [
    "## Load usagers "
   ]
  },
  {
   "cell_type": "code",
   "execution_count": null,
   "id": "7ccef392",
   "metadata": {
    "id": "7ccef392"
   },
   "outputs": [],
   "source": [
    "def load_usagers(start_year, end_year):\n",
    "    \"\"\"Retourne les données dans un dictionnaire de dataframes dont la clé est l'année au format entier\n",
    "\n",
    "    ex : usagers = load_usagers(2019, 2021)\n",
    "    les données de l'années 2020 sont accesibles usagers[2020]\n",
    "\n",
    "    Num_Acc : identifiant de l'accident\n",
    "    id_vehicule : identifiant unique du véhicule repris pour chacun des usagers occupant ce véhicule\n",
    "    num_veh : identifiant du véhicule repris pour chacun des usagers occupant ce véhicule\n",
    "    place : permet de situer la place occupée dans le véhicule par l'usager au moment de l'accident\n",
    "    catu : catégorie d'usager\n",
    "    grav : gravité de l'accident (!!!VARIABLE CIBLE!!!)\n",
    "    sexe : sexe de l'usager\n",
    "    an_nais : année de naissance de l'usager\n",
    "    trajet : motif du déplacement au moment de l’accident\n",
    "    secu1 : le renseignement du caractère indique la présence et l’utilisation de l’équipement de sécurité\n",
    "    secu2 : le renseignement du caractère indique la présence et l’utilisation de l’équipement de sécurité\n",
    "    secu3 : le renseignement du caractère indique la présence et l’utilisation de l’équipement de sécurité\n",
    "    locp : localisation du piéton\n",
    "    actp : action du piéton\n",
    "    etatp : etatp\n",
    "    \"\"\"\n",
    "    usagers = {}      \n",
    "    for year in range(start_year, end_year+1):\n",
    "        if year == 2005:\n",
    "            usagers[2005] = pd.read_csv(dir_data + 'usagers_2005.csv', sep=',')\n",
    "        if year == 2006:\n",
    "            usagers[2006] = pd.read_csv(dir_data + 'usagers_2005.csv', sep=',')  \n",
    "        if year == 2007:\n",
    "            usagers[2007] = pd.read_csv(dir_data + 'usagers_2006.csv', sep=',')\n",
    "        if year == 2008:\n",
    "            usagers[2008] = pd.read_csv(dir_data + 'usagers_2007.csv', sep=',')\n",
    "        if year == 2009:\n",
    "            usagers[2009] = pd.read_csv(dir_data + 'usagers_2008.csv', sep=',')\n",
    "        if year == 2010:\n",
    "            usagers[2010] = pd.read_csv(dir_data + 'usagers_2009.csv', sep=',')\n",
    "        if year == 2011:\n",
    "            usagers[2011] = pd.read_csv(dir_data + 'usagers_2010.csv', sep=',')\n",
    "        if year == 2012:\n",
    "            usagers[2012] = pd.read_csv(dir_data + 'usagers_2011.csv', sep=',')\n",
    "        if year == 2013:\n",
    "            usagers[2013] = pd.read_csv(dir_data + 'usagers_2013.csv', sep=',')\n",
    "        if year == 2014:\n",
    "            usagers[2014] = pd.read_csv(dir_data + 'usagers_2014.csv', sep=',')\n",
    "        if year == 2015:\n",
    "            usagers[2015] = pd.read_csv(dir_data + 'usagers_2015.csv', sep=',')\n",
    "        if year == 2016:\n",
    "            usagers[2016] = pd.read_csv(dir_data + 'usagers_2016.csv', sep=',')\n",
    "        if year == 2017:\n",
    "            usagers[2017] = pd.read_csv(dir_data + 'usagers-2017.csv', sep=',')\n",
    "        if year == 2018:\n",
    "            usagers[2018] = pd.read_csv(dir_data + 'usagers-2018.csv', sep=',')\n",
    "        if year == 2019:\n",
    "            usagers[2019] = pd.read_csv(dir_data + 'usagers-2019.csv', sep=';')\n",
    "        if year == 2020:\n",
    "            usagers[2020] = pd.read_csv(dir_data + 'usagers-2020.csv', sep=';')            \n",
    "        if year == 2021:\n",
    "            usagers[2021] = pd.read_csv(dir_data + 'usagers-2021.csv', sep=';')\n",
    "        \n",
    "    return usagers"
   ]
  },
  {
   "cell_type": "markdown",
   "id": "ee6a8d74",
   "metadata": {
    "id": "ee6a8d74"
   },
   "source": [
    "## Véhicules"
   ]
  },
  {
   "cell_type": "code",
   "execution_count": null,
   "id": "e9d0d3c5",
   "metadata": {
    "id": "e9d0d3c5"
   },
   "outputs": [],
   "source": [
    "vehic_2005 = pd.read_csv(dir_data + 'vehicules_2005.csv', sep=',')\n",
    "vehic_2006 = pd.read_csv(dir_data + 'vehicules_2006.csv', sep=',')\n",
    "vehic_2007 = pd.read_csv(dir_data + 'vehicules_2007.csv', sep=',')\n",
    "vehic_2008 = pd.read_csv(dir_data + 'vehicules_2008.csv', sep=',')\n",
    "vehic_2009 = pd.read_csv(dir_data + 'vehicules_2009.csv', sep=',')\n",
    "vehic_2010 = pd.read_csv(dir_data + 'vehicules_2010.csv', sep=',')\n",
    "vehic_2011 = pd.read_csv(dir_data + 'vehicules_2011.csv', sep=',')\n",
    "vehic_2012 = pd.read_csv(dir_data + 'vehicules_2012.csv', sep=',')\n",
    "vehic_2013 = pd.read_csv(dir_data + 'vehicules_2013.csv', sep=',')\n",
    "vehic_2014 = pd.read_csv(dir_data + 'vehicules_2014.csv', sep=',')\n",
    "vehic_2015 = pd.read_csv(dir_data + 'vehicules_2015.csv', sep=',')\n",
    "vehic_2016 = pd.read_csv(dir_data + 'vehicules_2016.csv', sep=',')\n",
    "vehic_2017 = pd.read_csv(dir_data + 'vehicules-2017.csv', sep=',')\n",
    "vehic_2018 = pd.read_csv(dir_data + 'vehicules-2018.csv', sep=',')\n",
    "vehic_2019 = pd.read_csv(dir_data + 'vehicules-2019.csv', sep=';')\n",
    "vehic_2020 = pd.read_csv(dir_data + 'vehicules-2020.csv', sep=';')\n",
    "vehic_2021 = pd.read_csv(dir_data + 'vehicules-2021.csv', sep=';')\n",
    "\n",
    "vehic_2021\n",
    "\n",
    "# Num_Acc : identifiant de l'accident\n",
    "# id_vehicule : identifiant du véhicule \n",
    "# num_veh : identifiant du véhicule repris pour chacun des usagers occupant ce véhicule\n",
    "# senc : sens de circulation\n",
    "# catv : catégorie du véhicule\n",
    "# obs : obstacle fixe heurté\n",
    "# obsm : obstacle mobile heurté\n",
    "# choc : point de choc initial\n",
    "# manv : manoeuvre principale avant l'accident\n",
    "# motor : type de motorisation du véhicule\n",
    "# occutc : nombre d’occupants dans le transport en commun "
   ]
  },
  {
   "cell_type": "code",
   "execution_count": null,
   "id": "235f828d",
   "metadata": {},
   "outputs": [],
   "source": [
    "# Etude des fichiers usagers-yyyy.csv\n",
    "\n",
    "# 1 : Indemne\n",
    "# 2 : Tué\n",
    "# 3 : Blessé hospitalisé\n",
    "# 4 : Blessé léger\n",
    "\n",
    "usagers = load_usagers(2005, 2021)\n",
    "\n",
    "print(\"Usagers - Dimension des données selon les années : \\n\")\n",
    "for year in range(2005, 2022):\n",
    "    print(f\"usagers {year} : {usagers[year].shape}\")\n",
    "\n",
    "print(\"\\nUsagers - Variables selon les années : \\n\")\n",
    "for year in range(2005, 2022):\n",
    "    print(f\"usagers {year} : {list(usagers[year].columns)}\")\n",
    "\n",
    "print(\"\\nUsagers - Modalités de la variable grav : \\n\")\n",
    "for year in range(2005, 2022):\n",
    "    print(f\"usagers {year} : {usagers[year]['grav'].value_counts()}\")\n",
    "\n",
    "\n",
    "plt.figure(figsize=(16, 16))\n",
    "plt.title('Répartition de la gravité des accidents par année depuis 2005')\n",
    "for k in range(1, 18):\n",
    "    year = 2005 + k -1\n",
    "    plt.subplot(5, 4, k)\n",
    "    plt.hist(usagers[year].grav);\n",
    "    plt.title(year)"
   ]
  }
 ],
 "metadata": {
  "colab": {
   "provenance": []
  },
  "kernelspec": {
   "display_name": "Python 3 (ipykernel)",
   "language": "python",
   "name": "python3"
  },
  "language_info": {
   "codemirror_mode": {
    "name": "ipython",
    "version": 3
   },
   "file_extension": ".py",
   "mimetype": "text/x-python",
   "name": "python",
   "nbconvert_exporter": "python",
   "pygments_lexer": "ipython3",
   "version": "3.11.1"
  }
 },
 "nbformat": 4,
 "nbformat_minor": 5
}
