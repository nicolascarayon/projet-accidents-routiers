{
 "cells": [
  {
   "cell_type": "markdown",
   "id": "5a45caf3",
   "metadata": {
    "id": "5a45caf3"
   },
   "source": [
    "## Véhicules immatriculés impliqués dans les accidents corporels - 2009 à 2021"
   ]
  },
  {
   "cell_type": "code",
   "execution_count": null,
   "id": "4f4b06cf",
   "metadata": {
    "colab": {
     "base_uri": "https://localhost:8080/",
     "height": 399
    },
    "executionInfo": {
     "elapsed": 15,
     "status": "error",
     "timestamp": 1673972549083,
     "user": {
      "displayName": "Nicolas CARAYON",
      "userId": "14234881887499257908"
     },
     "user_tz": -60
    },
    "id": "4f4b06cf",
    "outputId": "5fbcfe65-18f0-4561-8268-ea95188268ea"
   },
   "outputs": [],
   "source": [
    "import pandas as pd\n",
    "import numpy as np\n",
    "\n",
    "dir_data = \"path_to_data\"\n",
    "# ex = \"C:\\\\Users\\\\nicol\\\\Data\\\\data.gouv.fr\\\\\"\n",
    "\n",
    "df_2009 = pd.read_csv(dir_data + '2009.csv', sep=';')\n",
    "df_2010 = pd.read_csv(dir_data + '2010.csv', sep=';')\n",
    "df_2011 = pd.read_csv(dir_data + '2011.csv', sep=';')\n",
    "df_2012 = pd.read_csv(dir_data + '2012.csv', sep=';')\n",
    "df_2013 = pd.read_csv(dir_data + '2013.csv', sep=';')\n",
    "df_2014 = pd.read_csv(dir_data + '2014.csv', sep=';')\n",
    "df_2015 = pd.read_csv(dir_data + '2015.csv', sep=';')\n",
    "df_2016 = pd.read_csv(dir_data + '2016.csv', sep=';')\n",
    "df_2017 = pd.read_csv(dir_data + '2017.csv', sep=';')\n",
    "df_2018 = pd.read_csv(dir_data + '2018.csv', sep=';')\n",
    "df_2019 = pd.read_csv(dir_data + '2019.csv', sep=';')\n",
    "df_2020 = pd.read_csv(dir_data + '2020.csv', sep=';')\n",
    "df_2021 = pd.read_csv(dir_data + '2021.csv', sep=';')\n",
    "\n",
    "# cf. description-de-la-liste-des-vehicules-immatricules-impliques-dans-les-accidents-corporels.pdf\n",
    "# -------------------------------------------------------------------------------------------------\n",
    "# Id_accident : Numéro d'identifiant de l’accident\n",
    "# Lettre Conventionnelle Véhicule : Identifiant de chaque véhicule impliqué dans un même accident – Code alpha\n",
    "# Année : Année de l'accident \n",
    "# Lieu Admin Actuel - Territoire Nom : 'Métropole', 'DOM', ou 'Autres OM' \n",
    "# Type Accident - Libellé (old) : accident léger, mortel, ou grave\n",
    "# CNIT : numéro d’identification national associé à chaque type, variante et version (TVV) de chaque réception communautaire de véhicules\n",
    "# Catégorie véhicule : Cyclo, Moto légère, moto lourdez, VT, VU, PL, Autres\n",
    "# Age véhicule : Age du véhicule à partir de la date de 1ère mise en circulation jusqu’à la date de l’accident\n",
    "\n",
    "df_2021.head()\n",
    "# df_2021.describe()\n",
    "\n",
    "# df_2021['Lettre Conventionnelle Véhicule'].value_counts() \n",
    "# -> pour chaque accident, compter le nb de véhicules impliqués et refaire un codage propre (A, B, C, ...)\n",
    "\n"
   ]
  },
  {
   "cell_type": "markdown",
   "id": "7b430413",
   "metadata": {
    "id": "7b430413"
   },
   "source": [
    "## Caractéristiques"
   ]
  },
  {
   "cell_type": "code",
   "execution_count": null,
   "id": "725ade90",
   "metadata": {
    "id": "725ade90"
   },
   "outputs": [],
   "source": [
    "carac_2005 = pd.read_csv(dir_data + 'caracteristiques_2005.csv', sep=',', encoding='ISO-8859-1')\n",
    "carac_2006 = pd.read_csv(dir_data + 'caracteristiques_2006.csv', sep=',', encoding='ISO-8859-1')\n",
    "carac_2007 = pd.read_csv(dir_data + 'caracteristiques_2007.csv', sep=',', encoding='ISO-8859-1')\n",
    "carac_2008 = pd.read_csv(dir_data + 'caracteristiques_2008.csv', sep=',', encoding='ISO-8859-1')\n",
    "carac_2009 = pd.read_csv(dir_data + 'caracteristiques_2009.csv', sep='\\t', encoding='ISO-8859-1')\n",
    "carac_2010 = pd.read_csv(dir_data + 'caracteristiques_2010.csv', sep=',', encoding='ISO-8859-1')\n",
    "carac_2011 = pd.read_csv(dir_data + 'caracteristiques_2011.csv', sep=',', encoding='ISO-8859-1')\n",
    "carac_2012 = pd.read_csv(dir_data + 'caracteristiques_2012.csv', sep=',', encoding='ISO-8859-1')\n",
    "carac_2013 = pd.read_csv(dir_data + 'caracteristiques_2013.csv', sep=',', encoding='ISO-8859-1')\n",
    "carac_2014 = pd.read_csv(dir_data + 'caracteristiques_2014.csv', sep=',', encoding='ISO-8859-1')\n",
    "carac_2015 = pd.read_csv(dir_data + 'caracteristiques_2015.csv', sep=',', encoding='ISO-8859-1')\n",
    "carac_2016 = pd.read_csv(dir_data + 'caracteristiques_2016.csv', sep=',', encoding='ISO-8859-1')\n",
    "carac_2017 = pd.read_csv(dir_data + 'caracteristiques-2017.csv', sep=',', encoding='ISO-8859-1')\n",
    "carac_2018 = pd.read_csv(dir_data + 'caracteristiques-2018.csv', sep=',', encoding='ISO-8859-1')\n",
    "carac_2019 = pd.read_csv(dir_data + 'caracteristiques-2019.csv', sep=';')\n",
    "carac_2020 = pd.read_csv(dir_data + 'caracteristiques-2020.csv', sep=';')\n",
    "# typo dans le nom du fichier -> à corriger en cas d'automatisation\n",
    "carac_2021 = pd.read_csv(dir_data + 'carcteristiques-2021.csv', sep=';')\n",
    "\n",
    "carac_2021\n",
    "# Num_Acc : identifiant de l'accident\n",
    "# jour : jour de l'accident\n",
    "# mois : mois de l'accident\n",
    "# an : année de l'accident\n",
    "# hrmn : hh:mm de l'accident\n",
    "# lum : conditions de luminosité (1: Plein jour, ..., 5:Nuit avec éclairage public allumé)\n",
    "# dep : département (code INSEE)\n",
    "# com : commune (code INSEE)\n",
    "# agg : localisation (1: hors agglomération, 2: en agglomération)\n",
    "# int : intersection (1: Hors intersection, ..., 9: Autre intersection)\n",
    "# atm : conditions atmosphériques (-1: Non renseigné, 1: Normale, ..., 8: Temps couvert, 9: Autre)\n",
    "# col : type de collision (-1: Non renseigné, 1:Deux véhicules - frontale, ..., 6: Autre collision, 7: Sans collision)\n",
    "# adr : adresse postale \n",
    "# lat : latitude\n",
    "# long : longitude "
   ]
  },
  {
   "cell_type": "markdown",
   "id": "2700f597",
   "metadata": {
    "id": "2700f597"
   },
   "source": [
    "## Lieux"
   ]
  },
  {
   "cell_type": "code",
   "execution_count": null,
   "id": "90b007b9",
   "metadata": {
    "id": "90b007b9"
   },
   "outputs": [],
   "source": [
    "lieux_2005 = pd.read_csv(dir_data + 'lieux_2005.csv', sep=',')\n",
    "lieux_2006 = pd.read_csv(dir_data + 'lieux_2006.csv', sep=',')\n",
    "lieux_2007 = pd.read_csv(dir_data + 'lieux_2007.csv', sep=',')\n",
    "lieux_2008 = pd.read_csv(dir_data + 'lieux_2008.csv', sep=',')\n",
    "lieux_2009 = pd.read_csv(dir_data + 'lieux_2009.csv', sep=',')\n",
    "lieux_2010 = pd.read_csv(dir_data + 'lieux_2010.csv', sep=',')\n",
    "lieux_2011 = pd.read_csv(dir_data + 'lieux_2011.csv', sep=',')\n",
    "lieux_2012 = pd.read_csv(dir_data + 'lieux_2012.csv', sep=',')\n",
    "lieux_2013 = pd.read_csv(dir_data + 'lieux_2013.csv', sep=',')\n",
    "lieux_2014 = pd.read_csv(dir_data + 'lieux_2014.csv', sep=',')\n",
    "lieux_2015 = pd.read_csv(dir_data + 'lieux_2015.csv', sep=',')\n",
    "lieux_2016 = pd.read_csv(dir_data + 'lieux_2016.csv', sep=',')\n",
    "lieux_2017 = pd.read_csv(dir_data + 'lieux-2017.csv', sep=',')\n",
    "lieux_2018 = pd.read_csv(dir_data + 'lieux-2018.csv', sep=',')\n",
    "lieux_2019 = pd.read_csv(dir_data + 'lieux-2019.csv', sep=';')\n",
    "lieux_2020 = pd.read_csv(dir_data + 'lieux-2020.csv', sep=';')\n",
    "lieux_2021 = pd.read_csv(dir_data + 'lieux-2021.csv', sep=';')"
   ]
  },
  {
   "cell_type": "markdown",
   "id": "66336fc0",
   "metadata": {
    "id": "66336fc0"
   },
   "source": [
    "## Usagers"
   ]
  },
  {
   "cell_type": "code",
   "execution_count": null,
   "id": "7ccef392",
   "metadata": {
    "id": "7ccef392"
   },
   "outputs": [],
   "source": [
    "usagers_2005 = pd.read_csv(dir_data + 'usagers_2005.csv', sep=',')\n",
    "usagers_2006 = pd.read_csv(dir_data + 'usagers_2006.csv', sep=',')\n",
    "usagers_2007 = pd.read_csv(dir_data + 'usagers_2007.csv', sep=',')\n",
    "usagers_2008 = pd.read_csv(dir_data + 'usagers_2008.csv', sep=',')\n",
    "usagers_2009 = pd.read_csv(dir_data + 'usagers_2009.csv', sep=';')\n",
    "usagers_2010 = pd.read_csv(dir_data + 'usagers_2010.csv', sep=',')\n",
    "usagers_2011 = pd.read_csv(dir_data + 'usagers_2011.csv', sep=',')\n",
    "usagers_2012 = pd.read_csv(dir_data + 'usagers_2012.csv', sep=',')\n",
    "usagers_2013 = pd.read_csv(dir_data + 'usagers_2013.csv', sep=',')\n",
    "usagers_2014 = pd.read_csv(dir_data + 'usagers_2014.csv', sep=',')\n",
    "usagers_2015 = pd.read_csv(dir_data + 'usagers_2015.csv', sep=',')\n",
    "usagers_2016 = pd.read_csv(dir_data + 'usagers_2016.csv', sep=',')\n",
    "usagers_2017 = pd.read_csv(dir_data + 'usagers-2017.csv', sep=',')\n",
    "usagers_2018 = pd.read_csv(dir_data + 'usagers-2018.csv', sep=',')\n",
    "usagers_2019 = pd.read_csv(dir_data + 'usagers-2019.csv', sep=';')\n",
    "usagers_2020 = pd.read_csv(dir_data + 'usagers-2020.csv', sep=';')\n",
    "usagers_2021 = pd.read_csv(dir_data + 'usagers-2021.csv', sep=';')"
   ]
  },
  {
   "cell_type": "markdown",
   "id": "ee6a8d74",
   "metadata": {
    "id": "ee6a8d74"
   },
   "source": [
    "## Véhicules"
   ]
  },
  {
   "cell_type": "code",
   "execution_count": null,
   "id": "e9d0d3c5",
   "metadata": {
    "id": "e9d0d3c5"
   },
   "outputs": [],
   "source": [
    "vehic_2005 = pd.read_csv(dir_data + 'vehicules_2005.csv', sep=',')\n",
    "vehic_2006 = pd.read_csv(dir_data + 'vehicules_2006.csv', sep=',')\n",
    "vehic_2007 = pd.read_csv(dir_data + 'vehicules_2007.csv', sep=',')\n",
    "vehic_2008 = pd.read_csv(dir_data + 'vehicules_2008.csv', sep=',')\n",
    "vehic_2009 = pd.read_csv(dir_data + 'vehicules_2009.csv', sep=',')\n",
    "vehic_2010 = pd.read_csv(dir_data + 'vehicules_2010.csv', sep=',')\n",
    "vehic_2011 = pd.read_csv(dir_data + 'vehicules_2011.csv', sep=',')\n",
    "vehic_2012 = pd.read_csv(dir_data + 'vehicules_2012.csv', sep=',')\n",
    "vehic_2013 = pd.read_csv(dir_data + 'vehicules_2013.csv', sep=',')\n",
    "vehic_2014 = pd.read_csv(dir_data + 'vehicules_2014.csv', sep=',')\n",
    "vehic_2015 = pd.read_csv(dir_data + 'vehicules_2015.csv', sep=',')\n",
    "vehic_2016 = pd.read_csv(dir_data + 'vehicules_2016.csv', sep=',')\n",
    "vehic_2017 = pd.read_csv(dir_data + 'vehicules-2017.csv', sep=',')\n",
    "vehic_2018 = pd.read_csv(dir_data + 'vehicules-2018.csv', sep=',')\n",
    "vehic_2019 = pd.read_csv(dir_data + 'vehicules-2019.csv', sep=';')\n",
    "vehic_2020 = pd.read_csv(dir_data + 'vehicules-2020.csv', sep=';')\n",
    "vehic_2021 = pd.read_csv(dir_data + 'vehicules-2021.csv', sep=';')"
   ]
  },
  {
   "cell_type": "code",
   "execution_count": null,
   "id": "0b81945b",
   "metadata": {
    "id": "0b81945b"
   },
   "outputs": [],
   "source": []
  },
  {
   "cell_type": "code",
   "execution_count": null,
   "id": "950cf0a9",
   "metadata": {
    "id": "950cf0a9"
   },
   "outputs": [],
   "source": []
  }
 ],
 "metadata": {
  "colab": {
   "provenance": []
  },
  "kernelspec": {
   "display_name": "Python 3 (ipykernel)",
   "language": "python",
   "name": "python3"
  },
  "language_info": {
   "codemirror_mode": {
    "name": "ipython",
    "version": 3
   },
   "file_extension": ".py",
   "mimetype": "text/x-python",
   "name": "python",
   "nbconvert_exporter": "python",
   "pygments_lexer": "ipython3",
   "version": "3.11.1"
  }
 },
 "nbformat": 4,
 "nbformat_minor": 5
}
