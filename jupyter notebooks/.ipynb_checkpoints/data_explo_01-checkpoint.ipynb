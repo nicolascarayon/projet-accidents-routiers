{
 "cells": [
  {
   "cell_type": "markdown",
   "id": "5a45caf3",
   "metadata": {
    "id": "5a45caf3"
   },
   "source": [
    "## Véhicules immatriculés impliqués dans les accidents corporels - 2009 à 2021"
   ]
  },
  {
   "cell_type": "code",
   "execution_count": null,
   "id": "4f4b06cf",
   "metadata": {
    "colab": {
     "base_uri": "https://localhost:8080/",
     "height": 399
    },
    "executionInfo": {
     "elapsed": 15,
     "status": "error",
     "timestamp": 1673972549083,
     "user": {
      "displayName": "Nicolas CARAYON",
      "userId": "14234881887499257908"
     },
     "user_tz": -60
    },
    "id": "4f4b06cf",
    "outputId": "5fbcfe65-18f0-4561-8268-ea95188268ea"
   },
   "outputs": [
    {
     "ename": "FileNotFoundError",
     "evalue": "ignored",
     "output_type": "error",
     "traceback": [
      "\u001b[0;31m---------------------------------------------------------------------------\u001b[0m",
      "\u001b[0;31mFileNotFoundError\u001b[0m                         Traceback (most recent call last)",
      "\u001b[0;32m<ipython-input-1-e319be90a85b>\u001b[0m in \u001b[0;36m<module>\u001b[0;34m\u001b[0m\n\u001b[1;32m      4\u001b[0m \u001b[0mdir_data\u001b[0m \u001b[0;34m=\u001b[0m \u001b[0;34m\"C:\\\\Users\\\\Nicolas\\\\\\Desktop\\\\Data\\\\data.gouv.fr\\\\\"\u001b[0m\u001b[0;34m\u001b[0m\u001b[0;34m\u001b[0m\u001b[0m\n\u001b[1;32m      5\u001b[0m \u001b[0;34m\u001b[0m\u001b[0m\n\u001b[0;32m----> 6\u001b[0;31m \u001b[0mdf_2009\u001b[0m \u001b[0;34m=\u001b[0m \u001b[0mpd\u001b[0m\u001b[0;34m.\u001b[0m\u001b[0mread_csv\u001b[0m\u001b[0;34m(\u001b[0m\u001b[0;34m'C:\\\\Users\\\\Nicolas\\\\\\Desktop\\\\Data\\\\data.gouv.fr\\\\2009.csv'\u001b[0m\u001b[0;34m,\u001b[0m \u001b[0msep\u001b[0m\u001b[0;34m=\u001b[0m\u001b[0;34m';'\u001b[0m\u001b[0;34m)\u001b[0m\u001b[0;34m\u001b[0m\u001b[0;34m\u001b[0m\u001b[0m\n\u001b[0m\u001b[1;32m      7\u001b[0m \u001b[0mdf_2010\u001b[0m \u001b[0;34m=\u001b[0m \u001b[0mpd\u001b[0m\u001b[0;34m.\u001b[0m\u001b[0mread_csv\u001b[0m\u001b[0;34m(\u001b[0m\u001b[0mdir_data\u001b[0m \u001b[0;34m+\u001b[0m \u001b[0;34m'2010.csv'\u001b[0m\u001b[0;34m,\u001b[0m \u001b[0msep\u001b[0m\u001b[0;34m=\u001b[0m\u001b[0;34m';'\u001b[0m\u001b[0;34m)\u001b[0m\u001b[0;34m\u001b[0m\u001b[0;34m\u001b[0m\u001b[0m\n\u001b[1;32m      8\u001b[0m \u001b[0mdf_2011\u001b[0m \u001b[0;34m=\u001b[0m \u001b[0mpd\u001b[0m\u001b[0;34m.\u001b[0m\u001b[0mread_csv\u001b[0m\u001b[0;34m(\u001b[0m\u001b[0mdir_data\u001b[0m \u001b[0;34m+\u001b[0m \u001b[0;34m'2011.csv'\u001b[0m\u001b[0;34m,\u001b[0m \u001b[0msep\u001b[0m\u001b[0;34m=\u001b[0m\u001b[0;34m';'\u001b[0m\u001b[0;34m)\u001b[0m\u001b[0;34m\u001b[0m\u001b[0;34m\u001b[0m\u001b[0m\n",
      "\u001b[0;32m/usr/local/lib/python3.8/dist-packages/pandas/util/_decorators.py\u001b[0m in \u001b[0;36mwrapper\u001b[0;34m(*args, **kwargs)\u001b[0m\n\u001b[1;32m    309\u001b[0m                     \u001b[0mstacklevel\u001b[0m\u001b[0;34m=\u001b[0m\u001b[0mstacklevel\u001b[0m\u001b[0;34m,\u001b[0m\u001b[0;34m\u001b[0m\u001b[0;34m\u001b[0m\u001b[0m\n\u001b[1;32m    310\u001b[0m                 )\n\u001b[0;32m--> 311\u001b[0;31m             \u001b[0;32mreturn\u001b[0m \u001b[0mfunc\u001b[0m\u001b[0;34m(\u001b[0m\u001b[0;34m*\u001b[0m\u001b[0margs\u001b[0m\u001b[0;34m,\u001b[0m \u001b[0;34m**\u001b[0m\u001b[0mkwargs\u001b[0m\u001b[0;34m)\u001b[0m\u001b[0;34m\u001b[0m\u001b[0;34m\u001b[0m\u001b[0m\n\u001b[0m\u001b[1;32m    312\u001b[0m \u001b[0;34m\u001b[0m\u001b[0m\n\u001b[1;32m    313\u001b[0m         \u001b[0;32mreturn\u001b[0m \u001b[0mwrapper\u001b[0m\u001b[0;34m\u001b[0m\u001b[0;34m\u001b[0m\u001b[0m\n",
      "\u001b[0;32m/usr/local/lib/python3.8/dist-packages/pandas/io/parsers/readers.py\u001b[0m in \u001b[0;36mread_csv\u001b[0;34m(filepath_or_buffer, sep, delimiter, header, names, index_col, usecols, squeeze, prefix, mangle_dupe_cols, dtype, engine, converters, true_values, false_values, skipinitialspace, skiprows, skipfooter, nrows, na_values, keep_default_na, na_filter, verbose, skip_blank_lines, parse_dates, infer_datetime_format, keep_date_col, date_parser, dayfirst, cache_dates, iterator, chunksize, compression, thousands, decimal, lineterminator, quotechar, quoting, doublequote, escapechar, comment, encoding, encoding_errors, dialect, error_bad_lines, warn_bad_lines, on_bad_lines, delim_whitespace, low_memory, memory_map, float_precision, storage_options)\u001b[0m\n\u001b[1;32m    584\u001b[0m     \u001b[0mkwds\u001b[0m\u001b[0;34m.\u001b[0m\u001b[0mupdate\u001b[0m\u001b[0;34m(\u001b[0m\u001b[0mkwds_defaults\u001b[0m\u001b[0;34m)\u001b[0m\u001b[0;34m\u001b[0m\u001b[0;34m\u001b[0m\u001b[0m\n\u001b[1;32m    585\u001b[0m \u001b[0;34m\u001b[0m\u001b[0m\n\u001b[0;32m--> 586\u001b[0;31m     \u001b[0;32mreturn\u001b[0m \u001b[0m_read\u001b[0m\u001b[0;34m(\u001b[0m\u001b[0mfilepath_or_buffer\u001b[0m\u001b[0;34m,\u001b[0m \u001b[0mkwds\u001b[0m\u001b[0;34m)\u001b[0m\u001b[0;34m\u001b[0m\u001b[0;34m\u001b[0m\u001b[0m\n\u001b[0m\u001b[1;32m    587\u001b[0m \u001b[0;34m\u001b[0m\u001b[0m\n\u001b[1;32m    588\u001b[0m \u001b[0;34m\u001b[0m\u001b[0m\n",
      "\u001b[0;32m/usr/local/lib/python3.8/dist-packages/pandas/io/parsers/readers.py\u001b[0m in \u001b[0;36m_read\u001b[0;34m(filepath_or_buffer, kwds)\u001b[0m\n\u001b[1;32m    480\u001b[0m \u001b[0;34m\u001b[0m\u001b[0m\n\u001b[1;32m    481\u001b[0m     \u001b[0;31m# Create the parser.\u001b[0m\u001b[0;34m\u001b[0m\u001b[0;34m\u001b[0m\u001b[0;34m\u001b[0m\u001b[0m\n\u001b[0;32m--> 482\u001b[0;31m     \u001b[0mparser\u001b[0m \u001b[0;34m=\u001b[0m \u001b[0mTextFileReader\u001b[0m\u001b[0;34m(\u001b[0m\u001b[0mfilepath_or_buffer\u001b[0m\u001b[0;34m,\u001b[0m \u001b[0;34m**\u001b[0m\u001b[0mkwds\u001b[0m\u001b[0;34m)\u001b[0m\u001b[0;34m\u001b[0m\u001b[0;34m\u001b[0m\u001b[0m\n\u001b[0m\u001b[1;32m    483\u001b[0m \u001b[0;34m\u001b[0m\u001b[0m\n\u001b[1;32m    484\u001b[0m     \u001b[0;32mif\u001b[0m \u001b[0mchunksize\u001b[0m \u001b[0;32mor\u001b[0m \u001b[0miterator\u001b[0m\u001b[0;34m:\u001b[0m\u001b[0;34m\u001b[0m\u001b[0;34m\u001b[0m\u001b[0m\n",
      "\u001b[0;32m/usr/local/lib/python3.8/dist-packages/pandas/io/parsers/readers.py\u001b[0m in \u001b[0;36m__init__\u001b[0;34m(self, f, engine, **kwds)\u001b[0m\n\u001b[1;32m    809\u001b[0m             \u001b[0mself\u001b[0m\u001b[0;34m.\u001b[0m\u001b[0moptions\u001b[0m\u001b[0;34m[\u001b[0m\u001b[0;34m\"has_index_names\"\u001b[0m\u001b[0;34m]\u001b[0m \u001b[0;34m=\u001b[0m \u001b[0mkwds\u001b[0m\u001b[0;34m[\u001b[0m\u001b[0;34m\"has_index_names\"\u001b[0m\u001b[0;34m]\u001b[0m\u001b[0;34m\u001b[0m\u001b[0;34m\u001b[0m\u001b[0m\n\u001b[1;32m    810\u001b[0m \u001b[0;34m\u001b[0m\u001b[0m\n\u001b[0;32m--> 811\u001b[0;31m         \u001b[0mself\u001b[0m\u001b[0;34m.\u001b[0m\u001b[0m_engine\u001b[0m \u001b[0;34m=\u001b[0m \u001b[0mself\u001b[0m\u001b[0;34m.\u001b[0m\u001b[0m_make_engine\u001b[0m\u001b[0;34m(\u001b[0m\u001b[0mself\u001b[0m\u001b[0;34m.\u001b[0m\u001b[0mengine\u001b[0m\u001b[0;34m)\u001b[0m\u001b[0;34m\u001b[0m\u001b[0;34m\u001b[0m\u001b[0m\n\u001b[0m\u001b[1;32m    812\u001b[0m \u001b[0;34m\u001b[0m\u001b[0m\n\u001b[1;32m    813\u001b[0m     \u001b[0;32mdef\u001b[0m \u001b[0mclose\u001b[0m\u001b[0;34m(\u001b[0m\u001b[0mself\u001b[0m\u001b[0;34m)\u001b[0m\u001b[0;34m:\u001b[0m\u001b[0;34m\u001b[0m\u001b[0;34m\u001b[0m\u001b[0m\n",
      "\u001b[0;32m/usr/local/lib/python3.8/dist-packages/pandas/io/parsers/readers.py\u001b[0m in \u001b[0;36m_make_engine\u001b[0;34m(self, engine)\u001b[0m\n\u001b[1;32m   1038\u001b[0m             )\n\u001b[1;32m   1039\u001b[0m         \u001b[0;31m# error: Too many arguments for \"ParserBase\"\u001b[0m\u001b[0;34m\u001b[0m\u001b[0;34m\u001b[0m\u001b[0;34m\u001b[0m\u001b[0m\n\u001b[0;32m-> 1040\u001b[0;31m         \u001b[0;32mreturn\u001b[0m \u001b[0mmapping\u001b[0m\u001b[0;34m[\u001b[0m\u001b[0mengine\u001b[0m\u001b[0;34m]\u001b[0m\u001b[0;34m(\u001b[0m\u001b[0mself\u001b[0m\u001b[0;34m.\u001b[0m\u001b[0mf\u001b[0m\u001b[0;34m,\u001b[0m \u001b[0;34m**\u001b[0m\u001b[0mself\u001b[0m\u001b[0;34m.\u001b[0m\u001b[0moptions\u001b[0m\u001b[0;34m)\u001b[0m  \u001b[0;31m# type: ignore[call-arg]\u001b[0m\u001b[0;34m\u001b[0m\u001b[0;34m\u001b[0m\u001b[0m\n\u001b[0m\u001b[1;32m   1041\u001b[0m \u001b[0;34m\u001b[0m\u001b[0m\n\u001b[1;32m   1042\u001b[0m     \u001b[0;32mdef\u001b[0m \u001b[0m_failover_to_python\u001b[0m\u001b[0;34m(\u001b[0m\u001b[0mself\u001b[0m\u001b[0;34m)\u001b[0m\u001b[0;34m:\u001b[0m\u001b[0;34m\u001b[0m\u001b[0;34m\u001b[0m\u001b[0m\n",
      "\u001b[0;32m/usr/local/lib/python3.8/dist-packages/pandas/io/parsers/c_parser_wrapper.py\u001b[0m in \u001b[0;36m__init__\u001b[0;34m(self, src, **kwds)\u001b[0m\n\u001b[1;32m     49\u001b[0m \u001b[0;34m\u001b[0m\u001b[0m\n\u001b[1;32m     50\u001b[0m         \u001b[0;31m# open handles\u001b[0m\u001b[0;34m\u001b[0m\u001b[0;34m\u001b[0m\u001b[0;34m\u001b[0m\u001b[0m\n\u001b[0;32m---> 51\u001b[0;31m         \u001b[0mself\u001b[0m\u001b[0;34m.\u001b[0m\u001b[0m_open_handles\u001b[0m\u001b[0;34m(\u001b[0m\u001b[0msrc\u001b[0m\u001b[0;34m,\u001b[0m \u001b[0mkwds\u001b[0m\u001b[0;34m)\u001b[0m\u001b[0;34m\u001b[0m\u001b[0;34m\u001b[0m\u001b[0m\n\u001b[0m\u001b[1;32m     52\u001b[0m         \u001b[0;32massert\u001b[0m \u001b[0mself\u001b[0m\u001b[0;34m.\u001b[0m\u001b[0mhandles\u001b[0m \u001b[0;32mis\u001b[0m \u001b[0;32mnot\u001b[0m \u001b[0;32mNone\u001b[0m\u001b[0;34m\u001b[0m\u001b[0;34m\u001b[0m\u001b[0m\n\u001b[1;32m     53\u001b[0m \u001b[0;34m\u001b[0m\u001b[0m\n",
      "\u001b[0;32m/usr/local/lib/python3.8/dist-packages/pandas/io/parsers/base_parser.py\u001b[0m in \u001b[0;36m_open_handles\u001b[0;34m(self, src, kwds)\u001b[0m\n\u001b[1;32m    220\u001b[0m         \u001b[0mLet\u001b[0m \u001b[0mthe\u001b[0m \u001b[0mreaders\u001b[0m \u001b[0mopen\u001b[0m \u001b[0mIOHandles\u001b[0m \u001b[0mafter\u001b[0m \u001b[0mthey\u001b[0m \u001b[0mare\u001b[0m \u001b[0mdone\u001b[0m \u001b[0;32mwith\u001b[0m \u001b[0mtheir\u001b[0m \u001b[0mpotential\u001b[0m \u001b[0mraises\u001b[0m\u001b[0;34m.\u001b[0m\u001b[0;34m\u001b[0m\u001b[0;34m\u001b[0m\u001b[0m\n\u001b[1;32m    221\u001b[0m         \"\"\"\n\u001b[0;32m--> 222\u001b[0;31m         self.handles = get_handle(\n\u001b[0m\u001b[1;32m    223\u001b[0m             \u001b[0msrc\u001b[0m\u001b[0;34m,\u001b[0m\u001b[0;34m\u001b[0m\u001b[0;34m\u001b[0m\u001b[0m\n\u001b[1;32m    224\u001b[0m             \u001b[0;34m\"r\"\u001b[0m\u001b[0;34m,\u001b[0m\u001b[0;34m\u001b[0m\u001b[0;34m\u001b[0m\u001b[0m\n",
      "\u001b[0;32m/usr/local/lib/python3.8/dist-packages/pandas/io/common.py\u001b[0m in \u001b[0;36mget_handle\u001b[0;34m(path_or_buf, mode, encoding, compression, memory_map, is_text, errors, storage_options)\u001b[0m\n\u001b[1;32m    700\u001b[0m         \u001b[0;32mif\u001b[0m \u001b[0mioargs\u001b[0m\u001b[0;34m.\u001b[0m\u001b[0mencoding\u001b[0m \u001b[0;32mand\u001b[0m \u001b[0;34m\"b\"\u001b[0m \u001b[0;32mnot\u001b[0m \u001b[0;32min\u001b[0m \u001b[0mioargs\u001b[0m\u001b[0;34m.\u001b[0m\u001b[0mmode\u001b[0m\u001b[0;34m:\u001b[0m\u001b[0;34m\u001b[0m\u001b[0;34m\u001b[0m\u001b[0m\n\u001b[1;32m    701\u001b[0m             \u001b[0;31m# Encoding\u001b[0m\u001b[0;34m\u001b[0m\u001b[0;34m\u001b[0m\u001b[0;34m\u001b[0m\u001b[0m\n\u001b[0;32m--> 702\u001b[0;31m             handle = open(\n\u001b[0m\u001b[1;32m    703\u001b[0m                 \u001b[0mhandle\u001b[0m\u001b[0;34m,\u001b[0m\u001b[0;34m\u001b[0m\u001b[0;34m\u001b[0m\u001b[0m\n\u001b[1;32m    704\u001b[0m                 \u001b[0mioargs\u001b[0m\u001b[0;34m.\u001b[0m\u001b[0mmode\u001b[0m\u001b[0;34m,\u001b[0m\u001b[0;34m\u001b[0m\u001b[0;34m\u001b[0m\u001b[0m\n",
      "\u001b[0;31mFileNotFoundError\u001b[0m: [Errno 2] No such file or directory: 'C:\\\\Users\\\\Nicolas\\\\\\\\Desktop\\\\Data\\\\data.gouv.fr\\\\2009.csv'"
     ]
    }
   ],
   "source": [
    "import pandas as pd\n",
    "import numpy as np\n",
    "\n",
    "# dir_data = \"C:\\\\Users\\\\Nicolas\\\\\\Desktop\\\\Data\\\\data.gouv.fr\\\\\"\n",
    "dir_data = \"C:\\\\Users\\\\nicol\\\\Data\\\\data.gouv.fr\\\\\"\n",
    "\n",
    "df_2009 = pd.read_csv(dir_data + '2009.csv', sep=';')\n",
    "df_2010 = pd.read_csv(dir_data + '2010.csv', sep=';')\n",
    "df_2011 = pd.read_csv(dir_data + '2011.csv', sep=';')\n",
    "df_2012 = pd.read_csv(dir_data + '2012.csv', sep=';')\n",
    "df_2013 = pd.read_csv(dir_data + '2013.csv', sep=';')\n",
    "df_2014 = pd.read_csv(dir_data + '2014.csv', sep=';')\n",
    "df_2015 = pd.read_csv(dir_data + '2015.csv', sep=';')\n",
    "df_2016 = pd.read_csv(dir_data + '2016.csv', sep=';')\n",
    "df_2017 = pd.read_csv(dir_data + '2017.csv', sep=';')\n",
    "df_2018 = pd.read_csv(dir_data + '2018.csv', sep=';')\n",
    "df_2019 = pd.read_csv(dir_data + '2019.csv', sep=';')\n",
    "df_2020 = pd.read_csv(dir_data + '2020.csv', sep=';')\n",
    "df_2021 = pd.read_csv(dir_data + '2021.csv', sep=';')\n",
    "\n",
    "# cf. description-de-la-liste-des-vehicules-immatricules-impliques-dans-les-accidents-corporels.pdf\n",
    "# -------------------------------------------------------------------------------------------------\n",
    "# Id_accident : Numéro d'identifiant de l’accident\n",
    "# Lettre Conventionnelle Véhicule : Identifiant de chaque véhicule impliqué dans un même accident – Code alpha\n",
    "# Année : Année de l'accident \n",
    "# Lieu Admin Actuel - Territoire Nom : 'Métropole', 'DOM', ou 'Autres OM' \n",
    "# Type Accident - Libellé (old) : accident léger, mortel, ou grave\n",
    "# CNIT : numéro d’identification national associé à chaque type, variante et version (TVV) de chaque réception communautaire de véhicules\n",
    "# Catégorie véhicule : Cyclo, Moto légère, moto lourdez, VT, VU, PL, Autres\n",
    "# Age véhicule : Age du véhicule à partir de la date de 1ère mise en circulation jusqu’à la date de l’accident\n",
    "\n",
    "df_2021.head()\n",
    "# df_2021.describe()\n",
    "\n",
    "# df_2021['Lettre Conventionnelle Véhicule'].value_counts() \n",
    "# -> pour chaque accident, compter le nb de véhicules impliqués et refaire un codage propre (A, B, C, ...)\n",
    "\n"
   ]
  },
  {
   "cell_type": "markdown",
   "id": "7b430413",
   "metadata": {
    "id": "7b430413"
   },
   "source": [
    "## Caractéristiques"
   ]
  },
  {
   "cell_type": "code",
   "execution_count": null,
   "id": "725ade90",
   "metadata": {
    "id": "725ade90"
   },
   "outputs": [],
   "source": [
    "carac_2005 = pd.read_csv(dir_data + 'caracteristiques_2005.csv', sep=',', encoding='ISO-8859-1')\n",
    "carac_2006 = pd.read_csv(dir_data + 'caracteristiques_2006.csv', sep=',', encoding='ISO-8859-1')\n",
    "carac_2007 = pd.read_csv(dir_data + 'caracteristiques_2007.csv', sep=',', encoding='ISO-8859-1')\n",
    "carac_2008 = pd.read_csv(dir_data + 'caracteristiques_2008.csv', sep=',', encoding='ISO-8859-1')\n",
    "carac_2009 = pd.read_csv(dir_data + 'caracteristiques_2009.csv', sep='\\t', encoding='ISO-8859-1')\n",
    "carac_2010 = pd.read_csv(dir_data + 'caracteristiques_2010.csv', sep=',', encoding='ISO-8859-1')\n",
    "carac_2011 = pd.read_csv(dir_data + 'caracteristiques_2011.csv', sep=',', encoding='ISO-8859-1')\n",
    "carac_2012 = pd.read_csv(dir_data + 'caracteristiques_2012.csv', sep=',', encoding='ISO-8859-1')\n",
    "carac_2013 = pd.read_csv(dir_data + 'caracteristiques_2013.csv', sep=',', encoding='ISO-8859-1')\n",
    "carac_2014 = pd.read_csv(dir_data + 'caracteristiques_2014.csv', sep=',', encoding='ISO-8859-1')\n",
    "carac_2015 = pd.read_csv(dir_data + 'caracteristiques_2015.csv', sep=',', encoding='ISO-8859-1')\n",
    "carac_2016 = pd.read_csv(dir_data + 'caracteristiques_2016.csv', sep=',', encoding='ISO-8859-1')\n",
    "carac_2017 = pd.read_csv(dir_data + 'caracteristiques-2017.csv', sep=',', encoding='ISO-8859-1')\n",
    "carac_2018 = pd.read_csv(dir_data + 'caracteristiques-2018.csv', sep=',', encoding='ISO-8859-1')\n",
    "carac_2019 = pd.read_csv(dir_data + 'caracteristiques-2019.csv', sep=';')\n",
    "carac_2020 = pd.read_csv(dir_data + 'caracteristiques-2020.csv', sep=';')\n",
    "# typo dans le nom du fichier -> à corriger en cas d'automatisation\n",
    "carac_2021 = pd.read_csv(dir_data + 'carcteristiques-2021.csv', sep=';')\n",
    "\n",
    "carac_2021\n",
    "# Num_Acc : identifiant de l'accident\n",
    "# jour : jour de l'accident\n",
    "# mois : mois de l'accident\n",
    "# an : année de l'accident\n",
    "# hrmn : hh:mm de l'accident\n",
    "# lum : conditions de luminosité (1: Plein jour, ..., 5:Nuit avec éclairage public allumé)\n",
    "# dep : département (code INSEE)\n",
    "# com : commune (code INSEE)\n",
    "# agg : localisation (1: hors agglomération, 2: en agglomération)\n",
    "# int : intersection (1: Hors intersection, ..., 9: Autre intersection)\n",
    "# atm : conditions atmosphériques (-1: Non renseigné, 1: Normale, ..., 8: Temps couvert, 9: Autre)\n",
    "# col : type de collision (-1: Non renseigné, 1:Deux véhicules - frontale, ..., 6: Autre collision, 7: Sans collision)\n",
    "# adr : adresse postale \n",
    "# lat : latitude\n",
    "# long : longitude "
   ]
  },
  {
   "cell_type": "markdown",
   "id": "2700f597",
   "metadata": {
    "id": "2700f597"
   },
   "source": [
    "## Lieux"
   ]
  },
  {
   "cell_type": "code",
   "execution_count": null,
   "id": "90b007b9",
   "metadata": {
    "id": "90b007b9"
   },
   "outputs": [],
   "source": [
    "lieux_2005 = pd.read_csv(dir_data + 'lieux_2005.csv', sep=',')\n",
    "lieux_2006 = pd.read_csv(dir_data + 'lieux_2006.csv', sep=',')\n",
    "lieux_2007 = pd.read_csv(dir_data + 'lieux_2007.csv', sep=',')\n",
    "lieux_2008 = pd.read_csv(dir_data + 'lieux_2008.csv', sep=',')\n",
    "lieux_2009 = pd.read_csv(dir_data + 'lieux_2009.csv', sep=',')\n",
    "lieux_2010 = pd.read_csv(dir_data + 'lieux_2010.csv', sep=',')\n",
    "lieux_2011 = pd.read_csv(dir_data + 'lieux_2011.csv', sep=',')\n",
    "lieux_2012 = pd.read_csv(dir_data + 'lieux_2012.csv', sep=',')\n",
    "lieux_2013 = pd.read_csv(dir_data + 'lieux_2013.csv', sep=',')\n",
    "lieux_2014 = pd.read_csv(dir_data + 'lieux_2014.csv', sep=',')\n",
    "lieux_2015 = pd.read_csv(dir_data + 'lieux_2015.csv', sep=',')\n",
    "lieux_2016 = pd.read_csv(dir_data + 'lieux_2016.csv', sep=',')\n",
    "lieux_2017 = pd.read_csv(dir_data + 'lieux-2017.csv', sep=',')\n",
    "lieux_2018 = pd.read_csv(dir_data + 'lieux-2018.csv', sep=',')\n",
    "lieux_2019 = pd.read_csv(dir_data + 'lieux-2019.csv', sep=';')\n",
    "lieux_2020 = pd.read_csv(dir_data + 'lieux-2020.csv', sep=';')\n",
    "lieux_2021 = pd.read_csv(dir_data + 'lieux-2021.csv', sep=';')"
   ]
  },
  {
   "cell_type": "markdown",
   "id": "66336fc0",
   "metadata": {
    "id": "66336fc0"
   },
   "source": [
    "## Usagers"
   ]
  },
  {
   "cell_type": "code",
   "execution_count": null,
   "id": "7ccef392",
   "metadata": {
    "id": "7ccef392"
   },
   "outputs": [],
   "source": [
    "usagers_2005 = pd.read_csv(dir_data + 'usagers_2005.csv', sep=',')\n",
    "usagers_2006 = pd.read_csv(dir_data + 'usagers_2006.csv', sep=',')\n",
    "usagers_2007 = pd.read_csv(dir_data + 'usagers_2007.csv', sep=',')\n",
    "usagers_2008 = pd.read_csv(dir_data + 'usagers_2008.csv', sep=',')\n",
    "usagers_2009 = pd.read_csv(dir_data + 'usagers_2009.csv', sep=';')\n",
    "usagers_2010 = pd.read_csv(dir_data + 'usagers_2010.csv', sep=',')\n",
    "usagers_2011 = pd.read_csv(dir_data + 'usagers_2011.csv', sep=',')\n",
    "usagers_2012 = pd.read_csv(dir_data + 'usagers_2012.csv', sep=',')\n",
    "usagers_2013 = pd.read_csv(dir_data + 'usagers_2013.csv', sep=',')\n",
    "usagers_2014 = pd.read_csv(dir_data + 'usagers_2014.csv', sep=',')\n",
    "usagers_2015 = pd.read_csv(dir_data + 'usagers_2015.csv', sep=',')\n",
    "usagers_2016 = pd.read_csv(dir_data + 'usagers_2016.csv', sep=',')\n",
    "usagers_2017 = pd.read_csv(dir_data + 'usagers-2017.csv', sep=',')\n",
    "usagers_2018 = pd.read_csv(dir_data + 'usagers-2018.csv', sep=',')\n",
    "usagers_2019 = pd.read_csv(dir_data + 'usagers-2019.csv', sep=';')\n",
    "usagers_2020 = pd.read_csv(dir_data + 'usagers-2020.csv', sep=';')\n",
    "usagers_2021 = pd.read_csv(dir_data + 'usagers-2021.csv', sep=';')"
   ]
  },
  {
   "cell_type": "markdown",
   "id": "ee6a8d74",
   "metadata": {
    "id": "ee6a8d74"
   },
   "source": [
    "## Véhicules"
   ]
  },
  {
   "cell_type": "code",
   "execution_count": null,
   "id": "e9d0d3c5",
   "metadata": {
    "id": "e9d0d3c5"
   },
   "outputs": [],
   "source": [
    "vehic_2005 = pd.read_csv(dir_data + 'vehicules_2005.csv', sep=',')\n",
    "vehic_2006 = pd.read_csv(dir_data + 'vehicules_2006.csv', sep=',')\n",
    "vehic_2007 = pd.read_csv(dir_data + 'vehicules_2007.csv', sep=',')\n",
    "vehic_2008 = pd.read_csv(dir_data + 'vehicules_2008.csv', sep=',')\n",
    "vehic_2009 = pd.read_csv(dir_data + 'vehicules_2009.csv', sep=',')\n",
    "vehic_2010 = pd.read_csv(dir_data + 'vehicules_2010.csv', sep=',')\n",
    "vehic_2011 = pd.read_csv(dir_data + 'vehicules_2011.csv', sep=',')\n",
    "vehic_2012 = pd.read_csv(dir_data + 'vehicules_2012.csv', sep=',')\n",
    "vehic_2013 = pd.read_csv(dir_data + 'vehicules_2013.csv', sep=',')\n",
    "vehic_2014 = pd.read_csv(dir_data + 'vehicules_2014.csv', sep=',')\n",
    "vehic_2015 = pd.read_csv(dir_data + 'vehicules_2015.csv', sep=',')\n",
    "vehic_2016 = pd.read_csv(dir_data + 'vehicules_2016.csv', sep=',')\n",
    "vehic_2017 = pd.read_csv(dir_data + 'vehicules-2017.csv', sep=',')\n",
    "vehic_2018 = pd.read_csv(dir_data + 'vehicules-2018.csv', sep=',')\n",
    "vehic_2019 = pd.read_csv(dir_data + 'vehicules-2019.csv', sep=';')\n",
    "vehic_2020 = pd.read_csv(dir_data + 'vehicules-2020.csv', sep=';')\n",
    "vehic_2021 = pd.read_csv(dir_data + 'vehicules-2021.csv', sep=';')"
   ]
  },
  {
   "cell_type": "code",
   "execution_count": null,
   "id": "0b81945b",
   "metadata": {
    "id": "0b81945b"
   },
   "outputs": [],
   "source": []
  },
  {
   "cell_type": "code",
   "execution_count": null,
   "id": "950cf0a9",
   "metadata": {
    "id": "950cf0a9"
   },
   "outputs": [],
   "source": []
  }
 ],
 "metadata": {
  "colab": {
   "provenance": []
  },
  "kernelspec": {
   "display_name": "Python 3 (ipykernel)",
   "language": "python",
   "name": "python3"
  },
  "language_info": {
   "codemirror_mode": {
    "name": "ipython",
    "version": 3
   },
   "file_extension": ".py",
   "mimetype": "text/x-python",
   "name": "python",
   "nbconvert_exporter": "python",
   "pygments_lexer": "ipython3",
   "version": "3.11.1"
  }
 },
 "nbformat": 4,
 "nbformat_minor": 5
}
