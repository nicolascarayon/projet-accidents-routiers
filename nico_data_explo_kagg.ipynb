{
 "cells": [
  {
   "cell_type": "code",
   "execution_count": null,
   "id": "7342a839",
   "metadata": {},
   "outputs": [],
   "source": [
    "import pandas as pd\n",
    "import numpy as np\n",
    "%matplotlib inline\n",
    "import matplotlib.pyplot as plt\n",
    "import load_data as ld\n",
    "import seaborn as sns\n",
    "import geopandas as gpd\n",
    "\n",
    "dir_data = \"C:\\\\Users\\\\Nicolas\\\\Data\\\\kaggle\\\\\"\n",
    "\n",
    "dict_data = ld.load_data_kagg(dir_data)\n",
    "\n"
   ]
  },
  {
   "cell_type": "code",
   "execution_count": null,
   "id": "110635e5",
   "metadata": {},
   "outputs": [],
   "source": [
    "df_caract = dict_data['caract']\n",
    "df_lieux = dict_data['lieux']\n",
    "df_usagers = dict_data['usagers']\n",
    "df_vacances = dict_data['vacances']\n",
    "df_vehic = dict_data['vehic']"
   ]
  },
  {
   "cell_type": "code",
   "execution_count": null,
   "id": "11adee44",
   "metadata": {},
   "outputs": [],
   "source": [
    "# df_caract.head()\n",
    "\n",
    "# df_caract.info()\n",
    "# très peu de Null dans les données météo \n",
    "# moins de la moitié des accidents ont les coordonnées gpd renseignées\n",
    "# mais la proportion d'accidents avec coordonées gps augmente avec les années\n",
    "\n",
    "null_lat = lambda lat : lat[(lat == 0) | (lat.isnull())].count()\n",
    "\n",
    "df_stats_lat_null = df_caract.groupby('an').agg(lat_count=('lat', 'count'), lat_null_count=('lat',null_lat))\n",
    "df_stats_lat_null['lat_null_propor'] = df_stats_lat_null.lat_null_count / df_stats_lat_null.lat_count\n",
    "\n",
    "df_stats_lat_null\n",
    "\n",
    "fig = plt.figure(figsize=(5,5))\n",
    "plt.bar(df_stats_lat_null.index, 1-df_stats_lat_null.lat_null_propor)\n",
    "plt.title(\"Proportion d'accidents avec géolocalisation en fonction des années\");\n",
    "\n",
    "\n",
    "# "
   ]
  },
  {
   "cell_type": "code",
   "execution_count": null,
   "id": "32f1b3c9",
   "metadata": {},
   "outputs": [],
   "source": []
  },
  {
   "cell_type": "code",
   "execution_count": null,
   "id": "b369603d",
   "metadata": {},
   "outputs": [],
   "source": []
  },
  {
   "cell_type": "code",
   "execution_count": null,
   "id": "66356dc2",
   "metadata": {},
   "outputs": [],
   "source": []
  },
  {
   "cell_type": "code",
   "execution_count": null,
   "id": "4873ae27",
   "metadata": {},
   "outputs": [],
   "source": []
  }
 ],
 "metadata": {
  "kernelspec": {
   "display_name": "Python 3 (ipykernel)",
   "language": "python",
   "name": "python3"
  },
  "language_info": {
   "codemirror_mode": {
    "name": "ipython",
    "version": 3
   },
   "file_extension": ".py",
   "mimetype": "text/x-python",
   "name": "python",
   "nbconvert_exporter": "python",
   "pygments_lexer": "ipython3",
   "version": "3.9.13"
  }
 },
 "nbformat": 4,
 "nbformat_minor": 5
}
